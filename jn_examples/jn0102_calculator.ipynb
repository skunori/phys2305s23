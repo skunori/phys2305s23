{
 "cells": [
  {
   "cell_type": "markdown",
   "id": "e0ee9ede",
   "metadata": {},
   "source": [
    "This page shows examples of simpe numerical calculation. There are \"reset\" between cells, so each cell is independent. "
   ]
  },
  {
   "cell_type": "markdown",
   "id": "d5217b1a",
   "metadata": {},
   "source": [
    "[2.1] Simple Calculator"
   ]
  },
  {
   "cell_type": "code",
   "execution_count": 1,
   "id": "1225ad57",
   "metadata": {},
   "outputs": [
    {
     "name": "stdout",
     "output_type": "stream",
     "text": [
      "9\n",
      "12.333333333333334\n",
      "c 146.70000000000002\n"
     ]
    }
   ],
   "source": [
    "import numpy as np\n",
    "import matplotlib.pyplot as plt\n",
    "\n",
    "a=5+4\n",
    "print(a)\n",
    "    \n",
    "b=a+10/3\n",
    "print(b)\n",
    "    \n",
    "c=b*12.3-5.0\n",
    "print(\"c\",c)"
   ]
  },
  {
   "cell_type": "markdown",
   "id": "2236b2f6",
   "metadata": {},
   "source": [
    "= explanation of codes in the cell above. = <br>\n",
    "Line 1 importing the numpy library for scientific calculation. <br>\n",
    "Line 2 importing the matplotlib for making plots. <br>\n",
    "We always include those two lines as most of our caculation use those, although the example codes in this \"cell\" do not use these.\n",
    "<br>\n",
    "<br>\n",
    "Lines 4-11 are codes for calculation and printing results. <br>\n",
    "<br>\n",
    "The followingline \"%reset -f\" is a very special command to cleat all codes in the previous celsl as a prepartion for clean start of next example.\n",
    "<br>"
   ]
  },
  {
   "cell_type": "code",
   "execution_count": 2,
   "id": "2f3261df",
   "metadata": {},
   "outputs": [],
   "source": [
    "%reset -f  "
   ]
  },
  {
   "cell_type": "markdown",
   "id": "5b62b89e",
   "metadata": {},
   "source": [
    "[2.2] Scientific Calculator\n",
    "<br>\n",
    "The value of pi and sin() function are from numpy library. Angle in python is in radian.\n",
    "<br>\n",
    "numpy pi: <a href=\"https://numpy.org/doc/stable/reference/constants.html\">numpy constant pi:</a>\n",
    "<br>\n",
    "numpy sin(), cos():      <a href=\"https://numpy.org/doc/stable/reference/generated/numpy.sin.html\">numpy sin</a>\n",
    "<br>"
   ]
  },
  {
   "cell_type": "code",
   "execution_count": 3,
   "id": "75fd6cc4",
   "metadata": {},
   "outputs": [
    {
     "name": "stdout",
     "output_type": "stream",
     "text": [
      "start sceintific calculator. angle is in radian.\n",
      "0.49999999999999994\n",
      "0.8660254037844387\n"
     ]
    }
   ],
   "source": [
    "import numpy as np\n",
    "import matplotlib.pyplot as plt\n",
    "\n",
    "print(\"start sceintific calculator. angle is in radian.\")\n",
    "theta=30.0*np.pi/180.0\n",
    "a=np.sin(theta)\n",
    "print(a)\n",
    "    \n",
    "b=np.cos(theta)\n",
    "print(b)\n",
    "    "
   ]
  },
  {
   "cell_type": "code",
   "execution_count": 4,
   "id": "f9a4da13",
   "metadata": {},
   "outputs": [],
   "source": [
    "%reset -f"
   ]
  },
  {
   "cell_type": "markdown",
   "id": "14ed2515",
   "metadata": {},
   "source": [
    "[2.3] Graphing Caluculator\n",
    "<br>\n",
    "This example uses numpy library to create 100 values and stores them in x as a numpy array. \n",
    "<br>\n",
    "numpy array, arange: <a href=\"https://numpy.org/doc/stable/reference/generated/numpy.arange.html\">numpy array, arange</a>\n",
    "<br>\n",
    "Plots are created using matplotlib.\n",
    "<a href=\"https://matplotlib.org/stable/api/_as_gen/matplotlib.pyplot.plot.html\">matplotlib plot</a>\n"
   ]
  },
  {
   "cell_type": "code",
   "execution_count": 5,
   "id": "ec1a131d",
   "metadata": {},
   "outputs": [
    {
     "name": "stdout",
     "output_type": "stream",
     "text": [
      "start grahing calculator\n",
      "[0.  0.1 0.2 0.3 0.4 0.5 0.6 0.7 0.8 0.9 1.  1.1 1.2 1.3 1.4 1.5 1.6 1.7\n",
      " 1.8 1.9 2.  2.1 2.2 2.3 2.4 2.5 2.6 2.7 2.8 2.9 3.  3.1 3.2 3.3 3.4 3.5\n",
      " 3.6 3.7 3.8 3.9 4.  4.1 4.2 4.3 4.4 4.5 4.6 4.7 4.8 4.9 5.  5.1 5.2 5.3\n",
      " 5.4 5.5 5.6 5.7 5.8 5.9 6.  6.1 6.2 6.3 6.4 6.5 6.6 6.7 6.8 6.9 7.  7.1\n",
      " 7.2 7.3 7.4 7.5 7.6 7.7 7.8 7.9 8.  8.1 8.2 8.3 8.4 8.5 8.6 8.7 8.8 8.9\n",
      " 9.  9.1 9.2 9.3 9.4 9.5 9.6 9.7 9.8 9.9]\n",
      "[ 0.          0.09983342  0.19866933  0.29552021  0.38941834  0.47942554\n",
      "  0.56464247  0.64421769  0.71735609  0.78332691  0.84147098  0.89120736\n",
      "  0.93203909  0.96355819  0.98544973  0.99749499  0.9995736   0.99166481\n",
      "  0.97384763  0.94630009  0.90929743  0.86320937  0.8084964   0.74570521\n",
      "  0.67546318  0.59847214  0.51550137  0.42737988  0.33498815  0.23924933\n",
      "  0.14112001  0.04158066 -0.05837414 -0.15774569 -0.2555411  -0.35078323\n",
      " -0.44252044 -0.52983614 -0.61185789 -0.68776616 -0.7568025  -0.81827711\n",
      " -0.87157577 -0.91616594 -0.95160207 -0.97753012 -0.993691   -0.99992326\n",
      " -0.99616461 -0.98245261 -0.95892427 -0.92581468 -0.88345466 -0.83226744\n",
      " -0.77276449 -0.70554033 -0.63126664 -0.55068554 -0.46460218 -0.37387666\n",
      " -0.2794155  -0.1821625  -0.0830894   0.0168139   0.1165492   0.21511999\n",
      "  0.31154136  0.40484992  0.49411335  0.57843976  0.6569866   0.72896904\n",
      "  0.79366786  0.85043662  0.8987081   0.93799998  0.96791967  0.98816823\n",
      "  0.99854335  0.99894134  0.98935825  0.96988981  0.94073056  0.90217183\n",
      "  0.85459891  0.79848711  0.7343971   0.66296923  0.58491719  0.50102086\n",
      "  0.41211849  0.31909836  0.22288991  0.12445442  0.02477543 -0.07515112\n",
      " -0.17432678 -0.27176063 -0.36647913 -0.45753589]\n"
     ]
    },
    {
     "data": {
      "image/png": "[encoded data removed]",
      "text/plain": [
       "<Figure size 432x288 with 1 Axes>"
      ]
     },
     "metadata": {
      "needs_background": "light"
     },
     "output_type": "display_data"
    }
   ],
   "source": [
    "import numpy as np\n",
    "import matplotlib.pyplot as plt\n",
    "\n",
    "print(\"start grahing calculator\")\n",
    "x=np.arange(0.0,10.0,0.1)     # creating values from 0.0 to 10.0 with 0.1 step\n",
    "print(x)\n",
    "y=np.sin(x)\n",
    "print(y)\n",
    "    \n",
    "z=np.cos(x)   \n",
    "plt.plot(x,y)\n",
    "plt.plot(x,z)\n",
    "plt.show()"
   ]
  },
  {
   "cell_type": "code",
   "execution_count": null,
   "id": "68427617",
   "metadata": {},
   "outputs": [],
   "source": []
  },
  {
   "cell_type": "markdown",
   "id": "812a736f",
   "metadata": {},
   "source": [
    "[2.4] Suumary:\n",
    "<br>\n",
    "You may find useful information in the following links.\n",
    "<br>\n",
    "python function (def):   <a href=\"https://www.w3schools.com/python/python_functions.asp\">W3 school</a>\n",
    "<br>\n",
    "numpy sin(), cos():      <a href=\"https://numpy.org/doc/stable/reference/generated/numpy.sin.html\">numpy sin</a>\n",
    "<br>\n",
    "numpy array, arage: <a href=\"https://numpy.org/doc/stable/reference/generated/numpy.arange.html\">numpy array, arange</a>\n",
    "<br>\n",
    "matplotlib plot: <a href=\"https://matplotlib.org/stable/api/_as_gen/matplotlib.pyplot.plot.html\">matplotlib plot</a> and <a href=\"https://matplotlib.org/stable/gallery/index.html\">matplotlib example plots</a>\n",
    "<br>\n",
    "<br>\n",
    "To find url's above, do Google search with key words, \"python function\", \"numpy sin\", \"numpy arange\", \"matplotlib plot\" etc. Also, it is good idea to include addtional kew word, \"tutorial\" or \"example\" in the search.\n",
    "<br>"
   ]
  },
  {
   "cell_type": "code",
   "execution_count": 6,
   "id": "34621607",
   "metadata": {},
   "outputs": [],
   "source": [
    "%reset -f"
   ]
  },
  {
   "cell_type": "markdown",
   "id": "d6578fa7",
   "metadata": {},
   "source": [
    "[2.5] More exaple of matplotlib plot (1) <br>\n",
    "Multiple plots with labels from , <a href=\"https://matplotlib.org/stable/gallery/subplots_axes_and_figures/subplot.html#sphx-glr-gallery-subplots-axes-and-figures-subplot-py\">link</a> <br>"
   ]
  },
  {
   "cell_type": "code",
   "execution_count": 7,
   "id": "bbc6f2ab",
   "metadata": {
    "scrolled": true
   },
   "outputs": [
    {
     "data": {
      "image/png": "[encoded data removed]",
      "text/plain": [
       "<Figure size 432x288 with 2 Axes>"
      ]
     },
     "metadata": {
      "needs_background": "light"
     },
     "output_type": "display_data"
    }
   ],
   "source": [
    "import numpy as np\n",
    "import matplotlib.pyplot as plt\n",
    "\n",
    "# example from Multiple Subplot\n",
    "# Create some fake data.\n",
    "x1 = np.linspace(0.0, 5.0)\n",
    "y1 = np.cos(2 * np.pi * x1) * np.exp(-x1)\n",
    "x2 = np.linspace(0.0, 2.0)\n",
    "y2 = np.cos(2 * np.pi * x2)\n",
    "    \n",
    "fig, (ax1, ax2) = plt.subplots(2, 1)\n",
    "\n",
    "fig.suptitle('A tale of 2 subplots')\n",
    "\n",
    "ax1.plot(x1, y1, 'o-')\n",
    "ax1.set_ylabel('Damped oscillation')\n",
    "\n",
    "ax2.plot(x2, y2, '.-')\n",
    "ax2.set_xlabel('time (s)')\n",
    "ax2.set_ylabel('Undamped')\n",
    "\n",
    "plt.show()\n"
   ]
  },
  {
   "cell_type": "code",
   "execution_count": 8,
   "id": "8ee80dd3",
   "metadata": {},
   "outputs": [],
   "source": [
    "%reset -f"
   ]
  },
  {
   "cell_type": "code",
   "execution_count": 9,
   "id": "e01b73c0",
   "metadata": {},
   "outputs": [],
   "source": [
    "%reset -f"
   ]
  },
  {
   "cell_type": "markdown",
   "id": "7d4cb7ae",
   "metadata": {},
   "source": [
    "[2.7] Example of use of python code for calculation of physic problems"
   ]
  },
  {
   "cell_type": "markdown",
   "id": "42a04543",
   "metadata": {},
   "source": [
    "[2.7.1] Center of mass <br>\n",
    "The three objects shown in the figure have masses 𝑚1=4.00 kg, 𝑚2=2.00 kg, and 𝑚3=3.00 kg. \n",
    "Distances are in meters.\n",
    "<br>\n",
    "Q1: Find the 𝑥-coordinate 𝑥CM of the center of mass of the three objects.\n",
    "<br>\n",
    "Q2: Find the 𝑦-coordinate 𝑦CM of the center of mass of the three objects.\n",
    "<br>\n",
    "<img src=\"http://myweb.ttu.edu/skunori/phys2305/23S/jnfigs/phs1403_hw8-12_cm.png\" alt=\"fig\" width=\"400\" hei:ght=\"300\" align=\"left\">\n",
    "<br>"
   ]
  },
  {
   "cell_type": "code",
   "execution_count": 10,
   "id": "62bd373b",
   "metadata": {},
   "outputs": [
    {
     "name": "stdout",
     "output_type": "stream",
     "text": [
      "-3.5555555555555554 0.0\n",
      "rounded xcm -3.56 ycm 0.0\n"
     ]
    }
   ],
   "source": [
    "import numpy as np\n",
    "import matplotlib.pyplot as plt\n",
    "\n",
    "m1=4.00\n",
    "m2=2.00\n",
    "m3=3.00\n",
    "x1=-6.0\n",
    "x2=2.0\n",
    "x3=-4.0\n",
    "y1=2.0\n",
    "y2=2.0\n",
    "y3=-4.0\n",
    "\n",
    "xcm=(m1*x1+m2*x2+x3*m3)/(m1+m2+m3)\n",
    "ycm=(m1*y1+m2*y2+m3*y3)/(m1+m2+m3)\n",
    "\n",
    "print(xcm, ycm)\n",
    "\n",
    "xcm2=round(xcm,2)\n",
    "ycm2=round(ycm,2)\n",
    "print(\"rounded xcm\",xcm2,\"ycm\",ycm2)\n"
   ]
  },
  {
   "cell_type": "code",
   "execution_count": 11,
   "id": "728fcefa",
   "metadata": {},
   "outputs": [],
   "source": [
    "%reset -f"
   ]
  },
  {
   "cell_type": "markdown",
   "id": "b9cfcb34",
   "metadata": {},
   "source": [
    "[2.7.2] Two blocks of mass 𝑀1 and 𝑀2 are connected by a massless string \n",
    "that passes over a massless pulley as shown in the figure. \n",
    "𝑀1 has a mass of 4.75 kg and rests on an incline of 𝜃1=57.5∘. \n",
    "𝑀2 rests on an incline of 𝜃2=29.5∘. Find the mass of block 𝑀2 \n",
    "so that the system is in equilibrium (i.e., not accelerating). \n",
    "All surfaces are frictionless.\n",
    "<br>\n",
    "<img src=\"http://myweb.ttu.edu/skunori/phys2305/23S/jnfigs/phys1403_hw4-12_twoboxes_on_slope.jpg\" alt=\"fig\" width=\"400\" hei:ght=\"300\" align=\"left\">\n",
    "    <br>\n"
   ]
  },
  {
   "cell_type": "code",
   "execution_count": 12,
   "id": "7a5adafa",
   "metadata": {},
   "outputs": [
    {
     "name": "stdout",
     "output_type": "stream",
     "text": [
      "8.135494911676139\n",
      "m2 8.135494911676139 result 8.14 kg\n"
     ]
    }
   ],
   "source": [
    "import numpy as np\n",
    "import matplotlib.pyplot as plt\n",
    "\n",
    "deg2rad=np.pi/180.0\n",
    "m1=4.75\n",
    "th1=57.5*deg2rad\n",
    "th2=29.5*deg2rad\n",
    "\n",
    "#  m1*g*sin(th1) = m2*g*sin(th2)\n",
    "\n",
    "m2=m1*np.sin(th1)/np.sin(th2)   # note:  g=9.80 is cancel out.\n",
    "\n",
    "print(m2)\n",
    "\n",
    "result=round(m2,2)\n",
    "print(\"m2\",m2,\"result\",result,\"kg\")\n",
    "\n",
    "\n"
   ]
  },
  {
   "cell_type": "markdown",
   "id": "18c8a709",
   "metadata": {},
   "source": [
    "[2.7.3] Moment of innertia <br>\n",
    "Three point objects (𝑚1=1.00 kg, 𝑚2=2.25 kg, 𝑚3=3.00 kg) are tied together with massless strings and rotated about the axis 𝑂 as shown in the figure.\n",
    "\n",
    "What is the combined momhttp://myweb.ttu.edu/skunori/phys2305/23S/jnent of inertia 𝐼(total) of the three point objects?\n",
    "<br>\n",
    "\n",
    "<img src=\"http://myweb.ttu.edu/skunori/phys2305/23S/jnfigs/phys1403_hw9-6.png\" alt=\"fig\" width=\"400\" hei:ght=\"300\" align=\"left\">\n",
    "<BR CLEAR=ALL />\n",
    "<br>\n",
    "Eauations:\n",
    "$I = m_1 \\times r_1^2 + m_2 \\times r_2^2 + m_3 \\times r_3^2$ \n",
    "<br>\n",
    "Solution: 129 kg.m\n",
    "<br>"
   ]
  },
  {
   "cell_type": "code",
   "execution_count": 13,
   "id": "cc7a0d80",
   "metadata": {},
   "outputs": [
    {
     "name": "stdout",
     "output_type": "stream",
     "text": [
      "129.25\n"
     ]
    }
   ],
   "source": [
    "import numpy as np\n",
    "import matplotlib.pyplot as plt\n",
    "\n",
    "m1=1.00\n",
    "m2=2.25\n",
    "m3=3.00\n",
    "r1=1.00\n",
    "r2=r1+2.00\n",
    "r3=r2+3.00\n",
    "I=m1*r1*r1+m2*r2*r2+m3*r3*r3\n",
    "print(I)"
   ]
  },
  {
   "cell_type": "markdown",
   "id": "75f3c470",
   "metadata": {},
   "source": [
    "[2.7.4] Using for-loop to summing up many pieces.<br>\n",
    "Moment of inertia of a thin rod is $I = (1/3)ML^2$.\n",
    "<br>\n",
    "<img src=\"http://myweb.ttu.edu/skunori/phys2305/23S/jnfigs/phys1403_ch9_mom_inertia_table.png\" alt=\"fig\" width=\"600\" hei:ght=\"400\" align=\"left\">\n",
    "<BR CLEAR=ALL /><br><br>\n",
    "Calculate it as a sum of the inertia of many small pieces using <font color=\"red\">for-loop</font>.\n",
    "<BR CLEAR=ALL />\n",
    "<img src=\"http://myweb.ttu.edu/skunori/phys2305/23S/jnfigs/phys1403_ch9_moment_of_inertia_rod_integral.png\" alt=\"fig\" width=\"600\" hei:ght=\"400\" align=\"left\">\n",
    "<br>"
   ]
  },
  {
   "cell_type": "code",
   "execution_count": 14,
   "id": "55b28e92",
   "metadata": {
    "scrolled": true
   },
   "outputs": [
    {
     "name": "stdout",
     "output_type": "stream",
     "text": [
      "r= [0.   0.02 0.04 0.06 0.08 0.1  0.12 0.14 0.16 0.18 0.2  0.22 0.24 0.26\n",
      " 0.28 0.3  0.32 0.34 0.36 0.38 0.4  0.42 0.44 0.46 0.48 0.5  0.52 0.54\n",
      " 0.56 0.58 0.6  0.62 0.64 0.66 0.68 0.7  0.72 0.74 0.76 0.78 0.8  0.82\n",
      " 0.84 0.86 0.88 0.9  0.92 0.94 0.96 0.98 1.   1.02 1.04 1.06 1.08 1.1\n",
      " 1.12 1.14 1.16 1.18 1.2  1.22 1.24 1.26 1.28 1.3  1.32 1.34 1.36 1.38\n",
      " 1.4  1.42 1.44 1.46 1.48 1.5  1.52 1.54 1.56 1.58 1.6  1.62 1.64 1.66\n",
      " 1.68 1.7  1.72 1.74 1.76 1.78 1.8  1.82 1.84 1.86 1.88 1.9  1.92 1.94\n",
      " 1.96 1.98]\n",
      "my calculation 13.134000000000002\n",
      "from the table 13.333333333333332\n",
      "  \n",
      "My calculation value is about same as one calcutead with the equation in the table..\n",
      "If we divide the rod to smaller piecies, i.e. larger n, two values get closer.\n"
     ]
    }
   ],
   "source": [
    "import numpy as np\n",
    "import matplotlib.pyplot as plt\n",
    "\n",
    "M=10.0   # mass 10.0 kg\n",
    "L=2.0    # length  2.0 m\n",
    "n=100.0  # divide the rod to n-pieces\n",
    "\n",
    "dM=M/n   # mass of each piece\n",
    "dL=L/n\n",
    "r=np.arange(0.0,L,dL)  # values in r are [0.0, 0.02, 0.04, ...]\n",
    "print(\"r=\",r)\n",
    "\n",
    "sumI=0.0\n",
    "for x in r:\n",
    "    sumI=sumI+dM*x*x\n",
    "    \n",
    "I=(1.0/3.0)*M*L*L\n",
    "print(\"my calculation\",sumI)\n",
    "print(\"from the table\",I)\n",
    "print(\"  \")\n",
    "print(\"My calculation value is about same as one calcutead with the equation in the table..\")\n",
    "print(\"If we divide the rod to smaller piecies, i.e. larger n, two values get closer.\")"
   ]
  },
  {
   "cell_type": "markdown",
   "id": "b936380c",
   "metadata": {},
   "source": [
    "[1.8] Next, we follow python basics in <a href=\"https://www.w3schools.com/python/python_syntax.asp\">W3school tutorial</a>."
   ]
  },
  {
   "cell_type": "markdown",
   "id": "9c7038da",
   "metadata": {},
   "source": [
    "\n"
   ]
  },
  {
   "cell_type": "code",
   "execution_count": 15,
   "id": "6cc797a8",
   "metadata": {},
   "outputs": [],
   "source": [
    "%reset -f"
   ]
  }
 ],
 "metadata": {
  "kernelspec": {
   "display_name": "Python 3 (ipykernel)",
   "language": "python",
   "name": "python3"
  },
  "language_info": {
   "codemirror_mode": {
    "name": "ipython",
    "version": 3
   },
   "file_extension": ".py",
   "mimetype": "text/x-python",
   "name": "python",
   "nbconvert_exporter": "python",
   "pygments_lexer": "ipython3",
   "version": "3.9.12"
  }
 },
 "nbformat": 4,
 "nbformat_minor": 5
}
