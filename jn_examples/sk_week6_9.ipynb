{
 "cells": [
  {
   "cell_type": "code",
   "execution_count": 1,
   "id": "2695d57b",
   "metadata": {},
   "outputs": [
    {
     "data": {
      "image/png": "[encoded data removed]",
      "text/plain": [
       "<Figure size 432x288 with 1 Axes>"
      ]
     },
     "metadata": {
      "needs_background": "light"
     },
     "output_type": "display_data"
    },
    {
     "data": {
      "image/png": "[encoded data removed]",
      "text/plain": [
       "<Figure size 432x288 with 1 Axes>"
      ]
     },
     "metadata": {
      "needs_background": "light"
     },
     "output_type": "display_data"
    }
   ],
   "source": [
    "import numpy as np\n",
    "import matplotlib.mlab as mlab\n",
    "import matplotlib.pyplot as plt\n",
    "\n",
    "def myRandNormal(mean,sigma,nevents):\n",
    "   xlimit=5.0  # generate random number up to 5 sigma.\n",
    "   xtemp = np.zeros(nevents)\n",
    "   for i in np.arange(nevents):\n",
    "      j=0\n",
    "      while j < 1000000:\n",
    "         r=np.random.uniform(0.0,1.0,2)  # generate two uniform random number\n",
    "         x=(r[0]-0.5)*xlimit;\n",
    "         y=np.exp(-x*x)\n",
    "         if(y>r[1]):\n",
    "            xtemp[i]=x\n",
    "            break\n",
    "         j=j+1\n",
    "   return mean+xtemp*sigma*np.sqrt(2.0)\n",
    "\n",
    "def myfunction(x,a,b,c):\n",
    "   y=0.0\n",
    "   if(x > a and x < c):\n",
    "      y=(x-a)/(c-a)\n",
    "   if(x > c and x < b):\n",
    "      y=1.0-(x-c)/(b-c)\n",
    "   return y\n",
    "\n",
    "def myRandTriangle(a,b,c,nevents):\n",
    "   xtemp = np.zeros(nevents)\n",
    "   for i in np.arange(nevents):\n",
    "      j=0\n",
    "      while j <  1000000:\n",
    "         r=np.random.uniform(a,b,2)  # generate two uniform random number\n",
    "         x=a+r[0]*(b-a)\n",
    "         y=myfunction(x,a,b,c)\n",
    "         if(y > r[1]):\n",
    "            xtemp[i]=x\n",
    "            break\n",
    "         j=j+1\n",
    "   return xtemp\n",
    "\n",
    "# dataA = np.random.normal(5, 1.0, 1000)\n",
    "dataA = myRandNormal(5, 1.0, 100)    # using my own Gaussian generator\n",
    "# dataB = np.random.uniform(0.00, 10.0, 1000)\n",
    "dataB = myRandTriangle(0.0,10.0,8.0, 100)  # using my triangle generator\n",
    "dataC = np.random.exponential(1.0,100)\n",
    "\n",
    "\n",
    "xmin=-0.0\n",
    "xmax=10.0\n",
    "dx=0.1\n",
    "\n",
    "fig1=plt.figure(1)\n",
    "\n",
    "kwargs = dict(histtype='stepfilled', alpha=0.3, bins=np.arange(xmin,xmax+dx,dx))\n",
    "\n",
    "plt.hist(dataA, label='my gaussian $\\mu$=5.0, $\\sigma$=1.0', **kwargs)\n",
    "plt.hist(dataB, label='triangle', **kwargs)\n",
    "plt.hist(dataC, label='exponet, scale=1.00', **kwargs);\n",
    "\n",
    "plt.xlim(xmin,xmax)\n",
    "plt.xlabel('X')\n",
    "plt.ylabel('Events')\n",
    "plt.title('1000 events per data sample')\n",
    "\n",
    "plt.legend(loc='upper right')\n",
    "# plt.show()\n",
    "\n",
    "fig2=plt.figure(2)\n",
    "plt.hist(dataA, label='my gaussian $\\mu$=5.0, $\\sigma$=1.0',cumulative=True,  **kwargs)\n",
    "plt.hist(dataB, label='triangle',cumulative=True, **kwargs)\n",
    "plt.title('Cumulative distribution function')\n",
    "plt.legend(loc='upper left')\n",
    "\n",
    "fig1.savefig('fig_hist1D_mygausA')\n",
    "fig2.savefig('fig_hist1D_mygausB')\n",
    "plt.show()"
   ]
  },
  {
   "cell_type": "code",
   "execution_count": null,
   "id": "f6ddedb8",
   "metadata": {},
   "outputs": [],
   "source": []
  },
  {
   "cell_type": "code",
   "execution_count": null,
   "id": "0d0a096e",
   "metadata": {},
   "outputs": [],
   "source": []
  }
 ],
 "metadata": {
  "kernelspec": {
   "display_name": "Python 3 (ipykernel)",
   "language": "python",
   "name": "python3"
  },
  "language_info": {
   "codemirror_mode": {
    "name": "ipython",
    "version": 3
   },
   "file_extension": ".py",
   "mimetype": "text/x-python",
   "name": "python",
   "nbconvert_exporter": "python",
   "pygments_lexer": "ipython3",
   "version": "3.9.12"
  }
 },
 "nbformat": 4,
 "nbformat_minor": 5
}
