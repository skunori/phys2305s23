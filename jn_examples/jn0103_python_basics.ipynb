{
 "cells": [
  {
   "cell_type": "markdown",
   "id": "5d17f550",
   "metadata": {},
   "source": [
    "[3] This notebook contains examples of python code. The order of subjects follows one in the tuorial of w3scool. \n",
    "<a href=\"https://www.w3schools.com/python/python_syntax.asp\">W3school tutorial</a>."
   ]
  },
  {
   "cell_type": "markdown",
   "id": "21f3f0ac",
   "metadata": {},
   "source": [
    "# [3.1] Syntax, Cooments <br>\n"
   ]
  },
  {
   "cell_type": "code",
   "execution_count": 1,
   "id": "09d71e8a",
   "metadata": {},
   "outputs": [
    {
     "name": "stdout",
     "output_type": "stream",
     "text": [
      "5\n"
     ]
    }
   ],
   "source": [
    "# A comment line start with \"#\" as this line.\n",
    "# Also, a comment may be put after a code as follows.\n",
    "\n",
    "a=5     # this is the first python code.\n",
    "print(a)"
   ]
  },
  {
   "cell_type": "code",
   "execution_count": 2,
   "id": "9dc54794",
   "metadata": {
    "scrolled": true
   },
   "outputs": [
    {
     "name": "stdout",
     "output_type": "stream",
     "text": [
      "a is greater than b.\n",
      "c= 16\n"
     ]
    }
   ],
   "source": [
    "# Lines in a block of codes are aligned with same indent.\n",
    "\n",
    "a=10\n",
    "b=6\n",
    "if a>b:\n",
    "    c=a+b\n",
    "    print(\"a is greater than b.\")\n",
    "    print(\"c=\",c)\n",
    "    \n",
    "if a<b:\n",
    "    c=b-a\n",
    "    print(\"a is less than b.\")\n",
    "    print(\"c=\",c)\n",
    "    "
   ]
  },
  {
   "cell_type": "code",
   "execution_count": 63,
   "id": "aa267063",
   "metadata": {},
   "outputs": [],
   "source": [
    "# This is a special line to reset jupyter notebook.\n",
    "# All definition in cells above are cleared to make the following\n",
    "# cells independent from above. This notebook uses \"reset\" to make\n",
    "# each cell independent from others.\n",
    "%reset -f"
   ]
  },
  {
   "cell_type": "markdown",
   "id": "0a687acb",
   "metadata": {},
   "source": [
    "\n",
    "# [3.2] Variables, Data Types, Numbers, Casting\n",
    "\n",
    "Python has no command for declaring a variable.\n",
    "\n",
    "A variable is created the moment you first assign a value to it.\n",
    "\n",
    "Variables do not need to be declared with any particular type, and can even change type after they have been set.\n",
    "\n",
    "https://www.w3schools.com/python/python_variables.asp\n",
    "\n",
    "Common variable types are int(eger), float, string and bool.\n",
    "\n",
    "= representation of float and int = <br>\n",
    "\"float\" uses 64 bits (IEEE 745 double-precision represntation).\n",
    "1 bit for sign, 11 bits for exponent and 52 digits for significant digits.\n",
    "\n",
    "\"int\" uses a variable number of bits, 16, 32, 64 and 128 bits.\n",
    "\n",
    "find more in <br>\n",
    "https://www.pythontutorial.net/advanced-python/python-float/\n",
    "<br>\n",
    "https://www.pythontutorial.net/advanced-python/python-integers/\n",
    "<br>\n",
    "https://en.wikipedia.org/wiki/Double-precision_floating-point_format\n"
   ]
  },
  {
   "cell_type": "code",
   "execution_count": 4,
   "id": "296e18a5",
   "metadata": {},
   "outputs": [
    {
     "name": "stdout",
     "output_type": "stream",
     "text": [
      "5\n",
      "3.14\n",
      "John\n",
      "False\n"
     ]
    }
   ],
   "source": [
    "# Next, \"Creating Variables\"\n",
    "x = 5\n",
    "y = 3.14\n",
    "z = \"John\"\n",
    "b = 5 > 8     # is 5 grater than 8?\n",
    "print(x)\n",
    "print(y)\n",
    "print(z)\n",
    "print(b)"
   ]
  },
  {
   "cell_type": "code",
   "execution_count": 5,
   "id": "d8bb5c61",
   "metadata": {},
   "outputs": [
    {
     "name": "stdout",
     "output_type": "stream",
     "text": [
      "<class 'int'>\n",
      "<class 'float'>\n",
      "<class 'str'>\n",
      "<class 'bool'>\n"
     ]
    }
   ],
   "source": [
    "# Find the data type, uing \"type()\"\n",
    "print(type(x))\n",
    "print(type(y))\n",
    "print(type(z))\n",
    "print(type(b))"
   ]
  },
  {
   "cell_type": "code",
   "execution_count": 6,
   "id": "f81423fe",
   "metadata": {},
   "outputs": [],
   "source": [
    "%reset -f"
   ]
  },
  {
   "cell_type": "markdown",
   "id": "a0cb6289",
   "metadata": {},
   "source": [
    "\n",
    "Type conversion.\n"
   ]
  },
  {
   "cell_type": "code",
   "execution_count": 7,
   "id": "76c82353",
   "metadata": {},
   "outputs": [
    {
     "name": "stdout",
     "output_type": "stream",
     "text": [
      "1.0 <class 'float'>\n",
      "2 <class 'int'>\n",
      "134 <class 'int'>\n"
     ]
    }
   ],
   "source": [
    "x = 1      # int\n",
    "y = 2.8    # float\n",
    "z = 1.3456e2  # float\n",
    "\n",
    "a = float(x)\n",
    "b = int(y)\n",
    "c = int(z)\n",
    "\n",
    "print(a,type(a))\n",
    "print(b,type(b))\n",
    "print(c,type(c))"
   ]
  },
  {
   "cell_type": "code",
   "execution_count": 8,
   "id": "df7434f0",
   "metadata": {},
   "outputs": [],
   "source": [
    "%reset -f"
   ]
  },
  {
   "cell_type": "markdown",
   "id": "d5e40ecf",
   "metadata": {},
   "source": [
    "\n",
    "Casting\n"
   ]
  },
  {
   "cell_type": "code",
   "execution_count": 9,
   "id": "92b19a46",
   "metadata": {},
   "outputs": [
    {
     "name": "stdout",
     "output_type": "stream",
     "text": [
      "1 2 3\n"
     ]
    }
   ],
   "source": [
    "x = int(1)   # x will be 1\n",
    "y = int(2.8) # y will be 2\n",
    "z = int(\"3\") # z will be 3\n",
    "print(x,y,z)"
   ]
  },
  {
   "cell_type": "code",
   "execution_count": 10,
   "id": "cedcfc94",
   "metadata": {},
   "outputs": [],
   "source": [
    "%reset -f"
   ]
  },
  {
   "cell_type": "code",
   "execution_count": 11,
   "id": "e3fcaabe",
   "metadata": {},
   "outputs": [
    {
     "name": "stdout",
     "output_type": "stream",
     "text": [
      "1.0 2.8 3.0 4.2\n"
     ]
    }
   ],
   "source": [
    "x = float(1)     # x will be 1.0\n",
    "y = float(2.8)   # y will be 2.8\n",
    "z = float(\"3\")   # z will be 3.0\n",
    "w = float(\"4.2\") # w will be 4.2\n",
    "print(x,y,z,w)"
   ]
  },
  {
   "cell_type": "code",
   "execution_count": 12,
   "id": "ea172686",
   "metadata": {},
   "outputs": [],
   "source": [
    "%reset -f"
   ]
  },
  {
   "cell_type": "code",
   "execution_count": 13,
   "id": "c4ea2b46",
   "metadata": {},
   "outputs": [
    {
     "name": "stdout",
     "output_type": "stream",
     "text": [
      "s1 2 3.0\n"
     ]
    }
   ],
   "source": [
    "x = str(\"s1\") # x will be 's1'\n",
    "y = str(2)    # y will be '2'\n",
    "z = str(3.0)  # z will be '3.0'\n",
    "print(x,y,z)"
   ]
  },
  {
   "cell_type": "code",
   "execution_count": 14,
   "id": "ff1b85b7",
   "metadata": {},
   "outputs": [],
   "source": [
    "%reset -f"
   ]
  },
  {
   "cell_type": "code",
   "execution_count": 15,
   "id": "6622ac44",
   "metadata": {},
   "outputs": [
    {
     "name": "stdout",
     "output_type": "stream",
     "text": [
      "4\n",
      "10\n"
     ]
    }
   ],
   "source": [
    "# Variable names are case-sensitive.\n",
    "a = 4\n",
    "A = 10\n",
    "#A will not overwrite a\n",
    "print(a)\n",
    "print(A)"
   ]
  },
  {
   "cell_type": "markdown",
   "id": "bc8c0f87",
   "metadata": {},
   "source": [
    "In additon to integer, float, string, and bool,\n",
    "there are more deta taypes in python, e.g.\n",
    "complex, list, tuple, list, dictionary.\n",
    "see,\n",
    "https://www.w3schools.com/python/python_datatypes.asp"
   ]
  },
  {
   "cell_type": "code",
   "execution_count": 16,
   "id": "5953d1b9",
   "metadata": {},
   "outputs": [],
   "source": [
    "%reset -f"
   ]
  },
  {
   "cell_type": "markdown",
   "id": "10f7dba3",
   "metadata": {},
   "source": [
    "\n",
    "# [3.3] Stings and Arrays\n",
    "\n",
    "Like many other popular programming languages, strings in Python are arrays of bytes representing unicode characters.\n",
    "\n",
    "However, Python does not have a character data type, a single character is simply a string with a length of 1.\n",
    "\n",
    "Square brackets can be used to access elements of the string.\n",
    "\n",
    "A sting is stored as an array of data. There are other types\n",
    "of array, e.g. List, numpy array. Methods for string below\n",
    "are also apllicable to those arrays.\n",
    "\n",
    "https://www.w3schools.com/python/python_strings.asp\n"
   ]
  },
  {
   "cell_type": "code",
   "execution_count": 17,
   "id": "c8e60159",
   "metadata": {},
   "outputs": [
    {
     "name": "stdout",
     "output_type": "stream",
     "text": [
      "e\n"
     ]
    }
   ],
   "source": [
    "# Get the character at position 1 \n",
    "# (remember that the first character has the position 0):\n",
    "a = \"Hello, World!\"\n",
    "print(a[1])"
   ]
  },
  {
   "cell_type": "code",
   "execution_count": 18,
   "id": "d5370d0e",
   "metadata": {},
   "outputs": [
    {
     "name": "stdout",
     "output_type": "stream",
     "text": [
      "0 b\n",
      "1 a\n",
      "2 n\n",
      "3 a\n",
      "4 n\n",
      "5 a\n"
     ]
    }
   ],
   "source": [
    "# Loop through the letters in the word \"banana\":\n",
    "k = -1\n",
    "for x in \"banana\":\n",
    "    k=k+1\n",
    "    print(k,x)"
   ]
  },
  {
   "cell_type": "code",
   "execution_count": 19,
   "id": "fc59530d",
   "metadata": {},
   "outputs": [
    {
     "name": "stdout",
     "output_type": "stream",
     "text": [
      "13\n"
     ]
    }
   ],
   "source": [
    "# To get the length of a string, use the len() function.\n",
    "\n",
    "a = \"Hello, World!\"\n",
    "print(len(a))"
   ]
  },
  {
   "cell_type": "code",
   "execution_count": 20,
   "id": "0f9e13d2",
   "metadata": {},
   "outputs": [
    {
     "name": "stdout",
     "output_type": "stream",
     "text": [
      "Yes, 'free' is present.\n"
     ]
    }
   ],
   "source": [
    "# Print only if \"free\" is present:\n",
    "\n",
    "txt = \"The best things in life are free!\"\n",
    "if \"free\" in txt:\n",
    "  print(\"Yes, 'free' is present.\")"
   ]
  },
  {
   "cell_type": "code",
   "execution_count": 21,
   "id": "006cbb61",
   "metadata": {},
   "outputs": [
    {
     "name": "stdout",
     "output_type": "stream",
     "text": [
      "No, 'expensive' is NOT present.\n"
     ]
    }
   ],
   "source": [
    "# To check if a certain phrase or character \n",
    "# is NOT present in a string, \n",
    "# we can use the keyword not in.\n",
    "\n",
    "txt = \"The best things in life are free!\"\n",
    "if \"expensive\" not in txt:\n",
    "  print(\"No, 'expensive' is NOT present.\")"
   ]
  },
  {
   "cell_type": "code",
   "execution_count": 22,
   "id": "698dab96",
   "metadata": {},
   "outputs": [
    {
     "name": "stdout",
     "output_type": "stream",
     "text": [
      "llo\n"
     ]
    }
   ],
   "source": [
    "# Slicing\n",
    "# Specify the start index and the end index, \n",
    "# separated by a colon, to return a part of the string.\n",
    "\n",
    "b = \"Hello, World!\"\n",
    "print(b[2:5])\n"
   ]
  },
  {
   "cell_type": "code",
   "execution_count": 23,
   "id": "6a2c9931",
   "metadata": {},
   "outputs": [
    {
     "name": "stdout",
     "output_type": "stream",
     "text": [
      "Hello\n"
     ]
    }
   ],
   "source": [
    "# Slice From the Start\n",
    "\n",
    "b = \"Hello, World!\"\n",
    "print(b[:5])"
   ]
  },
  {
   "cell_type": "code",
   "execution_count": 24,
   "id": "cf797d0a",
   "metadata": {},
   "outputs": [
    {
     "name": "stdout",
     "output_type": "stream",
     "text": [
      "llo, World!\n"
     ]
    }
   ],
   "source": [
    "# Slice to the end\n",
    "\n",
    "b = \"Hello, World!\"\n",
    "print(b[2:])\n"
   ]
  },
  {
   "cell_type": "markdown",
   "id": "0b5b5319",
   "metadata": {},
   "source": [
    "\n",
    "# [3.4] Operators, Math Function\n",
    "\n",
    "https://www.w3schools.com/python/python_operators.asp"
   ]
  },
  {
   "cell_type": "code",
   "execution_count": 25,
   "id": "f55b53cc",
   "metadata": {},
   "outputs": [
    {
     "name": "stdout",
     "output_type": "stream",
     "text": [
      "15 8.8 15 17.08695652173913 TTU_Physics 2\n"
     ]
    }
   ],
   "source": [
    "# Example of operators,\n",
    "a = 10 + 5\n",
    "b = 12.3 - 3.5\n",
    "c = 3 * 5\n",
    "d = 39.3/2.3\n",
    "e = \"TTU\" + \"_Physics\"\n",
    "f = 11 % 3  #  modulus: the remainder\n",
    "\n",
    "print(a,b,c,d,e,f)"
   ]
  },
  {
   "cell_type": "code",
   "execution_count": 26,
   "id": "31d139ba",
   "metadata": {},
   "outputs": [],
   "source": [
    "%reset -f"
   ]
  },
  {
   "cell_type": "code",
   "execution_count": 27,
   "id": "a1a15c2f",
   "metadata": {},
   "outputs": [
    {
     "name": "stdout",
     "output_type": "stream",
     "text": [
      "x is NOT equal to y.\n",
      "x is less than y.\n"
     ]
    }
   ],
   "source": [
    "# Example of Comparison Operators\n",
    "x = 5\n",
    "y = 10\n",
    "if x == y:\n",
    "    print(\"x is equal to y.\")\n",
    "if x != y:\n",
    "    print(\"x is NOT equal to y.\")\n",
    "if x > y:\n",
    "    print(\"x is greater than y.\")\n",
    "if x < y:\n",
    "    print(\"x is less than y.\")"
   ]
  },
  {
   "cell_type": "markdown",
   "id": "f2eb3e36",
   "metadata": {},
   "source": [
    "# [3.5] Array and Data structure: Lists, Tuple, Sets, Dictionary\n",
    "\n",
    "https://www.w3schools.com/python/python_lists.asp\n"
   ]
  },
  {
   "cell_type": "code",
   "execution_count": 28,
   "id": "b1676ef3",
   "metadata": {},
   "outputs": [
    {
     "name": "stdout",
     "output_type": "stream",
     "text": [
      "<class 'list'>\n",
      "[123, 3.1415, 'abcd', 25]\n",
      "123 abcd\n",
      "The length of list: 4\n"
     ]
    }
   ],
   "source": [
    "# List:  [...]\n",
    "a=[123, 3.1415, \"abcd\", 25]   # set values in a List a.\n",
    "print(type(a))     # print \n",
    "print(a)\n",
    "\n",
    "# get values from elements in a List using the index. \n",
    "b = a[0]      # 0th element (index=0)\n",
    "c = a[2]      # 2nd element (index=2)\n",
    "print(b,c)\n",
    "\n",
    "k=len(a)\n",
    "print(\"The length of list:\",k)\n"
   ]
  },
  {
   "cell_type": "code",
   "execution_count": 29,
   "id": "c4214c81",
   "metadata": {},
   "outputs": [],
   "source": [
    "%reset -f"
   ]
  },
  {
   "cell_type": "code",
   "execution_count": 30,
   "id": "4e7e8329",
   "metadata": {},
   "outputs": [
    {
     "name": "stdout",
     "output_type": "stream",
     "text": [
      "{'key1': 123, 'key2': 3.14, 'key3': 'abcd', 'key4': 25}\n",
      "b= abcd\n",
      "a after an  addition.  a= {'key1': 123, 'key2': 3.14, 'key3': 'abcd', 'key4': 25, 'key5': 9.8}\n",
      "data51\n",
      "\n",
      "loop\n",
      "key key1   value  123\n",
      "key key2   value  3.14\n",
      "key key3   value  abcd\n",
      "key key4   value  25\n",
      "key key5   value  9.8\n",
      "key 51   value  data51\n",
      "\n",
      "list of keys dict_keys(['key1', 'key2', 'key3', 'key4', 'key5', 51])\n",
      "<class 'dict_keys'>\n"
     ]
    }
   ],
   "source": [
    "# Dictionary:  {...}\n",
    "# To access element, List uses integer index.\n",
    "# and dictinary uses \"key\" word.\n",
    "a={\"key1\":123, \"key2\":3.14, \"key3\":\"abcd\",\"key4\":25}\n",
    "print(a)\n",
    "\n",
    "# get a value from Dictinary using key word (\"key3\" in this case)\n",
    "b=a[\"key3\"]\n",
    "print(\"b=\",b)\n",
    "\n",
    "# add new element into an existing Dictionary\n",
    "a[\"key5\"]=9.80\n",
    "print(\"a after an  addition.  a=\",a)\n",
    "\n",
    "# key-word can be integer, instead of string\n",
    "a[51]=\"data51\"\n",
    "print(a[51])\n",
    "\n",
    "# loop over elements in a dictionary\n",
    "print()\n",
    "print(\"loop\")\n",
    "for x in a:\n",
    "    y = a[x]\n",
    "    print(\"key\",x,\"  value \",y)\n",
    "    \n",
    "# list of keys\n",
    "print()\n",
    "k = a.keys()\n",
    "print(\"list of keys\",k) \n",
    "print(type(k))\n"
   ]
  },
  {
   "cell_type": "code",
   "execution_count": 31,
   "id": "a99d4b0a",
   "metadata": {},
   "outputs": [],
   "source": [
    "%reset -f"
   ]
  },
  {
   "cell_type": "markdown",
   "id": "ea8f3d58",
   "metadata": {},
   "source": [
    "# [3.6] Numpy array\n",
    "\n",
    "https://www.w3schools.com/python/numpy/default.asp\n",
    "https://numpy.org/devdocs/user/absolute_beginners.html "
   ]
  },
  {
   "cell_type": "code",
   "execution_count": 32,
   "id": "d5bc24b7",
   "metadata": {},
   "outputs": [
    {
     "name": "stdout",
     "output_type": "stream",
     "text": [
      "a= [124  39  22]\n",
      "access a[1]: 39\n",
      "[0.  0.5 1.  1.5 2.  2.5 3.  3.5 4.  4.5 5.  5.5 6.  6.5 7.  7.5 8.  8.5\n",
      " 9.  9.5]\n",
      "sum of b= 95.0\n",
      "average of b 4.75\n"
     ]
    }
   ],
   "source": [
    "# numpy array is similar to List, but designed for scientific \n",
    "# numeerical calculations.\n",
    "# List and Dictinary may contain element in different data types, \n",
    "# numpy array have to contain elements in same data type.\n",
    "\n",
    "import numpy as np\n",
    "import matplotlib.pyplot as plt\n",
    "\n",
    "# afew defferent ways to create numpy array.\n",
    "\n",
    "# example 1:\n",
    "a=np.array([124, 39, 22])  # fill values using List\n",
    "print(\"a=\",a)\n",
    "print(\"access a[1]:\",a[1])\n",
    "\n",
    "# example 2:\n",
    "# fill values from 0.0 up to 10.0 with 0.5 step.\n",
    "# (10.0 is not included.)\n",
    "b=np.arange(0.0, 10.0, 0.5)\n",
    "print(b)\n",
    "\n",
    "\n",
    "c=np.sum(b)    # sum all values in array-b.\n",
    "print(\"sum of b=\",c)\n",
    "\n",
    "d=np.average(b) # average of all values in array-b\n",
    "print(\"average of b\",d)\n"
   ]
  },
  {
   "cell_type": "code",
   "execution_count": 33,
   "id": "b06b4b14",
   "metadata": {},
   "outputs": [],
   "source": [
    "%reset -f"
   ]
  },
  {
   "cell_type": "markdown",
   "id": "5c320e51",
   "metadata": {},
   "source": [
    "# [3.7] Pandas DataFrame"
   ]
  },
  {
   "cell_type": "code",
   "execution_count": 34,
   "id": "8797564d",
   "metadata": {},
   "outputs": [],
   "source": [
    "%reset -f"
   ]
  },
  {
   "cell_type": "markdown",
   "id": "80efac99",
   "metadata": {},
   "source": [
    "# [3.8] if ... else\n",
    "\n",
    "https://www.w3schools.com/python/python_conditions.asp\n",
    "\n",
    "Python supports the usual logical conditions from mathematics:\n",
    "\n",
    "Equals: a == b  <br>\n",
    "Not Equals: a != b  <br>\n",
    "Less than: a < b   <br>\n",
    "Less than or equal to: a <= b  <br>\n",
    "Greater than: a > b   <br>\n",
    "Greater than or equal to: a >= b  <br>"
   ]
  },
  {
   "cell_type": "code",
   "execution_count": 35,
   "id": "65112eba",
   "metadata": {},
   "outputs": [
    {
     "name": "stdout",
     "output_type": "stream",
     "text": [
      "a is greater than b\n"
     ]
    }
   ],
   "source": [
    "a = 200\n",
    "b = 33\n",
    "if b > a:\n",
    "  print(\"b is greater than a\")\n",
    "elif a == b:\n",
    "  print(\"a and b are equal\")\n",
    "else:\n",
    "  print(\"a is greater than b\")"
   ]
  },
  {
   "cell_type": "code",
   "execution_count": 36,
   "id": "d3aff453",
   "metadata": {},
   "outputs": [],
   "source": [
    "# if statements cannot be empty, \n",
    "# but if you for some reason have an if statement with no content, \n",
    "# put in the pass statement to avoid getting an error.\n",
    "\n",
    "a = 33\n",
    "b = 200\n",
    "\n",
    "if b > a:\n",
    "  pass"
   ]
  },
  {
   "cell_type": "markdown",
   "id": "6fc0886a",
   "metadata": {},
   "source": [
    "# [3.9] Loops:  While Loops, For Loops\n",
    "\n",
    "https://www.w3schools.com/python/python_while_loops.asp\n",
    "https://www.w3schools.com/python/python_for_loops.asp"
   ]
  },
  {
   "cell_type": "code",
   "execution_count": 37,
   "id": "d8155bae",
   "metadata": {},
   "outputs": [
    {
     "name": "stdout",
     "output_type": "stream",
     "text": [
      "1\n",
      "2\n",
      "3\n",
      "4\n",
      "5\n"
     ]
    }
   ],
   "source": [
    "# Print i as long as i is less than 6:\n",
    "\n",
    "i = 1\n",
    "while i < 6:\n",
    "  print(i)\n",
    "  i += 1"
   ]
  },
  {
   "cell_type": "code",
   "execution_count": 38,
   "id": "8a3dc814",
   "metadata": {},
   "outputs": [
    {
     "name": "stdout",
     "output_type": "stream",
     "text": [
      "apple\n",
      "banana\n",
      "cherry\n"
     ]
    }
   ],
   "source": [
    "# Print each fruit in a fruit list:\n",
    "\n",
    "fruits = [\"apple\", \"banana\", \"cherry\"]\n",
    "for x in fruits:\n",
    "  print(x)"
   ]
  },
  {
   "cell_type": "code",
   "execution_count": 39,
   "id": "3fee7a18",
   "metadata": {},
   "outputs": [
    {
     "name": "stdout",
     "output_type": "stream",
     "text": [
      "apple\n",
      "banana\n"
     ]
    }
   ],
   "source": [
    "# With the break statement we can stop the loop before it has looped \n",
    "# through all the items:\n",
    "\n",
    "fruits = [\"apple\", \"banana\", \"cherry\"]\n",
    "for x in fruits:\n",
    "  print(x) \n",
    "  if x == \"banana\":\n",
    "    break"
   ]
  },
  {
   "cell_type": "code",
   "execution_count": 40,
   "id": "d09be5a1",
   "metadata": {},
   "outputs": [
    {
     "name": "stdout",
     "output_type": "stream",
     "text": [
      "apple\n",
      "cherry\n"
     ]
    }
   ],
   "source": [
    "# With the continue statement we can stop the current iteration \n",
    "# of the loop, and continue with the next:\n",
    "\n",
    "fruits = [\"apple\", \"banana\", \"cherry\"]\n",
    "for x in fruits:\n",
    "  if x == \"banana\":\n",
    "    continue\n",
    "  print(x)"
   ]
  },
  {
   "cell_type": "code",
   "execution_count": 41,
   "id": "684a5ea8",
   "metadata": {},
   "outputs": [],
   "source": [
    "%reset -f"
   ]
  },
  {
   "cell_type": "code",
   "execution_count": 42,
   "id": "fd93300d",
   "metadata": {},
   "outputs": [
    {
     "name": "stdout",
     "output_type": "stream",
     "text": [
      "0.0\n",
      "0.1\n",
      "0.2\n",
      "0.30000000000000004\n",
      "0.4\n",
      "0.5\n",
      "0.6000000000000001\n",
      "0.7000000000000001\n",
      "0.8\n",
      "0.9\n"
     ]
    }
   ],
   "source": [
    "import numpy as np\n",
    "import matplotlib.pyplot as plt\n",
    "\n",
    "# Using numpy arange.\n",
    "\n",
    "for x in np.arange(0.0,1.0,0.1):\n",
    "    print(x)"
   ]
  },
  {
   "cell_type": "code",
   "execution_count": 43,
   "id": "9ecfaa65",
   "metadata": {},
   "outputs": [],
   "source": [
    "%reset -f"
   ]
  },
  {
   "cell_type": "code",
   "execution_count": 44,
   "id": "713df11e",
   "metadata": {},
   "outputs": [
    {
     "name": "stdout",
     "output_type": "stream",
     "text": [
      "n= 0    value= 0.0\n",
      "n= 1    value= 0.1\n",
      "n= 2    value= 0.2\n",
      "n= 3    value= 0.30000000000000004\n",
      "n= 4    value= 0.4\n",
      "n= 5    value= 0.5\n",
      "n= 6    value= 0.6000000000000001\n",
      "n= 7    value= 0.7000000000000001\n",
      "n= 8    value= 0.8\n",
      "n= 9    value= 0.9\n"
     ]
    }
   ],
   "source": [
    "import numpy as np\n",
    "import matplotlib.pyplot as plt\n",
    "\n",
    "# for loop with a counter\n",
    "a = np.arange(0.0, 1.0, 0.1)\n",
    "for n, x in enumerate(a):\n",
    "    print(\"n=\",n,\"   value=\",x)"
   ]
  },
  {
   "cell_type": "code",
   "execution_count": 45,
   "id": "5c9bd481",
   "metadata": {},
   "outputs": [],
   "source": [
    "%reset -f"
   ]
  },
  {
   "cell_type": "markdown",
   "id": "b7861fd8",
   "metadata": {},
   "source": [
    "# [3.10] Functions\n",
    "\n",
    "A function is a block of code which only runs when it is called.\n",
    "\n",
    "You can pass data, known as parameters, into a function.\n",
    "\n",
    "A function can return data as a result."
   ]
  },
  {
   "cell_type": "code",
   "execution_count": 46,
   "id": "e8656c08",
   "metadata": {
    "scrolled": true
   },
   "outputs": [
    {
     "data": {
      "image/png": "[encoded data removed]",
      "text/plain": [
       "<Figure size 432x288 with 1 Axes>"
      ]
     },
     "metadata": {
      "needs_background": "light"
     },
     "output_type": "display_data"
    }
   ],
   "source": [
    "import numpy as np\n",
    "import matplotlib.pyplot as plt\n",
    "\n",
    "# my own function which returns one variable,\n",
    "def myfunction(th):\n",
    "    val=np.sin(th)+1.0\n",
    "    \n",
    "    return val\n",
    "    \n",
    "# maing program.\n",
    "x = np.arange(0.0,10.0,0.01)\n",
    "y = myfunction(x)\n",
    "\n",
    "plt.plot(x,y,\"-\")\n",
    "plt.show()"
   ]
  },
  {
   "cell_type": "code",
   "execution_count": 47,
   "id": "2b457703",
   "metadata": {},
   "outputs": [],
   "source": [
    "%reset -f"
   ]
  },
  {
   "cell_type": "code",
   "execution_count": 48,
   "id": "928bf99f",
   "metadata": {},
   "outputs": [
    {
     "data": {
      "image/png": "[encoded data removed]",
      "text/plain": [
       "<Figure size 432x288 with 1 Axes>"
      ]
     },
     "metadata": {
      "needs_background": "light"
     },
     "output_type": "display_data"
    }
   ],
   "source": [
    "import numpy as np\n",
    "import matplotlib.pyplot as plt\n",
    "\n",
    "# my own function which returns two variables,\n",
    "def myfunction(th):\n",
    "    a=np.sin(th)+1.0\n",
    "    b=np.cos(th)+th\n",
    "    \n",
    "    return a,b \n",
    "    \n",
    "# maing program.\n",
    "x = np.arange(0.0,10.0,0.01)\n",
    "y,z = myfunction(x)\n",
    "\n",
    "plt.plot(x,y,\"b-\")\n",
    "plt.plot(x,z,\"r+\")\n",
    "plt.show()"
   ]
  },
  {
   "cell_type": "code",
   "execution_count": 49,
   "id": "bc737c8c",
   "metadata": {},
   "outputs": [],
   "source": [
    "%reset -f"
   ]
  },
  {
   "cell_type": "markdown",
   "id": "d77dcb1f",
   "metadata": {},
   "source": [
    "[3.9] File Handling"
   ]
  },
  {
   "cell_type": "markdown",
   "id": "f218eac7",
   "metadata": {},
   "source": [
    "[3.9.1] Simple text file in human-readable row-column format"
   ]
  },
  {
   "cell_type": "code",
   "execution_count": 50,
   "id": "27618db9",
   "metadata": {},
   "outputs": [],
   "source": [
    "# example 1a (write) \n",
    "# This simply write lines in a file...\n",
    "import numpy as np\n",
    "import matplotlib.pyplot as plt\n",
    "\n",
    "# creat x, y values\n",
    "xx=np.arange(0.0,10.0,0.5)\n",
    "yy=np.sin(xx)\n",
    "  \n",
    "#  read x, y values lini-by-line from file\n",
    "f=open('xypoints.txt','w')\n",
    "for i in range(len(xx)):\n",
    "    f.write(\"{0:5.2f} {1:7.3f} \\n\".format(xx[i],yy[i]))\n",
    "f.close()    "
   ]
  },
  {
   "cell_type": "code",
   "execution_count": 51,
   "id": "a525023e",
   "metadata": {},
   "outputs": [],
   "source": [
    "%reset -f"
   ]
  },
  {
   "cell_type": "code",
   "execution_count": 52,
   "id": "53670600",
   "metadata": {
    "scrolled": true
   },
   "outputs": [
    {
     "name": "stdout",
     "output_type": "stream",
     "text": [
      " 0.00   0.000 \n",
      "\n",
      " 0.50   0.479 \n",
      "\n",
      " 1.00   0.841 \n",
      "\n",
      " 1.50   0.997 \n",
      "\n",
      " 2.00   0.909 \n",
      "\n",
      " 2.50   0.598 \n",
      "\n",
      " 3.00   0.141 \n",
      "\n",
      " 3.50  -0.351 \n",
      "\n",
      " 4.00  -0.757 \n",
      "\n",
      " 4.50  -0.978 \n",
      "\n",
      " 5.00  -0.959 \n",
      "\n",
      " 5.50  -0.706 \n",
      "\n",
      " 6.00  -0.279 \n",
      "\n",
      " 6.50   0.215 \n",
      "\n",
      " 7.00   0.657 \n",
      "\n",
      " 7.50   0.938 \n",
      "\n",
      " 8.00   0.989 \n",
      "\n",
      " 8.50   0.798 \n",
      "\n",
      " 9.00   0.412 \n",
      "\n",
      " 9.50  -0.075 \n",
      "\n"
     ]
    },
    {
     "data": {
      "image/png": "[encoded data removed]",
      "text/plain": [
       "<Figure size 432x288 with 1 Axes>"
      ]
     },
     "metadata": {
      "needs_background": "light"
     },
     "output_type": "display_data"
    }
   ],
   "source": [
    "# example 1b (read)\n",
    "# This simply write lines in a file and print\n",
    "\n",
    "import numpy as np\n",
    "import matplotlib.pyplot as plt\n",
    "\n",
    "xx=np.array([])   # create an empty array\n",
    "yy=np.array([])   # create an empty array\n",
    "\n",
    "fin=open(\"xypoints.txt\")\n",
    "for line in fin:\n",
    "    print(line)\n",
    "    s=line.split()   # split a line to elements\n",
    "    if len(s)>1:     # skip empty line\n",
    "        # save all x, y values in arrays.\n",
    "        xx=np.append(xx,float(s[0]))    # x in first element\n",
    "        yy=np.append(yy,float(s[1]))    # y in second element\n",
    "        \n",
    "# plot x, y.\n",
    "plt.plot(xx,yy,\"or\")\n",
    "plt.show()\n"
   ]
  },
  {
   "cell_type": "code",
   "execution_count": 53,
   "id": "0ca146f8",
   "metadata": {},
   "outputs": [],
   "source": [
    "%reset -f"
   ]
  },
  {
   "cell_type": "markdown",
   "id": "4424a332",
   "metadata": {},
   "source": [
    "\n",
    "[3.9.2] csv file using pandas dataframe\n",
    "\n",
    "A simple way to store big data sets is to use CSV files (comma separated files).\n",
    "\n",
    "CSV files contains plain text and is a well know format that can be read by everyone including Pandas.\n",
    "\n",
    "https://www.w3schools.com/python/pandas/pandas_csv.asp\n"
   ]
  },
  {
   "cell_type": "code",
   "execution_count": 54,
   "id": "a5a744a7",
   "metadata": {},
   "outputs": [
    {
     "name": "stdout",
     "output_type": "stream",
     "text": [
      "      x         y\n",
      "0   0.0  0.000000\n",
      "1   0.5  0.479426\n",
      "2   1.0  0.841471\n",
      "3   1.5  0.997495\n",
      "4   2.0  0.909297\n",
      "5   2.5  0.598472\n",
      "6   3.0  0.141120\n",
      "7   3.5 -0.350783\n",
      "8   4.0 -0.756802\n",
      "9   4.5 -0.977530\n",
      "10  5.0 -0.958924\n",
      "11  5.5 -0.705540\n",
      "12  6.0 -0.279415\n",
      "13  6.5  0.215120\n",
      "14  7.0  0.656987\n",
      "15  7.5  0.938000\n",
      "16  8.0  0.989358\n",
      "17  8.5  0.798487\n",
      "18  9.0  0.412118\n",
      "19  9.5 -0.075151\n"
     ]
    }
   ],
   "source": [
    "# example 2a (write in csv format)\n",
    "\n",
    "import numpy as np\n",
    "import matplotlib.pyplot as plt\n",
    "import pandas as pd\n",
    "\n",
    "# creat x, y values\n",
    "xx=np.arange(0.0,10.0,0.5)\n",
    "yy=np.sin(xx)\n",
    "\n",
    "# construct the data structure in pandas DataFrame\n",
    "df = pd.DataFrame({'x':xx,'y':yy})\n",
    "print(df)\n",
    "\n",
    "df.to_csv(\"xypoints.csv\")"
   ]
  },
  {
   "cell_type": "code",
   "execution_count": 55,
   "id": "3ec5232a",
   "metadata": {},
   "outputs": [],
   "source": [
    "%reset -f"
   ]
  },
  {
   "cell_type": "code",
   "execution_count": 56,
   "id": "f2a20452",
   "metadata": {},
   "outputs": [
    {
     "name": "stdout",
     "output_type": "stream",
     "text": [
      "    Unnamed: 0    x         y\n",
      "0            0  0.0  0.000000\n",
      "1            1  0.5  0.479426\n",
      "2            2  1.0  0.841471\n",
      "3            3  1.5  0.997495\n",
      "4            4  2.0  0.909297\n",
      "5            5  2.5  0.598472\n",
      "6            6  3.0  0.141120\n",
      "7            7  3.5 -0.350783\n",
      "8            8  4.0 -0.756802\n",
      "9            9  4.5 -0.977530\n",
      "10          10  5.0 -0.958924\n",
      "11          11  5.5 -0.705540\n",
      "12          12  6.0 -0.279415\n",
      "13          13  6.5  0.215120\n",
      "14          14  7.0  0.656987\n",
      "15          15  7.5  0.938000\n",
      "16          16  8.0  0.989358\n",
      "17          17  8.5  0.798487\n",
      "18          18  9.0  0.412118\n",
      "19          19  9.5 -0.075151\n"
     ]
    },
    {
     "data": {
      "image/png": "[encoded data removed]",
      "text/plain": [
       "<Figure size 432x288 with 1 Axes>"
      ]
     },
     "metadata": {
      "needs_background": "light"
     },
     "output_type": "display_data"
    }
   ],
   "source": [
    "# example 2b (read csv file generated by pandas)\n",
    "\n",
    "import numpy as np\n",
    "import matplotlib.pyplot as plt\n",
    "import pandas as pd\n",
    "\n",
    "df = pd.read_csv('xypoints.csv')\n",
    "\n",
    "print(df)\n",
    "\n",
    "# unpack to numpy array\n",
    "xx=df['x'].to_numpy()\n",
    "yy=df['y'].to_numpy()\n",
    "\n",
    "# plot x, y.\n",
    "plt.plot(xx,yy,\"sb\")\n",
    "plt.show()\n",
    "\n"
   ]
  },
  {
   "cell_type": "code",
   "execution_count": 57,
   "id": "139b5be8",
   "metadata": {},
   "outputs": [],
   "source": [
    "%reset -f"
   ]
  },
  {
   "cell_type": "markdown",
   "id": "1930e7b2",
   "metadata": {},
   "source": [
    "# [3.10] Matplotlib.pyplot.plot\n",
    "\n",
    "What is Matplotlib?\n",
    "\n",
    "Matplotlib is a low level graph plotting library in python that serves as a visualization utility.\n",
    "\n",
    "There are many examples in the following links.\n",
    "\n",
    "https://matplotlib.org/stable/api/_as_gen/matplotlib.pyplot.plot.html\n",
    "<br>\n",
    "https://matplotlib.org/stable/gallery/index.html\n",
    "<br>\n",
    "\n",
    "https://www.w3schools.com/python/matplotlib_intro.asp\n",
    "\n",
    "Pay attension on \"Markers\", \"Line\", \"Label\", \"Grid\", \n",
    "\"legend\", \"text\", and various types of plots, \n",
    "e.g. simple, scatter, histograms etc.\n",
    "\n",
    "Do Google search to find good exmples, for example \n",
    "search for \"Matplotlib text\" or \"Matplotlib text example\""
   ]
  },
  {
   "cell_type": "markdown",
   "id": "1191f815",
   "metadata": {},
   "source": [
    "[3.10.1] Subplots\n",
    "\n",
    "With the subplot() function you can draw multiple plots in one figure:\n",
    "\n",
    "https://matplotlib.org/stable/api/_as_gen/matplotlib.pyplot.subplot.html\n",
    "\n",
    "https://www.w3schools.com/python/matplotlib_subplot.asp\n"
   ]
  },
  {
   "cell_type": "code",
   "execution_count": 58,
   "id": "6fed4de0",
   "metadata": {},
   "outputs": [
    {
     "data": {
      "image/png": "[encoded data removed]",
      "text/plain": [
       "<Figure size 432x288 with 2 Axes>"
      ]
     },
     "metadata": {
      "needs_background": "light"
     },
     "output_type": "display_data"
    }
   ],
   "source": [
    "# subplot example\n",
    "\n",
    "import matplotlib.pyplot as plt\n",
    "import numpy as np\n",
    "\n",
    "#plot 1:\n",
    "x = np.array([0, 1, 2, 3])\n",
    "y = np.array([3, 8, 1, 10])\n",
    "\n",
    "plt.subplot(1, 2, 1)\n",
    "plt.plot(x,y)\n",
    "\n",
    "#plot 2:\n",
    "x = np.array([0, 1, 2, 3])\n",
    "y = np.array([10, 20, 30, 40])\n",
    "\n",
    "plt.subplot(1, 2, 2)\n",
    "plt.plot(x,y)\n",
    "\n",
    "plt.show()\n"
   ]
  },
  {
   "cell_type": "code",
   "execution_count": 59,
   "id": "9c737456",
   "metadata": {},
   "outputs": [],
   "source": [
    "%reset -f"
   ]
  },
  {
   "cell_type": "markdown",
   "id": "3cf1929d",
   "metadata": {},
   "source": [
    "[3.10.2] Histogram\n",
    "\n",
    "https://www.w3schools.com/python/matplotlib_histograms.asp\n"
   ]
  },
  {
   "cell_type": "code",
   "execution_count": 60,
   "id": "a68e381b",
   "metadata": {},
   "outputs": [
    {
     "data": {
      "image/png": "[encoded data removed]",
      "text/plain": [
       "<Figure size 432x288 with 1 Axes>"
      ]
     },
     "metadata": {
      "needs_background": "light"
     },
     "output_type": "display_data"
    }
   ],
   "source": [
    "import matplotlib.pyplot as plt\n",
    "import numpy as np\n",
    "\n",
    "# generate 250 random numbers in Gaussian distibution\n",
    "# with mean 170 and standard deviation 10.\n",
    "x = np.random.normal(170, 10, 250)\n",
    "\n",
    "# Plot the distribution\n",
    "plt.hist(x)\n",
    "plt.show() "
   ]
  },
  {
   "cell_type": "code",
   "execution_count": 61,
   "id": "f90d4e60",
   "metadata": {},
   "outputs": [],
   "source": [
    "%reset -f"
   ]
  },
  {
   "cell_type": "markdown",
   "id": "73e7df17",
   "metadata": {},
   "source": [
    "[3.10.3] Animation\n",
    "\n",
    "Animation is fun and useful to understsand behaviour of physical system. You may find examples of animation codes at\n",
    "https://matplotlib.org/stable/api/animation_api.html\n",
    "\n",
    "Here is one example.\n",
    "\n",
    "Rain Drop Simulation <br>\n",
    "https://matplotlib.org/stable/gallery/animation/rain.html\n",
    "\n",
    "To run animation in jupyter notebook, the follwoing magic line is required.\n",
    "\n",
    "%matplotlib notebook\n"
   ]
  },
  {
   "cell_type": "code",
   "execution_count": 62,
   "id": "fe8919ad",
   "metadata": {},
   "outputs": [
    {
     "data": {
      "application/javascript": [
       "/* Put everything inside the global mpl namespace */\n",
       "/* global mpl */\n",
       "window.mpl = {};\n",
       "\n",
       "mpl.get_websocket_type = function () {\n",
       "    if (typeof WebSocket !== 'undefined') {\n",
       "        return WebSocket;\n",
       "    } else if (typeof MozWebSocket !== 'undefined') {\n",
       "        return MozWebSocket;\n",
       "    } else {\n",
       "        alert(\n",
       "            'Your browser does not have WebSocket support. ' +\n",
       "                'Please try Chrome, Safari or Firefox ≥ 6. ' +\n",
       "                'Firefox 4 and 5 are also supported but you ' +\n",
       "                'have to enable WebSockets in about:config.'\n",
       "        );\n",
       "    }\n",
       "};\n",
       "\n",
       "mpl.figure = function (figure_id, websocket, ondownload, parent_element) {\n",
       "    this.id = figure_id;\n",
       "\n",
       "    this.ws = websocket;\n",
       "\n",
       "    this.supports_binary = this.ws.binaryType !== undefined;\n",
       "\n",
       "    if (!this.supports_binary) {\n",
       "        var warnings = document.getElementById('mpl-warnings');\n",
       "        if (warnings) {\n",
       "            warnings.style.display = 'block';\n",
       "            warnings.textContent =\n",
       "                'This browser does not support binary websocket messages. ' +\n",
       "                'Performance may be slow.';\n",
       "        }\n",
       "    }\n",
       "\n",
       "    this.imageObj = new Image();\n",
       "\n",
       "    this.context = undefined;\n",
       "    this.message = undefined;\n",
       "    this.canvas = undefined;\n",
       "    this.rubberband_canvas = undefined;\n",
       "    this.rubberband_context = undefined;\n",
       "    this.format_dropdown = undefined;\n",
       "\n",
       "    this.image_mode = 'full';\n",
       "\n",
       "    this.root = document.createElement('div');\n",
       "    this.root.setAttribute('style', 'display: inline-block');\n",
       "    this._root_extra_style(this.root);\n",
       "\n",
       "    parent_element.appendChild(this.root);\n",
       "\n",
       "    this._init_header(this);\n",
       "    this._init_canvas(this);\n",
       "    this._init_toolbar(this);\n",
       "\n",
       "    var fig = this;\n",
       "\n",
       "    this.waiting = false;\n",
       "\n",
       "    this.ws.onopen = function () {\n",
       "        fig.send_message('supports_binary', { value: fig.supports_binary });\n",
       "        fig.send_message('send_image_mode', {});\n",
       "        if (fig.ratio !== 1) {\n",
       "            fig.send_message('set_device_pixel_ratio', {\n",
       "                device_pixel_ratio: fig.ratio,\n",
       "            });\n",
       "        }\n",
       "        fig.send_message('refresh', {});\n",
       "    };\n",
       "\n",
       "    this.imageObj.onload = function () {\n",
       "        if (fig.image_mode === 'full') {\n",
       "            // Full images could contain transparency (where diff images\n",
       "            // almost always do), so we need to clear the canvas so that\n",
       "            // there is no ghosting.\n",
       "            fig.context.clearRect(0, 0, fig.canvas.width, fig.canvas.height);\n",
       "        }\n",
       "        fig.context.drawImage(fig.imageObj, 0, 0);\n",
       "    };\n",
       "\n",
       "    this.imageObj.onunload = function () {\n",
       "        fig.ws.close();\n",
       "    };\n",
       "\n",
       "    this.ws.onmessage = this._make_on_message_function(this);\n",
       "\n",
       "    this.ondownload = ondownload;\n",
       "};\n",
       "\n",
       "mpl.figure.prototype._init_header = function () {\n",
       "    var titlebar = document.createElement('div');\n",
       "    titlebar.classList =\n",
       "        'ui-dialog-titlebar ui-widget-header ui-corner-all ui-helper-clearfix';\n",
       "    var titletext = document.createElement('div');\n",
       "    titletext.classList = 'ui-dialog-title';\n",
       "    titletext.setAttribute(\n",
       "        'style',\n",
       "        'width: 100%; text-align: center; padding: 3px;'\n",
       "    );\n",
       "    titlebar.appendChild(titletext);\n",
       "    this.root.appendChild(titlebar);\n",
       "    this.header = titletext;\n",
       "};\n",
       "\n",
       "mpl.figure.prototype._canvas_extra_style = function (_canvas_div) {};\n",
       "\n",
       "mpl.figure.prototype._root_extra_style = function (_canvas_div) {};\n",
       "\n",
       "mpl.figure.prototype._init_canvas = function () {\n",
       "    var fig = this;\n",
       "\n",
       "    var canvas_div = (this.canvas_div = document.createElement('div'));\n",
       "    canvas_div.setAttribute(\n",
       "        'style',\n",
       "        'border: 1px solid #ddd;' +\n",
       "            'box-sizing: content-box;' +\n",
       "            'clear: both;' +\n",
       "            'min-height: 1px;' +\n",
       "            'min-width: 1px;' +\n",
       "            'outline: 0;' +\n",
       "            'overflow: hidden;' +\n",
       "            'position: relative;' +\n",
       "            'resize: both;'\n",
       "    );\n",
       "\n",
       "    function on_keyboard_event_closure(name) {\n",
       "        return function (event) {\n",
       "            return fig.key_event(event, name);\n",
       "        };\n",
       "    }\n",
       "\n",
       "    canvas_div.addEventListener(\n",
       "        'keydown',\n",
       "        on_keyboard_event_closure('key_press')\n",
       "    );\n",
       "    canvas_div.addEventListener(\n",
       "        'keyup',\n",
       "        on_keyboard_event_closure('key_release')\n",
       "    );\n",
       "\n",
       "    this._canvas_extra_style(canvas_div);\n",
       "    this.root.appendChild(canvas_div);\n",
       "\n",
       "    var canvas = (this.canvas = document.createElement('canvas'));\n",
       "    canvas.classList.add('mpl-canvas');\n",
       "    canvas.setAttribute('style', 'box-sizing: content-box;');\n",
       "\n",
       "    this.context = canvas.getContext('2d');\n",
       "\n",
       "    var backingStore =\n",
       "        this.context.backingStorePixelRatio ||\n",
       "        this.context.webkitBackingStorePixelRatio ||\n",
       "        this.context.mozBackingStorePixelRatio ||\n",
       "        this.context.msBackingStorePixelRatio ||\n",
       "        this.context.oBackingStorePixelRatio ||\n",
       "        this.context.backingStorePixelRatio ||\n",
       "        1;\n",
       "\n",
       "    this.ratio = (window.devicePixelRatio || 1) / backingStore;\n",
       "\n",
       "    var rubberband_canvas = (this.rubberband_canvas = document.createElement(\n",
       "        'canvas'\n",
       "    ));\n",
       "    rubberband_canvas.setAttribute(\n",
       "        'style',\n",
       "        'box-sizing: content-box; position: absolute; left: 0; top: 0; z-index: 1;'\n",
       "    );\n",
       "\n",
       "    // Apply a ponyfill if ResizeObserver is not implemented by browser.\n",
       "    if (this.ResizeObserver === undefined) {\n",
       "        if (window.ResizeObserver !== undefined) {\n",
       "            this.ResizeObserver = window.ResizeObserver;\n",
       "        } else {\n",
       "            var obs = _JSXTOOLS_RESIZE_OBSERVER({});\n",
       "            this.ResizeObserver = obs.ResizeObserver;\n",
       "        }\n",
       "    }\n",
       "\n",
       "    this.resizeObserverInstance = new this.ResizeObserver(function (entries) {\n",
       "        var nentries = entries.length;\n",
       "        for (var i = 0; i < nentries; i++) {\n",
       "            var entry = entries[i];\n",
       "            var width, height;\n",
       "            if (entry.contentBoxSize) {\n",
       "                if (entry.contentBoxSize instanceof Array) {\n",
       "                    // Chrome 84 implements new version of spec.\n",
       "                    width = entry.contentBoxSize[0].inlineSize;\n",
       "                    height = entry.contentBoxSize[0].blockSize;\n",
       "                } else {\n",
       "                    // Firefox implements old version of spec.\n",
       "                    width = entry.contentBoxSize.inlineSize;\n",
       "                    height = entry.contentBoxSize.blockSize;\n",
       "                }\n",
       "            } else {\n",
       "                // Chrome <84 implements even older version of spec.\n",
       "                width = entry.contentRect.width;\n",
       "                height = entry.contentRect.height;\n",
       "            }\n",
       "\n",
       "            // Keep the size of the canvas and rubber band canvas in sync with\n",
       "            // the canvas container.\n",
       "            if (entry.devicePixelContentBoxSize) {\n",
       "                // Chrome 84 implements new version of spec.\n",
       "                canvas.setAttribute(\n",
       "                    'width',\n",
       "                    entry.devicePixelContentBoxSize[0].inlineSize\n",
       "                );\n",
       "                canvas.setAttribute(\n",
       "                    'height',\n",
       "                    entry.devicePixelContentBoxSize[0].blockSize\n",
       "                );\n",
       "            } else {\n",
       "                canvas.setAttribute('width', width * fig.ratio);\n",
       "                canvas.setAttribute('height', height * fig.ratio);\n",
       "            }\n",
       "            canvas.setAttribute(\n",
       "                'style',\n",
       "                'width: ' + width + 'px; height: ' + height + 'px;'\n",
       "            );\n",
       "\n",
       "            rubberband_canvas.setAttribute('width', width);\n",
       "            rubberband_canvas.setAttribute('height', height);\n",
       "\n",
       "            // And update the size in Python. We ignore the initial 0/0 size\n",
       "            // that occurs as the element is placed into the DOM, which should\n",
       "            // otherwise not happen due to the minimum size styling.\n",
       "            if (fig.ws.readyState == 1 && width != 0 && height != 0) {\n",
       "                fig.request_resize(width, height);\n",
       "            }\n",
       "        }\n",
       "    });\n",
       "    this.resizeObserverInstance.observe(canvas_div);\n",
       "\n",
       "    function on_mouse_event_closure(name) {\n",
       "        return function (event) {\n",
       "            return fig.mouse_event(event, name);\n",
       "        };\n",
       "    }\n",
       "\n",
       "    rubberband_canvas.addEventListener(\n",
       "        'mousedown',\n",
       "        on_mouse_event_closure('button_press')\n",
       "    );\n",
       "    rubberband_canvas.addEventListener(\n",
       "        'mouseup',\n",
       "        on_mouse_event_closure('button_release')\n",
       "    );\n",
       "    rubberband_canvas.addEventListener(\n",
       "        'dblclick',\n",
       "        on_mouse_event_closure('dblclick')\n",
       "    );\n",
       "    // Throttle sequential mouse events to 1 every 20ms.\n",
       "    rubberband_canvas.addEventListener(\n",
       "        'mousemove',\n",
       "        on_mouse_event_closure('motion_notify')\n",
       "    );\n",
       "\n",
       "    rubberband_canvas.addEventListener(\n",
       "        'mouseenter',\n",
       "        on_mouse_event_closure('figure_enter')\n",
       "    );\n",
       "    rubberband_canvas.addEventListener(\n",
       "        'mouseleave',\n",
       "        on_mouse_event_closure('figure_leave')\n",
       "    );\n",
       "\n",
       "    canvas_div.addEventListener('wheel', function (event) {\n",
       "        if (event.deltaY < 0) {\n",
       "            event.step = 1;\n",
       "        } else {\n",
       "            event.step = -1;\n",
       "        }\n",
       "        on_mouse_event_closure('scroll')(event);\n",
       "    });\n",
       "\n",
       "    canvas_div.appendChild(canvas);\n",
       "    canvas_div.appendChild(rubberband_canvas);\n",
       "\n",
       "    this.rubberband_context = rubberband_canvas.getContext('2d');\n",
       "    this.rubberband_context.strokeStyle = '#000000';\n",
       "\n",
       "    this._resize_canvas = function (width, height, forward) {\n",
       "        if (forward) {\n",
       "            canvas_div.style.width = width + 'px';\n",
       "            canvas_div.style.height = height + 'px';\n",
       "        }\n",
       "    };\n",
       "\n",
       "    // Disable right mouse context menu.\n",
       "    this.rubberband_canvas.addEventListener('contextmenu', function (_e) {\n",
       "        event.preventDefault();\n",
       "        return false;\n",
       "    });\n",
       "\n",
       "    function set_focus() {\n",
       "        canvas.focus();\n",
       "        canvas_div.focus();\n",
       "    }\n",
       "\n",
       "    window.setTimeout(set_focus, 100);\n",
       "};\n",
       "\n",
       "mpl.figure.prototype._init_toolbar = function () {\n",
       "    var fig = this;\n",
       "\n",
       "    var toolbar = document.createElement('div');\n",
       "    toolbar.classList = 'mpl-toolbar';\n",
       "    this.root.appendChild(toolbar);\n",
       "\n",
       "    function on_click_closure(name) {\n",
       "        return function (_event) {\n",
       "            return fig.toolbar_button_onclick(name);\n",
       "        };\n",
       "    }\n",
       "\n",
       "    function on_mouseover_closure(tooltip) {\n",
       "        return function (event) {\n",
       "            if (!event.currentTarget.disabled) {\n",
       "                return fig.toolbar_button_onmouseover(tooltip);\n",
       "            }\n",
       "        };\n",
       "    }\n",
       "\n",
       "    fig.buttons = {};\n",
       "    var buttonGroup = document.createElement('div');\n",
       "    buttonGroup.classList = 'mpl-button-group';\n",
       "    for (var toolbar_ind in mpl.toolbar_items) {\n",
       "        var name = mpl.toolbar_items[toolbar_ind][0];\n",
       "        var tooltip = mpl.toolbar_items[toolbar_ind][1];\n",
       "        var image = mpl.toolbar_items[toolbar_ind][2];\n",
       "        var method_name = mpl.toolbar_items[toolbar_ind][3];\n",
       "\n",
       "        if (!name) {\n",
       "            /* Instead of a spacer, we start a new button group. */\n",
       "            if (buttonGroup.hasChildNodes()) {\n",
       "                toolbar.appendChild(buttonGroup);\n",
       "            }\n",
       "            buttonGroup = document.createElement('div');\n",
       "            buttonGroup.classList = 'mpl-button-group';\n",
       "            continue;\n",
       "        }\n",
       "\n",
       "        var button = (fig.buttons[name] = document.createElement('button'));\n",
       "        button.classList = 'mpl-widget';\n",
       "        button.setAttribute('role', 'button');\n",
       "        button.setAttribute('aria-disabled', 'false');\n",
       "        button.addEventListener('click', on_click_closure(method_name));\n",
       "        button.addEventListener('mouseover', on_mouseover_closure(tooltip));\n",
       "\n",
       "        var icon_img = document.createElement('img');\n",
       "        icon_img.src = '_images/' + image + '.png';\n",
       "        icon_img.srcset = '_images/' + image + '_large.png 2x';\n",
       "        icon_img.alt = tooltip;\n",
       "        button.appendChild(icon_img);\n",
       "\n",
       "        buttonGroup.appendChild(button);\n",
       "    }\n",
       "\n",
       "    if (buttonGroup.hasChildNodes()) {\n",
       "        toolbar.appendChild(buttonGroup);\n",
       "    }\n",
       "\n",
       "    var fmt_picker = document.createElement('select');\n",
       "    fmt_picker.classList = 'mpl-widget';\n",
       "    toolbar.appendChild(fmt_picker);\n",
       "    this.format_dropdown = fmt_picker;\n",
       "\n",
       "    for (var ind in mpl.extensions) {\n",
       "        var fmt = mpl.extensions[ind];\n",
       "        var option = document.createElement('option');\n",
       "        option.selected = fmt === mpl.default_extension;\n",
       "        option.innerHTML = fmt;\n",
       "        fmt_picker.appendChild(option);\n",
       "    }\n",
       "\n",
       "    var status_bar = document.createElement('span');\n",
       "    status_bar.classList = 'mpl-message';\n",
       "    toolbar.appendChild(status_bar);\n",
       "    this.message = status_bar;\n",
       "};\n",
       "\n",
       "mpl.figure.prototype.request_resize = function (x_pixels, y_pixels) {\n",
       "    // Request matplotlib to resize the figure. Matplotlib will then trigger a resize in the client,\n",
       "    // which will in turn request a refresh of the image.\n",
       "    this.send_message('resize', { width: x_pixels, height: y_pixels });\n",
       "};\n",
       "\n",
       "mpl.figure.prototype.send_message = function (type, properties) {\n",
       "    properties['type'] = type;\n",
       "    properties['figure_id'] = this.id;\n",
       "    this.ws.send(JSON.stringify(properties));\n",
       "};\n",
       "\n",
       "mpl.figure.prototype.send_draw_message = function () {\n",
       "    if (!this.waiting) {\n",
       "        this.waiting = true;\n",
       "        this.ws.send(JSON.stringify({ type: 'draw', figure_id: this.id }));\n",
       "    }\n",
       "};\n",
       "\n",
       "mpl.figure.prototype.handle_save = function (fig, _msg) {\n",
       "    var format_dropdown = fig.format_dropdown;\n",
       "    var format = format_dropdown.options[format_dropdown.selectedIndex].value;\n",
       "    fig.ondownload(fig, format);\n",
       "};\n",
       "\n",
       "mpl.figure.prototype.handle_resize = function (fig, msg) {\n",
       "    var size = msg['size'];\n",
       "    if (size[0] !== fig.canvas.width || size[1] !== fig.canvas.height) {\n",
       "        fig._resize_canvas(size[0], size[1], msg['forward']);\n",
       "        fig.send_message('refresh', {});\n",
       "    }\n",
       "};\n",
       "\n",
       "mpl.figure.prototype.handle_rubberband = function (fig, msg) {\n",
       "    var x0 = msg['x0'] / fig.ratio;\n",
       "    var y0 = (fig.canvas.height - msg['y0']) / fig.ratio;\n",
       "    var x1 = msg['x1'] / fig.ratio;\n",
       "    var y1 = (fig.canvas.height - msg['y1']) / fig.ratio;\n",
       "    x0 = Math.floor(x0) + 0.5;\n",
       "    y0 = Math.floor(y0) + 0.5;\n",
       "    x1 = Math.floor(x1) + 0.5;\n",
       "    y1 = Math.floor(y1) + 0.5;\n",
       "    var min_x = Math.min(x0, x1);\n",
       "    var min_y = Math.min(y0, y1);\n",
       "    var width = Math.abs(x1 - x0);\n",
       "    var height = Math.abs(y1 - y0);\n",
       "\n",
       "    fig.rubberband_context.clearRect(\n",
       "        0,\n",
       "        0,\n",
       "        fig.canvas.width / fig.ratio,\n",
       "        fig.canvas.height / fig.ratio\n",
       "    );\n",
       "\n",
       "    fig.rubberband_context.strokeRect(min_x, min_y, width, height);\n",
       "};\n",
       "\n",
       "mpl.figure.prototype.handle_figure_label = function (fig, msg) {\n",
       "    // Updates the figure title.\n",
       "    fig.header.textContent = msg['label'];\n",
       "};\n",
       "\n",
       "mpl.figure.prototype.handle_cursor = function (fig, msg) {\n",
       "    fig.rubberband_canvas.style.cursor = msg['cursor'];\n",
       "};\n",
       "\n",
       "mpl.figure.prototype.handle_message = function (fig, msg) {\n",
       "    fig.message.textContent = msg['message'];\n",
       "};\n",
       "\n",
       "mpl.figure.prototype.handle_draw = function (fig, _msg) {\n",
       "    // Request the server to send over a new figure.\n",
       "    fig.send_draw_message();\n",
       "};\n",
       "\n",
       "mpl.figure.prototype.handle_image_mode = function (fig, msg) {\n",
       "    fig.image_mode = msg['mode'];\n",
       "};\n",
       "\n",
       "mpl.figure.prototype.handle_history_buttons = function (fig, msg) {\n",
       "    for (var key in msg) {\n",
       "        if (!(key in fig.buttons)) {\n",
       "            continue;\n",
       "        }\n",
       "        fig.buttons[key].disabled = !msg[key];\n",
       "        fig.buttons[key].setAttribute('aria-disabled', !msg[key]);\n",
       "    }\n",
       "};\n",
       "\n",
       "mpl.figure.prototype.handle_navigate_mode = function (fig, msg) {\n",
       "    if (msg['mode'] === 'PAN') {\n",
       "        fig.buttons['Pan'].classList.add('active');\n",
       "        fig.buttons['Zoom'].classList.remove('active');\n",
       "    } else if (msg['mode'] === 'ZOOM') {\n",
       "        fig.buttons['Pan'].classList.remove('active');\n",
       "        fig.buttons['Zoom'].classList.add('active');\n",
       "    } else {\n",
       "        fig.buttons['Pan'].classList.remove('active');\n",
       "        fig.buttons['Zoom'].classList.remove('active');\n",
       "    }\n",
       "};\n",
       "\n",
       "mpl.figure.prototype.updated_canvas_event = function () {\n",
       "    // Called whenever the canvas gets updated.\n",
       "    this.send_message('ack', {});\n",
       "};\n",
       "\n",
       "// A function to construct a web socket function for onmessage handling.\n",
       "// Called in the figure constructor.\n",
       "mpl.figure.prototype._make_on_message_function = function (fig) {\n",
       "    return function socket_on_message(evt) {\n",
       "        if (evt.data instanceof Blob) {\n",
       "            var img = evt.data;\n",
       "            if (img.type !== 'image/png') {\n",
       "                /* FIXME: We get \"Resource interpreted as Image but\n",
       "                 * transferred with MIME type text/plain:\" errors on\n",
       "                 * Chrome.  But how to set the MIME type?  It doesn't seem\n",
       "                 * to be part of the websocket stream */\n",
       "                img.type = 'image/png';\n",
       "            }\n",
       "\n",
       "            /* Free the memory for the previous frames */\n",
       "            if (fig.imageObj.src) {\n",
       "                (window.URL || window.webkitURL).revokeObjectURL(\n",
       "                    fig.imageObj.src\n",
       "                );\n",
       "            }\n",
       "\n",
       "            fig.imageObj.src = (window.URL || window.webkitURL).createObjectURL(\n",
       "                img\n",
       "            );\n",
       "            fig.updated_canvas_event();\n",
       "            fig.waiting = false;\n",
       "            return;\n",
       "        } else if (\n",
       "            typeof evt.data === 'string' &&\n",
       "            evt.data.slice(0, 21) === 'data:image/png;base64'\n",
       "        ) {\n",
       "            fig.imageObj.src = evt.data;\n",
       "            fig.updated_canvas_event();\n",
       "            fig.waiting = false;\n",
       "            return;\n",
       "        }\n",
       "\n",
       "        var msg = JSON.parse(evt.data);\n",
       "        var msg_type = msg['type'];\n",
       "\n",
       "        // Call the  \"handle_{type}\" callback, which takes\n",
       "        // the figure and JSON message as its only arguments.\n",
       "        try {\n",
       "            var callback = fig['handle_' + msg_type];\n",
       "        } catch (e) {\n",
       "            console.log(\n",
       "                \"No handler for the '\" + msg_type + \"' message type: \",\n",
       "                msg\n",
       "            );\n",
       "            return;\n",
       "        }\n",
       "\n",
       "        if (callback) {\n",
       "            try {\n",
       "                // console.log(\"Handling '\" + msg_type + \"' message: \", msg);\n",
       "                callback(fig, msg);\n",
       "            } catch (e) {\n",
       "                console.log(\n",
       "                    \"Exception inside the 'handler_\" + msg_type + \"' callback:\",\n",
       "                    e,\n",
       "                    e.stack,\n",
       "                    msg\n",
       "                );\n",
       "            }\n",
       "        }\n",
       "    };\n",
       "};\n",
       "\n",
       "// from https://stackoverflow.com/questions/1114465/getting-mouse-location-in-canvas\n",
       "mpl.findpos = function (e) {\n",
       "    //this section is from http://www.quirksmode.org/js/events_properties.html\n",
       "    var targ;\n",
       "    if (!e) {\n",
       "        e = window.event;\n",
       "    }\n",
       "    if (e.target) {\n",
       "        targ = e.target;\n",
       "    } else if (e.srcElement) {\n",
       "        targ = e.srcElement;\n",
       "    }\n",
       "    if (targ.nodeType === 3) {\n",
       "        // defeat Safari bug\n",
       "        targ = targ.parentNode;\n",
       "    }\n",
       "\n",
       "    // pageX,Y are the mouse positions relative to the document\n",
       "    var boundingRect = targ.getBoundingClientRect();\n",
       "    var x = e.pageX - (boundingRect.left + document.body.scrollLeft);\n",
       "    var y = e.pageY - (boundingRect.top + document.body.scrollTop);\n",
       "\n",
       "    return { x: x, y: y };\n",
       "};\n",
       "\n",
       "/*\n",
       " * return a copy of an object with only non-object keys\n",
       " * we need this to avoid circular references\n",
       " * https://stackoverflow.com/a/24161582/3208463\n",
       " */\n",
       "function simpleKeys(original) {\n",
       "    return Object.keys(original).reduce(function (obj, key) {\n",
       "        if (typeof original[key] !== 'object') {\n",
       "            obj[key] = original[key];\n",
       "        }\n",
       "        return obj;\n",
       "    }, {});\n",
       "}\n",
       "\n",
       "mpl.figure.prototype.mouse_event = function (event, name) {\n",
       "    var canvas_pos = mpl.findpos(event);\n",
       "\n",
       "    if (name === 'button_press') {\n",
       "        this.canvas.focus();\n",
       "        this.canvas_div.focus();\n",
       "    }\n",
       "\n",
       "    var x = canvas_pos.x * this.ratio;\n",
       "    var y = canvas_pos.y * this.ratio;\n",
       "\n",
       "    this.send_message(name, {\n",
       "        x: x,\n",
       "        y: y,\n",
       "        button: event.button,\n",
       "        step: event.step,\n",
       "        guiEvent: simpleKeys(event),\n",
       "    });\n",
       "\n",
       "    /* This prevents the web browser from automatically changing to\n",
       "     * the text insertion cursor when the button is pressed.  We want\n",
       "     * to control all of the cursor setting manually through the\n",
       "     * 'cursor' event from matplotlib */\n",
       "    event.preventDefault();\n",
       "    return false;\n",
       "};\n",
       "\n",
       "mpl.figure.prototype._key_event_extra = function (_event, _name) {\n",
       "    // Handle any extra behaviour associated with a key event\n",
       "};\n",
       "\n",
       "mpl.figure.prototype.key_event = function (event, name) {\n",
       "    // Prevent repeat events\n",
       "    if (name === 'key_press') {\n",
       "        if (event.key === this._key) {\n",
       "            return;\n",
       "        } else {\n",
       "            this._key = event.key;\n",
       "        }\n",
       "    }\n",
       "    if (name === 'key_release') {\n",
       "        this._key = null;\n",
       "    }\n",
       "\n",
       "    var value = '';\n",
       "    if (event.ctrlKey && event.key !== 'Control') {\n",
       "        value += 'ctrl+';\n",
       "    }\n",
       "    else if (event.altKey && event.key !== 'Alt') {\n",
       "        value += 'alt+';\n",
       "    }\n",
       "    else if (event.shiftKey && event.key !== 'Shift') {\n",
       "        value += 'shift+';\n",
       "    }\n",
       "\n",
       "    value += 'k' + event.key;\n",
       "\n",
       "    this._key_event_extra(event, name);\n",
       "\n",
       "    this.send_message(name, { key: value, guiEvent: simpleKeys(event) });\n",
       "    return false;\n",
       "};\n",
       "\n",
       "mpl.figure.prototype.toolbar_button_onclick = function (name) {\n",
       "    if (name === 'download') {\n",
       "        this.handle_save(this, null);\n",
       "    } else {\n",
       "        this.send_message('toolbar_button', { name: name });\n",
       "    }\n",
       "};\n",
       "\n",
       "mpl.figure.prototype.toolbar_button_onmouseover = function (tooltip) {\n",
       "    this.message.textContent = tooltip;\n",
       "};\n",
       "\n",
       "///////////////// REMAINING CONTENT GENERATED BY embed_js.py /////////////////\n",
       "// prettier-ignore\n",
       "var _JSXTOOLS_RESIZE_OBSERVER=function(A){var t,i=new WeakMap,n=new WeakMap,a=new WeakMap,r=new WeakMap,o=new Set;function s(e){if(!(this instanceof s))throw new TypeError(\"Constructor requires 'new' operator\");i.set(this,e)}function h(){throw new TypeError(\"Function is not a constructor\")}function c(e,t,i,n){e=0 in arguments?Number(arguments[0]):0,t=1 in arguments?Number(arguments[1]):0,i=2 in arguments?Number(arguments[2]):0,n=3 in arguments?Number(arguments[3]):0,this.right=(this.x=this.left=e)+(this.width=i),this.bottom=(this.y=this.top=t)+(this.height=n),Object.freeze(this)}function d(){t=requestAnimationFrame(d);var s=new WeakMap,p=new Set;o.forEach((function(t){r.get(t).forEach((function(i){var r=t instanceof window.SVGElement,o=a.get(t),d=r?0:parseFloat(o.paddingTop),f=r?0:parseFloat(o.paddingRight),l=r?0:parseFloat(o.paddingBottom),u=r?0:parseFloat(o.paddingLeft),g=r?0:parseFloat(o.borderTopWidth),m=r?0:parseFloat(o.borderRightWidth),w=r?0:parseFloat(o.borderBottomWidth),b=u+f,F=d+l,v=(r?0:parseFloat(o.borderLeftWidth))+m,W=g+w,y=r?0:t.offsetHeight-W-t.clientHeight,E=r?0:t.offsetWidth-v-t.clientWidth,R=b+v,z=F+W,M=r?t.width:parseFloat(o.width)-R-E,O=r?t.height:parseFloat(o.height)-z-y;if(n.has(t)){var k=n.get(t);if(k[0]===M&&k[1]===O)return}n.set(t,[M,O]);var S=Object.create(h.prototype);S.target=t,S.contentRect=new c(u,d,M,O),s.has(i)||(s.set(i,[]),p.add(i)),s.get(i).push(S)}))})),p.forEach((function(e){i.get(e).call(e,s.get(e),e)}))}return s.prototype.observe=function(i){if(i instanceof window.Element){r.has(i)||(r.set(i,new Set),o.add(i),a.set(i,window.getComputedStyle(i)));var n=r.get(i);n.has(this)||n.add(this),cancelAnimationFrame(t),t=requestAnimationFrame(d)}},s.prototype.unobserve=function(i){if(i instanceof window.Element&&r.has(i)){var n=r.get(i);n.has(this)&&(n.delete(this),n.size||(r.delete(i),o.delete(i))),n.size||r.delete(i),o.size||cancelAnimationFrame(t)}},A.DOMRectReadOnly=c,A.ResizeObserver=s,A.ResizeObserverEntry=h,A}; // eslint-disable-line\n",
       "mpl.toolbar_items = [[\"Home\", \"Reset original view\", \"fa fa-home icon-home\", \"home\"], [\"Back\", \"Back to previous view\", \"fa fa-arrow-left icon-arrow-left\", \"back\"], [\"Forward\", \"Forward to next view\", \"fa fa-arrow-right icon-arrow-right\", \"forward\"], [\"\", \"\", \"\", \"\"], [\"Pan\", \"Left button pans, Right button zooms\\nx/y fixes axis, CTRL fixes aspect\", \"fa fa-arrows icon-move\", \"pan\"], [\"Zoom\", \"Zoom to rectangle\\nx/y fixes axis\", \"fa fa-square-o icon-check-empty\", \"zoom\"], [\"\", \"\", \"\", \"\"], [\"Download\", \"Download plot\", \"fa fa-floppy-o icon-save\", \"download\"]];\n",
       "\n",
       "mpl.extensions = [\"eps\", \"jpeg\", \"pgf\", \"pdf\", \"png\", \"ps\", \"raw\", \"svg\", \"tif\"];\n",
       "\n",
       "mpl.default_extension = \"png\";/* global mpl */\n",
       "\n",
       "var comm_websocket_adapter = function (comm) {\n",
       "    // Create a \"websocket\"-like object which calls the given IPython comm\n",
       "    // object with the appropriate methods. Currently this is a non binary\n",
       "    // socket, so there is still some room for performance tuning.\n",
       "    var ws = {};\n",
       "\n",
       "    ws.binaryType = comm.kernel.ws.binaryType;\n",
       "    ws.readyState = comm.kernel.ws.readyState;\n",
       "    function updateReadyState(_event) {\n",
       "        if (comm.kernel.ws) {\n",
       "            ws.readyState = comm.kernel.ws.readyState;\n",
       "        } else {\n",
       "            ws.readyState = 3; // Closed state.\n",
       "        }\n",
       "    }\n",
       "    comm.kernel.ws.addEventListener('open', updateReadyState);\n",
       "    comm.kernel.ws.addEventListener('close', updateReadyState);\n",
       "    comm.kernel.ws.addEventListener('error', updateReadyState);\n",
       "\n",
       "    ws.close = function () {\n",
       "        comm.close();\n",
       "    };\n",
       "    ws.send = function (m) {\n",
       "        //console.log('sending', m);\n",
       "        comm.send(m);\n",
       "    };\n",
       "    // Register the callback with on_msg.\n",
       "    comm.on_msg(function (msg) {\n",
       "        //console.log('receiving', msg['content']['data'], msg);\n",
       "        var data = msg['content']['data'];\n",
       "        if (data['blob'] !== undefined) {\n",
       "            data = {\n",
       "                data: new Blob(msg['buffers'], { type: data['blob'] }),\n",
       "            };\n",
       "        }\n",
       "        // Pass the mpl event to the overridden (by mpl) onmessage function.\n",
       "        ws.onmessage(data);\n",
       "    });\n",
       "    return ws;\n",
       "};\n",
       "\n",
       "mpl.mpl_figure_comm = function (comm, msg) {\n",
       "    // This is the function which gets called when the mpl process\n",
       "    // starts-up an IPython Comm through the \"matplotlib\" channel.\n",
       "\n",
       "    var id = msg.content.data.id;\n",
       "    // Get hold of the div created by the display call when the Comm\n",
       "    // socket was opened in Python.\n",
       "    var element = document.getElementById(id);\n",
       "    var ws_proxy = comm_websocket_adapter(comm);\n",
       "\n",
       "    function ondownload(figure, _format) {\n",
       "        window.open(figure.canvas.toDataURL());\n",
       "    }\n",
       "\n",
       "    var fig = new mpl.figure(id, ws_proxy, ondownload, element);\n",
       "\n",
       "    // Call onopen now - mpl needs it, as it is assuming we've passed it a real\n",
       "    // web socket which is closed, not our websocket->open comm proxy.\n",
       "    ws_proxy.onopen();\n",
       "\n",
       "    fig.parent_element = element;\n",
       "    fig.cell_info = mpl.find_output_cell(\"<div id='\" + id + \"'></div>\");\n",
       "    if (!fig.cell_info) {\n",
       "        console.error('Failed to find cell for figure', id, fig);\n",
       "        return;\n",
       "    }\n",
       "    fig.cell_info[0].output_area.element.on(\n",
       "        'cleared',\n",
       "        { fig: fig },\n",
       "        fig._remove_fig_handler\n",
       "    );\n",
       "};\n",
       "\n",
       "mpl.figure.prototype.handle_close = function (fig, msg) {\n",
       "    var width = fig.canvas.width / fig.ratio;\n",
       "    fig.cell_info[0].output_area.element.off(\n",
       "        'cleared',\n",
       "        fig._remove_fig_handler\n",
       "    );\n",
       "    fig.resizeObserverInstance.unobserve(fig.canvas_div);\n",
       "\n",
       "    // Update the output cell to use the data from the current canvas.\n",
       "    fig.push_to_output();\n",
       "    var dataURL = fig.canvas.toDataURL();\n",
       "    // Re-enable the keyboard manager in IPython - without this line, in FF,\n",
       "    // the notebook keyboard shortcuts fail.\n",
       "    IPython.keyboard_manager.enable();\n",
       "    fig.parent_element.innerHTML =\n",
       "        '<img src=\"' + dataURL + '\" width=\"' + width + '\">';\n",
       "    fig.close_ws(fig, msg);\n",
       "};\n",
       "\n",
       "mpl.figure.prototype.close_ws = function (fig, msg) {\n",
       "    fig.send_message('closing', msg);\n",
       "    // fig.ws.close()\n",
       "};\n",
       "\n",
       "mpl.figure.prototype.push_to_output = function (_remove_interactive) {\n",
       "    // Turn the data on the canvas into data in the output cell.\n",
       "    var width = this.canvas.width / this.ratio;\n",
       "    var dataURL = this.canvas.toDataURL();\n",
       "    this.cell_info[1]['text/html'] =\n",
       "        '<img src=\"' + dataURL + '\" width=\"' + width + '\">';\n",
       "};\n",
       "\n",
       "mpl.figure.prototype.updated_canvas_event = function () {\n",
       "    // Tell IPython that the notebook contents must change.\n",
       "    IPython.notebook.set_dirty(true);\n",
       "    this.send_message('ack', {});\n",
       "    var fig = this;\n",
       "    // Wait a second, then push the new image to the DOM so\n",
       "    // that it is saved nicely (might be nice to debounce this).\n",
       "    setTimeout(function () {\n",
       "        fig.push_to_output();\n",
       "    }, 1000);\n",
       "};\n",
       "\n",
       "mpl.figure.prototype._init_toolbar = function () {\n",
       "    var fig = this;\n",
       "\n",
       "    var toolbar = document.createElement('div');\n",
       "    toolbar.classList = 'btn-toolbar';\n",
       "    this.root.appendChild(toolbar);\n",
       "\n",
       "    function on_click_closure(name) {\n",
       "        return function (_event) {\n",
       "            return fig.toolbar_button_onclick(name);\n",
       "        };\n",
       "    }\n",
       "\n",
       "    function on_mouseover_closure(tooltip) {\n",
       "        return function (event) {\n",
       "            if (!event.currentTarget.disabled) {\n",
       "                return fig.toolbar_button_onmouseover(tooltip);\n",
       "            }\n",
       "        };\n",
       "    }\n",
       "\n",
       "    fig.buttons = {};\n",
       "    var buttonGroup = document.createElement('div');\n",
       "    buttonGroup.classList = 'btn-group';\n",
       "    var button;\n",
       "    for (var toolbar_ind in mpl.toolbar_items) {\n",
       "        var name = mpl.toolbar_items[toolbar_ind][0];\n",
       "        var tooltip = mpl.toolbar_items[toolbar_ind][1];\n",
       "        var image = mpl.toolbar_items[toolbar_ind][2];\n",
       "        var method_name = mpl.toolbar_items[toolbar_ind][3];\n",
       "\n",
       "        if (!name) {\n",
       "            /* Instead of a spacer, we start a new button group. */\n",
       "            if (buttonGroup.hasChildNodes()) {\n",
       "                toolbar.appendChild(buttonGroup);\n",
       "            }\n",
       "            buttonGroup = document.createElement('div');\n",
       "            buttonGroup.classList = 'btn-group';\n",
       "            continue;\n",
       "        }\n",
       "\n",
       "        button = fig.buttons[name] = document.createElement('button');\n",
       "        button.classList = 'btn btn-default';\n",
       "        button.href = '#';\n",
       "        button.title = name;\n",
       "        button.innerHTML = '<i class=\"fa ' + image + ' fa-lg\"></i>';\n",
       "        button.addEventListener('click', on_click_closure(method_name));\n",
       "        button.addEventListener('mouseover', on_mouseover_closure(tooltip));\n",
       "        buttonGroup.appendChild(button);\n",
       "    }\n",
       "\n",
       "    if (buttonGroup.hasChildNodes()) {\n",
       "        toolbar.appendChild(buttonGroup);\n",
       "    }\n",
       "\n",
       "    // Add the status bar.\n",
       "    var status_bar = document.createElement('span');\n",
       "    status_bar.classList = 'mpl-message pull-right';\n",
       "    toolbar.appendChild(status_bar);\n",
       "    this.message = status_bar;\n",
       "\n",
       "    // Add the close button to the window.\n",
       "    var buttongrp = document.createElement('div');\n",
       "    buttongrp.classList = 'btn-group inline pull-right';\n",
       "    button = document.createElement('button');\n",
       "    button.classList = 'btn btn-mini btn-primary';\n",
       "    button.href = '#';\n",
       "    button.title = 'Stop Interaction';\n",
       "    button.innerHTML = '<i class=\"fa fa-power-off icon-remove icon-large\"></i>';\n",
       "    button.addEventListener('click', function (_evt) {\n",
       "        fig.handle_close(fig, {});\n",
       "    });\n",
       "    button.addEventListener(\n",
       "        'mouseover',\n",
       "        on_mouseover_closure('Stop Interaction')\n",
       "    );\n",
       "    buttongrp.appendChild(button);\n",
       "    var titlebar = this.root.querySelector('.ui-dialog-titlebar');\n",
       "    titlebar.insertBefore(buttongrp, titlebar.firstChild);\n",
       "};\n",
       "\n",
       "mpl.figure.prototype._remove_fig_handler = function (event) {\n",
       "    var fig = event.data.fig;\n",
       "    if (event.target !== this) {\n",
       "        // Ignore bubbled events from children.\n",
       "        return;\n",
       "    }\n",
       "    fig.close_ws(fig, {});\n",
       "};\n",
       "\n",
       "mpl.figure.prototype._root_extra_style = function (el) {\n",
       "    el.style.boxSizing = 'content-box'; // override notebook setting of border-box.\n",
       "};\n",
       "\n",
       "mpl.figure.prototype._canvas_extra_style = function (el) {\n",
       "    // this is important to make the div 'focusable\n",
       "    el.setAttribute('tabindex', 0);\n",
       "    // reach out to IPython and tell the keyboard manager to turn it's self\n",
       "    // off when our div gets focus\n",
       "\n",
       "    // location in version 3\n",
       "    if (IPython.notebook.keyboard_manager) {\n",
       "        IPython.notebook.keyboard_manager.register_events(el);\n",
       "    } else {\n",
       "        // location in version 2\n",
       "        IPython.keyboard_manager.register_events(el);\n",
       "    }\n",
       "};\n",
       "\n",
       "mpl.figure.prototype._key_event_extra = function (event, _name) {\n",
       "    // Check for shift+enter\n",
       "    if (event.shiftKey && event.which === 13) {\n",
       "        this.canvas_div.blur();\n",
       "        // select the cell after this one\n",
       "        var index = IPython.notebook.find_cell_index(this.cell_info[0]);\n",
       "        IPython.notebook.select(index + 1);\n",
       "    }\n",
       "};\n",
       "\n",
       "mpl.figure.prototype.handle_save = function (fig, _msg) {\n",
       "    fig.ondownload(fig, null);\n",
       "};\n",
       "\n",
       "mpl.find_output_cell = function (html_output) {\n",
       "    // Return the cell and output element which can be found *uniquely* in the notebook.\n",
       "    // Note - this is a bit hacky, but it is done because the \"notebook_saving.Notebook\"\n",
       "    // IPython event is triggered only after the cells have been serialised, which for\n",
       "    // our purposes (turning an active figure into a static one), is too late.\n",
       "    var cells = IPython.notebook.get_cells();\n",
       "    var ncells = cells.length;\n",
       "    for (var i = 0; i < ncells; i++) {\n",
       "        var cell = cells[i];\n",
       "        if (cell.cell_type === 'code') {\n",
       "            for (var j = 0; j < cell.output_area.outputs.length; j++) {\n",
       "                var data = cell.output_area.outputs[j];\n",
       "                if (data.data) {\n",
       "                    // IPython >= 3 moved mimebundle to data attribute of output\n",
       "                    data = data.data;\n",
       "                }\n",
       "                if (data['text/html'] === html_output) {\n",
       "                    return [cell, data, j];\n",
       "                }\n",
       "            }\n",
       "        }\n",
       "    }\n",
       "};\n",
       "\n",
       "// Register the function which deals with the matplotlib target/channel.\n",
       "// The kernel may be null if the page has been refreshed.\n",
       "if (IPython.notebook.kernel !== null) {\n",
       "    IPython.notebook.kernel.comm_manager.register_target(\n",
       "        'matplotlib',\n",
       "        mpl.mpl_figure_comm\n",
       "    );\n",
       "}\n"
      ],
      "text/plain": [
       "<IPython.core.display.Javascript object>"
      ]
     },
     "metadata": {},
     "output_type": "display_data"
    },
    {
     "data": {
      "text/html": [
       "<img src=\"data:image/png;base64,iVBORw0KGgoAAAANSUhEUgAAAZAAAAGQCAYAAACAvzbMAAAAAXNSR0IArs4c6QAAAERlWElmTU0AKgAAAAgAAYdpAAQAAAABAAAAGgAAAAAAA6ABAAMAAAABAAEAAKACAAQAAAABAAABkKADAAQAAAABAAABkAAAAAAbMW/MAABAAElEQVR4AezdB7gtVXU48COSahLTTTHJiyGxYEPU2H0GK2IJTcRCURE7ihU0Kip2BaNYKQEFsYAioNhAEREEezdREtNN7/3+5zf+13PevOntzLnvrO87d86dM7P32mvvvfre+1obCSwSeMYznrF40pOetPilX/ol/w4KD3vYwxZnnHFGozL/93//d3H55ZcvbnnLWy5+7Md+rNE7c3rommuuWfzrv/7rYvfdd58TWmtc1hRYU2BNgcEpsGuU+Bd/8ReLX/zFX4x/B70SBJjqda5zndpyv/rVry522223lRQeGrdly5bFZz7zmcXf/d3fLX76p3+6tr3rB9YUWFNgTQEUoMv/93//9+K//uu/Fv/5n/+5uNa1rrX4wR/8wfTzAz/wA+n/ZZTyzr/8y7+kH7z2//7v/8oeXfzQD/1Qyl/xZTxZPV1hmwDZZZddehVUhcCP//iPNxIgmC7C/cIv/EJVcbP/7WY3u9niU5/61OIOd7jD4trXvvbs8V0juKbAmgLTUoCw+Nu//dvFN77xjcU3v/nNBc/F//zP/yx++Id/OGXwBAcIYfIf//EfC0Lk13/91xe/+Zu/mV49/0//9E+psPAbgfBTP/VTi+tf//oL/LwM8FjC5m/+5m8Wf/Inf5IKLkLl53/+5xc/8RM/UfZa4f1tAuT/e7IKH+p7k1TddddtVRUWx3X15S9/eXG7292u8PdVuqkzdfJXvvKVBWGyhjUF1hRYUwAF/vqv/3pxwQUXpIKDooxP3P72t18cfPDBqYCoohJhgkd++tOfXpx77rkLQmWPPfZY7LPPPouf/dmfrXp1u98IC5+f+Zmf2XZfWX/5l3+ZChT3CZMmyu82rq7Af/u3f1v86I/+6LZCh/pC0v7kT/5kZXFcV4iJ+W4GMDj+7M/+bO3K2gyduW7DmgI9KEA5v/rqqxcf+MAHUsa99957Lw499NDGHh/vf/e7302Fz3Wve92FmPKP/MiPpJbDl770pcXJJ5+8oIDf5z73SWPHXVxSLB/ud64v/PprX/taag0Ja1TJhG0CRNCXxnzrW9+6B6l2fFXDNKjKpPrHf/zHTeG6yrf+5je/+eKKK65Y3PGOd2w8WPJlrP9fU2BNgdWlwCc/+cnFeeedl1oKj3/842sV6XxLuZq+/e1vL37u535uceMb33g7qwBf5eHw4f4noM4+++zFfvvtt7jNbW6TL6rR//i0unzEUr7zne+kQu9Xf/VXC3n4tRLplmZhCfy+//3vXxx77LGNKmr60Mc//vHF5z73ucUTn/jE0lfU/Vu/9VsrGzgvbVjyw9e//vV00Fzveteremz925oCawpsIgqITbzxjW9MXUsPechD0kB4m+axBMQnxCtucIMbNPbMcHOddtppKfN/1KMeNQhPFSuRZCX+ks+M3RZp4UtjDkF4SHjb2962OOigg0qLFB9RZx6x0hdW7Adm4TVJgGwNawqsKbBzUIDVcfzxxy8e8IAHLA477LDWwoPVIdaBJ97whjdsLDxQV/D9iCOOWNzrXvdavOAFL0jjJX2pLr5yoxvdKHXJ42XZDK9tAoQ5hNGTmkPBVVddlWrfAjJl8Md//McLTHazgtiSYJT40hrWFFhTYPNSgPb/yle+MvU6HHfccalXpW1r//RP/zRl1Bh2m8B4vp6b3OQmqQD57Gc/uzjxxBPT9OD8M23+F5smzAg1wk3QHWwTIP65//3vn/4ogNIX/v3f/33xspe9rNIlxnsm8r/qabt1tGKC8mOuYU2BNQU2JwUoiC984QsXW7du7WR1oAoegSe2tTrKKBrWiMxWFlEw/bLnm9wn1IQbpB5r83YChBXC7HnOc56TSsEmBRY9QxJb1X7UUUdV5hXLLICQejczWFD493//99uZfpu5veu2rSmwM1GAy+lFL3rR4sEPfvBizz337NT0P/zDP0yznn7lV36l0/tVL/32b//2Yt99900FHMW+L/CqsJD+6I/+aHsBomDuJmYY5i/43RbkOfPBPehBD0oX0lW9L81VdH9nAEF0wag1rCmwpsDmoQCt/iUvecnikEMOSbOkurQMI+YaGmsnEDjJ1LLWBK4U/L7ApSUrbDsLJArF1N/85jen0XyS9R/+4R/ip9KrYLgUMpbHM5/5zMVee+1V+mz8QBpW5RjHc5vhaoUoK2QNawqsKbA5KCCYzE1/4IEHdop3oIIYsDUYU7jxxUWEKV7+8penrrK+vWBx+LY03rLCLrnkknQjRAtY7nznOy9ucYtbLH75l385DQxbcPLFL35xceWVVy4+//nPL+573/umUq5u1bm6EN97m2HleRntsvdtOyBd+ba3vW329vr7mgJrCqwoBd71rnctbNMk46kL4J/WwImRTgnve9/7UgFCmPSFWgESFchJxvAJDDnBBACt+qY3vWm6+tGiuTaxDFbNn//5ny9IxZ0FpPfZH2sNawqsKbDaFMAPT0vWW4gXt+F70WoeG8lKFnBXLbKO54e8CtQ/73nPWxx55JG93WaNBciQDVCWjAPBmDG2jx8a16HKk9ZM0MZGaUOVuy5nTYE1BaajAOWZ4Hjyk5/cOdXWAmO8jwWzDJD9etJJJy2e//zndxKAgfO2rUzixlRXFohI/pyBpJYUcE2yeIbG8Vd/9VeFxLbOQ/bEr/3ar6WfskFhPzDtrloXM2d6rHFbU2BNgcXinHPOWdz1rnftLDy4riiRZXxiChqLuXCnc2f1cWUtTYDIXrAh2NyA0PjWt761sAWL9DzZUwTDne50p/R7kblpJb0FQIQMK4OQ+I3f+I00ZpTdRFKmhf1l1rCmwJoCq0kBSqQ9A1kgXUAslOt+DgfOiVk/97nPTffqy+7M26ZdSxMgbZCc4llCQIzHrpkEBqnclKhccQSGDyCE7PMvyOa75AOLgwgfm0uuYU2BNQVWkwLnn39+mnXVJe6hxbHzRpEiOjVFtGH//fdP90B86EMf2qn6tQBJyGa5/8UXX5xKYjtmNskiq6K2jiEwfFgjl1566eLDH/7w4p73vGfVa+vf1hRYU2DGFLB+gnfi8MMP74Ql5ZHnZZmuqzzi1oeceeaZ6WFWXfjeTi1AuJPe8Y53pNlkdgvuQsB8h+T/58K63/3uly4iPOWUU1I3mHNPumow+fLX/68psKbANBSgCPImdJ274qlzi39qiwOtLr/88rRtbSlZuJCwbSGr+PwXvvCFxZve9KbF7/zO7ywe+MAHjiI8snSxZYtDZAgp2Q8CaWtYU2BNgdWhAC+Fva66gp0o+myQ2LXeuvfufve7px6SuueKft8pBUicUfKEJzwhjXcUEWaMe+IhpL1tXk4//fR0Pc0Y9azLXFNgTYFhKWC7EWeNWzXeBSwYdN54V+ulS51N37nOda6TxnslAbWFpQkQqa8W00wNYhEyKRwLOYbLqqo9/J8C7rSQRz7ykenWL7K31rCmwJoC86aAXSQof11h7ruOa5tYcFtYWgxEbIBUntKk48N09OMBBxywFE1AQH233XZL+0ggzYlh3GhOLJubb7TtQFo/v6ZAlgJO5LNY2BoqmUfSV4uAVe74VKfd+dhQkHI5N7BbrrPMu4CFh9pPeZwriMvyzLSFpQoQmwtOJUC++tWvptsP2zVzWWakoD1zMcB3J5YJrj/2sY/tbB5HeevrmgLLooCzIT7xiU+k23PIVuKu2ZIcFGeronvf+96lzJMAEVwmbLxvjQSGa6GbtVfKmANoX3butsHJu9aAzRlikXNbHJcqQGgmUwDXkfPeH/e4xy1NeJgoRYJLx+2zzz7p6lbbLa9hTYFVooA5/JGPfCT1JmD4j370o0uFRVG7zAmLdX1iY1VzhSCxkes73/nO1HXkTAtbiC8DLCjuKjzg+8///M+zFyDwZCHhlW3iPEsTIJbyTxUDefe7350y6WWakAZRWf63E774WG2uNvftXQy0NezcFOCOueKKK9LUT5YCC2PIPe0IFTt+c+2yZqSYvvrVr07PDnJMBJfXlMB9Fa7nLvUSQKtw7pFdga1zabPB7dIEiI4QxCZExtQsuK74VDHpZQJ3HWujDH73d3938brXvS412dtoAGXlre+vKTAGBbianPvDIpDFOLZSRtG079Rd7nKXlLlZ9IbRiUdMFSvR5j5brhOCY9NpiL7WRm1tI0CWloWlwTQJGVFjAV/qBz7wgQXmvGzQzqp4jwFmUlxwwQXLRnVd/5oCO1CA1cGddNFFF6Wu4Lvd7W6TMkVWia2CLPh1RLRTU51oOgX0iWHgQUWu6ynwblsHN13bI2+XKkDsYNsl97gpYZxdYqn+sqW/TjGI6iwL7iuTgsayhjUF5kIBWukrXvGKNEvKGRJlrtgp8DWP7njHO6YZjHbFtZvs2PvLmY9dj2AQU5jjprFFfYVPtuU9SxUgXFiOtJXyNwY4wKlP7vZQOF2TpDJuaZhNcpvb3Gbx6U9/eqiq1+WsKdCZAoLZGHRYHbe+9a07lzX0iw6zs29dWCNjHhfNzd51zRjh1vXdoWlWV16EFOqey/6+VAECkQjcZJEa4rvUQCZZn+yJIfBgwtq2pGngzyS1JbzJu4Y1BZZFAeNPvEGcYdlWRxkNwhp5+MMfvnjDG96QpgOXPdvnvhht2TqWunLN/znsvFuHp98JyraW1tIFiHxxPsauHVRGGItiBN+WDY7/tTiqKRistkyYKsW5KV7r53YeChAep556appZ1XXx3JTUkgl2xBFHLE4++eQ0/Xfourl2HPfQBVYpBtLFVbd0AaJTpLhx8wwJGLdzPZYN2tU2hW+PPfZYfPnLX1426uv6d0IKEB72abMyWaB8VcDZPRbj/sEf/MHiu9/97qBoi/l0dbOzklbFm2BnkLYLHmchQOR8czmxRIYA2kJbU2yIevNlCD5aINU2TZkF8p3vfCdf3Pr/NQVGp4BD0FjMti1fNbjuda+bWiJvectb0nN4hsKfm91akC7AfcUKWQWwYWQcitcU31kIEFL65je/+eLzn/98U7wrn7NBoQyvZQJhyApq2yFwJvymWmS5TBqt654XBcTeBH1X+eAzlsihybEJtgcaSvM3hzHXLrBKAoTC2zTZJ2ixtIWEOtfmggLMVmraJ8oxsFJv+TSz4Fl+SOZVBMYNFBkYhE8epAa3dRvly+j7P2FIKBbh16TsMJvFiNawpsDYFLBTgp2qn/rUp45d1ejls6BucYtbpO25xz3u0bs+6fddYyDebbu2ojfCHQrAY7tkjE0mQGjUAsP2uImUOyuzLa6TksdiuNWtbpVuKXzLW94yTe/N0kEHEjKEjY+D7e2sC5iutlIQ8yBoCJA999wz+/qk30lyWVdt/YlZJAlAbqzdd989e3v9fSekgMnNmjXmxdSsLRDwlHhivLNYzaEb3/jG6Y4LXdYdvO1tb0vPqVmVlNO6YeCgONufECRD7HSNx4gRuLYB9Bx7nUobfMqeFTdqmimaLWNUAYLhM/0wdJMAg7/pTW+aDvYyzZzWbl966zey6W8mig+rIwvK1bEW4NGgdNbXv/71wczXbF1NvtPkCMk73OEOTR4vfYYFgn5r2PkoYAxbw/S5z30u3VrC/xQkAsKGg9ZOmQvmB0FCuXLa3dVXX52m3hIwGJ3nZSLW7VNl3RFFznbqmwXwF2f+SAh4ylOe0tkTEPSQVMBDYp1WW5AKTdjPWTh/85vfTBMn2rbtWgkDHnzBAYHxpS99Ke00hKdNtwlqO3yF9m1NRJmgKWuojnrRi16UCiATiwZvYrQtp6z8qvviHiaxQVa36ryqHL9hHgSIVbdr2DkowJ177rnnpmPIzrbGkQBuF8bDymexWARoHjzgAQ9IhU9WKUNVCo892LiuutQz956hVGJxfV1ZLEDrYo4++ujWTRaT5Y2o2guvdaEDv/CSl7wkPeSuaruloioHs0AwbkIjjn6k+XRdxCcGwuXFEpHS2ob5mwSIIBBIE5MOqxxCjDnbRpAVEazsnroID66zvsJDHasUfCujyfp+MwoYn3aMZmnYt+3www/fzvpuVsr2T3FpUT58uHrPO++8xVvf+tZUsSJMIrYm68oRy+YNRpvVJ33Pzj3fs/9vX+M8/7N7r21YeDT6uJTFVSh00nmDdk1brF5u97kKEONDplhb4aH9135eAk0JUfScimk6l112WboFswErntGXUTPBmecEEoHSZuAyyWlv0mfD9KeFfexjH0vL5OvLa2JFbWt6j+Uhg0Xsps8gzdYXR91K6V3D5qSAJJLjjz8+XbfgiGOMXUp7m7HehDJiIsambddZJmIDBAYhY8GteAGFjRJIiJnT2avvfvPxXMRf4p1IU52jgIETlx9FkjekKYQw1bb4jqc5doFrMO5FeVV9hta8Kl0YdJQ/5pXVS8C2WfAc+PSyQASLEVTH0JyGZMoQFDMhBAgEmr2OaAI62iDnJwY6lyuAK8uZG+95z3vSWMwNb3jDJsVVPkMjkXEFPwN1KGDRdAmGDlX/upxxKfDRj350Qfu3JTqGNAZg/PHBCM0DsTlxFGmuFt1Zwd3VUwBn5caHQIl6+P3jU8Vcx2h3vkyeB7ty3+c+99lOOBMCgXuRQAi843rb29528d73vnex7777bivH+/l31e8d/NAH3wrhjCZzAuPjC1/4wuLBD35wJ7Q6WSDS0pxChknTXmj5QeROWFS8JJjMJcTMx6CbDHb+SsyXhpUFOLI+CI5rkmwWZcK9i7Vk0Ag8ifeI1QzN7B3YI36j/WvYPBQIq4NFfMwxx+yQst6npcYkRqVscxNgWMa3D2UMM3NloTuoifJj7FKwukAwSvUoVz3qcB9zhYcP3DDTsfhEFe7qRHd8S/p/MHPMEwSTh3d8Qvi5hiDwnbtHe3gG3I/n4r24+g2gQdRH2cS/4LMMOqQI5f586lOfSl1rXZWY1gsJrci88MIL09gEd5VBMzYw/WhN3DoGvA6pAvGOqr2kdLoJRBv70Ic+lLrgqsrL/ybwKEuGhQOvsHTyz/X53/khVrGvYfNQgDv2mc98ZqrtPeYxj+mkuOSpEUyaGxWDxKgJBIzKuMTQipgVt7NDml7zmtekWYviBMoaAtRnjhEmofT5n2ATR2BdB/Meor6qMtSD4ZunlyRH5GLs8EIbH/wLbkU0KiqXFSNeVceDggbKVw/XpGxR91lqaBEWW1E9U9xTv9hYnwSDxgJER7A6MLYHPvCBkzM3HSGgzk9Hc6ra74bri2VQB1KC+Z1NPmemI2gVmJxS+fhTrVlRzxigHhBazBh1rMuclgISTF71qlctXvziFw/issLAjFvMGFMiNDBrzLEJM8RMt27dmjJQe0hxQ7/gBS8YjbETZCHYzGVzjTAJ62TI3sCrMGgfQlHdPA88GWJATehTho8AOobrcK02YC6Lj+qzEGDu6Ud4osNQArwpXtb+3O9+9+sVt20kQHS0cwGYuawOEntZYFEQbcJaC+aX4FQw3MBJAL7p5mc6kQvK+hPSuOg9g532+IlPfCLtfPWbDGOBfcGGWPw0Fn7rcttRgPB405vetHjpS1+6g1u1TUnGOUZjPmKSGCKhgSG3YYrK8MlmBVGkzO3nJTk1YzMy/APu4c4JQdinXrQxTzFj34NJo00oYlKjr7zyyjYkL3zWJpPivz5tgPLLvR6ADoEnIRfCRN+ODRRhfEaf94HaqLRKLr300nRnzvwiPhUbzM4dFw/wXSciCiYu1uAscibckGBQCIwZLFxV6ubuYRFEXQYoYdA05Y6JSbPg0nLeMx8nk9Mh87Q8bjHEjsE4ZHvyZVkI2WUPrXw56/+XTwGKx+tf//rFy172skbxuyKMMcTQpo39JnHAonLiHut8S8EBZ3e/+91TwWJNwLOe9axWQinKbnvVHp+wGrTVHG6qpBI6GK/3MGFllQEFWNZZXyCsuSBf/vKXL4477ri03iZl4knaSXjjkVnAV9zTjqCFe9rURjnIlln2HY+WRCEG1xcqFxIaaALN97rXvVKNISojvWSQWP1NAxKAISgEfHUgAglaESyeNfgJkwMOOKB2VWzU0eaK6Fxr1ySBcWAAEizcXFsTM93v0Rkmnw8LIt8xfMjecS55bA1h0E0ZyIbriSeemJ62ZvCsYXUpYA6IeXBb5RM6mrTKWDCXMEjMpylTrSubksSlI7W3CM4+++xUGbQeZWrQZgqbqzaXKWwEB0YY8zo/l8vwFusZar+viy++OOWBD33oQ8uq2+E+JdsiacdX10G0Udvw1aZtrCvXWS/4cd/dMtRTyqEwY6b3fe9731QKaswHP/jBxfnnn59q5xYf1WnJmDcwGAS/rXg1OAgSbqC+wMJgEhIetnJQDzyBSXdJ4ucNE5Ggi8FJUPh4RqcYqCY4q4Pr6MADD0xNXYJoSuEBbxYPS2otPFBjtUHM44lPfGIn4UFwYJDGoM+QwPUiJbUMjH/aadftLcrKbXLffKTcmccR39H+ECRZpmput2WqyuYyww/6Av6Gp1ntznprApRXdTfZe0qbtV2bjYe2wrIIH7FeZQ0hPJRfKEBYHoSHjANaD0uDWWvQMcXbEl8n03Z8pMGddtpp6VoMZxoLLCEQ5h4Qg0LdJK9PMFQCg1tA7IN7ShouaS5TKwZZlEPLIhD8biUo09BHXZ5Vvu8GlA7VTrEVDNzCGqm0nmNdTQVM7Pvf//5TVbeuZyQK0E4tgL3JTW7SqgZKDYsdc+zrqiqrmOLFxVwG5h8t/TnPeU6apRVzr+z5Me6bd/iM+RqCJCywLoIjcNySuO6uSZTjtv0S72ev6CQBgVUD16ZM2UJr/FUfaEsdoAVBghYhSPDEtmAhtXVwRx11VNtXS5/fQYDQ5rmtWB4Qf8c73pH6DZ/xjGe0PmPDRKDpY9AaHrD//vunQoCflSUjnTCEhmcwdR8EU4ZYhG3eMXexDoPAOzrNJwZWlB9XQuC0RFjd7GY322ETxngmroSGYDqtjwAVoJeuixHoLIsQxwbtRCe56mtYXQroR1k6J5xwQuNGGO/BKI3p7HxoXEiDB42vJszHGKTImD9WyS8LQonEBwjXvrQxj4cSIGiCR9qsUTwE72hyjLa+5RrnbWjiygrao4VP8EX9qP4mwG1pf70hNpbM1rddDIR/zorNffbZJx1krA4avkPr6xANTZ52o7MB6cpk1OlFWoPnXvnKV6aCyc6ZeRDAtwodwWRJYfKIz2IJNxTh5Hf4sWZYJdkJwuVGEyQc2oLJRnCdddZZ6YLJ30kWTXJ3jQHo5yQ1Vt+qbV8CdxYclwfrkADWR/kx456xwPW52267pVf/bzb4vd/7vcVBBx3UWMsNq2PIOEcZTcUGzSlKXB3oV64ssZA224DUldv0d+MFU8Y0WUHwMe+Nq67zkFJoPluBPyTgQdbUoBPlu4kCYJ7gjzwlbQEt0AZUWTGes1UJ5ftxj3tcI7za4LJNgBjEUnW3Jn49ppXsAmsdqtwpiMY1RGiEdoCB69wmBISoBvIjYiQRtBN8tFDPwBErqTK3o7FwIQDhgrDKgwvi/v7v/35atv+7gDbaiA4eNBjblmSFVJcy8++Y1ASmwbcqgN7WBsGdokEo+MhY03dF4B1CxoJUAkf/2/iy7aaZRWXP4Z5Yn21KnvzkJ9eio+1hdXBRNJ0ztQVXPCDDD+2bjjM7BNvdWjxnSjCHCZAixdNvlLsuAhefOumkk9LY1NDt0Z9vf/vb0/ReWVp1iROet6CTS6srb8L3tKnIGtF32irJab/99htlfG0TIEwc0pN7iOmtUSotAlJcLAMIMkf2VdGzTe4hJEuEhSGWgWHzJ3Z15SiPpkKYsFAIJEyO1tF1koq92G1XPISLj1tsCD8q+sBTWp19kcoYbxM6TvUMLZZlZ1GW3U7Fxrrizd0T5jXBLONvla0S1gfmUbcxnYlPeHRhgn36me+dNtrm2FobPtoraQo3rrlLOBhPVbGXmOOeqdLA87Tyns0kuXLGAkkKb37zm9NlARTyKp5jHMhWRduuMS9tyloj/hfYvyRJInr0ox+dKnRjtTXdC4tWQto77EngmIaSN/E0lEQTI2FCikVYF8IE68o8olEIzG1jJaxFOjIa+jAR5ZHIXFq0ANJd8Ajjs96DttcWCElCSUdxZfFf2kgS3m0GcL5ene3QGwu5sgu78s/N4X9tZ/7beZgLhKuTopF3VbXBFQMliE00igk3nnFVx4Db1DHVs5QqgUobi1YBOnLfGuN9aFdVR9lvEkUw6DbCwFy3AWnTIHFZ3XX38Ri0MZ/qeErMcdq3d5p6BLxnJwvx0bEAzxELwUspWva0wyeLQP97njVOgHThJdoU9KLoMgDwPi6rOiuoCKem93gSdqWh25rD9iTcCyawdQgBBjr/ts6FDAsBwkOBck06A+ENb3hDGozSuUNOLB0jjvPGN74xTSfmbiFUWDht2iIOw81n8nGtoYt9wVgjbYJhQTvCQ849wT33uAelwu6te++996JN3nu0te6qvy3gtED0jDPOSF2Yhx12WC9Foq7OoX/HZM2jKmB16Peu2mZV2U1+o7FTFtsAq5u/ngJVxgjblFf0rPkPr7bKnecJELyLQG4zn4vwGOoeOh988MGpOytc9NyG1l/kcST8uJkoudy/bd1ZxhNXGF5kfLEWxRmH5KFZuqjP+j4K77WT5f3Pw7BJLOlosqK4knSKVFlaoVRYzHZoP61Ox5AR1eaGECLQ+JEx5SEBMaURI/KWxE2nk0hr0DRmo+NpxkxDOGMCOp5bwOIgnZ8fHGVt0AmCW6GtlD237PuBJ22Ki02MY0ww8biy0Jb/lrAeU4saqi2YH7dFmZsUHTFgmqLxtizgdrRmqktQHIMz3ocGFhHoon17D019gr5VjJPCyoIeYh2auusg5rdxLDYWGzGy3I31ADjjsdxfxhJ+XAfay/17WpIpR9G3vo6Cx4LHv/GiKlrUlV/0u77isYolEtdO1mI8DzOkTQuIyobipjLQPMTiyDa0qNAu99RhYSIfelb7NkBf+9rXptlIQzfeIKPh6kTCSrsJLILSb020H88gIvzjoCuDg6CV+ut7Hb0wE8E2A6bpAqQuNO77DjxZHTQkCQ5TMj5Ki9gKqzQGa9/2jPk+twihV7S6Gx2NM2OnqatlLFzFnMRA2goCSqX9vGQJDgXoYi6ZL3Vzpq5OvAJtMVXfy3gHRuv8CwrrlMAFLinpzne+c7qruI0MCRSavBio9kvSMdbFbO08TskNuhAqlFTCD9+0bx9+Q6HjXQmlS5sIDu+FVYe3DQF4HhykIEdi066R3nrOOeekQR+mqkaM6YO+JlnIIyDN759nShovDoK4bQJ9TQlkEtMSdaA4BrOSlkCAivFodx6nfNmsI9aDSRhaEzcUye/AGWWWuSjUwW1lME2lBeXxb/K/yW3LA4xcrGMZYNLZCsTiVZOgi5twKrzl2Bu3eQjhYUwNNZHzdbT5XzwDI2gLxrk2YMBNFK268kN4YPplzL6ujPzveAc3FiECgvlmn6MsosGyAB0pzT5oICYl/mGFOMEewIKgxGsPa8SzrBaWox10ueG1twrURYgQ0sGnqp4v+8374h3mo3jOdvUmiG0k2tFGkre+kTBR/44KCSIbia94IyFQaT2JNr+RuEtKfx/qh0SIbSTpiRtJcD0tMiHURiLcNpIJtpFI/MpqEuGzkWidOzyTuAc2EutiI8kk2+435SWrzDeSXPG0/O1+nOE/yQLSjWQx3CwwMz6T7Ka0b2aBUAESSVbPRsJct/slcZek48B1TpAseuuETuKi20i0907vZl8yFxJffe0cy77T9nviHt8wn/OQeFk2zPtVAHRKNP6NJEa9kQjFzijjtfmx2aQw9ScCdyNZC7eBnkWwC43Y4kHaE3fVmCALivlIoy3SDqJuEpdV0EVTijKaXFkBVtnyI7IcSGumOq3o24kvUkCqDLiq4Mc1kQVuKbv6yr6I3zxnR1aSXGYErX7OIK1QfKjJYrMp2iFwK+1SggfNbG6QTKx07GS1PPdownAfSsMeqt0siKqxXVYPi9vY6APoYh6g1XaabJ9CC96luRsr5nQWzGtzdxUAfbj3tyQxW7wT7VklbQGvZf2iexPwHE+U2K6YEasDPYvg2k9/+tOfZ10DH9qYbisuIn5iCxOrhEcgSbBZDzJ2Z5tMBAmiESLMSeahD3PXfcQrGuz8gIhM6GQB0yAkBFWl+jJNmZ1cX0XlZN9d9nfttfDySU96Ui+zd+h2cJ/4OJNFNtycwAJQvmz+bYBJUh7mKDzgR6ExB9sqjBQ7O1VvTVKuu8BUwiNwowgSlOZcCHGucWn4c5+H0QZX7dBX4rZSxTF3wtH4auoW1X70J1DL3hEfI6gIKYowvsZtVUWrXT0ou6LroerZhpZ9p4npOEy0ifBQjrUB9qHS2VMApuRD85ZWTOBh+DpNkIsgyxOewJWdpDN1MoGnA6S80nQIIbGQutTOKdrXtA4r7q1jKIvhNC1njOesQxA4RN+xs8Ha4C+FMhufITwIu2Babcqa4llj2fiURNIGxPhiAXGb9zwbwsM8qWJIbcutex6T1R/qhAP+M2X9dfi1+R3txEFYJZi8eZC4mbbFSQh47S0DbY+YCF6GX8UHDyMsWDttYlxpHhkCl5koZcg0va+BAkRcZG3qwCBkfUwNhIJ9jAQLpasRCCYbi0iargQDHakDdIZsCQsg3deBpDbBw9IyUJ2AJnMikhWmbk+b+mjRBtScceVytHHd85///Nkw6CRulm7FgtaUJRMwr2y06Yexn8UkLrvssk7VdBWKLFvzpuv7nZBNXjIH8R08juWFAa86aBNh7kMoapt5y9MRrkkuQrT28Tw+7INnGaP6ggcFz+It8X8X2BUCY3aqgcqaaOv3RwD+t2UBJhBWCRxIaJqm+4Ebosu+4pqzfqYIpKIy+1k2Y7oIi+pue48LL/Yja/vuVM9LbbRvliy+qVMxy9po0mJSlA5zqamVXVbe2PdpmtLOMXVjuQ1om3nZRkCaO54fk89UtQEDDffn2Kvpq/AY4zdt4y3wiewyPB3NQ2gEj0d//aAPjdUhBPouKmo7iJoSQgyB+ydr3jd913OIMxdAbJaFjsLEYt8wVgmTkoAoAyl7zvkg/ecK4Zrg0pw7SFKw189cACM2MU3YNub/MvGXQs792hbwCsynKcSYX7ZQxUR5C7iVNzvgm/qJ0KTY4FlcW8Zm9IPf8X506QO7jMWkaSliCVPFMPoQoem7JDgT2KRgDgfY6oE/sgx0pCQFOwzPFS666KLFve9977mitx1eNGiTgoIyBzARjQn9vCpg2xiWc1sgKEMo1L1LoOIDXd0jdeW3+Z2wtOMG/An8nR1CyPSlxS4kUt9CijpDh3E1VAV1it7L3usrHbNlDfk9VqAHAxP/EHSvAjEdfkoZO3MDk5x7jjtuVYCwE1ubA5iMlIuxlLEx2kgDpQxZTNsG8IomgtLcHdO70QZnz1LeuK9o4QSgMb+zg/Hal/+nFsjQjFpQh0unz1Gw4aObayeL6dBmQohYt1KXoy3Nc45WCCYix3+VGCAXom0Vlg0R/8AsVw14B2xf1AYIkCYWBXp4bg5jSiIMpS/ci5TaCDa3aftmfBYP00ddBWqahcUdQDsWkR8CmMZ9t0uWEdRHAGmH+IvcZgFD7bN5I0IxrREN8bTdh1tEbEPabtNBz/LgymJVxBGVXFVloA7lY3xzygaZW1psGf2y9/URTRgjaKIRZ98d6nuMJcqEDQpXDQRdzQlzJPY2qmuDNtfNj3hmWUHzfBssFLbJYAD8WWDLHDuByxyuBH0kgNT1bR7fVIDECtMhsloMRoOyb7CKS6XNgU3MUpoG5mwyG8QEAsuAYMTs5b8z2QxsVpd34Eq4sCQIrbAiBJOdHeKd0FzyxPO/ScjaotVUBdLjXcFLq9TnJkD4xFcNCG179FgpuwwI60OSiAWOd7nLXZaBRq86rfk588wz00Ow6gpiVUQQtuzZmFdVc6bs3THuW+Nmvuf5EaapPfgERXJnh6AHwdoGUgEiu2iotEjlDMGMbOlet1MtqWmtBiZCGFiDQRgSFk21n6LVuCaBrCTCSAquQUaQKJu1kgfpuYQXQVQHtGVCR0ZIdhfiuvfG/J3QlFO+auDMg2UJEMLDZKOxcaedlmypvYpgzhiP1itJOa8CtEbzKgjXVdUzU/2GP9j09KijjiqsktLH3V40pwtf2MQ38Utjua1ATQWIYLfDlizSasp4i2hp8GC8BmQfsJ2xCVqWUsplZIsQLipWii2mh3RjIKS6fWzPrV0WE9pGmbaCXnkLgjDgH4Y7N1UVKFNa7xwECHdenz6vaufYv7FA0HFqMMnQLcYcQTJGIspU7bLo1VlAFCRu1jKwF1OVVwBdzJ25jKdkM9B0372yRB646juCZi4WUxntp7jfxZW1C8R0uAwFZngfMMAMwr5QdrIbi8CgsHW21dIHHnhgmjkUE7lvvWXvI6x4DHN/a7IPkKCzo11ZPwEEC1cK3DCXKjBJTTbus2WDyTM2/cZqI9ckDXJqKKIZS7YuE29qPJvWxy1lKyPb2FRB3fzmBTBX5gDmJqHOu1IF8DUXh04kqqpzzr+hB4W5KaQCxMP2a2Lu9QExhLb76+Trw3ytXk9OStz2E4vDeSUGhbM2nBNS5Hra9sKIX8RVnHdsp1rbmzgYyuZmIPys9vivA6vck22S6x4b/XeTrK3fc3SkGlZA8cG0pgT1qTevZdPMHQ29qhCurKrFheKEZTtKYDp18ZGpaEPA4xdN9/djffB4rOF7xgRh2lSgbhMg3C4GkcV/XUCmE42w7yByAp7t3k1Qg9KKY4Paam4xkTb7aXVpR9N3SGpWm0Ox7OBrGxA4I7wBGcH4svKsYBcHWTYw45sOlmXjWlQ//KeEMneHFG0uzlUGrizKW9GiWFa3WF8RvY0fit8cgtEEvKMT9t1338Zr0OAdbVjl/hsK9zZWyDYBovLHPOYxqRkrk6otGHR1Aba6Mg1SWrmBzF2VHGqUBq/t4ts0zbCujqF/518l3CQOSBeU9SGILxZSZQoSNoThst1Yq+y/xyz6KixtxkNo2UVMNDTzVXVjoQNaPvaxj021d/MvC+9617tKz4eZuh+yeGW/c0XZgHXr1q2tPSHcuGsr5HvUDOu6zhXv6e0ECM35iU98YhpQy3ZMk+/XJDuSbkl2+ewKOt/Rpc94xjPSwKiDp/bbb7/eQqkrPm3fs1CJyczykLlFiGSPqCwqL7KIin6b6p4+tzvnKgJFpyroO3Sb6tx9YmR93cBD49y2PIyUEHHks8xCIM7ELSvbLA+huS/b+sA/nL8jwaXoXPo83vn/MU2KgXLW8L0zSKoU4KDRdgLETUEnKaunnHJKPFN7RXQDienTBUi64447Lo3DWKnNnSbWsWrBXZPIdiCC6e973/tSs77KlYXOBO8ywaTRdz6rBtJKZWJNAYSH8V1kfUT9EjskUdDIVxm4oh//+Mcvzj777G3ndWcX4mXbhsl0nffZcvp81zcnnXRSmljTZwEzZYqLcg2Lbdl0dVbIDgIE8Q477LB0derpp5/eiJbM9jDhG72QeQiCxx9/fHpAkBRgixlvcYtbZJ5Yva8Ew73uda902xKJBWWSfC7uI9ZTdnPIVaE4t2mRVjwG/vqwLtmAcLGYsGsccQy8u5ZJiPBGUITOOOOM1C2ULysUj3B55H+f4n8JNieccEK6aWvfc2zCCqljmlO0aw51cGmW8a7Ar1CAmAgW31gY98pXvrK2EMwHE2oLAu/HHHNMqkXqPMHzOayNaNuOouctzJOpRYBYs1IG4iDLSEXN4mOjx6LAafaZOX7nYpH4MTawsJu6aMTrxAs2gybLA0BAc7W+4Q1v2OE0QnSZMgaV7WfCS9KC1GNn2Ay1G8FclLpsW5f1nRzwqfJOFAoQCHuRL1S66eMe97j0QPeyhkjva7t40JqTJz/5ydu2EJfNJEV2MwGT2OmGVucTJEUwB+2fACnDrwjnOdwzqKdyn9TFPrL0sKr54IMPThfmZu+v4neeBdv8i00ecMABi5NPPjmNTwZDaSNYh2w/q+NVr3pVKtTxkCFT+ikK4ZIfEudVLYuCUOWSLRUg0WCH97z0pS9dcGcxFYs2jWOpNA1m0hqf+9znpmdbc10JNMu6YjJvRuAfPuSQQ1JtqWivLIO/iKZT0kJKsZX2Js6qwGc/+9nBtM6qNmOWPm3cNFJ6ZeHNYZ1PVduqftNmRwc/5SlPSRm1NU5HH310ujHpa17zmnTftzY0qaqr6W8UBgKN1fHwhz88zX6k6A4N5myd62boOudanj6uculd+3kJ1CEvVdUaDNL5LW95S7oFtEA37VkHSl2tWoFOgl1yySWLE088MV0MKFvJ9iOylQTnNpPlYbFjfjEls1hWljUtXAJZX7rOsRBR3GRZoA+lEwv457doWRZOdfVSaBwjPHaiRQTP2zJL2UAvfvGLFxSwZbl56mhY9fuFF16Y7hF1t7vdbdtjxokdGSgcss0+9alPpfQX/xyDkUfFFCwbkDr/RdKEfh9z/yp9zQWZnaeBy856LVOidm1DEAFun1gZftppp6Wvi2WQ2rGQkPSmgREsLAyCx3syrUJYWHhnIV7dvlFt8Jvzsxiz9EITQWwkmIqJsOy1IOjmbIhXv/rVvbfhn6IPjD+Te4q1QZQfrsi2YJxzZckO4mZZJRDT/MAHPpB6HIrwtqDQvnmEq73IPCv70A4NTT0RReVm72FYUvklJKC/tVbcaGMKqqhfHeHKct3ZAQ30dREtWgmQICSN48gjj0z/FQC2nYdOjsVzJjfBcOihhxauXnVeiGD5FAHQwHmKq0FfBgSGiefKDJemDNBK5ywbCDJb31tANncrBMOa4vjdvj5+riyuNgti7du2CmAOc0oce+yxhQxDG9DFODbnjWNeBMyeQmks80ywqLds2VI4/4vowA1+TZLSzpXKzY2v2B5GRuhQQqmo3rJ74cYqYppl72zW+yG08bf4Hm3tJEDiZVemnoFCg20CtBsfe29tNjDoq7ZasbuvCcZSK3J1LZseFsKdeuqpaWZcfqAsG7eoXxyJy+9hD3tY3BrtyvrASPrAE57whNSVxSVUtpaiT/lDvssSJjjEOqqyIQmQrHvHWJF674PJSKohCC6++OJ0rrtnzKOl90Kj5akwZ2JO4CNcvNx+Y7sm6+gGx/XK9O9TCT1Ccfj+3WT3guw/Xb7z4TeV0hD46Ec/mgbNu9Q193dMwCrfbDAj257Y7I2mXyVwpm6vQKl0SOmR1rHMDTAiq41Zv1MIuK7uqyzd4PnMZz5z8cIXvjBllHNVnFgehIfMS1l5dVBGf/dZ2j5c1EC/mRsEhk8IIMKEFZMVRnX1Tvl7BJDbxr+mxHGqukLoh+s96q3NwooHh7haZU5LqWKyQ9SzrDLszlt3MBMrxBYcLDZBdVA2GZfRDhlxgqNz3NNJ/Egsreui1Tb0pBgNxTiU8+xnPzs9/ErwH0OdE/AIPOtZz0pjNXXrKTD/pgpjtNH4ZoFwkeo7wsU84Jqaq/CAO2ZJiVhDOY/qLUBCStcR2eFPBmrVgTR1Zcz9d8HdOuYWQXPrZlgfYg5zYij6U4DUAWOYxVzAzsVOqZwi9qHNGEde2+pDC3SVEqtM+70ZK8sG485Kc9YR66OJ5dFFgCy7nV3rXwuQ7SkXbqzs3d4CJIJN2UKLvl966aUreWZ0UVvK7nEDNMkqkz3ECmHi2z57buAseBk1MojmINykcdqim3tlKmttaAGij+EuM8uu1y94wQsW55133tLoS4ARZFK3re+qinlkx6fxMFUfZOtdxvdo5xzmwDLan69zFAFCi65LQ8UAuATqtPM8wqv0fwyyGHRVuBMyBAjaMecFHecGMojk/NseO9q2DByNHQzOvkx17sEh8RuTUcpQsiaKwvH0pz99UmtEu1gdBBhBZkFeU5fUmDQZsu+GLKuIaQ5Z/iqVhbfleUFvC6SJC0vsA0PazECja7qlgkGpI3zkz8/hYKmivhFItw+SlcfLcGdZQ2Rtip1h226VU9SepvfaJIY0LTP/nHmDebOqnEdujZQTDfMTNP9e1/8pedKJbUtEcBHKBFkbGDIu1KbeZT67FiDV1O+dhVVd/CLdkBHzaeLaqStrzr87DKvN1uKCinLfpTByGREiTd0IU9LBDgRwff7zn794xCMeMcnaHUxUJphgvpTSKS0PtJ3Sz4+J22tK/8vM46pzZLPPEKmsNsl85zvfmVo50ohZPpEN2HYcTSFY2+I09vMEiDm6hu9RIAwGV3CtZLL2TgnhyxXcLMqosGkiBtlW2/keuqvz19YOUjSbuLC0yqCU6cSVZSW/BAMZUHMFvnLurC1Jrr6V9CbWGMCSU49zaexsGwO1bV2EAJzR11oDh2bJ68cEq0D/+VhJLuHBlQDrynSr6ir6zboq2XlOt0RjgW3bBPlwAVeNL2PK8cpf/epX0w9aShXXX22UmyK83IObtNudDerS83cmephXREYkmAwiQGiKtOe8Bm2yWqVu76uqgb/qHUAAoIEFUG3AYiurb6U2X5LsFcZlNOcUZwPH1hIf+chH0q33nb8wlCCRpcfq4MZ51KMetbAmpQ14XyxJKjVBAS9Wr49Ykw+Nvk4gaaMyPEfwEEDOqbF+gYIk/ZQ7bQqriEBwaBaBYFsgSga8zCUCTRs9Y56Z2PCzEO9GN7pRKnDsvzYk7KwCxDiwH+Bm5mFNx4n5EXPBO4MIEIzQJNtzzz23w8OWBI7CjAVF2/24if6xXYXMqrZaHoZnta4t322nTtO51a1uNXvKcL0RIldddVVqKXC3dHFRGozabZM8FgIBbAw1majeZcFJg+bTZynE+gKTvQ+UaZyYNeGi34x36xgoTQTKUIK0Cd4xiWOh4xR1R51FXoYmOK/yMwQnGofWvcptGQL3rCIxSAzE3jdf+cpXdsCNOU273uwg/mEbkLZAK9YZGCYXH1fgKggQMRHnt3C5OcLVmhECgPXExaE9tH0MLtJhQ2M2EWnLGDDtntBloTYNkrM0CB3vcul43wK1oYA2X2alYJ6ElA9geYpd2JZGe2WtsVDGBvSFy5TMvIouY7d32eXHmF0LkB17YhABQuNj5uWBhji0GZ2vY9n/04DFeMqYThV+NOfYKC6YAS03vle9u+zfMBTC40tf+lKKLwZqHNBUafDSb9HEx7PxITRNSP9j/H7HhGWwuV8EykRnglod3DRjuZDg1bQv9V3EJwgTChOabEniRDYK3UwMRx8QXDsjGA8UoTV8jwLGQYyHQQSIYmmQfLShSWIgTdNaV7ljMFDnYHcBLr7szre0ae7A/HkiXcoe6x2avzgIrdv29HZjxcy7MBeDkCXCBShdlwZvAWNs0+53MQA0QSeu0LGFa0wMCtHZZ5+dWoVBS4rCox/96NRtF/fiSpiwHllX+hWNzAXxiM0gSNClqWANmmyWq7FNsVjD9yiQFSCDxEAUK2ffRL/jHe+Y1mLbCe4ME2izAneKleQOx+oC0ivt7eSAHpNT1gyB1HRn4y51dn1HOqi4B0ZCYNK8uwiNsvqVK1jsfAnlKp81tiXR5q1FGbKuMhzcV6csKOsknCS53377bUunhZ+zwVmO0m1ZU1XAaiJo9a9sqlVmwOjCDTlVP1TRdRm/lcXFloHLsutkjRkHPAaDWSD8wtltOQQa7Tq7meGKK65IBUCXNkoxpWlzycgawozmcLxtvi1wI+iAMy2GjDdk6zIg7ZPG5WkcWXwqtnanO91pUqZFSJ6WnGshHsUtlwVCzToKO0pbBHjWWWdVpveymgTZud68w7LMWpzZsuf+PSyzueO5xm98CpirxgPovRI90FWoyR/nftPSumTmRHlzv8rGQcSubjrnZVuFTnAIQAMaanTMHNpP47YKXbqu8zfGEh7aSquR1cVlZcGbLdBvd7vbpfUXJWiMQR/up1e+8pWpAMkLj2x9LEQZYwRIHZgXLChHw3LXWRdFKK9hTYFVpcAoAgQx+MQFEXcGbcW6DwyuC2CW4kXWOvDpcw8EELriDMsEDO6MM85YXH311YsnPelJqTtpTHy47qQzoweaRpyD+1P9n/nMZ1J8xma8Tjq08r7ONYUWBKqtQZoCc19GIiuLEHEo1hpWhwJZprk6WI+DaZYWu/DRDgWYn7RUmlaTSThUvVOXw7ctldXagy4gDTUC5QKs2QwPZYqtLAsIr9e+9rWp1fHQhz501JXHApOEFBfP1q1bCxcPiqPBQ6wIXmMK13e/+92LBz3oQY1Ib3xzR7UVBBIOWDBcmFx1FmWtYf4UyDLN+WM7HYa7CNoWpeB2RYGWRTvHYDcjmPBXXnnl4va3v32n5rHO0Jw/HdBMuU4CZPNYqLcMkDlnTcdDHvKQbfiNhQdFQ6YSFyCro26rENYIQQI/eI4BmHqbHaPFaChLbYGr0jyRdYYGUoDXsKbAKlJgF7vkGsRDgQVx1yTbc2yG1MUimnA/3Pa2t93mZil6puoei0+6bhnDtBhvGQIE8zzllFPSDRNjoVxVO/r8Jj4m24rL03qJpoBh29ARnl0Yd109rIo2zJyl2EdREjOkiFBIJJ2sYb4UYIGsYUcK7ELj4nqyCGoo4J4Zsryh8OpbDtcVC6JrJg1LQ3ozxlkGBIiUwSkB03zLW96yOPTQQ0dfSW3RoJgGxaVLUN5K78MOOyzFtw2zb0JPe5E5K6MJ6Ev7dlEG+oD+tvZF8sCQ7uQ+OK3fXVOgKQXSLCwaNbcKzXAIoFnJLBqqvCFw6lsGpk5TlFbaFQgPQdS8dUa7iYVKeZdW17qavkcgnnzyyelJeW3cN03Lzz4n1iFmIN5RleWUfafou/HFzQbvoFvRc23vHXDAAQtxkCZlXnjhhenml0Os7TAerJ8yZ77whS+0RXv9/AQUME/WsCMFUgGCaUlLlAOfzQja8fFmd0xAa0Dkvm8Gwgty2ylWKmZkCDWjxPef4u7AQKXu5gETCqY1dbBOn7OIrLIeEyxElG3FZTME04UvvOE/FFiTYwv5Zz/72ZXjlrUgoM+dNiRoD9pYmb+GNQVWgQKpAIEoX66tIjDKvkzfJBAM3pKsIqZ1rzpIMTW5++y/hNHttddehYvisv5VtB+CwTahOYZujQUXyphAcFo3Q6nItrVvnfC2VkVK9FDAPcYSs1Awbw2wQlk9TvUTh+mahVeFKwWDkrIZ5k1VO1fxtyHH7iq2vwjnbQLEj4KnfLoCxX2ASS5baY899kh9u2OmXvbBs8m7Frfx1fc5EAsjEjcp8/lnrQ7WTt7F1QTPts8QVGeeeWbqChpzYnBZYfDcpEPXozyuLAv6+io9WfodddRRi2OOOWZx6qmnposa7Ra87777prsGs1Le8573jGqx7b777qkSIcayhnlQwPgaevzOo2XtscjSonAvrE9/+tNpamnXhXKysGi3mAbhwapxWl9Z5lH7JkzzBi0Q/l03S4Ql5mlbjqrTCp2ZQutFH+4RsaP82SpDt9h+TwTV1iQeMRbIlCI8WQpjTr5LksO4KCxtD/Qqarc4hLUnYQWaLBYwsgq4eqcEMTdKXdekjSFxzZ4BMWS5q1LWei+s7/eUBBLzAv/YzgKJRyzaAtZzdAHusEhFtd8TQUKIrBIQHhhgH+Fh0GFuNlusYqBZiY5u3H9jAmagfWO6rjBiiwS5RavaPkQ7tYOg0q6+QHDojwC4szqmFh7qt4WM2NEcklHQIUuXoM/6uvNRIMuvCgUIkrA+TCburLYDJytAlCXXnybVVSApY0rA+FgeguZdgZR20p6tMeoyjrIdQoD0WVvQBF+bQI7J2LX98ssv77Vepkk74hnMTXuGGF/KioSGKH9ZV/NP0gGPwBDCsU87dnYBov1r+B4FsvyqcjdeloNN/2KPoKYuKAyTBpoFZyUIJCvvZje7Wfan2XzH+ATMWU19LA8M6IILLkjdUE1OqPN8uExom3EexhiE0fkY3OxW9QAAQABJREFU0hOf+MQxik/LFDeyFmjMduSRp63b+FG/9Zns+mFsAaJ8Rx/YN87ZIeYKnFk6lC0JG1uSBBS4mEvaxg26NXE39mlbnmZt/ldvW0WyTflzfjbLMOeM51S4ZelRKUAghNnLPrLAijbdNPMkBlx2wNsDiCvLvaJ01qkIUFSP7VzgdvOb37zX4jDMwRoBW280DbxnO4QFYnHZWCAjCpNqqgy0xcNCQfGCsdOC83hpj3Zpn91vu4KxOYYAkR5//vnnL9773vem8Rpjw3YmBF7sG2cMioFZ1CmOiI6OSuYCFQf52te+NvoWM2V0i/lc9vtmvm88ZPnYZm5rk7Zl+VWtAFEgZkB4CLyyJLYk2lEd0LztWWTRV4BOuOc977n40Ic+tC1LK35b5tVhWFwuXFZ9UnVlUBEe9rly7GpbmCIDS0zGeeZjACaJyfVx/fXBi4YuQ6qPABnaArFFzEknnZRaG/vss0/6vUpBYG3Eho5W2juL5eCDD06tEEqXudhUietDy/y76LKzbvxIgGj/GnakQCMB4jWD9v73v39qSgvs2YpCtkoZiHnY3ycrQDwbQuTSSy9NFxqa9MvqHAybawDjM7mr2lPWzrjPchDzkIDQRMDGe9mrzLUxV4Nrp8B+1zNMsrgWfee64n5ZRsAZPtpFi++TMTSkpm08vPnNb14cffTRaVpwWy1WMsXhhx+ebt1ivrziFa9I1+087WlPm1wjHpIuRWNn2fe4r42b7Ad/oG3LwmPhpllHiSDBJ+LDxThF2v2y6RP1Z60P9wrTeOPhsqu0UwFLqaZlzJL2ZJNGjLkMaKsWgjHR6wLNZWV0vR9WR1UbmpbtEC2bA7KuytZ6lJVlkHqfi4IVRPCW0bSsjKb3uUcsHLTaemjguvrud7+brv0Zuuw25XG1sgAdIdsVCCHxiLYMP+qz68Cxxx6bnomO2fdRTKJMV4zs6U9/epod6GjdsZMtsnX73kcw58ta5v9iTpJk9BPFD1B6QijEldAwBowHbkbMs0jQhGVmzFC0ffRN1/GzTNrU1a396BBCs7EFki2YGc0NguHZQ0vGVl6rjW3J8xIrW444AYbLL2wvIMd/jg2C1IQf/3Jfq0PbaN0EgHUeXRgFARLxCIvuxjwGmF9dnGBoMKgoAmJcywbt084+AgQz0aaYJG3axG175JFHpoxeEsqQQMmSKGAbFSvlxUr6uFzb4hbuvWV5DNriG8+bY/qFgsMKJwwwecpaE0avvVVux6iHYCKU8AOCiQDBF3lhplaQA6ehr9x5WQ9DJwECKZOLG4ulgSFjpgSJjgkgaFgrVYLhete7Xhoo5Ju3G6mgYjDUKGeIK9eN9FUDCJNuaynkcbBGJM655trrCrQ6wgx+BtmYkxNjjTU+XfEtes/Oyxh2dmAVPTfFPdabLLM+0FWAGBNHHHHE4vjjj0+TKPrgUPWulfEY06Me9ah0S5Wpst1WSYCwCjByW+gEI3f+Slslr038gwXig6cBSgjBxeVvnusnp25G0kRVH8/1N/TI8ufOAiQayNKwAlhHiScAwT5CQ4exUKoEiOcxUO4fDO6cc85JA/VdgtDKyoOV4LHIDPOMzs0/1/R/Asg6EeXa/rvvoj9ai+30Cc8+WnMT/An7rIBv8k7dMyYqJWEO1gdctU87+wABop/bAC33sY997OK4444bVXjASYKKOSW2os7TTz99EuFNgIS7pg1tpnyWa8qxC/qDhSGrso9iQwh0fd97+I0PBZv3Q5YgGlKuWSar7ubqLUBicBjU9773vVPTzVoP2j6GqDObdgLtEWExaCulWQpdtnHgK+bvd3QsTY0roa+Wpg0EEW1bJlrXEwmDXnGFK61IPMh+S2MBhpjVHIaqh+uKK3JOE0E7tZdi0gW0xYRvA9xK++2332Tp6Rgj5ey+973vQjzEBo9jQxe6jI2T8vUVa0Nck0JnP7+htHzzfoh5g3a8Hj6hdHF/45u/+qu/2sldOgVts3WwPvLzfDABEhXxKWKuCE/a8gVKY+Te0rEIVgU6y7M0c0KIO4JFQxgVuXcMHg3j32TBGEgYsroEi7v4sbP4wcNE1Rab3DkzIk/E7PNtv8Nf9hVf9hADtax+7pV8nKrs2ab3meUsT8xsTkCzgxcNtCu0cdcQopSmJz3pSV2ra/0eSwuOlLanPOUpqWIzlNVehUwIkS5zwFjHF1yBq3J8aOtdyuQJEDt0WqXNW7taC2Vthu/Q8QvzfEuiLIvXcXFZUGpuEiRFPK4Mt6nvo0Wevp2ysNogThN0SI+DmDBhZhwiESRSVk12AaoyRo9J2ZWU5k846UwMl7CILAoDTxnKooH4n1BRJibCivEx6ZoMUu9yy6iXhWAxJYHU5N22tCH4wtqqE65tys4/a5Kx7CxMy07g7HPRvrhmfyv6LqMLTetclEXvjnnv3HPPTTMETciuwAViHNRZMWh50EEHpcHtvu7Rtrga//pAO5/61Kemuyu3LaPt85gIuhQpO2hhvshacqVpo2OAcRWCIsaYd3yygsXz5q46KIPmtnkf7/idQmQ1P8VL+/OMzTN9QTvxH3GNMUH7CULeGjESn2xbx6y7TdlokY8hDW6B5BEyAUlXHRyb9xksNESCwOE5AsjuZYGQIXwIDoQFMdAMKKmaYhBO+CvTEAxeZq0UU9ux8I8alDQVQiE76Ax69XB9+c6VxhISnxgLWDfa7TqG8IjJ6aoONA06Fw3QeD7a63/PZT/Z39BWP8wN9HFfX72x0cQNxkJmgU0tPNCc8MaozS/Wh7lkbI8J6BJCAX3Em8xf3wFmy30UFnWZYliHozr0ofYRFsYvMCYpd9qM7kWCrK7spr/DoSv+TevwnPnFgjKG8CqKnvix/p0LBC/I4zO6BaJCA8zeUAceeGC+/sL/DRCbOGL4At8GSpbZe4nwwexddXTWAmGp+N9A9p4Ook14juCSfkzr54/UaaSqgU9oWMXs/SlAO50PbvVxH3dL4BoCwBVkGT9acbVUrcuJcvLXonK5Cq2yntuWNHA31uzF1TcpgSJhXKBjGYg9PPOZz+wUqysrs819liU8jeFXv/rVqSXU5v22z5rL5hzmrk5MzjzLa6Zty23yPIXlmsTzwJtgPhNa6qbkme9DQ5P+H7pO5WmXpBqKMX40B7cW3mke5Pnw6BYIguhcjJoLiyuoCAwIvkCBJdoFa4VULgPur+yqbQObO0jMxaRyNQAwP2XrBNoEXPgeWS40G4F2k4FFQupPCSYi3PoKD2X46GDtLBpwfbTyEERBG3WhG+Hue1F98ewyriZgneupCV7Gi4lTpuXyX9OMuyR6NKm/yTPch9LJbTVE4TKmh14bYh5pKxdGWBfm0RTaORqol/JDWImvZgW6ea/dhEt4O4YQJlklrEk/DPmMduBH3FoUzDlYIzwXRXNqEgGCuNxBUnS3JMGjPMOx5Yk9jASpDznkkE7ajEHTZeBYwMiXbCW5oL0YwRQWCMZDYHZdQxKC0RU96yZzHwGSnxwmtPLQiQAJ7QQe2cmdf2+q/ykEZUy/DQ7K0E9lZV2SrF3ae++92xQ5+LNoLvZHGeHSZbl3HVNZ5PQrC5NAYoVR1sJVbMwR0nVjLlte1+/qp3jK9Cual9l5b1wSdIQJ7wJBmuc1TfEwpqdoXxU+lG7tkKEpi3SMRcBV9cdvVcJ0sh3CmLjcHZh0gEFqg0bxCYuj6vbXiveGvtJsuHasZTjjjDNSxj50Hfny+KtZHl1iH7SB0PwN8iaTxGTivhsC+GkjQK3uwAFOEWMZop6uZWinidcXQhjGBMqXxw1q769lg74Qv4MLnPoAwaB/uTwBFworJ4SHe2GRltHFM0MATwJcxHWKhEe+Djwm3NBwJHjQhWBpC0MpIW3rzT9P6+fCN7ck9bhODVXCdDIBotHMMtoBLYHV8aY3vSmVrKyOvus0hiCqwWclMdwIEm6wMYBW67hSboc2YPDoTEw7YjtN3ze5ukykovL1Yd7tZsLCCW5wXMZAD1y1M8vw4n6XK+sDUy0CTLbMJVv0/Fj3CEvZjVwdtNUuoM8wWwxbeYLylJsy5YTS4J0xwNiRXab8ovhnXZ1whrsYmKvxShgRCk1A/SEkmzw/xTO/nmz/zwqkeJaNx7HwQI987CPq2lUwlI8TUzPxaBU+waT4PCOzghbQN1hmxfnLX/7y1JXF6piD4AhiuCKU3HoBbkJk69atg2ca2aVVWnNTE1l/0Oz1SdN3sm2K7/qPUGyizcU7+atJDZ8yt46JB0eDzrNtBV2+vrb/a18XV2ZZPdrJz1407mOelL075X1WtHmM7m3AuOL+0kYxx6Zjw1hsypDb4KNMa2pYPdkYZ5syss/iX5iv9jm8y/9cQ2UM0bsYdJG/P1vuMr5zVeLFrEwuvb67YDRpQ/Cdsmd35WNEVIFrk8TAACaHziRYEJ/VIGWPkMEguER0sM6Id8oqifvKtEMvk5u2PzfhEXi6ws9eQ2eddVZKA6vPhwBJAganAdAEwiXUR3BEPXyoJpFYU1egcOStj6KyjAmfwL9qwha93/We9g3tK0Z7wjDbB9qV/b8rvkO9h+GyIJrORfVKOmG5mMdN+jSPqz7N0yX/TJv/MW67PYwRNKZUsEjEO7m28B4MmcKTB307lAWbL7vv/wS8g8jGolMeP/1bJUx37cJMCBaCR5aAVdoqMIBlo5RVRnhYUGiwijcIWgsiz8GHnCda/I9BPOQhD0kP9ZGP7tztPnBNkoLIsuHKq9P00MtADkbcp954F2O1rqZLn0cZBIgMtqaAyYQ1MgXDReOhV2Qb0xSpLP51E6spfYZ6jiLHfWW8oHeVIKEEEjaYaB9aoUcolH3bEcJD+vWYmjVLzYdCzAWZj+/gbWXWdd82DvW+8UiIsETGELaBJx5U58rrFANBYAOWf9JGivasMmgdenPZZZftEKyFiCwrWn2cNS5gbiUp3+ScwUS0foUfVdyiK8hosf5E1pcBXAUhPDDfKkZQVUbRbwQImveBLi4wbQhtVdvGBO2LAP9Q9YSWmnUPmQOYzVwgxgn6xvci3LirCA80ooH3BXWFldm1LHSkUU/lloEnjwsaUOgowjEuCbK5CxD4w5HyLZ2+7+ahyisC/ZJVmoqe6SRA8gUx92gye+21V5ppZfti54uHcJBlJTCX3YDQpLQRnB18abVzBrjaKE+7DPS2wGx21C3LCwOuyhDCpHx0XDCutvWVPc9FaeARZl0AoyAIuoC2aFO0r0sZde9ol/aN4X5AO9p2AMY5JwECL5o7S7kI4G786geunDJPQdG7Vff0KWusKxhT4Y6ps8q71lH2HhrIMjOm0cbc9H3oeVdWf9/7aM8SseiQhTwkEKh1yoj6BhEgWcSZxSwS52Kb0HYpZS5u3bo1+1j6XQc6iOmSJJ9+FYSIs6rFMGgtTcEiJ6fkEZbaq9PLmDDmqtPKfm9aZ9VzFmhyH3YBbekbt9I2bdTWoUG7YrucocsuwhujGaMdXXFn2RYxc/1GmRvK6sjihwZ9rBDZVizjOqs8W+fQ31kjcBAbGZoRD41rvjwKE5e0FN+ivs8/3/R/ylETJWO0hYQatiVZNMitxU938cUXp9uq5zNkaIsW73FxiTEM7X5oSrAmz2Ei3Fmys6T71jF66xFYXywPjFeKpMFaBFMID/XyMZ9//vmp26EO/zye2tNl3YpyCA0DPNrpSpgapNwGaIPJ+UjayLphvAs8K85mjLhK/gigyYrvDLGILsrMX41VGn7US3vlR+8TR8jX0ed/Cls+GM49A+cxt8Qw11k4bceTeBWrqWxO9KFF23cJQnwq6JWnY9vypnxeZpb+JUSEFfpaUKEUNSlnNAFi0lt5vv/++6fpgbQg8RFCRUdlwcR0FgY3DyY19oZw2brbfmdmc8V96EMfStN9y97HWGy05+hf75hgaFLkXgmm2nYCltVddd+gQF/55PbgagMyduo2T8Ss9LUP110wf/VgNCEYCA1JFHy4BIPkCjEyuNmNlMAlYLKgbP57H/EkLgdjSX8w4/mEmwz6bJltvsNd+eHK4z7QhrkIEG4YQWFgTBHGmAvtemwwdikI+T4rqze2HZrLXmrGI8UArcSJxNJ8j/Fa1o653OcWp3jhO333gGtqfWj7aJspYp4YiLhIAGZCSpLyrA2DOwt+txWDfHbB+Tl3HivEynVMLw9W23Pb2VoiJpTJLM8+bxZqs8k+hfAIPJnpb3zjG9PzK9owXCnYkh+y/QJ3bdWn+o2AxPxtcEe7zLfLIk1WKQbioC8ZaWgCD5M4K3wMZOVI2FBmHle0s0eSOBoL99hjj00FXP65aPcQV+0NK4Sy87SnPS09VnaIsvuW4Zx059VYx0S7R7cpXUOUpKL1Mvl2GX9cV5SF7FjKPzfV/8YdyM5NgWljlRDJ3p8Kp671mA+8BBSyLkA5MsYpe03g2s9LoMmDbZ7BBGjoAs/Zyey7hllDwhrBHMIdoHy/6zCajC1OMNy8y6sNHmM+y2R85zvfmZ5OGJOARsw9hNmJAcV9jNXkygfPMUAdFkJmTHyzZRscGDiXR2is2d/LvtPKYuU15knrFw9SHpeSBVv6TL8SJNF+5aHB29/+9lQrtoiSYsHS0HY08Cxho7+NDy4Ewtk9wol/2qT2ewxu40UmEUHjHRrYJUk8bUti5WbHVVl7utxXJ3wBy1KyCLeBPl8moI+0TinWxhU339RzB23M3bzSkKUL3CwUhOccGDN8zM28MksQ6l/rilynnqNZmrX5TnhI5+YWrOqHsjLNJfNLXzaBUQTI2WefnQaNy/K5MRcDXFosRPOMVeMxI1olJoeRNG1Qk0YP8YzBj9AmA5PRlfXEKsm7NDBZDDHfoRiRe8toG5wJQAG4IrdaEY2Yxxi9AWriEaIEvv4Lpl70HtpwZ7IqWTB5rVj7Q4hk33ffxDYeCDp1YJTiJSY0BklZcYCURZ/ca1sS4fGud70rFVjG2Bi01WesEPhQiKxvivT0LP5TfreVO3cx2rDs8gxxClyMDf2I5mV0534k3OcQ90AT/WguZ5WdoJUxhoetkhBBdwKPO5MF2gZYYtpcRIuycgbPwrJeQgNoolWg02jpNOGi1FhliItgNjRXzGtuEJvXWa3O+pCllZ8YtGYMOs9glyk80BEThC/cCYMq8LtJJF6hHRiUYHwdk2J1cPXpu8c85jGpUlBUj0EfzKfo97jHshF3oPETHJ/61KfS/dS0I4Qz+j/60Y9O28RNx1IaGuBLQ8V8xJEspuXuWBZQUCQQoA/FiwtiWWB80GKLwHjg7mStzgFYS6DKusCn0NT4Z6msAuCZ5ibLvSnEmIl51PS9wQUI15TFck0A08CMIG/f+yIQZOMKI5je8Y53pBpW0XNT38OYZI7pKJJeIDcvubWLgMz7I4Nhl2lpU7WFVs+6y+6QnK8bY/S7yUNgej7fzvw7/hdwf8tb3pLu+SVVOy9A8+9EmUGb/O/Z/01qVh4hTJs1UbKLqdBVOi+N/MwzzxxlzATTgcPzEi/wMcccUyuIs20Y6jt6PeMZz1gcfvjhqTWIeSwzFRXt0SbiCtFOeLJcWYnLHvdwgo8x3cT6Nna3JJYtIZJvV7RvblfeAdZeU3zDddW2HYMKEBoZzbDO+sgjiTEZdDJaioC2x/VhLYVByEVG6zN5pwSDjmnIZSELCJOiWdPM/ZYHa1sIj2CO8XtYH/H/Mq/OsyD0CbosGHgytQgCB0cRHHVCIN4nXE8//fR0i37aW1Og/TTtU5qsPjjyyCNTN5x4DEsn2w+skUc84hGL9773vanrqykeTZ/DfDAh1hiriEtwanjrW9+auhLND/MEDUOznhqXqC+02NBq3aeIiFPVWa1RxthXvAq9mgozSgt37TVJckLTMTp2G6rKx3O4qZt4bsx1/LcpLbarN5lwg0GSXbORMJ3O5SWL9DaSLILa95NJm9aTaJcbSbB+I9EMNpJOrX2v6wOJINhIMpA23va2t20kTGsjCdZuV9R55523kQys7e4lGvFG4lrY7p5/ksm9kUysHe4v80bC8Dde+tKXbiTxphQN7dXORHhsQ0t7ksy6bf+XffHOiSeeuKHMLqAf6/pSHfBNhMh2VSQa10bi1tqAaxYSjXwjWdC64fehIdHcNhLXzIbrQQcdtJG4Y4euorS8xGrfSNa9bOs3DyaCtHDclRYy0g/GeMKk07HuexLvrO3XkVDZodjosx1+aHAjcVVvJEy5wZPzeCRRytPxWYYNfoSfdgUa2yBgkJx00kkpg+xT4CWXXLKBgTWFxH2xkQSvN5I4yQZGjmDu1TGhsvK1A2NKLJyNZNv1DUIqOTI0ZT5+KwLPey5A3QZZHgfv67A5Appjyia6tudxT1KyNwj4KjAQX/Oa12wk2mbVY7W/meBlAI/kOIDSMUJYJC63HX4n9OGWbAJaVnTn+wRIosWlZSdxu40kRbVzWU1f1EfJAtUdmBkBkgTSmxYz6nPGECGSpLDPBidzkBAom8tNCGK+z4XGdfhqa5lSE/1TV0bV79uv1NrONmn3j+wY7oowX9u9/f2nxU8+8pGPpBk2ZVlc3396kbqIIsYgkC0LxVqTpJPT2AozVUDeR9YOU415lxAlNfWlfnrPlVkLmNrccLZkyWeIZeuO71LnvKsMdYjXFLmukkG7gzsrylj2lbvHmgxxnaOPPnoHPJm38K8CKczSc9tmf+TLDFdWfizZAVpcxQ7JZW5SbiWBbWNAXCQy4sRKBNu5mWRsdTLX84j+//+5ZfS9+IND0rjVnvrUp6bjp+SVXrete3Gmzote9KJtadVRoHGdd5nGb1Nf4YHO5qQjrecAAvn6q0//m+/iC8YjXjFnwI/0g7mQ5afGSaKo9U6lHmwhoUOSMKA26wrKCI+h88s7sS/PRMreKbuPSMpDQJM8kbopIzSAlI2xICwBQ9h0BZMaA5GuywedZ6I6DAPu256u+FW9R/iJP/Hlw/3UU09dJO6Y7baVMfHEnSQ9FAFfq2D7wQcfXPRz63v6KRiQly3ElI132GGHNd5Flr9aDEfmVjCMxJpMA6d9t+bPN0j/opHxZLwJqlujIsDdZ1xl6xEcf/GLX5wyLkKwaNsKMULZWGUCNlveFN+/nawdEj8wHyhvywT0E8cbAg/9TWk23/X5nMH8Ni7EmgPE7tCit7KREGIQOPnkkwd1zyQDb+Pqq68eBLcpCmGmJ2sd0nhMUX1cV33M5qIyh7jH/ZIIv9Ssj/K4iZIU2I1kfUXq23efi0aMqwi4rsQ9lDUUoBWacWfB4w1veMMGvNpCYg2m44i5Dlxf97rXjeLKgm8iPLahyAWa7PO2kWzy2Kvv0eLiiy/eSLLZNpKFixtJ0kbaH9sqynzhwu0af8oUM8hXeHOJuhoj6LMsSJho6k4bsn5jk8swxtaQZQ9dVrIWa1vsdsi+GCQLK2lsqrkOqV1Lm6PJyehZBWDWygQqs8DQKLTgubQnLA8aOlM3gEVms0iZVyeccEKq/dNWWHNFcMEFF6TW4pAZNmglbVL98LC2I2uCF+FRdI+GaMU7C0sf0Lik98qkGxqMf9o2TRfYUiRRrNIFprYYOeWUU7ZLN66rPxGYqcsOvqy70047Lc04424sy4hT95D9UIdj1e/2lOLK1ZfokgiQWjdoVXldf4t6h7IEAw+WjPYl8cO4NdurRbXcbuaw/hiKVw9iU0rdZTYPDdwllyRbUzhHvbepNTRymfISDStNU8TgioSE3+eGv0mFqXKDlJng0ncd8mOxIXdMEWPCsDAKOyoPBcq0i7HUz0c+8pG9xxZ3jj6wIl57TXrjlW++TOB3bQvGri4uAgxLDO1Zz3pWmo9vs9DHP/7x6XcKEsEtXz/WIhDoXIG2JOF+877FtFx3yuUiUy6BWAZ+j/LKnpnqvlggt3YAISJlVFummg9coWhSNsYDt65X44ibNOKfXcsZ+z3udftkoceQ42OQGIiJyVrIHhg1FEGssNXopmeID1Vv03JotfzztEKaOGGXF6aY9RB+16Y41T0HZws37WvVJElAeZiaALYAte1aYjUxAa8MzLAv0JDEKCgktgbhsx2Sdtbw6AfM2+JDdT34wQ/ui3bh+4QBJolp5oGAISDQlJXlWYoHgQE37bbmIKuM6DP4S1SpGkuJqyvd4SFf59T/Y6jamD8+WTumEiL4BtoSHllaDk0LY1Q8xLqLqQRj2zbAkcJEeLPoh4JBLBCIjbUts0656KKLUk1N4+cEJgOmh4FyAdFm0SIrQDwz5uDtQg+uNlp4U+GhDgJCFhNT2G66GLDMGoLoqKOO6oJG+g7t0IJF25LAiQDmdgpAu6FoaCypS8KEoC4X0VguH1qesjHLvBDBZAjv2Jgy2lp1ZY1RUqqER9X7U/9mHoSSka1bf05hiRDSUwgPbdMn4coakjln6dbne7ie9Qevw5A4DiJAMBMZU2OAAWfnTts/D6HlDoUjpmaSMA19AFfJt5Osk6ww9dyctBJ9RTMrmtx1tIl0aJlWGL+tZWheyfqKVIDSmrckGjQhU2Qmm9CsNZopzZuW6jnbW1jRX+SjHlKAaB8XlqMGuBulaYstbN26ta7pnX7n8isTIm0KxAC4r7KCteh9z81FwMh6lNVXBGMLkaksj2zbKI3SeosUhuxzU38P4RHKN+Ft7hbNtS64DSJAhnQzFDUCQ5KGhhhBiKLnprpHKLA8CI6staFzosMCF5rQXCY13Ai4slTcwLnsKuc9ct9jAFqLYCtzLkxCgZuFG8UgzYN3CC6CRhotgVQHhC+GMBQIHnKrSEl2HkWS3TWaAIEzIUJw9pm0grR1wkNd0Te+LxOMhbq+JUSMB3TRJ0PNkWUIj6C1PhL3oUTNAQgz8ydLW5aSbYuGiv0NIkAQy4AYEywIE2BcdiyEQAi3VVge0W7CLS9AxqZL1N3kanEd+nW1iGSaYbxcQYCWGedgYBgYc97n3QSvqZ9hfcAbY44+G1MxYWVhlF3cZYQPptgkCDwXAVK0gWhZHxMi5swQmnuUM3bMo6wtkWTSpZ/Lyuxyn4KLngRHPtsq5vBQAmSQNN4ujWz7Dq2VhrtMMECvSdwvOiEvPOClw1hjATpyLgJEppTJmrWYAs+mV3EerhSAsRW5qZqW1eY5NETLIUH2Exckjcx26GMD2hsf3HZt2kLIVWVdZfEmQIzNZYMzfNrE1whvjI6QbUObbDuNR3PPGF3mnNNX+mxZQMENYZwXHnAyBtF4KKt+ZQQIrVkqKR/+MgDjZHmQ3GXmuU7JdpqOWuZgDjrBQ6wifxZ9/N7mqj1hhQ2lxdTVP4YAUSZ6aIu4zBSAURK6xlKTCew544nwaQIYcD5g3+S9IZ+hZGFSbce9dqIP5qdPmoKxjU74Q1gATd8d4zn01w5uvKmBAEV/OFTRn5JB2RgCBnNhDYFMXRkmvCyC/DYhde/1/R2xuWu2JL7NKvePzjN4AgzuqufjubGvBB//bFa4da3T4LPPmDLFpqYAk6ENU2mKEy1ZXEfcZqoTBfUBFwumF8ymDF+ZV02THbhNmgqasvqGuC8Fm3VuLhCSPhibqz40J4BrMDlX84TgcWVNhLCtmj/Ki3Z7dy5grvGWlCmaQ+OJlgQvWjUZA7wQFHEKeV8YhOoQN0CGYFBVDdIhJl528FU93/c3A5Q5ql1caHVQJEDq3hn7d/3CRTPUZnZSAK9J3HgG4J577jk2+tvKD8az7cZAX251q1ul55oPVFyjYjBMrpZwu7BKgplGARiCe1mFJH4ruurjqSzCbP2EA1zjY2xQMmjgmLq5o32u+ES00zX61NVcC2HjN64+rjDv+aADgeujXHNNnayOKiGTxXWq79FuFmETht4HrxDO6NOUDvioePIQsCs/cF/tlBZnyxH+5LGB1GwTpOuKjwEcUrrpFho08+zunDFZuuIwxHsYCy12KFy0z1oKk3fsyTFE++vKiN0DKCZNAtV15bX5HWPFANSNllkt2liy7qMpyP4ZYyFvvn5Mntbvg/HDGVNHO4kJkYWE6ddBjElXzE9Z2TGlfOMsnvOdUDE3PUuTDiFUV9fUv+NT+nDINRfZNgRt0C1Ls+wzZd+9Q2APAbsw45lbXDRdAYPi0pgCuE3GrAthTQIDldXRVHhoO2EcWuBcBnabIGzT/kMTi/CyDK/pu12fCybS9f2q92jMU8VB8nigIeZLow6mbOzQ4JuOPULIuG1qreRxqPsf4+aakohh2w4MCM0ojBQKGi0hoo/g0UR41NXpd+VhjupDk6AVfiNY7XfzFF7GIxrOBSLhZChGnW1XWH36u2ufU15YwH1hFw3dkvj2CRAMkIbRFqYUIAbuUAGgfDtpNkxwE5cgaDsRDOSsX3FMppfHveh/k4tWaAIOCWiDoUwtJMeqDwPXnjEmexO6GydcMZgBa4Tm2iZbTqyEF2FIQAtMmRVuXmA4BIb5h15FY4qg6crQqnBXF6bpQ4igl3t4FyvNnCPA8DD4ui6rL7PtoJwTuEOB9nOLgRCsXcvGF4z5vpByFp1BomswTYyLqE0HhFupLzJN3zeA2uBXV65O0W4EbWt1RNnwgZcPGIvZRX1Nrto0RqBbEoNJOqXGF3Rt0u4uz2DAy0y/hHNo2OYfgdJUmaP0UOKGAEKAO9oHPvoaX2jiJmFBES5DgTlES/ZBj7B0QgOPOWZsEHCsIUIOPyOEKZpTjtF8u+EzhLJrHGQFh37pC/pJf/WF7TAh0W3WhpEalLQgg6du8vrdR4fWPdsXYe/DC45w6wMGF40F3rYhocV0BZM+a310LWeo9wg0g27ICR24scxoolyJZdtVxLNDXscYX+ikXAIkOfpzNJ91UzpgFpghZolxws3/mGIRhNurbz+zfLjNWBC00y5MynhrImiK2pG9p80EGUGh7VlPAP5innomhANcgz5+x8d8/E7RUQ6vAiE0JcAJ7vDoYpkZC3BXzhB0zbZdeSGUsvfbfi8clQYQQQJsfcEM02FVwJTERKcAddEwuoIOpW2KdSiL9tZHeMBjyrTWJu2m+WDyY4EMrMsvv3ys4icrl9uR1mqCEyZNtf6xEOQ2Mv8wQgwPAyVICAr45UEKcuwMkP+tyf/KRgOMigJEKesiPNTVV4CE4CDMMF5CICs8su0JQaLf4K5u1yz4jRVgjvtdO4dgmtk66r6Hslv3XPweghGevuNLXYRPlFd2HVWAqFQHIf6WJD5iUhEktPWQ+nnErOy1y+sU0LZTAicaFrcO4SFXnbvKBB0CbDuPVnMBfvEx18vYEgUdMaBVhqzgx2iWfYAZy5oACaB9si4wErTGXINRYjDmZJfja2n4FD5larf5YM73AUyvi6ZMMEbb4EBwNBViIUiiXjjgUVlhi4Z4BoVKPEe7y/hYn/YXvYuulII6wGMDd0JTe9Cgb5+U1avsGEdlzzS5X2iBZF9EfIS39bSOxTQwYcw4C3bMtU+SQT02mFAmUhPQMawVK7ENHq4KcQFtGQqUS0MkcOcCcOIGGQswLWNjqHzysfCsK9dYjvgBgUtLXRaYO8ZrEfPEVIz7iI3oX9aHNNE2TCbmg/lrvGKs+nEIaCtAMHHz2Hu0bHOyj7aNbhgvWoVVQlBqM3Bfm1lZmDplIStohqBBvgx16td8Pe4Fjtrvd0qCz1D9kcdljP+3i4HUVYAh+eh4LhKSXIP5F92ngWPUrJExQZ0GRhnAzwDh/zS5TBIuuTYTrazsovu2B++6w21ReX3voQ0ajQkmhj6nUNghoM/Eb4rnGP1nDHNhgTaKSVOc2zxnvNal7qIBJql/eQVsSY8Jo3+dxkrohOAYo7/Mu7pyMU3PYZjwJRCH7lcMOMa/eggQ9arHbz6UYoxb/7MSxoyP6NPo28DHuDCH4Dl0+9uMub7PthIgUZlBEu4RzAqzpsnRhj70oQ+lKbBhUsY7Y151CgvA5IjJZFCwNMaW5jQJZ5UceeSR2zXRoPDbMoAbhNAcG2TuobOjMp2zMSag5dATzVjJM13jxXgae9wU0co8ahq3snbL+ObuCm02AuraZI5GGzBQCh9mRVgOTcdoS1EfBW6Ehu9wwxsCt3h3rKt6oi71hzDxHZgn6I53oH082wcfZfsYRz7c5CxbCoryp+SNfdrR5N1OAiRbsEHJh+qjcy677LJ0YWJoAK5hemcHdbaMNt/D7MMk+a/9r1NoECR9CLY2ZfZ5VtyHBl408GKQ9im/y7toM4U77Y53vGOqMBAkfNhDxZPK2jw043MKYt5yZFXRFrNxiDJ8hr7flIaYkpibo4UBuphbPiDmiOcISYLF/BxD208rzPxRJz7g4zvcxrI0MtU2+hq4ZB+GI5cW2lsHl7dGvOMT4Ht2XoewiN9d4x08QZ/ggQRI9E/22VX/3luAZAnAJNtrr70W1yQpwI4mBcxEA5gGxFrJEt/zBhdCZzspOiWvLSjPOyS4zhDP8P4yARPab7/9dkAh254dfhz5Bo1qywQBfdoszU18TPzLeeljQXbcDFGH8uD8+Mc/frviCI5lCRCINBk3hAc3sblQBOaE3ywk9d08wSjDQlGHORfzLq7u19WPbsrKX90jrFgaMUeVO3cIOlAcxGBknGoHoaKNPlnwf7ZdTWgW73u3jr7x7KpcB+e+Dn76yEc+kgasdQhm71PkUgkBEQMyiBZENvh94v/43VXZflsmcNuF5VOER37wFT0zxj10nYo29l8SSKdl5TOIxmjbUGU64dIaliwzUDYrahmZWDTgJq4NChlNOayPInrof23AFFn/eTAuY865slji/+yYzc67YH7u+aCbK2ER/6tLG/y/igBvgkOsSGxkKJcWWuAT+th1M8HgKoJO2GeffRbnnntuLZ1CU0FUgy8+/vdhZZQNxuxAr61ohAdMuvPPPz9ta1nxZbiXPb+K953/TpN3Xv3VV1+9g8Y2VJuGpiVXa9HmgxigiT410HqLmH0eDzS+5S1vWTovWPmyDjHCsvLQ0tyjZBD82hxzkGIWn5iPru65eo6Q9Z75qZwQwq4E0aqDtnJlESIsqiEA7fTxZoPBBQgCSYs0gD//+c9vNnpta89FF120uPOd75xOrG03C74sQ9BNWSemgRF/8pOfXGxJ3GYSCoaG0H6HKteKc+43TCIPmCMtf2rAXDCuKhDzw4jKAu3K4IKxIHAZ/naCiADbDKAt4kbcgFx/fUG/sWw2G4wiQBDpXve6V8pUNiPRuK5M1Jvd7GaV44GmNyUzhwz3Ba1wShD74FYJ9w9X1pAwpAAxHj/2sY8t9t5770IUl6VF17mwCDUJG2VjTtwGoyM8wiIobOCINzHdZQjfsZpkHqGnMdOXj81NuA41p0YTIMzjpq6stgNgGUwycAzX1QMf+MC4VXo1kacWIOqbmoEQlPvvv//inHPOWeyxxx6Lq666KhVkpYRp+cNQg121cLz//e8/WYyoTVOr3HTWGqFtkXIgacK4ZJlUldEGly7PYpLLcP91wbXpO+jJEtEuCSObBViK3JB9YTQBAjGuLOmkn/nMZ/riud37NC2+2GWAuEcT11XgtgwBsgwmInvJorZPfOITaXCaEJkbOA4Znk1Ol5wT7tyChEOR64rwEHfgMl42bDYLJEtPtMd0N4sQYSnqr74wqgCBHFcWn7Osl6GAuV7nLx6qrmw5F198ceqmKXMjZJ+N71NbIYTH1EIr2sqVxbVnHy79M8TeaENZH1ZtS7kuc11FG5ZxrWqjEyUJiRvf+MY7oGYesMaLMhx3eHiCG5tZgCAfZRjj7erOwgvmkmSwMgKEyf3Qhz401UxN4iFAiiKzckrAfDBHArENYOhTDhqDFFNZBmjrgx70oDQrS5tlA9nqpA8op69FJT5z4YUXLg499NBZuq5k+hQFvcWSCOHb3OY2O5CQJuy9OVgegdxmzTSK9rmyRHhAumRU6eOhsrqyOHX5TvmQ5t0XRrdAICge8rCHPSxdtWwDuL5AgBSZ833LLXtfyqfAubhHW2bm+SktgqktnjzN1K+vnZvuO/cLDborVGnnTcq0RuW9733v4rDDDkutx7p3xBKmWkMTuBQJED73K6+8Ms1wy8c9aI+Y2BS7DQSOTa7LVF6a4DfUM3gPAd4240zMYU4CpCgLsS2NJhEgkGLe0gA//vGPL7785S+3xXO754cKAG1XaMk/FkXSpA844IDWwiOKNLGmtEKi3mVdMTxChNClRUvx7eI7RjO06wIEj3r13yMf+cjSNRH5sjFu2WRTQl5oGd+UFpZHPtbnWZbw1BZ4U3qg3WYLpOfbTimMFN821r55of/mAEMlInWbnR0pQAIfcsgh6fqQD37wg51cLTSvIYI/dU1Qz1lnnZVaD7J22loe2fIxwSmtkGzdy/quzdxZdkGmMLzvfe9rLUS6ChC5+29+85tTRkZ4tBkvmF+b54eib4wvwkMigoyrfGzDGArrO54fqv6hyqHV9rE4h8Jj7HKMbxag/mg6t/VZ02fHxL/I4u1a36QCBJKk8IMf/OBUgpvkTgVsA/zZcX5Dm/faPGt32VNOOWVxu9vdbnH3u9+9l/DI1jvV4MEA56IFYoRHHHFEylROOOGEVHvO0qTsO1q1ZZLeobkT/A94wAPS7T7aWjB823z5U0K0lWvq0ksvTVeaF7mnMCtZZFO72NrQYmcRIGgipiGOQGFpAnMRIAT8EO4rbb5WMni33y2sCSUGekYgR16+zd5swpj39RZVIxPKLrBD5DDny2d18JdzG8jWKQps5t9p+j8y06ibtLFpmWXP2eqbK2HqnYnL8In7XEpnnnlmmgZ9n/vcp3IQM7Ex/yZChLAUL7Dzwe67777YunVrZ9fXF7/4xXSjwimFCAbE1WeTRJlsRYFxkx4t6s4LCVov62qci3/d6la3WhYKk9er78zruqC0DWVBkXIwJdLf+MY30lMs64QIfgVnOwlzm7JcuODMTWORIrPU3QhNhoc//OHpgGONYNrOOCgDiPsMLTwMevs5ic/AgdtlaAhGqK74PnQdUR7Xh6NO5yZA7nCHOyycpX722WcvXv/616eD2D07y2YtBTQCVXTyDOuVuwcDti37Yx/72N4CmhIxpfDQThOUm0+GX1F6uonLOrEqeu4QjGXKOOWyacIq1IeUtjrrsGpMT9UOyogjKPJAWEjBtwcY5T7cdMadNHIKtfaFEkyYLNUCyTYAwh/+8IfTjsBkbBiX7wxpwCaS87iHAO4KmiuXlV2E73rXuw5qdeRxxPSmsELUYfHmmNur59vW5n90oKUayPrAHk9wlt1CgXBcLuVC/xvEmJF+JzA8SzgCAtLiReeRDAHwslnhlHSTpntNcvyBA7lY4nmAE+YkaBsTN//M3P6Xuq0/HTC3swBmigHH6ZZF7eaC1If52FbRs2Pds4ZFckusK4I3i0S2IsvXGNSGppbubARIEAyzwPysGjYAaaiRskvADMHkMSG+csyL5uo896wGHLiMcW3jmulTP8Eoi2cOGk9ZOwxaC0xZIAQERomZynoLUxm9QvMxDggNA91EFOuh9THF3TPo+7QXA1B3kXZW1oau97WPsGJxWBlvLBZZjNwjBGmRZdK17rHfYzFJ37ZD884EFCJ8pMyVRbPnPWGxLAvML/gZU7wurHfjfbfdduukoCzVhVVERAQWvKZZkpSytVgnJpBJp8FMqqaMAgNilhEaPrQAUlZwfBmpkBifduStqyJa9LmH2WrrMtpYhrd26wsWBE3IZDOZWCNiF3e5y10Wd7vb3RrRhmZO6HA5mbjf+ta30nHiPoGCGdOk2mjt8JpCa1aP3RlshW8siuFgunlwj0K1TIaTx6nJ/wS+eefThv5Nyp7zM8ZdlStLfy5bEWBtGFPwMP76ukVnZ4EUDRDm8Pvf//7UN00jI8kB5shfjRkbtJiHTsKoCB3CxgDmEuEauf71r5+aj02FTxEuQ9yDpzaNObmsuxBMx5iXCTRrrieCA931Beae1dLQIrQhFmF+7UMb/NFW33OjmMxojElzc9Wl515xxRWp4tKmvjbPGpeEJRxlpxmzAKOlLOVjb/CnCIw5Ttrg3+ZZ2ZJB+zbvrfqz+jiU3HxbzEfjMPo9//uY/8PrkksuSXnCQx7ykMHWOs3OAikiIiZEUNBOAzAdGnZobwQHBqVzfDAomtuyhUXgm70GThhJfM/+PsR37e+yeG+IurULA2cV6AtaPauyzOpiidhfTH/K1OLS4dbqQhvv0AR9nDhI24ILd5HflFvkp0arMbVD1i93XVgdWTpjtIRIFuBDkK6i8NAOQpsb2nVnAmOcF4VlnFeEMPFlCA/jn3KEH9o1m9t3KFgJAWIgCqpnAdPpa35ly5v6O8ZgQLl2YZRN8BUXwJQjhtTknT7PcCkRGlw0LA3WRJOMOQIHA2VROqpVbMQKcr7Zqqy8Jriqn0CKOAP8+OcJNRp/CDUMnoU6NKCFDCtCq417jouvSNANjd9Y5RnXlD7WYNOA7Fi4TF2u9vKS5AWIcT4l4C8EByVKhp9xOLQ7dPYChDkIMMPNBiYZxhlMbOj2Yb4yzMYWIAaqbCLCSjabLLk2QhEN0AJ4T0BvS3K6oTIJEkkOQ2iyGBoLgPVql1spwFwKN7jBDdI4SmSmDNEPAvLWlGAm1i3Vuc+ydWK6LMg2NMy+P5fvxp+g7bLdqFPTg3JrrFECxrRqq9pl/MWiVMoTNzKlbmiYvQCRkSWgvhkBgwghEgx0yHaGqcrNF9+HLB8jZi1gxqyFLowihEeeWRKqyiOQCEFWgx0IWA193QAmuLJYHGIPFrOySPq6FLWFJcPKIThkwWEkTUD/E8Rw4/4oyshqUs6cnsE8WaXcy337bE7taoILBUAMS/8b28aGvp0C1Gv38Hve857brCBurLwXZwhcZh1Ej4wBWuNmBowY8xpDiNBEDKih1s5EPyiTSYyh03DyAiCeq7qaVN5rMrHQKJgzxsRKGWJFL7qbbHLztUnqads8fRYDQcoCo3VnXWNV7c/+xtXF5aGdrJW8+yP77Cp9RxNjkCKwswELRH9SJsS0fMawArJ0pcxJ1LjHPe6xzeqVmm4luTkzNMxWgCC+gOqQe1ENTbwhyxtTiDgO1UK1Nm6UsrbRkqWgYryYbVf3WxvhkcfFZKDlc28KlrMk2qbsRplMexq/4DpLzeRTJndWmWDTdpNSphHmiEEQGn1icoSQD3qucuwj6Jq98iKwJocYf9lyV+E7xUB/Uk4oBcbWWCDTUbKIeEfMS2PVvaKF2UPgMUsBotEf/ehH0xXBQwd9hiDaWGWMJUQwXNp7m5MUi9oYVoeYRB8XSx/hkcfLGhBal8nDghMrY5n41GnxxhnrQ7A/a/1xaxFQJh1rRBCSoKBNE1r+F/AnuIawgrQJTVh0tMSmbq88Leb6v9R7gnrIGNNc25rHi1JAETF3uE2Dseef6/s/hYbCbY+5rLuQ68p45SUYA2YZA6GxcAXsTMJD5xpohAhmkmVofTseE7QNTJ+gnjiEyeA8+D6TYEjhgS40urAYlI3BY/SEAMsCTWm+mDKB4iMehL4sCL5qDA7dWSDeiffe+ta3pgkIJr5EBEJDrCc7QfN9oxzMAg4mLovNB3gP7eDDlaFfwvUHH+nqdUIvX98q/G8eWwMR6firgPNQOBpfMrKMzT7zpgofrjE7a7A8smPTWDTGbQ01FszOAsHoEJxWuLMCzTiESDCYvrQweS3Wa7u9CTyuuuqqVLPHPLvCGG1qgot6Y8U6wYAOIShkeXGtYN4haELIEDgYPZqZiNx1+b4IYcECMlEJDc9wWXBnSSEOoQEPgkRAGT40Q8JOvaw5z8PPepksE2jSxlV4hvLiNNKdbXsTfYOfGRtDxyGj3y2yvv3tb79D7O6aJAPOGBxqr7ioL3udlQBBZGs+5MubWDszjMFwaYHK3ZKkyDYBzFb8xMDv47Iaoy1N8K96hl/YQkMaYh2gGxcgpQZzNzHl12P4hAVXVriz8kKmrmwCmp+coCKEaJPiKQRJn5hKXb3L+F2igQSIsQPJy2hbVZ3cS3ib8TY0yE5k6eYzrAhsSUh2PBgTZiNAaGM2ACQ8miw+G5MocyobgwFDuLQwctYErbvOzy62gMnamVaQuCsMiX9XHPLvEQYmncB5U2AxnHvuuakAFqeQWt42W6usLjQy/rnixAq4OsRmMAH0rwrol5U5x/ssNu5pCR070xznTqVYSBUfUjGmbDgfaZ999tnOOjbPI3FhjPT97NiahQAR5DVhtiYHAY3d4GzjV+X7kBo8q8ICN4ypTCiJCchGogV37Y8hcR6yn8RxxHOauvJYB5dffnnK4LnwWB12iK4TwG1wJqxZNtxnDpUioDAcdRH48LXYUX80sZja1D31s+jPTU2I7CygT7mRzIkh+6/MdcViNrdZxWPD0gUI084ksU17V2Y1NpHmUn5o87SYtq6SbBuY1LTwIvMWM6O98Kl2Sbs0SWiaoExAZXGZ8jurg1XltLy6tolVxE7QFJtwu9D6uPUw86EC3oLu3FX6lAXCEskyGjQVP3DgmUy6psJvStq2qYsriwAeYneBNvUu41kKG+tSW/G6odySy3ZdBS2XGmigiYh5rC2P6I7qK4ZMeGDQhAnG0gVkE0l3xZSygDkSHphjHYPNvuc7XOAENzjOTXjAL468rWsbl8Mpp5ySxiIOOuigbcJDOzF21psYiGB4Xwh6hULALcYCzILfLMQ77LDD0gSA008/vfHZ8tly5vKdNcUlyBrZ7MC7ok/NCWOw65zN0sm4K0pIkKRBsEyZLr0UCwQRuUhoebQpxF1DOwqgYWj6GEwXGgrcSrGUpqovpAIKFLdxz8DBJ3AIRtiuNeM+jVaEBysiLImiGk3Aiy66KI098CtX0QFj4Aq0z1UX2kf94hwgu2cSl0fVym1ZPeedd95KWyOsQX0iK2szx0OyLsmsqzL6v8sV3cQlCeKAGONbkgSZoWJzUXbVdXLObcJYJEiTE4jsM/mqGrbZf8Ooafmh6WN+ba0SwXQL5GT/SGDgHqlimkFTg1Vd6gSCvvCYq/DA6FldVcKD1XHyySenVseBBx5YSweTVLYURagPiHPkXWH6gDVYBtwgq26NEBqy+ygxxtNmBO4rfRvzQr/q7z6AVrIACYosEFQyAqcUHuqfVIBoJC2XC6DPmoIs4dbfv7cAERMnjP9fe3f6NE1VHo5/QniVV3mZSpUVfhVjyeaGChEQZBNBQPZ9F0ERAUFEkFU2lbCvsjzsOyiyKAIKCC4B1CjlVlohmkpSyR9x/+Zz/J6Hfvrpfbp7uu+Zq6rvmbun+yzXOefaz3VMsMhMaAZFi9PE5swUwADysvYqQ1mRafhfXbHOoY6BdpLW9KvIoeiZF198cXL44YeHzL9V+6NMfru0KbDq+xGvaSEKg+CnKgLvOMFxt912mzz00EPBJFT0/BB/I0WLTHJOymoEmmLS52G90PRnAcJeOpqL38xc6nK/R16be2Eg1H1puW3gkuRr0XaY5yG/7fsYQiTsUTNJEn4MwOVevERskKRJLlJpxGcis4jPa6syI9OIUlXbfWirPCYSwRm0DgsuD/gyxMs7pa2K9pUuhxaH2CMWdUEbs/wxpHPjEzW8onIRqMMOO2zy1FNPhd3eRc8O8Tf7i2ZhwkPskzYZO1d6fI3tLEyEj0MqoQjmnWteAnmnPhDmKk5yi8FGl1n2E0SELT9nwwBJBfikTjNdkWQxBNKNsFVjNebd0JyzTCOIu4imPHBeAuEmHUeffJ4ZAiOSQNLi5cCEK/hz0UI4Lc3xAw88MDDY5PtF37UTQ06bsLzDXq7uIrNbsmztuu+++8JY1tnfkixjnt9pcYSfpF1/nu2ZtW7rCPNIm5SyfF5V62LWFFJOCAeiukRTsiKktdiqZc76XCcMxKKklloAiFFbCedm7ezy/XUxIPkaIpvUCIUcGjtEMT351317mP9ZUCJ8zLsi5yzGKQHjHnvssdZGneyRUFO5sEQKYvOHwO8AAEAASURBVLAWKckvqaVgIOrjY3nuuedCSvdjjz02JLQrqjvWQ3OxNvIWP82IM72qtkeyvfvuuwOBERgxNsBE9HWMDDCN67yxM0YYQZMD8mjLxpWpitYhhQ6/ZbQ2pNvQx/+tMRCmDovJJBBRwkHWBEl9dHpZxySYO0hDSXU44sUkZ85iWqAa5xG4+PwQPplHaR3mHCm2iOjSJjDJ/ffff73naAWXXHJJMOUdeeSRgcFW7R+NBt74Uz7zmc+ExJNF79r/wfGZB36nodQRwGiVGN+ee+45U/qZvDZ1fV8WZKafOoyz6zbVLZ8AbT7maY9l455X3xNPPBEEHoIPDQfzmPfanImBQBKzh8ugszWTHqpIX3lIWt7vHgPGjTQTTVd5NZqoIj6MadIZmPf8PO4zHYmgsqBoU8kNeFnt4XB89tlng8M8vfgwgBtuuGFy6qmnNkrmifE6JleQyBVXXBHMXWefffY6IbqxTbQXGkgRXvWNQFaXmJJw77333gkGOMbNuegJ84zxxEDHBMY1hu6m51fsRxMGQkD/7ne/G/JpmWcE9CIhKdbV9edfTRuzUjZIJjKiQzozsC7/YxRswK60s6jrhi/Lb44Bu7E5zqtItiYrc46xR8iGYtayUDEDWq/5R3gpW1AWoQ2CBx988HqM5oEHHgg7zC+66KJMn0RVbCN+cMUEyF6NIV199dXr4ZrPwhpKmg/VoY3MiPDu4guxPo1XnTVGkud/3Geffao2fVDPwYF5h4lk+YgG1dhEYwgF5maRYKBvBJ06fkbCHDOpjB1DMk/+1TQZ1wrtoQgsTIOo00IiXWOUbIr6uCi/IW5MPVKV1AEEj2Tl01kt9lWUEew65Vd9FoFl+8U8RPA4KCdP0kuXSfNgMkqnFBcGy6x14YUXVi4rXXbyfyYs+CVgyWN18cUXT2688cZ1gkiMA9s1zQmhRPDZtd3D2L2LcVib+ovYYCiCAmiE8SoS/mw2JKnOK0IniZMm3zFYc5VJsoqw06SONt+pqjHSEM3ZpD+tqB3MksxXBLis9ENF73b920wmrK4btyy/fQzY80GqaxoRh4EwGdFCEWOSfx3JuGmPEFz1WnzqlFuojvMQw3nhhReC9pFkfFK3rFmzJmgJVRlRWR+YKDjyI6Oyz+Tmm2+eXH/99YHp6sOTTz4Z/CWIAgKPSJJak22L9SRt6r5jNpgOf4sU4aJyMPQ0CBPWt7GasvSHwIAJY6iSTLY1RmlctfE/YUA7y3y/GKOxKYoQjO0hPNA+aDaSeDZdt7G8tj+XDKRtjA64vGgWYKOfFajpFgxCaTGQEGkEJngWEaxbXzTlqAPBpf0yVaVNPlXKVZZd5occcsg6pisL+ZhjjpncdNNNlRZzlbriM3whkjZGKZMGEvGCCfht++23DwQnvlP0yRdC20qaPYwB4irpoz46kW6zzTZbpxjMxm75fffdd537Y/sHU7ZnCbNtMge67i9NUcQegaAMaJLmdBGjMTcFeujrRtNd5/b5CDcfGozLQzU07I2sPSZklIpnbTpiKMrEhZBJiUJaoikAkXgmP1NnvNLmFu9hPtEfIOxbIkH/kzT5W5jLZpW6pM6RNiftYL/yyisnxx13XOvMQ/9FtwnlFE6MYKj7mmuuCYxMSDCCSFqtCrQu/p7kPgljoB4XpsRk5XwIaU5iXz3PDKQtYzVlwRFtF8E1h2m8THh1NNCqeG76nLExRlVAuzH8LLAmaMu0DuZH64hpbKia15KBZI3iKrwXc/BEibjNLiJk0TemXItAiDAHsIttn0SV5WtDDOKlbUxTbZrEMCRa0k477bROl2ljJMYvfelL69xv6x8aWSTcNvjtuuuuwQ/iDAcMpC7wQbow6ix/AGZ7xBFHBD/V5ZdfPtl9991DolL1qPuOO+6oHc1Vt41dP0/7ErpqPjE9miuIdtTsuq4/r3xzyZyturYwA0whDczC5iRzJA019ouQ1eaaSNc7y/9LBjIL9kb0Lps5qa0PMPFJwFEK7qPOvDqEK2+zzTZrF2N8juPczvGuABPl+xA5c/rppwctxz0RWQhCE6DtMWXRyJKmrGRZTChCh0WV6funPvWpoOm4LwhizFpI7CdfESJL45UlgJY6y5HLsdwmn4Qi/gn+maZAyLI+rRcaa1pTV0f6XtO62n6vl1xYbTd6WV49DJB2TPKiTWv1ShzH08wEMddXssUIuUgpPoguQL18Hhj2jjvuuNZEhrFKfkgLidJlnfq9ww/EXFIEmIvEkPb50EZon45NwFBWC0RckNRjuhmaZpZk32Wfo+mqyXjSJgkZQr+ZITH5LEaxZCBdjuCy7FIMsKlWtc+WFjaiB5iQOJXTi9uC7cqGjoBdd911wUyFWfADIRQRmNI42NNtir+XfTJjMZUQCMqAqWy//fYLTITdHWNhbllNoF/2yAhvxbiZtmha0WTbZV+ZnOqYrrQFMxBNaI+OseDnwDyKTFTm1FB9IEsNpMsZNpCyEcwhbT7qCy2ISVbcvNxVbOltA83mG9/4RqiT2QyInIL/CMwvHOizAFMWs4dInjJgsmKqEzBAWl9NWkiy7xgJ7UyEIRwz9Yk+g3tBGW0DH5/ABX6YMsDYRBOad/YbYRaCWQgxRYwjllvkdI/PzOtz6QOZF+Z7qpf0wua+aBs/LViO5ax+W8hyRbUNNnth1ExHEUQOIRpJQDQEFcwCGBO7+UbTEM+yaC5MRAiocF91D9kkMgtO4rvG3aWfNDURaNaAscBc+BqaaoDqEFXH/4IB5JVDA1J31BT5bJio4nysI0Qwa+nLEGHJQIY4Ki22ScSKRbNoII1I3m57zKXtw3cQFCGmX/jCF9ZDtVDMuJfFj3xRpFcSc1MglWIifDwIWZmJgzmL2YQ0jIFmaWZN2zLU9xDeZKg5kxE/SdTcmAOZGAUl+J7lf0j3jUD25jQ/HMe9MfA/YUD4etQKaaIYhchEmm6VctP1JP9Xz5KBJDGy/N4bBvg/EJhFA34HxCMLSKNlUnvWe3n3EBE5tmTgzZJI+Z8wGLvGAS2gDbOKcvQxK1Agq60HHXTQ5IILLgg/LQIDSeLAuAh/jiHQiDwtAdHHVNJh5og2wp9kzN7hv+CDivud/I5Z0GqMxazaTbLN8XsbGmssq+3PpQbSNkYHVp4FUiVlwsCaPVNzROUUxeRzJjNDkDrbAKarrbfeOkicWeXROJibIgPBwPLCcLPeL7pHesaMRAOV+bkwTWlNMBGbDRcZMBRzxJUlaJD4aWuYhsvzhDEaRd8BKVEoie0Y0rgtnehDGo2W24JItilpt9y8zorjOC1a5OzRzFhtALOIkwo/8pGP5BYXTR3xAdrRrLvrY1k+9cc403LKgD+ElCzAYAn5GKB9kPxpFwQNY4bZFM2r/NJm/4X/ZogRdEsGMvvYDrYEk97EWzRASIv8C0J7hfi2ATYKFh2JG+tAtKPtnYbEL9Im2EiHUVVhIsKLH3vssTarX9VlMXHRArI0lb46zo/Jnzk0WDKQoY1Ii+0hsUSbb4vFDr4oRLRIUmSG4EieFZg4ZMRNJzDMKjdKkMZEhFAXgMCRnJNhw1n1xNxZBIwlFGPAXMI8qoTrFpe07q/RLLXu3fz/mEGXDCQfP8tfOsAAYrWIGkiZk3yjaejr7373u2DbngXtr776atjhXYUYYOQI9ksvvRQSO3qHTbttoIkwvbw5jRTKKx9zFUVEe1pCNgbgjsMcQ25b8yB4JJ3z2S1Y965oMZF7Q4OlBjK0EWmxPXwgbTlrW2xWp0WVOdBVbvG2kdrjhen5IlXToQhkELnzrW99K5xrzdyEkHQBzB0EB5vpzIE0sOULMeW76aoN6TrH9D8HuqAHY9ZFji04N/51gMDhGtp4LRlInVEc2bNVJOORdam0uaR8xLEMhLTKktsURD4hAlV9GcZCplV7N7zTJQPRJxKrqCx1YqppwESl0XBeyBLewoDQXjihpXVlamzCQLSQ1mg8hwRLBjKk0WixLU0naYtNmEtRpMcqWhezBMe2bK5NwEJOns1RVgaTiAzAMXyWaaTrzWEiiOwB4gRO+zswNDmklgzkrZFj8uXzMK5thXi/Vfpb34y78a8LwsBtVh0S1O/FkFpf0hYbvCwc6QRIYYiqwYvElRRoIC00oZDs1E0GtqQZc/mZJKVfiwZMNlXH8Mwzz5wcf/zxYRNgXYLBxFGHgdx///3hKOG4V0PYraisqhpM03E0x7UTYWRCE53mHia70dQX9OijjzYtetW8hx5EZ3lRepK2OsxHx4xYF8wZ4d9o2lCCY1YNA0kyC9EKFic1HaKTzMHicXk+MhPMxUYsqZXdM7jeYUseK1Oxs7YuUaw7oYf4fB2/Dxs3BnLJJZdMLrzwwmBjrtonkvu2225b6XHaijxUn/70p8OOZ/MLAc/yT1QqsOZDtA2Mw5rA+GK0FmJE6l5kwFRpaKKs2tybU4TTKMAWPZP3WwxBT+Zby3u2j/ujZyB2WjsXWmplBN8lTQPzRB1gm46AodBaMJXXX389TCyhj0Ph+rGdRZ9s9KJxFg0IDYSDqsAJLhRXCvaTTjqp6mshBUaVHf4k27POOmty1VVXhSy8xqWJ9Fm5YQUPWhMOPtImGymZ1SIjq2L2Kyh6dD8ltQ44MW/6ADjH0JsC/x6aV0dQalpXlfdGyUAMAuIuFNPER9yded0WWOAcVi5AZRSxQoKTUZPtuK8J17RPiOjQ29i0b0XvRYJY9Ez6NzmsnFd+2WWXhWSINNQyqIJb8/P888+ffP3rXw/RPIQSczcCU1tTe3gso+6ndjOjMW8KU/U/KXxMwlHdPqefj2btPrWO2IayEPP4XNEnX4i5VWX/UVE5bfzWD9tto6XTMnBdGUWfeuqpoHozIWw/lSC7PmnP4nK+ww477BDyDjlRjvN11pTcLaEls5hZJZ3MQkdwEwNBlOsAifDkk08OwsExxxwzs2OZdHvTTTeFMzgwprgrHrFOakds2jSSeQA8IUSYGGLk7PjVDiR3h02hI7SOvkxWSby2wUD4tIRoK2veMBoNhNrtgBi7iB3GMosa2BTpFjxtxyWx2vPPPz/ZeOONazlTm9a9fK8aBkjWAgiawL777jv50Ic+NDnvvPNCiOthhx1WSzjBOGwUXLNmTThvxLG2yXmaZupMjH040rNwoS0YGuFIyCqzLd9hjE7Lemes9xz+xM/BsoD4VtEwu+prGyZM7f/gBz84+dGPfhQE6K7aWqXcwTMQXPZf//Vfw0L86Ec/GkxWVTrW9TPOk7DYJKWz69fZE0NyWiMOfTlpu8Z1nfIFP8yS8oFZ4+abb544T+QrX/lKmHe77rprOKIWoU0yBO3CrJg3nfT3yiuvBMc6f0eWSSgS7dgfWsA8pEhaUOyHOYLp0uJpbgjt//zP/4S9NPZBxOdim8fyCde0Kr5Rgh8fJ3zPG+C+DQaG/giIqJKFucs+D5qBRK3DUZxtHwDUBlIRaUdosm1///vfH5Q2YpI2lcTbwM28yohmorS0X6c9iCZNxIWYvvjii8EkRev0m0vEHnMI4ksLNUdFdBURBwQ6/Tuihoj3SdzMV8EmIGlSYc7iH6FJIbzMJMKMPdtn++qMVfpZuNQ/fh0McKNpqHIa5+l3+vq/7cCWrbbaKpjz7ZbHJOcBg2QgFtpPfvKTsFCHpHXkDRCp92Mf+9habQThQVjmCeq3kBYRYuLCLC2gLj5omc4UdyXh4osvDtFVdSR0PrP0vGBWwej7JNDJdPfyK6WjyRBcGokLIfY8howge7bqPpskvrr4jvk5TAuzQ5y1mwap3T6HBsyEbe77MWfmbcoaHAMxEUjzjuBkMhgLJLURSeqcD9HmZKmLB+a0ITv56/anzvOkaESvDQaSVy+pPCnJ5z2XvJ+U9uN9fpC+D/2CGyZXTMFl7uYBR7OLUMckxGRCQ3EPQ5lHqLj233rrrcG0TcPA1EjgsX2f+MQnJvvvv/+gTMrwa/zbTm4aTVki6mLUaN5YdnF/UAyEJIZ5CMkl1Y8RtNsmnx/84AfhMy3d9dUnCxszXkQgeAi4IIR0BXYss0FHU1DTemgwCDii3JepBeMzT5nnaFhVgNZhD4IL06GZ2EuCKGo/TSpebWsomBfpXfjtueeeG+qUy+yUU04JzCPJAAlNjz/++EQAxO677z4RVTcE6NJMyZQlMhT++6abg2EgJgjmIVyWZDNmwDRoIJiIUGOJ7foGhMlCX0RgE/7f//3fTrsumkcUjMU7K9AWCU91N782qTc60M2PuulYYn3eNcejcIT5ab81zJzkf4CRMLPQDny6MEnvJ8E89Q4im7wwDr95R7tPO+20yec+97kQTp98P/mdiZC58YADDphceumlIRDinHPOST4yl+9w01WQDbzusssuk2eeeWay3Xbb9Uo/83XXHtFMUkZsVwPziGhjvrJv5Ic//GEI1Yz3+/xcVAZCItV3BKgrYC5gf68KJHULPQtIjghMHyAQIKYoFwRgP8SsgMBjfnwPNtkq02X/CzMibRiDYKrDYETJYfAu393zm/HCbJh5aJG0vFjOl7/85cnZZ59dyDyS/cCkZABQ9w033JD8aS7faUZdMRAdwjh32mmnyQvTIwb63NMzdwZC4rCfgtlq7JpHemYiDCQCg0pC6xssavsMFhE23XTTyS9/+cvOuh6JZtWQ4aLDvRA7zKUPk6OQeJGDiDW7eZd+RhoIoklTYfri2FYfxsJP5fLdPb8xv9DWvZM0g0m7L5TaGS514Qtf+EIIrxaePC+w9rtkHrFfhNbIRJj7+oC5MxCx83JX9W276wO56uBs3HrrrcMGs77qjPWQ/vqaSLHOoXyaU/wgXQKzwbPPPlupiiIGogDzpGtmTwom6dMURDkyv6XNSZU60+NDNEmHcKWj4Ko2Qf9OOOGEyZ133ln1ldafM659mCc1XD3m5csvvxx8XK13JlXgXBkIEwDOPMSQuxSeZvo3quQ2nPUJMZy1zzqHUheJHqG0l6grkAok79S/dJ1lDITEzc7v6gpset1iiy1C8fa2DCWja1F/HRss80Q6/LnonfRvTOMYJmtH30DTY1JNOvq7bgOaSmN74403wgbX6JPqot65MRDq+q9+9augTnfRsaGVyaTCZCB6pS9gOiBxLiqQsBGOroB0qw670MsA8crzgcR3uzQ5kuRlHZaGh+CGufZhVol9a/rpEC4RVbOAcdpxxx2DP3KWcpq8a733pX0k28eXxJwlSvDJJ5+cKTtDstz097kxEKkibIJhS14EMIltMBS50xeo09WlBNJXX5rUY/FYwF36n0jxzFhF0i0HeRUJGkHX1i6CH5xfstF0zwRJ+JFHHpnstttuTVDa+ztChZNHLTRtgKAHZfUJtEnzYh57ZWI/RQvajC1zAkGnbVowFwYSTVekoEUCGgGHYZ+mLDjue+EMaUw5jJseW1ulHxiD/QYk5TwQ+VTVWU1a7UJLRTwIbHyOiGnV9uT1qa/7CHDSod60Xsy5r0i32Ebafwx1jvfm8RkjtKI2YjNoW9A7A1k001V6oPo2ZSEUCNiiApONA8dkZO0KEGahqPwhWWDDXgydzfo9eU8kDS2kTV8IgY0UTLMR8bjPPvskqxz0d4S/jYwKfRNzkr7Q7SqaZ18DELUR89FmS1GKs0b+9c5AqFISzy2K6So9OZiUpJFw0mEfgCAhnl2YRfpo/6x1MNkw1zzxxBOzFlX4/tFHHz2555571jNlkaCNeR0puk3flfptMJOr7bbbbpscddRRo1p773znO1vRIK03SS/7AnsxhrgtAUMTDr3HHnuEVEvSLtmD1zRvXq8MBFfW0CFm1u1rYqlHrLuF3YZkVaXdwnkX+exrew0sZlEpXYEw3I9//OMhR1OSWddJFxLbRuomvbZhr8Y8ZEOQ5cEmvzb8CbGdfXwefvjhM4fgMl3ZNNnXCX7WNg2SI3uoQLCyUZP59T3veU/Q0r/97W+H8N/f//73gV4k53FeP3pNZcKRR41awiQcWPTb3/42DF7X+EA0TIoukwt23YdZyxeRcvvttwciSivrAvhbmLLuvvvuCcJH82A+YuKqC4QMUuwsY6Zu5jBMzHXsscfWbcbcnydsIsZNGHFs/KOPPjrZb7/94r+dfxq3eaQvatox4f6EDAxDdmabY0Xs+Q4IX+ahKEKWI9q0Zwk4vWogbMRtpE5oiqghvUcqtkehCpeftd1MIggJyWhRwaTvw5Ql4gXxuOuuu0IINd9DE0k0Ru401VKj6QqzFLSBeWBoY4RPfvKTIa9Vk7WCmD/44IMTGXr7ANqOuVYWst1HW+rWYX5gJu94xztCWikaNQ2F35bpC/7NRzgV6MF/8tfnT6FuRU2eZ7piix+bCt2kr1XeMViIOlNFH9IKycEYSCmxqICRSgVuEXQZAchuL/Lt3nvvDRu6mmo8mIhMAt6vS/yffvrpoA1Z5J/61Kdqvz+kOSLliXPbRZAJha8KiPlxxx03kUxRGV0DTYmp2BqrO15dt61p+frBpIqx6JdILgEh1o/vvWkgpCARMUt4CwN2MlsYfQBTQJe7svvoQxt1MGUJae0aF+rZaLrvQiI/9vcmwE6N6dX1X9mX8vDDDwdtXzrz1UDMTj755GDKOvPMM4PgVYZPoao2IJ500kkhVVLZ8238jtkjtKsB31Xx8VdTtaTznN+kbJ5+6v0S1sWARIvSS3DCdg2YOHvmogcx0Pz4KZg1utJEmGuZMuR4W7NmTSAs8jk1MW3wq9BCykJCLWXnuZtTV1555apMEfTUU08FfDKzYI5JkzgNQIoWea+YDU8//fRgjul6XSmftoPODTHyqsv+98JASAPsZn1FQXSJsLbL/vd///dgS2T26Brk5ZFkTYbgRZKSsvDKhivLK+dq22a9LDzLgov4SfHPDFOHkSCMHJuYXda4YRwSR2KKTJWXXXZZrbDhLPwM/d4vfvGLEBQRz32BF3gXsHDEEUdU3nfTRj/LxqeNOoZaRi8MRBI3G9qqbqYaKrK6aJdMnRaDhG99gGgstvWlL2oSokw4WPfaa6/KJ/NVGSOaHr9Werc3f4TzYaSzEY0oa2pVDYjfxlxJZq22OY5mj3mQfGkp9qPQfJbQHwYwMfhvEizRXyu7qakXBsIm64S+5cTOHkTHUdro1QdENZ8Wwsa+6CCwgybCvNrGmdLMGBI4FmW6pTHwi9ijgQlw8DLFYCqErCwtwzgJy6WxctC/+eabYfxoNMIp3adNLeoG3XnNY34PAlnTQIl5tbutenthIH0SyLYQ02c5CMnOO+/cG0FHiEi0nPhLmARc0EQQcGe3zMJYaQNCtEWoVAHEn0PfHil+E8whq36Mn4OWxmLcmDzdE23FHCbcMo/xVGnH8pn6GKARMpstmt8jianOGQiHpaiX7bffPlnv8nsCA848sEs4aZ5I/Nz6VxIwX4hDl+aRarr1DrVQIJyYp8xPe+65Z6OxECaNETTZOFi1C9oZj4F96aWXQspuO4qX0C8GmCNpj1UFhX5b119tndswLKq+CGN/aGu3JviBp76ApCofGWkZQVrCJEjvzvbYe++9w/kJfBV1cEOTkCoFU+4SmMi0DbPjLF4yjy6xnV02rcMu7baDL7JrG/bdzhkIaWnRuXTZFICfPhmI9rDZOgkyL4NsWZtX6+/MREceeWQwCwm/rTouDkdjWqoTXVUXh8bqjjvuCCf0HXrooUECZsZaQn8YICgIq8Y8skyN/bVkGDV1Hq7BSdnHHodhoLNZK5iR4KlvIL0yZf3d3/3dcowSyKeh0UYwBD4Gjmn/i1zL8jNgMjSDLo5mRrCY1WSTRbREWcVoH8xO3TTYJTFLDGBHX40FfBuHZUDQX5DcOQOB9GVkSEczesZiEUMJAJlDOI+7lJ5nbOpcXkegSfp2gousEk34rne9K5ipIhG3gYzpCv7aBPZ14yK6SgYHmxCllEiCNnDgLplIEivdfI/MQ1LBJfN4C8edMxD2wiUDeQvhQ/uGKG2++eYTG91scMuSsIfW5r7bg5EIszaXmaqc+0EKxUw4zbfccstWmK+Akz/96U9B2+B/Ua6UKEVjEpkIUzFNZLnW2p8dxp3ZKmakbb+G8ZbYOQNZaiDDnxyIoU1vTih797vfPfwGz6mFJE9Octd///d/h3xTiLuwaGZa4bsupqwyKRWzEL7rkuBRVI9UJd4XklsnwSYmgrgtzSvtTwymyZggsWxM2699+CV2zkDYZklTRVLU8NG0+lu40TTxn9MimUyEFC+hGAMkUlrJP/3TP4UHmZwwAme82B1OcIoQ534yqsvmM0wbwxD2mzZPxXerfjI/xmg+zKcsb1bVchf5OeZJez0EuSx9TNkzoXMGQqWmAkabcXYzlneHgAEmGXtSjFkbu7KH0Kcu2oBJYAaReahD1ly+inlmnDZuNhpibs4DWQavNB99ufsIAZhHFACal7Z63+w8jJfal5TGVi8qx98zC8V5yf/1X/8VbPHj71H7PZB+n7mJ32iIYAxpIhgcRpLUeobY3qG1Cb6YAmkczIJL5lE8Qp0zEKq6tBlLyMcAO+tQIqAsGM5bR4i+Oc23tIS3MPCb3/wmMI8x+IloRH/zN38zkehvkU+ifGv0yr9Zh/AlrH6pvZXjyxOdMxAOWhx9CfkYiM7P/Cf6/SVqIhLFORt50aVYm/XswwDMfGMBfhXaiF3TfDRLyMaA+R1xxGS19B9l4ynrbucMJDr2sipf3vsLBjAQE3dIgIlId0KDtAeCH2sRgbnKZktZcjfeeOPRoYBfJDqBl9rI+sMXtQ4+WrRq6SxfH0dFdzpnICJCOKSWkI8BDMTkHSJIM+5CROexW36eOCGVOruDyUq01JiBWYY1QJ+sx0XXKtNaB3PfEupjoHMGEp1Qiz5hi4aGlDvkKDUSLOf6a6+9FvY8FPVlNfxmrjp4yw5zmyvr7MkYcv+jNiKwhTYiRHXRwNg6jVL/addLrWO2GdA5A9G8pRaSP0hU6CEzj9hyyRe33XbbQHRI5as1MAJRle0WsXVKJCKz2sBYCvdFTJ0/Yr/DIgANGuMg1DJJzrr3ZhFwVtbHzs8D0QBZRE3WZNx8WcMW5Xchs9JQjCGyJ44JM4hNhxtNNx+ulqNxzU+nBCIwdpovyglz+s3BTgsWebQaiSoGSevQN32MVpE4n5efzTHQCwMxQZ37XXTMZ/MujPtN0T12JMuIOyYQmcTMQ4LlXK56tvcQ+2gHOSHH5kmnEi4iGE9ElmaJ0PKZjNmhbO8ZbXK19Geoc7Lzneg6LiadFDAWc01fg2XR2m+xxRZb9FVla/UgLo5VRXDtzMZMNt1003DsamuVdFwQbcPeDsyPeY7ZalHBeDI1u+TpsgnRPRL7GEyscdxoUhghzUrbV4v/KvZvaJ+9aCA6LWspJrLZZpu1jgPShjBTBNnEcQGqqgth4DgcmkRlox4pqQuctI7kkgIRHXtGLGC5tCQUHKKpwByhccA94kJ7GhOBLBmGVn+2phBjGxFtdKWZDG2PhLVOyzD/Ysok2tMy8WH5VEA3jW2km95I0kxjXraGe2MgGvmd73wnZBot79r6T3jfRIlXMj1KZBA+0x32XpLBxJIhx2JwcZSm34vPdfn5zDPPTD7ykY+sKgKGgUjISLPiqMRMhkB0OFAJMSTrt73tbcF3M2QiY95icrQ76VNk/yUAJeepeY2o8y06/IpGSOruAhAaAqDx1Y7ITOahtWEU2oFpwJP5pT1DyebQBf6blmnczH2X8YOvCMYOzqJgbW5FATwylyiMe4egxTfoEvbs+d4YiAaw95NM//7v/96/haADOk1C910nI8H3OevEhdjIjExGiIIg0ktETmEDZ/yRI1r69NXqF4LPmA7Fgmcm4uuB377Afgfp0u2zISQ4gXGo+20iTrTZKYjOZ8EU4pWn0SEK/DeYjLNKMMW99tor7JhPMptYfhuf1iPibd34rh5rJ16zrs1kG80dpm+XNWteKT8yjUj8ku8s8ndjIv08vzNmgUEkiX7TsYF3Y5BkRu71ykBUblfzjjvumDnGJgiV2XMmho73qY5CkPotSvWr29UU6Zmd/H83f/zjHwfJcegEragPVX9DZPgbEHNjyycmUZ2DmtqKirFYLBqLRwoWggcTFaYFx10R06o4KHtOMMLtt98e8OM8EPnImhBHeH7iiSeCOfGjH/3oZJdddum875G4REJvvCPog/Xj8j1IrVOGE8G7LuPnPVdaSsb8MSfEcOjjGPvV56e5bt77xFitK2usyfyp2+5eGYjGPf/88+F8acwBmDw6TiInPSEofpv3RDGRtQtDMRAGhZrcBpCqHI/qPIlFBDhF5E1630GUKKNpJJokIsGJRIaQQfp1Rdu3T2Nk0RgnzCnOr6HjV7+eeuqpyUsvvTQ58cQTWwuLhqdHHnkkMJKTTz55bqly0oxBf4HPuMZ9Gj/rH6OJ94c+dvNsHxpCWEA30cx5zfneGQhzAlVb1IvOk/ZJ+aTFLiT9NgbZYkTsECpEalbu7qxrJonlmRt/GR3EJNq0k4zBIkGA/I7AICyk0CST8X2sm/0QgKuvvjrsAdpvv/1CH9uYr8kyHJF7zTXXTHbYYYcgsCyJcxI74/tOqKWtEnCZhdHNeY5p7wwkSt9/+7d/G+y0Y5EUTTWEjJmEnRrTI+3WHTxEQ+jodtttN77Zu2xxaxgQaHDVVVdNTj/99ODUb63gjIIw4TvvvDMIQCeccELtOZtR5PJWzxigqTMBE5jsGRuK0NQbAzGJRcCQ4hHeF154YbLTTjsF00XPY9FKdZgIDQojJAVUAczzu9/97mTnnXcezASo0u7lM+1iQDTYddddNznnnHPCWmi39PzSvvnNb4ZcZkxadQWf/FKXv3SJARq5sHOaN3+ezyFBLwwk2rrZ6UjuQPoOyeqEsY4VaCSYCOlAptMybWppuhrrSLfXblLk17/+9ckFF1xQWfBor/ZJ8ItYj8cdd1ybxS7LahkDhE3mRzRGJuihaBzpbnaaTJHv4M9//nOok70/Mg83ZHhFcMW6jxVIcbQpA4yJCFulaWUB0xXta+n3yMLOYtxjt77iiismZ5111lyYByzztZiHogCXMEwMCDCRl80+KqHnQ2UesNcZAyHlIKjsdYhsFkjhQQsxoccMHLz6ybmOYQpVTQJpQlz/Vlttlby9/L5gGLjvvvtCWO2884Z96lOfmjzwwANrI+AWbBgG2110wp4e9MP+nzKLxhA60roJCxLsmo1O5thJqhgfiCiC5MY9Nj5aiJj1Ie8Mjv0o+6SB0DYACUK/v//974eUGWyYS1hMDHCar1mzJpiuhuB/ILgJH/7iF7+4mAMysF4zhaObLBRjYBwRfa0yEMyAb4M0zqQjXFcqBk5D6rsNXaR0m4IsIhuP4k5a72299daTTTbZZLL55psHh1Fs5Bg/Mcqoiko4KKXHEhYXAwj1GWecEXxlQ8HCtddeG8Lp3/Oe9wylSQvZDkc6sMJsND0egTVjTNBaNl5RSUJccdFbbrklMAgmKvHnxx57bGn0AC3EQUUk9rvvvjukn9h1111DuOvQIg+qDDApgtkKo7TnY54Apxg47Sj56T6In1EyNonjzuHk5zz7MOa6ZSqmfQq0GBIcfPDBIRpsyUDmMyrWI80UrRjrMQKtMBB2f4kSaRwO4xEmWDdFB+6LgMnpIzaemUvI6+c///mgkey///65vpT5DH9+rSaGncVyfkl0h6nGDYj5b7XzCwYheMHFnIg5YAhJpoAhc8xlSTue1/7IbJQRmY7fMBTvu5gcI9Npp/Wrs5THH398cuCBBw6uczHFC+1fUMsS+sMA68sf//jHQCOqbgNo2jrrV33WtDXssm5daACLUNNN3DOZsDSEff/BBx+cHHDAAZPtt99+Zj8Gdc5pd/Jl6Zg6fv7zn4eNUHvssUe4P2SiZbB+8IMfBIkiShX6YPcoop0XUNB0cigbs3Wpu2sCr44kg9Ju49RGgsumOBjye0yZF1988eTSSy8dZDOtLYe9HX300YNs32psFHMVsz76YN20AdY/t4GLW4DgF+kkmmCNYhaRcaAbLkwFc7GuI3jehkUpUlxFbWzMQCBBPLvK2XZV1BaQiOyZYAKL5h8IsZv2P/7jPyannnpq64S4jbYLEpAs0vG0QnvTgImQ2mc1ZRh0+DdpwDwJuEloDmiPSUgzMeF8LmESNHNjbvPoEMH4nXbaaSG8eIjtW21t4idmtnr7298e1m2T/hkzjCIGJaEHaAArBzosm/gsAUnWMSYUGZK1jfEIjLKXL5k+pREDEaNMqjr00EM7WxiIEh8CrvnBD35wLULUzfnHJMDpPgQwgD/72c+CD+if//mfC5MuitAyuAaiLpD8hfiZQIi0K0oZdcvq6nlttEgwfO0jyQytjV31PavcK6+8MszVKkcYZL3fx70LL7wwCGVtCoF9tHtsdSDENA9m7boCFhojKEcuQeVgFgRRY5Zlim4bN+pHezAt/m4MK5hAp8ToL57U/1ejB+PlVvJnhMCpcwj4eeed11rm0KLO2rlLzU5qI4jUJZdcElJec7TPE6LW4WS7aLIqaw9NxABUMWfBP4Js0mA8HG5N7ZVl7Wrzd+3WZm3X7lmlojbb1mdZtPOvfvWrg2aiTNAkYmtsCd1ggLWAz6Ou5oFYo4EEMkInpkEomzfoD2a2ITUlySRws3hpZFJ6ZCu99dZbw05anRF1FcE7CIULgUu+F59p8il6hYOPNkL1o43g3vIIMaFhJnwjfQMmi7EZYJFmdQbV/hCOdfbx5O78dB+okYiwsjGbtnCarqeL/7VVu11JzYnENAYG2AZOmALaXAtttCmrjHe84x0hweeSgWRhZ/Z75gHNw65ygmMZeJ6QyVphvbTpKymru+rv/Llo84YIWBXCJBSRD0Iaho2mEVNpQFBxSaYnnwBTgTAEv0odyTKVgcBGO5xyONiZBNjgIBXhtruXlOtsDdK5OrsERN3eFgyA1tF00dkrI0mafqUnlf6oh9TexNTVZf+blG38jZkxNZ7GyLzreqyatLXNd8yRIZuuYl8RNlGUS+gGA5gHYluWkoSgxcfLVETIfNe73jX4NbJhFcJO05DD55RTTsk1WyEGaWKIk0YHq3r8jpikCYdnqGkYhPQn1COaDO7ris4bSEWwqU7CfSUbk4zx/vvvD0kN2QXV6R3Od4vXZ7q+JtNE26RhBxjH+973vibFrH0HPrRNvzncSarwgGmaaBhHlbFZW+AIvhhT2YstFDtvzYWqAswIurdeEwkChIChAy2RpruE9jFASCwL4UezbIVgzfiHf/iHYOZqvyXdlFhpHwipXxI2zp86RA1RjGYMZjIEEncFvuPM7ILKfNvb3ha49Pvf//5STu1Z+01MeoyECcsxns5XYO5SB+mP1vTCNG28Nsgtw/5YJgVENGsvIofAkwpoDHJZ0XLaAgQVU8ScMD2Mbmymqia4wDgwSOPHMajvaS2sSblDe4fGpa9DB/MQU19Cuxgwt+E1KyJTTWiMtc9UhaZtlGHZabdF7ZdWykB++MMfBunYCYKz2K4xCe9jGDYcIuTSezj/uakUKspHyCxVD8TUDMxpUQvxm0WsXhu6tIP2wAQWmWFkFjQbIcTRt0NaxjiYx9rQYrKGTxsQGiarMZg7svrQ9J7xwziYtTATYxbHpGmZQ3pvLIR5LIxuSGNb1hYCMsZAcM0Cc17iRPRFJoCxzvtCBoKQSisizK+q5J6FLJl5X3311YDQzTbbbCKFgsUFmKsg0/80hSaI9I4yzz333MAYaErKxAwwDvUDdniE6lvf+lYwlSHYtBIMBrMQlrbpppsGlbNJO0IlFf9gWvCrno2mkgdJBC5mwXPFqgf1GMZsXPR9tWkj5jPBYOigjZj5EtrDwJvT1EzMUWk6Qrj1GzqEFo5BQy3CSiEDufnmm8MOc1yyCbDnv/jiiwFZ9kdkSdgIpgvHRlBJpCZzGvFl9XveBkPhvZdffnmQZkm0eaG1BpKJ67XXXguaENNZZGpldc36O5sneyfNK5puoimLKlu377O2ZwjvmwMWkzlAIh6D76AMb9HHVfbcvH9nSibELKEdDNA8rG0CRBKi1sGklUeXks+P4XsuAyGVULHktaoLuOsrr7wSNIAPf/jDmYwjXSZC6iKJIiKYSF1pnF1dtIPNhrSQIiD5vvOd7wzXr3/96xDNRSKgTnZlrtIejBJjJXUnTYKYl3v2ldTNI1bUzzH9Bu80QfjBYOFjzGB8CSq0zSELBfyI1sISZseA9U2TTpuuBPxgIKtB60hiKTfm9dFHHw1ndEQJOflS0XdS/UMPPRSk+oMOOqgS80iWh2mIWrDwMBKfdWCfffaZPPbYY3VeCSnkDzvssLDQhQUzfXUBmLKLozzJPGJd0ZSDiS4ykN7MAwux7vgPDW+0EAEdQwZr1l6QJcyOAQE3SdOV+RujN5nHx26ySmMoUwNhYpEkkQmrKtA6nnnmmRCldMghh8xkDiKtUf8wL9Koz6o2WoPHGe49hKgqkH6FCFtIYuKZ2z70oQ+1po2QqDENEnYROK2OCkyTWmQw3rQy/itjI8xRRBzmSsrzm3lhZy5zALwNUcoX8u3wpizz7RDGNwaQ1FkrQ2j3ENtAwzAno+nKXMU8mKVnzX83xP5qU2YurBemoa+//OUvJ5/73OcqtRvX5euwsS8vZK1SQTkPiacXDmeSVzEvyYZLi5AhuCnICCxaTIjwrKYU4cAk6jixytpkFyotrOrzZeWN7Xfj/fLLL4e0OQQTY44Qs9NjLKQ4fhKMxDiz4WO6GAgBYvtpVmg+pSEAQWbI2XjlcDPXl9l4Z58tNhgLyiHcsJ4I4GHKWg3+vDzsrKeB0D74L6oSX05oDIS5CvftAqI2gsPbh2GAimCbbbaZfPnLX67ch6yyhAc7XlLoL4LkexPAPBC9qhqUOkgrzB4kl0UCduJnn302aJB8ZyeccELAGzMAPAqKyDIBbLfddgFN5q5F+81vfjPsBTJu9gtVEToUQEtkNsOY1KO+eGZG03Eg9PDNRdNG03K6eu/b3/725LOf/WxXxdcq96677prcc889geDeeOONazNx1ypkTg/TlM0XtMlcNd5OVi2jVXNqbmvVrkeJOXFJdfZoFIFF7cAnBJ3foWvzAfMPqRwTIc278sDip7HM6rzkq8AYMRF4QYzqQBPmoXyTDsOpa4ar07YhPUt7EC4O37vssst6jBMDYPqDT3Mgb1GaI0yQLvOEVvz000+HvUZZmQMscuZKQRS0HpomhhE1HFKktqlPmbIeECzqzvVPfOITYQ5V1ej7GhvrXF+GELQB1zJKoCkStp5//vm1TOh94SyrHnRGBg1zhABi9zlneZafM+v9Md9bh4GQ4KLJIG+R6izizMluMTEt9AUmOwJipzkTRtGucCYMi39WUwatyi58ZrHnn38+HGhVpb+kWUyujuaRLJcWYiKuZtu0hUfjkKTzqKOOCn6MJA6S3yMTIekh9EXz03ukwY9//OOBIQnqkIzz8MMPD+PBRGv+mkuI+xFHHFFoZjDfRSphRrId7LbbbsG0WdXEKCLwtttuC4LZkE7+Q7D33nvvJJoH8d28GBOYkwQcTDAyj6pa75j6mdnW6WCthanzeWUakbHyta99be299JepY2jl3nvvXXnzzTfTP/X6/5TRrUwHbGWqCWXWO90suDIlFJm/Nb05PbN9ZRooUPr6VPpdmWoPpc+VPTCValamUVtlj43y9ylzX5mmOQ/4zBvDrI5NBYcV87TOO8qZMoCVqQawMvVprdxyyy0r00WfVXzpPfNuaiJbmUbtrUyFitLn4wPTTNIrU7Nq7XbH99v+nPo9Vi677LK2i52pvKkWujLVQFemTH1lurF2prL6fHnq+whzEk7Nz0WCdcJ4SfY4aF5MOEnskUcemUhrwlk5T4jSPVPFdMDWa4o+cGq1CTZDkn5JzXkg8oImV6Qd5b2bvs+kw2yz2oCv46abbgpaB5NVHZMQswDtog5eaKvPPfdc0Fr5Vszdsmi4PJybd7SWKROa/PjHP5586UtfCpJn3vPxvgAAc1Kk4ryBlYFGdOKJJ867KevUL5QefviwhD+PAZg+rXdRgsJ0F8FslRyXtQyEvR3RY8PLsonyedhfIbR1KM5dtmpmhCwmwgREtWwbttxyy2DueOmll9YrGqHChJlG2gDmM5PTtVpgqrkGf4cNqkJvmwC8MA0a9zKwwE866aQQFn3dddeF41sFKDBHzQLqxzz233//QIiFGJcBfxrhQ5TdPOEb3/hGSP2zms2jfeHXuBNmCAeLxjzgeC0DgQTStQiULAe1iY/DkqSGBHlMxALXly7AUboYbtwgpA4Mlt+DZFtHoi5rnzFR7moA+b5E2WAeszJZggPNE4PIA79xXB9zzDGTvfbaK4yLseEL4R/j15oVOOenpqDJmWeeGbT3ovIQGOePX3rppbU0qKIy6/7GHySsVGbpJcyGAYKdAAx0samvc7YWzP/twEBIzhYWx6TvaU7Kyek3kQVDhMhEEPUI+sDk1hU4SteJhFGa5EBDFNt2njHXJPvVVX+6Lpdpj9lEyGhbki98YxLmbBosbsT6uOOOm3zgAx9Y52dz/cgjjwwb/DjHZwWbPh1bSyMp03ptKMRAL7jggtJnZ21X+n2BA6KFjj322PRPy/8bYABdFK1KyFtUCAwEgUKoAPNAkvDyicgtZZPgkAET0XYmJED78H9XgFGwhQs7FOKLYWlDF6AfXWlTXbQ3q0wRP7SApr6HrDLds3gx7zSsWbMmhN06AjkLMBGaCYm8DdxiDLSQiy66KKu6de4hOg5nE6oqlLhrwEwdRS1DA3Oevi9hNgzAJWEhz188W+njeXstA4lSIWJFWgQWltDVPffccxSTLpretN/VJQOBH6aAnXbaKRxmFfHnftug7DFrIUx9hJJ4bkub+MG4mQ+i4KBsO9PtsBZ+XQR8fkJ9H3zwwaLHKv/GlCETA6GiDDjybXbljMdcmUC7gGn01+SMM84I7Tr++ONHsY67wEObZZrLAkEIDV0JjW22t8uyNmBHdkXTC6SIKACYh6iVSJi7bEhbZSMKmIeF00c+KfUhGmyhXYE6kgSyq3q6KNdYiNwTYdMVYOSEHaYsc1lK/3POOacSsbQ5VILLNkxZ+sdEhyFU8VvZE/KVr3wlaFGIvDnbFiBy/E233357MK0xuS6hHQywyAgAWWTTVcTkBggTAhWBSmYxiZYhFZXtSI/vDemTOU4uLztDuwThkCRgO5Rff/31zog8kwMGP8ZoLEk5aWlVN901HS/+EKYsGwb56uqEgWJuDhlrA0ikR003RT788MOVijO2NiZ+8YtfDOa0s846K+QBazrWfByirJTnHB+HwWVFVVZq3PKh9TBg9z6B2vgIs1902IBpJGl+wVVFZEkDsfPOO48SPxYl23KX4cYkXcwX7jAR+xm+973vdYavMWohcCRXWp4fok1kGQMLm9QtXLYOwC0iy9/XBtDaHQVdxyxFG0H0+VFEq51++umT66+/PuxfYRHIK8scFMzxwAMPBJMYjUOo/b/8y78Exr30d7Qxon8pg1ZnjhCqBW+s5iSJVbG2IaSkfQX2gmyyySbr3a9a6BCeY5bADJlQujDBKR/hiQuUtAePFj8zYNtAgmcWmTX8te12FZUnp5F5hLj3AYQh87lJ+hrCEgGAY31W0F9EXEZhzKQOGF+JTPlv2NlZA2yss9/AXIvzTZmkYHNQqhRZX/lzksJgnXqXz5ZjgG/tH//xH8OD0eRf/tbqfmLD5ITUVQR37DHNCK2FRELwnVmhzQEnDcKTLKtJQCyeeuqp2hJwsoy875igOscEfGjyTPUF9nXsvvvuwaeBsNYB2ZaZJ0iWbZjbBJ7YuFiXgcQ2m68bTfdcuT760Y/G28vPOWGAwMjHhsHbwFp3fs2p2Z1Xu0Fa+5jmewqLfggpF5r2XoZVdndgoNt2QKf9RrGdfC9MESSVRQfMzoLr007s4CZn26ub+awuMLUxB7UBNFKbFZewOjDAJxz9wXnrf3X0tF4vNkhKW6QvaR7iTus6+YbqVdvd07QD55noA7ABkkmhLeld+QhjnllMvXIkdQGYfRt7FrpoW7pMC85JgX0CBzLCTfNsIjQwBTlPpA2g2dN8xzJebfR5tZZB40BDos9jyUDeGukNkuYqOysd6wqcxMccMzbgtJVeIml3xyRFTLUBZZMHPmkhfCFtg7Lb6kfbbUuXRwvrk4HwBxAWEG54QrjraiF8V22OG4Yk5HMJ48YAYYgpMQI/26Lv/4i42CAiwmIz2WPoq8yzP/nJT3KjP2IBQ/t0whr7cxIQFRrDrMQXjrKCDpJ1+c6MgpG1DcZK/WMADCSq/H20l4066UBuwmyjn6wu48nrHx9Zlf0gee8v788fA0LDzaWkxSHtN55/K+fXgrATXfVxwUfkWEwcgE888cT8WlezZlE/iEjWAfYmQVPbeGwGBqScMkA4EDQmwTYh5iprs8yuyhIR1WfEWFoqpHU2wb8IrpjfbFbcLE1Ys2Jw/u+LfrNROALhItLIeG+RP9cyEM7D9LGf++677+SF6eltbS2oLhHNZOGMic985jO51TSRSpOF1YnQec973hM2Mybfn/X7mBhIlOZn7XPV99PamUUOX3U1tniyXNV6i56roq0Wvb/8bb4YMH78nUk/cVpQmW8L5197YCCQBDHp0DRE4NRTT51cccUVte3JfXdNTqEDDzywUOqlhjaxjesL/PCrVJU+3v72t7cejWU88jaU9Y3vodXHwZnOF+YeTbAOCFQw1m2AZHt9amFttHlZxlsYEFCUzmiAfkSz/1tPLu63DXVdDp48h6f4eNI0U1batzAUtAnftPlxm222KW0SJsKUVcUUlSyM9hGjMJL3876Tfk20qmavvHKW96thAHMnCCVNDMaAcz15r6w0AkJbTJpP8dOf/vQ6VWJyNHqEKApu2q6tLgxHnqVkEMg6BSz/6QUD5ows2+lsFoSL9NaHXho00EoCA7HbtYj4kuylWRBVsvHGGw+qK9Iq33jjjeGQnioNw0CE5dVlIBZ7XckjRuFsvvnmVZq2fGZGDPBf2HuR3IketU6fVaBNAiFi781pBA87uhBjc4iPTvu0x3xCjBArQo3npeDRB0yMOU1CUNFhS6ZSZfTae8YWBnuY0hYH49K3eba9XrVfUmAgkFV0TgOEnXfeeROJ3pxjkKettN+84hJFuDiYB3OraiowIaK0SuKrAhZ+1WeT5WEgUnsvIgNpS4pP4rPsOzz/27/9W8hLFp8lKJD6qzIQzyZt3rGcqp8YkESe0piI4GHGMg+23XbbWgIIpmJdYj6/+tWvQnixfF2OVBYm3jfQwP/whz9Mfv/734eLEJZFSLUbcDxLryKqExNME+K+21+3PoJpVkoi/RtbX+r2vc7zG0ZOW/YSyQmxPvfcc8OhNDHct+y9rn6nXp5//vnhyFJmtjqAqFgQybDPovebmqGYvGYNHU63ayyTF8GuE3SQ7meT/2VFdrysxJYRCAvMWFUBwc4iHGXvm48//elPg/bg3BP9d5xu06NjjTMJ2BVPAmWTt0kW8Rbw0vU53BiGvWC0J0yVX8+6l+WhKJU54UECSMzm8ccfX7u3xk5/OcfqmILL8N7V73n7vTCQLMbZVTuGXu6GJmXVBWMyX3zxxYGJSIFtv8M8QJK5r33ta5MvfOELEwfz1AVExSSvKk2wV1dlNum2WHgcuW0tmijhpesZ2v8bTTdeMcf0eWIb0xD8MAEx+URgKqIZlJkgvRs3JMZ3yz4RSpmrBaA4OpfkrYyrrroqHKdb9n6d3zl0nYJJKBE1eeedd4bkfszPbflM4Omll14KWYD1Ze+9957UFdAQWOvSFTN60+JpZeiHseFP7XOfUB085zEPZWDsY1mDdfrc9Nm/nk6Q85mkqhJIktV2221Q2pspAAAfsklEQVQXTnEjcXGwly3Mpo1Lv4foO6yHQ9/507McGGUSKK/MNOUZDKSuzyS2nRlDGenEi/H3up/KK5L+6pbX1fNwhoEw3/QJcPPss88GU0+s16LnYygzY9EiMIR0OHssJ/mJIKpHAApiSOuIZlQEODKU5DttfTdnOXetPdrI008/Hfwq8VjqJvWYV3fffXc4xwTjOProo0NG4bbmGqZCqNhxxx1Duhlr2KZfY6IvQ9KsZSOwXrNMmbRqtKMtgbDJWA3qnSlBXplKTFOc1Ifp4T0rJ5544sr0MKX6L9d8Y0qMVqb+l5XppFuZEuSab6//uD5PF836P6TuTKW9lalEkrpb/d+ptrQyJSjVXyh5UnljALi99tpre2+quTElfitTs8s6dU+j9Nb5P+ufaeaFlWkG4ayf1rlnDKZnjK9Mj+pd575/phL8yjQD8crU97Heb13dmPptVqbH8q5MGdrKlLHVrmaqGaycdtppK1P/UStrq2oDrKu77rprZXro1cqUeVd9rfPnpimdcvFgHk2j6Dpvw1gq+Ot99tnn/KZnVdMAojbi5DmJ7No+/Yw0MJ1kQaVmsiIdtiGtVJVKmQtEyjQ1EXiXU7Wt6LWxaCAkS+nVmTnLtLw2JSrj6mxyJs6Pfexja+dKFX/Mo48+OnH0a5bkqY1JrWO6btbbI+AZh0AxKTVdU8qoC+aYPjOV1tFGzKUrr7wy+KqmDCSYsttYW1Xbz3Lx7ne/O2ggTH60FGatPtuQbitrAQd6MpIv+Yzfmbiitpn8bRG///X04JrzZ4kSMnlloDXw1FIno025Z7B/NiW6BkkeLuG5iC9CcMghh1Q2s1UdSLZqUNROk4W62nRSWySSVM6C42R/xsJAtBnO+k6qqF7mB6YovrLIuJnUjEWeA9Q+ItFO22+/vSLWA6Yi5lPjKMVPltl2qpEEQce56E3ny3oV17jBt8DJ7WAs/S3ybXLG33zzzZNDDz00+CmK1kCNJjR6lG9VAIQ1z6wFx3lMvFEFNV4yzuiCNuWByLqi3/PeW433N2xroDjahPiS9J577rlwNKeyTWiOVCF9eaHC3rEX5be//W34tJhJrmeccUbuO20MBubHNp5FDGL5mOE8iEGsP/lpYs9zoSfbUuW7qBuaALt33zj85Cc/OZmaV4MD2FwyxhzEefiLZ7dn9UukIu2EryMvhFak0iWXXBKc5333NdlmvhdH+j755JNhbjsZMQnm82233RaI5KWXXlo495Pvdf2dliowh8DB0W7s5rFdAAMp8iWZRzTRJfwFAxsWIasJkjANqeBdGIPduBiDA6pIz0kJ0GR2eYezFaOhbbTluCtrv0lblOqCJpRHcMrK7uJ3E7eI2XVR5yxlaqsjQAkHfUZjabNxcy74SSedNKERkGqZI7OCITBmbZT7LQ2EGUfK+i0tAJm73qXt2CN1zjnnBHMnIoSJmOvmmCs579N1tP2/uh1vS5B7YZrLLmpV2jv1SwWTkeiqIQKmYc8ZJnLkkUeGI5H7bKexKzLDwy08LuEvGNiwy2gCjIEtuE97cJsDS2K1+GcFxAMzmpWItNWeWftT530+BaZI2mTfzJg0jmDK5yb81REFWcD0isimNQcCD+bhfHJRisyZNFYXImI8CUf6h+glw139zoxEiML4jb97mCr/ULyy2tPGPX2J57w74Mx+FDnt7CkZ+hG5/AuRiTBd8+/0BVWi9ZYM5K3R2MDEXmRA1EiRWdCWBoIJ5dWRVW/ePQSJ2W1MQGpnRpnX4WSYCMc2TZiWIFQ3CbSHN6fpRtKmHpopfx7GgnFwrGIEBC7BIo4MuOeee4LTmi9hk002CUwGo3HR7PXdcxyy9nDwSbCdYzx2vAsQsWdF+V0RJUxEHcLemZGHzjzi2MDz2WefHQJo2jolMpad92kM0kJE1rPWoLW4hMlkA1LtIgPinmfTRPRn1Rrg1qRsg1HnmWCGPn6cznY12+U9DyD1n3zyyZPDDz988vnPfz5swKNdGF8RfkcdddRawoGISJFjkx6pHeF3YQJMqwQOzPC4444LEUR8PGnTVlEfzTcMBmOJDMUatKH3//7v/1onTOaeeYNJ8UmNCSIToeFh4F2DcagioBFK4HMJUwZCZVtkKGIgbWkgVSWbsnFA8Po2A5W1qcrviBgijSjPU2ARkcWBTINgUpMkFGPgF4FbRAohF00l+IPpFREzD5iqhLxyzmM+iFrcZV0FB3nPYG4YEGbCdMNhrw1Fvrm8srLu2+gopchFF10UtKU2BJmserq6BydSwtAiu9LSYturavhLBhIxNplsuOiqWJEJqy0NxKKdVZNpo4y3hr3/b0Jrd9ttt8kNN9wQnNrzYITGADNjxuGDkEmBj0LEj0+aBhOTky3tN5KiBDH3njxQQk1FGiqjC9AmobjGGiOhCWlPluO/Sv00a4zuzDPPDNoThiidCI1wTMC3JAhDeHKXJrgq/g94I1QwPy5hykCiQ7CrRTFmJLelOVjINJ1ZYKzmq2Sfpd5AqPkMjj/++N61KYwAcbbfgJahDST9Y489NhAFJqR777033KcRMDVhKn2vDe3EcAkwosAwE5FBdecQHw6Cqyzw3ve+N+xlSecKS47RUL8LZOAT2WKLLQqjpGZpP1pYxYQV59Esda2WdzeggVjUSxg2BhA6UW1jB5FQiIDoqL61XwtfOLkNg/Z0YAwYBYkS2MtBSt9+6jhnwvJb38wjOb60NPtOMABEX4hpVbCfgvlqhx12WPuKvgjvtVsdIx0TwIXjqrs0ZZmPtMAqYM4s/SBTHwgpR0TIEtbHwDyJR7o1mPxqYCD65UwLKcG/+tWvhuiodF+7+J/f4qabbgqOasyDqSi534hvZprbLaTm6aL+WcokFdOEaLKYnDVbBDTnb3zjG8E0l57DfApCeV999dWiIgb5G1OWSDKbPruAOpYCpkU70hcdNqAWM48sMnSpktaZlHljoAwSWJoY5D0/hvuImIioafLCEA7bpTbCZHX11VcHxmVfCs2C8zoJUuYw8czDN5NsR953Y49ouTCRInzRsBDaaLpKl6mf/DxdO6XT9bbxvxxktMgu2k4rq7rGmDeXgvdUA4G0RY9r7pKBcISS+mYBE7XtjAGztKetd0WznHDCCSFfFW2E07qIMNapF4Hh5xA59eZ0n4ddzUVEFdFtK19ZnXbWfZaJRRSZ/Sx5BEwaE6aqPMAkndUBL2MDtEpAg6i4tsGcqcpAPEcIaWu+tt2XvsrbIBKmOvbVvhrXVz0mQxcSjfaL4mF+mAUQCsR2tQKfiLBaY3D55ZcHjWSaMrtRd5n6ROvIS4UpHHzwweE4WUQ3D4f/+Z//GcJ501pJowb08BIGoD/6ysGeBE53Jq68nF3xWYdfMdmNETBH2QPahqrMI9a7NGNNo7Co8yYhp5DNTUt4CwNtMBXhflUOKHqr1nW/RXs3LWk1A8ma89pl5/G3vvWtMC8JOPIj/X/TbM8OHhLSChfGht+Cc5nD2IXpMMnaVf7FL34xPON3ez3cz9uDgpCqd0yA2GESNJFkdlgO8t133720K1Er5huK30tfGsgDaBYHNu0+6ceatXl1BUn7d+RQM78WFQIDsdFIKobV5KitM6B1J06dsi3wWRgz5l5np3Odtg31WQkYXQCBwxzY7GOa8hhBRGMQ3oq5CFcllUcpkt8oyTyU5b00IxbdZt7n+Qu8N2Qwt8wx8wSznR4KFVK0V2kzLeS1115bJ1KryntDeEbS1e9+97thM2hb7alLB8wlWi0LAZ/IIsKGuKcjOEltduKulkifOoNJmo2EJ/lenFBZvyWfy/seCV3T95VL0pqFAeW1bSz3Scf2j7iqArzTRkRaJfdOuJ92kjNz1Sm7ahv6fM78sIdFZJW+VJ1vGC+/0xhBWhZaqmwCbQGBJE9LzasD/WQCXVQGskFcUCadBRZNJnkIW6T7cDMLPiTqc750U1jtvo+meCl7j+aBqKZ9GuZ3WgOx+DeantU9dqCJiSSLmluV/ljztJYx7mcwjm0H/yivbmonplc0gsa7iBAM62zMzARMJWmn3CIgJU8DMUkRnabAPirypyksovmqKa7ie8w5zApZ6T+yfFqrhUljBhgnx24docex1PNKchnHrOknumWzZFuAGTSJqqLpNg36aKvt8yonMBBEDrGjhpFGshbavBrYR72YRJbaTwOZhYFEM0qTPpCE1B81xCZlLNo7ce7GyMKy/iMWaS2l7J0h/86fwyyFkVQFDumx5nVyCB3/bVvQRANRN8Gbr24RtZDAQEQyQADGARlCARcJskwb+j+LCYtNuuhkszL8zvp+Wfmr7XdjSGPL8xdlaZk25M0aYj0UPMZUN4ggP6b1XAX0X6j5GIHg2yYDaaqBwB1GPFY8zjL2gYEogO3UYHBakuTqqMGzNGAo72ZpIEWhn2Xt/vnPfx7Oiyh7Lut3xIBkvJqk46x+tnlPAAjmkTWO6iEdJh3q7jHdMOGsBnBglvxdgBDINFdFIm7bj9AnLo03k2VbYL01MWGpnxBu3TZ9v60+9F3OWgYieuMXv/hFqL/tgem7U23V19QHEvcnkEqagEUxi/bSpM4xv2PhGqssv0fslzFJM2Smm6ZjFMsdyidmmAzYsEek6iFMfEZjdKQTFvIEhnmMC/yP1Z/UFF9rGQi118V8ZULhpFUkmKYVj+U9E7SuT8ieBbmemoCMAMZh6fuojj2mq7J9HFkMBOMx11cDyGdn3kSIGqw9LmUw1kis2K+66zO+l/UJh1VwlvWuucSUOkZmnNWfKvfWMhAPv//971+bpZMEswiRBUx1RcTaQqwbG/7GG280YiAmHwZeRgyrDOyiPIPhyqJAAymCvHEekgRb1P6y38xR5qgkVE210WSOJ+uZ53dmyTbN7ZjpLGmdZAz+05/+VFvonCcOZ6l7nVVHnUfA2E85lFzSBaxmyLKNJ/tbd3HxI0m5kba3J8vM+45hY9xlxDDv/UW7T/LkLC5LZ5HlQF9tuEJE0/PG/yRq67kIzNWxWhuGxkDQC2G9i2LKWoeBmGTbbbdd2JnuO18IBjLWyaUPZVCFgVR1jCFUUoc7NKkuUHst+Hi4UZ331ctvYlMc6Qcjqrshqk59Q3kWYRR6XqZFZJmvhtKHttqRJ+jEENOieuCP9jtGsDbTmtcs/WjDH4RuMikugilrvXNWaSE//vGP15pSbNVHkFZLtEp6cuWZNuJziDoCXUWKtRPY2c11J7TFy+FJc6kCmN4Pf/jDyc9+9rOwAVQfaC7Rd4J5KM/i4oznj3GA02pzzDM1yH9VBhZzE8ZcVu6Qfs+LpsIc/GZOsChkgfmEAY0RrJ0yAaJOv2JZyk1rdHXKkS7/D3/4Q9hIPEs5deqcx7PrMRCN2H777Sc/+MEPJvvuu2+YdKJbkhk/59HQedYZ48PzFqC2kXJFsR122GG1m2o/QhXTlQ1iDz/88OT1118PY7THHnuE8OsiH479JBib9ObU/QMOOCAcKRsXSu3GDuQFBBHRq7I4y7TMgXRppmbQxPL2fjDxWb9MK1kwZvwQ7NqG6DuiSTQFc5Mwbqd8nfQyTeub13vrmbA0BOIgMR7a4n8RK67VBGXaR+wrBlp2aqNjNrfeeutCh3wsL/lJU6A5FEnIiOUVV1wRmIBAh9tuu21yxBFHhLj/IuahHoxpxx13DO87AfBHP/pROMSpzRQQyf709b2K70NbiogjhlrVPNlXv5rWg0iReLMAMTPX88xUoo6KhKOsModwz9iWzf8m7aSpE7xmBYzbuh7rTv8q/c9kIF7kC3FOQgxps2MVsasbkVSlEfN6pqr91CS1APOA30FZTkqrA0ww8IlZ54FssU7te/e73z256qqrwrGsTbUH5p7Pfe5zkwsuuCAwlDVr1hT2K69NQ7gPb1VMhRh/HnGED9rfaoAY/ZPXlyLb/lhzrr05PVFxow4SYRLozJs2tBt0U1lwvBohl4Egmuzmcu4DpoKY9iBPkhkbghChqrZfz2UxT/eY+3bZZZda3adVmFRFNvz77rtvcvfdd4djWWkRbYE6r7nmmpB1AEMZm7PPgizaNJjEU5GQMOZEgsk++h5NeXlEDwPJsiBEH0JToSTdjj7/F/EoH1YXICNHWfRa1XoxOYJKFMarvjeG53IZiMaz4YnicEgNQESpd1SyvIkaHhzBn7hwqjaVVJK1ADHYbbbZJlfKzSqf6h3zMOUt3FtuuSXk1nFWuDFoAvqIgGaNlXr5uI477rjJKaecMlPse5O2zfIOhocglgHmzkyVh+PVxEDgwnrNM5dELTo9F5hqmDnHCBhITN/SdvvRubb2wWHuTIzMxoSf1QSZTvRkBznUOW4h1IJj02POiWkg8hZnsowhfi+STLPaixAhyK4o7THxMT/VcZJhHnBHm1NmFtx7773BIcpnUQe/iIF3tctExfARDtqOdosM2WeffcIZ4bFcKWxOPvnkyWmnnRa0kqqSfVa7+7qnP1UcnBh+EaMpMuv01Zc264nZafMiJqNpxmeEMecDQ+C7Ok6WBuKIi+R6jzhr8mktMnHzU6EXeWbVJmXP851CDUTDEJq99tpr8vzzz6+VUu3WdMk+mZZo5tmZOnXXZSDKtvCiGkqasPhoH1UhMg+TPs9+T9tz1WEeFhI/CU1i4403Dk72xx57bPLggw9OmMEeffTRif+Zq4T/fvzjHw//x3YL8z3yyCMnX//61+OtwX6ab5GBFzXScxZ/HpOO71rY5sJqgM033zxE6OX1JSsYJAqCee8M9T7zL2E2CkJdtFPUWp3U+GVtsOYxjz/+8Y+rRhMpZSCQglvuvvvuk8cff3ztYsOhhQ6agGNjIgiLiVd38lmApF+b9l5++eVAiMsmTfw9yTzypA9lc5SfffbZldtGOzz22GMnn/3sZ4P24WzwpIQZ69dXB/Ao+5vf/Obk17/+9eToo48O+308I4IM/PSnPw2fQ/0DR3nMN9lm2kcWHpLP+E4TNIdXA+iL6LS8VBzmHfwlwVweY+ocpmNzvUuIe+DarMMY0ERoN2PzPWbhoRID8SKTwYc//OEgzSKGABMRqkYSL4pSCg8P6E8dJ2y62QYdAd57770rO+AtWjjivM5jHuq59tprQ3huWWqO2CahvfaEaE+d5I0I8Je//OWgkdi3EiORmLFuuummQU9suCzCYcSN56qY4zbddNO1Pr747pg/EdXvfe97mV2guRGeImAe1nBdQSq+P69PfTDvP/CBD3TaBOZfWk4eQ25aufXHdyNzhDEYM1RmIDopVHCrrbaaPPLII2sjkmgh/COQkZZuhoqYOtFXyT7YjPXcc8+F6DT9rgImHzVYquciyRkRx2Q+8pGPVCl2IgRX3rJLL720MiNLF/ze9753cvXVVwcNBmO0WI466qjJPffck350MP9XYSB19jUwU5DaV4tz0/qUTifPKpBkIrTND37wg4MZ26oN4eOzH6oPxsefhLa1DUyrmAj68Oc//7nt4nsrrxYD0SpHZsr1xHQSGQZJD6IRyrZC37rCQBUClFU3B/UTTzwRIpcwzCoEx74ZhBnzIM0UwUMPPVR5FztH3He+853JV77ylZkXEccrzeO8884Lzdt2222DE36oGqV2Ffk1EE7mK8ywKmCkDgBbDWCe2TOU1x+4g0NClPWa53AfMi6Yr3bddddemmgexTnVdoUY4EbTEF8atQPBhrrmivpdm4EoTDSPjYactFEFMzERShwV4cyTgIoa08dvTRiIwX3mmWdCBBOVvyx6x0SgTVjMzFZlkpLFzHH+vve9rxIKvvSlL00uv/zy0nIrFTZ9aIcddgi+LZIrCZWp8qWXXqr6+qCei8yjDOfJRgs8+M1vfjPYOZtsa5Xvu+22WxB2sp41J5mgpbd517velfXIoO9ZV4h6VTNvG50hNHeZuYEWjE787ne/y01H00Y/uiijEQPREJILPwBJWFQBsGg58kS2UMuihhJ+HMAf0TYYXR3i8sorrwTictBBB4WggdhPDlrEKg00MJOcY7Joh3nyvRdeeCGkG6nSLrZfTjjmxDYBU7rxxhtDkcZVwMTYgNBizlVxnif7hqgSirokEsn6uv5u7iFIBII0mP8YiAwHorbGBMaXj+7QQw/ttdnmE5qWl2usjcaIanXGO4HcPByLNtKYgUCaTiOsJqOopKh1kA5samL2gZB4vw1Ez1IG23hV4sJExTmNuOy5557rmU1IQcqLfTPgwpoxFVl1q9ajP7LqVk0BLw+WqKu2AePHwEQk0bIQ4ti3tuvqqrzox2lSPofs0CPQ6vTrqKkvi68y7QA2n9+cpgARYYQojgmeeuqpCXPjPMxuTE3w1iUYG9qOgCXayBjOYpqJgUAmieYTn/hEMOvYxMZ8Fe8zafmdNhL3T4Qf5/AHQeTEriLl8zEwz22xxRYhaCCvuRzpFijJhNZhxzh1tEodyTJNTBJwFUDg6+bcqlKuZ5g+ounK2I3JuUeqZgqsEnmVhQ9Mk+TOlLUagF39mGOOmdx8883rdIeg8+KLLwYz5To/DPwfQSYSgdKO5wFoh/Ue6VuXbTAXaSP2uthtn2Xp6LL+OmXPzEBiZSQDkroNhwY6hgtGbQQ3RWTntWmrSuiuZ7797W+HGO1DDjmk1EyEaEmkSPKtq3VEvEU8Vdkcx+mJQXUFSWey8FZnuw8JijQiTNzCmwXkGzN35y3szNKH5LubbLJJsBIkTVkEBL62oh36yTKG8N24X3/99ZMTTzyxtnDWZvsJeYQq675riGZVdWKe3ARDcwnAQWsMRGEW8IEHHhicXEJBYzp4WgibrJw7ODhTD2mxL0AQSKZ5moEJ4RAtkWVSe0iMWKTeK89EIhk0OUAq2W9MgfmoCpBG1NcV2CVrgxOIm526qqtJuXnjx+/EZGjRzQLmqbF/+umnZylmUO9GU1YU4ISiYyxjAkLdvExXSTyZXzbj5qXNTz7b1neapDq5BAirQ9uA2CoDiUhDhA8++ODALDASJhpADYQIzmWEkzmma2mPyo5ZZW0+I/07BEq6D8zPpro85zQpiJSLcViMiD6GiOhEU1boZM0/mFDVkFPaW1MTTZVmJbWg6OOp8t48n4mmqzo+p6L20iSNZxR+ip4dw2/mPcn9oosuCto1BpnHiIfYHxohTXhepqs0TlhUMJIYfZr+vav/zW8h9+gOIdz89BktGF3VW1ZuJwxEpSR4eaJkfKV+YSSItQUf940gwHwIOCt7XxfIYF5CEJLgnpxQ2qQ9GAeTTdbC8rtgAIwDM+LAo01hHBEsUgymiYqpz0nCHcvM+lRPlwxX/yIOLBL/DxkiU5/VdJXuI1OW6LsucZ2us8v/OWZprvaGGN/k3O2y3lnLRi/sqj/jjDPWzstZy2zjfRoBmoU29A0YCbOWTYhoB2e7qK2u6GdZ/96igmVPNvxdhy1IyH7jjTcmDzzwQLDjS72Bm7LpR0LAR4KYIviuWU0SCACtR5mI4ZtTTUj8u7awA2NwkWAmu0fSZxbBaLxLYypLeY2IMQ9YnHXajSlU9QtxrN1xxx3Jprb6nWpucQDMUNuGDDRCtvw6+K7SH2Noo5ooJpr0WAhuXt+sO5E9Em7KXCCNzdB9IK+++moIJT/nnHMGh3/zzTpBvJkDs2hI3li0dR9dQjtdfLdoj6Sq7gvmoSmhfV0Cut05A4kdsAiZtlx8IJL5OQZWZxFGXFWnEXrEm+MIh2VKwYRoLZBTFZSDKzOV2QiISAvFs2lOPUnAUAwCc5JPiBeijHFUnRyeU646RfNUfc+zNJwqYAd8l1EgJNS4mRHeyphmlTa3/Qy8mrjGypzqisnRNGPGBefIt82k2sZLXnnmPgaiD9YPoQgTQZjb1tzy2lD3Pke/SLFzzz23cyJYt23xeWsdnSKU0vDmCWgjYdyFlqFB0q+gecYcDSUw+GQZqkNHY7+US6g0f1y+W4u9MZDYEJ+xs77jnDg5dVWHddLv4tRpITpLk/BcNPdAGCKPgFjYfBwGk28C48GgmMYQZ85gmYQRGkhwkVwhwBW46LQcZVpQs0Q5aQvGYwCrbiI0sAakKgivhS9Mt20QZ2+HO2B3HmKeJGMOXwSEtCDQNj7MHXNEKnznqIyNiXC4isCiRUWioU/HH398ONbYfTmlhgKEN/ucjO1ZZ501eHwTMqxFAuBQhC3rg6DpAmgmYcuaQZfQSveigOt53+OFHrqMgecimPtoKHrFjx0Ft7kwkNgonwitBHAuoLMYAEaAKWAEFnEEncJoYgd9YiY6huFgAFJT+B4jqUjtFhBkxcvvkBwRGcuf9VNbMCntxkyqAMaF+VUhiE4QvPXWW1s/u4PEAjcYN7AfwhkhQwMTWRJJzu4+IPrG5Crbb7/91s6pPuqepQ7jR6O00de4RkAcMJGLL744EGu+QAyF4DZPsBmZeVZ7u86y22Y/+SK0nZUETRkaoHvaldc2tCoyDZ+RkVhnUego6tNbM6voqR5/M5GFk7qaAAak4zSKeYE+YCC4PsZWBoiUSVjlcCr5izj0SZfRX1FWfpXfERRnigATCR7nicOsNhMWSKna1Tbjz6ov3mPnJnHdf//9QRPJW4zx+Xl+GrvXXnstOFaF1Ce1JsQiMhM4FJ3FJ8hUhHDPQxuJWgeh8MILL6y0XuaJ33Td5iGBlZkwzpP0M0P+P86Hpm2s7lRoWkOP75mENJQhED7aB4KHEJfBzjvvPHnyySfLHlv7+2WXXTY5/fTT11Ex1/7Y4IvspnxRdt4DKT34qoYEcEkFZyrwvW8g0AiBtVcI0UWohwZMs5gcky9tKck8tJUmH00Pse0EEiG+xvySSy4Jvsk++mZdyG7tgLMtt9xycuqpp46OeUQcsnQwKfProkGLBP8/6bc0sijYM8sAAAAASUVORK5CYII=\" width=\"400\">"
      ],
      "text/plain": [
       "<IPython.core.display.HTML object>"
      ]
     },
     "metadata": {},
     "output_type": "display_data"
    }
   ],
   "source": [
    "#  Rain Drop Simulation\n",
    "import numpy as np\n",
    "import matplotlib.pyplot as plt\n",
    "from matplotlib.animation import FuncAnimation\n",
    "\n",
    "#  The following line is required to run animation \n",
    "#  in jupyter notebook\n",
    "%matplotlib notebook\n",
    "\n",
    "# Fixing random state for reproducibility\n",
    "np.random.seed(19680801)\n",
    "\n",
    "\n",
    "# Create new Figure and an Axes which fills it.\n",
    "fig = plt.figure(figsize=(4, 4)) #(7,7) was used in the original code.\n",
    "ax = fig.add_axes([0, 0, 1, 1], frameon=False)\n",
    "ax.set_xlim(0, 1), ax.set_xticks([])\n",
    "ax.set_ylim(0, 1), ax.set_yticks([])\n",
    "\n",
    "# Create rain data\n",
    "n_drops = 50\n",
    "rain_drops = np.zeros(n_drops, dtype=[('position', float, (2,)),\n",
    "                                      ('size',     float),\n",
    "                                      ('growth',   float),\n",
    "                                      ('color',    float, (4,))])\n",
    "\n",
    "# Initialize the raindrops in random positions and with\n",
    "# random growth rates.\n",
    "rain_drops['position'] = np.random.uniform(0, 1, (n_drops, 2))\n",
    "rain_drops['growth'] = np.random.uniform(50, 200, n_drops)\n",
    "\n",
    "# Construct the scatter which we will update during animation\n",
    "# as the raindrops develop.\n",
    "scat = ax.scatter(rain_drops['position'][:, 0], rain_drops['position'][:, 1],\n",
    "                  s=rain_drops['size'], lw=0.5, edgecolors=rain_drops['color'],\n",
    "                  facecolors='none')\n",
    "\n",
    "\n",
    "def update(frame_number):\n",
    "    # Get an index which we can use to re-spawn the oldest raindrop.\n",
    "    current_index = frame_number % n_drops\n",
    "\n",
    "    # Make all colors more transparent as time progresses.\n",
    "    rain_drops['color'][:, 3] -= 1.0/len(rain_drops)\n",
    "    rain_drops['color'][:, 3] = np.clip(rain_drops['color'][:, 3], 0, 1)\n",
    "\n",
    "    # Make all circles bigger.\n",
    "    rain_drops['size'] += rain_drops['growth']\n",
    "\n",
    "    # Pick a new position for oldest rain drop, resetting its size,\n",
    "    # color and growth factor.\n",
    "    rain_drops['position'][current_index] = np.random.uniform(0, 1, 2)\n",
    "    rain_drops['size'][current_index] = 5\n",
    "    rain_drops['color'][current_index] = (0, 0, 0, 1)\n",
    "    rain_drops['growth'][current_index] = np.random.uniform(50, 200)\n",
    "\n",
    "    # Update the scatter collection, with the new colors, sizes and positions.\n",
    "    scat.set_edgecolors(rain_drops['color'])\n",
    "    scat.set_sizes(rain_drops['size'])\n",
    "    scat.set_offsets(rain_drops['position'])\n",
    "\n",
    "\n",
    "# Construct the animation, using the update function as the animation director.\n",
    "animation = FuncAnimation(fig, update, interval=10)\n",
    "plt.show()"
   ]
  },
  {
   "cell_type": "code",
   "execution_count": null,
   "id": "69f622e6",
   "metadata": {},
   "outputs": [],
   "source": []
  },
  {
   "cell_type": "code",
   "execution_count": null,
   "id": "f912b29d",
   "metadata": {},
   "outputs": [],
   "source": []
  }
 ],
 "metadata": {
  "kernelspec": {
   "display_name": "Python 3 (ipykernel)",
   "language": "python",
   "name": "python3"
  },
  "language_info": {
   "codemirror_mode": {
    "name": "ipython",
    "version": 3
   },
   "file_extension": ".py",
   "mimetype": "text/x-python",
   "name": "python",
   "nbconvert_exporter": "python",
   "pygments_lexer": "ipython3",
   "version": "3.9.12"
  }
 },
 "nbformat": 4,
 "nbformat_minor": 5
}
