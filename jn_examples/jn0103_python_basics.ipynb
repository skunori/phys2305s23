{
 "cells": [
  {
   "cell_type": "markdown",
   "id": "5d17f550",
   "metadata": {},
   "source": [
    "[3] This notebook contains examples of python code. The order of subjects and some explanations followed the tuorial at w3scool. \n",
    "<a href=\"https://www.w3schools.com/python/python_syntax.asp\">W3school tutorial</a>."
   ]
  },
  {
   "cell_type": "markdown",
   "id": "21f3f0ac",
   "metadata": {},
   "source": [
    "# [3.1] Syntax, Cooments <br>\n"
   ]
  },
  {
   "cell_type": "code",
   "execution_count": 1,
   "id": "09d71e8a",
   "metadata": {},
   "outputs": [
    {
     "name": "stdout",
     "output_type": "stream",
     "text": [
      "5\n"
     ]
    }
   ],
   "source": [
    "# A comment line start with \"#\" as this line.\n",
    "# Also, a comment may be put after a code as follows.\n",
    "\n",
    "a=5     # this is the first python code.\n",
    "print(a)"
   ]
  },
  {
   "cell_type": "code",
   "execution_count": 2,
   "id": "9dc54794",
   "metadata": {
    "scrolled": true
   },
   "outputs": [
    {
     "name": "stdout",
     "output_type": "stream",
     "text": [
      "a is greater than b.\n",
      "c= 16\n"
     ]
    }
   ],
   "source": [
    "# Lines in a block of codes are aligned with same indent.\n",
    "\n",
    "a=10\n",
    "b=6\n",
    "if a>b:\n",
    "    c=a+b\n",
    "    print(\"a is greater than b.\")\n",
    "    print(\"c=\",c)\n",
    "    \n",
    "if a<b:\n",
    "    c=b-a\n",
    "    print(\"a is less than b.\")\n",
    "    print(\"c=\",c)\n",
    "    "
   ]
  },
  {
   "cell_type": "code",
   "execution_count": 3,
   "id": "aa267063",
   "metadata": {},
   "outputs": [],
   "source": [
    "# This is a special line to reset jupyter notebook.\n",
    "# All definition in cells above are cleared to make the following\n",
    "# cells independent from above. This notebook uses \"reset\" to make\n",
    "# each cell independent from others.\n",
    "%reset -f"
   ]
  },
  {
   "cell_type": "markdown",
   "id": "0a687acb",
   "metadata": {},
   "source": [
    "\n",
    "# [3.2] Variables, Data Types, Numbers, Casting\n",
    "\n",
    "Python has no command for declaring a variable.\n",
    "\n",
    "A variable is created the moment you first assign a value to it.\n",
    "\n",
    "Variables do not need to be declared with any particular type, and can even change type after they have been set.\n",
    "\n",
    "https://www.w3schools.com/python/python_variables.asp\n",
    "\n",
    "Common variable types are int(eger), float, string and bool.\n",
    "\n",
    "= representation of float and int = <br>\n",
    "\"float\" uses 64 bits (IEEE 745 double-precision represntation).\n",
    "1 bit for sign, 11 bits for exponent and 52 digits for significant digits.\n",
    "\n",
    "\"int\" uses a variable number of bits, 16, 32, 64 and 128 bits.\n",
    "\n",
    "find more in <br>\n",
    "https://www.pythontutorial.net/advanced-python/python-float/\n",
    "<br>\n",
    "https://www.pythontutorial.net/advanced-python/python-integers/ \n",
    "<br>\n",
    "https://en.wikipedia.org/wiki/Double-precision_floating-point_format \n",
    "\n"
   ]
  },
  {
   "cell_type": "code",
   "execution_count": 4,
   "id": "296e18a5",
   "metadata": {},
   "outputs": [
    {
     "name": "stdout",
     "output_type": "stream",
     "text": [
      "5\n",
      "3.14\n",
      "John\n",
      "False\n",
      "299800000.0\n"
     ]
    }
   ],
   "source": [
    "# Next, \"Creating Variables\"\n",
    "x = 5\n",
    "y = 3.14\n",
    "z = \"John\"\n",
    "b = 5 > 8     # is 5 grater than 8?\n",
    "print(x)\n",
    "print(y)\n",
    "print(z)\n",
    "print(b)\n",
    "\n",
    "c = 2.998e8  # speed of light, m/s, in sceintific notation\n",
    "print(c)"
   ]
  },
  {
   "cell_type": "code",
   "execution_count": 5,
   "id": "d8bb5c61",
   "metadata": {},
   "outputs": [
    {
     "name": "stdout",
     "output_type": "stream",
     "text": [
      "<class 'int'>\n",
      "<class 'float'>\n",
      "<class 'str'>\n",
      "<class 'bool'>\n",
      "<class 'float'>\n"
     ]
    }
   ],
   "source": [
    "# Find the data type, uing \"type()\"\n",
    "print(type(x))\n",
    "print(type(y))\n",
    "print(type(z))\n",
    "print(type(b))\n",
    "print(type(c))"
   ]
  },
  {
   "cell_type": "markdown",
   "id": "5e1ad3d4",
   "metadata": {},
   "source": [
    "Note on foramtting a string: The variable c is the speed of light. Its type is float and \"print(c)\" produced \"299800000.0\". To print it in sceintifc notation, try the following. See <a href=\"https://www.w3schools.com/python/ref_string_format.asp\">W3School link</a> \n",
    "or do Google search for \"Python string format\" or \"Python print in sceintific notation\", etc for more info."
   ]
  },
  {
   "cell_type": "code",
   "execution_count": 6,
   "id": "3a22703f",
   "metadata": {},
   "outputs": [
    {
     "name": "stdout",
     "output_type": "stream",
     "text": [
      "299800000.0\n",
      "2.9980e+08\n"
     ]
    }
   ],
   "source": [
    "c = 2.998e8  # speed of light, m/s, in sceintific notation\n",
    "print(c)\n",
    "print(\"{:.4e}\".format(c))   # command to print in scientific notation"
   ]
  },
  {
   "cell_type": "markdown",
   "id": "6b9c2c9f",
   "metadata": {},
   "source": [
    "Note on integer variable type: In Fortran old days, integer varaibales started with [i,j,k,l,m,n] and others are float. For example, variables \"i\", \"j\", and \"ix\" are integer, and \"a\", \"x\" and \"y\" are float. You may find some python codes following this scheme for readability. "
   ]
  },
  {
   "cell_type": "code",
   "execution_count": 7,
   "id": "f81423fe",
   "metadata": {},
   "outputs": [],
   "source": [
    "%reset -f"
   ]
  },
  {
   "cell_type": "markdown",
   "id": "a0cb6289",
   "metadata": {},
   "source": [
    "\n",
    "Type conversion.\n"
   ]
  },
  {
   "cell_type": "code",
   "execution_count": 8,
   "id": "76c82353",
   "metadata": {},
   "outputs": [
    {
     "name": "stdout",
     "output_type": "stream",
     "text": [
      "1.0 <class 'float'>\n",
      "2 <class 'int'>\n",
      "134 <class 'int'>\n"
     ]
    }
   ],
   "source": [
    "x = 1      # int\n",
    "y = 2.8    # float\n",
    "z = 1.3456e2  # float\n",
    "\n",
    "a = float(x)\n",
    "b = int(y)\n",
    "c = int(z)\n",
    "\n",
    "print(a,type(a))\n",
    "print(b,type(b))\n",
    "print(c,type(c))"
   ]
  },
  {
   "cell_type": "code",
   "execution_count": 9,
   "id": "df7434f0",
   "metadata": {},
   "outputs": [],
   "source": [
    "%reset -f"
   ]
  },
  {
   "cell_type": "markdown",
   "id": "d5e40ecf",
   "metadata": {},
   "source": [
    "\n",
    "Casting\n"
   ]
  },
  {
   "cell_type": "code",
   "execution_count": 10,
   "id": "92b19a46",
   "metadata": {},
   "outputs": [
    {
     "name": "stdout",
     "output_type": "stream",
     "text": [
      "1 2 3\n"
     ]
    }
   ],
   "source": [
    "x = int(1)   # x will be 1\n",
    "y = int(2.8) # y will be 2\n",
    "z = int(\"3\") # z will be 3\n",
    "print(x,y,z)"
   ]
  },
  {
   "cell_type": "code",
   "execution_count": 11,
   "id": "cedcfc94",
   "metadata": {},
   "outputs": [],
   "source": [
    "%reset -f"
   ]
  },
  {
   "cell_type": "code",
   "execution_count": 12,
   "id": "e3fcaabe",
   "metadata": {},
   "outputs": [
    {
     "name": "stdout",
     "output_type": "stream",
     "text": [
      "1.0 2.8 3.0 4.2\n"
     ]
    }
   ],
   "source": [
    "x = float(1)     # x will be 1.0\n",
    "y = float(2.8)   # y will be 2.8\n",
    "z = float(\"3\")   # z will be 3.0\n",
    "w = float(\"4.2\") # w will be 4.2\n",
    "print(x,y,z,w)"
   ]
  },
  {
   "cell_type": "code",
   "execution_count": 13,
   "id": "ea172686",
   "metadata": {},
   "outputs": [],
   "source": [
    "%reset -f"
   ]
  },
  {
   "cell_type": "code",
   "execution_count": 14,
   "id": "c4ea2b46",
   "metadata": {},
   "outputs": [
    {
     "name": "stdout",
     "output_type": "stream",
     "text": [
      "s1 2 3.0\n"
     ]
    }
   ],
   "source": [
    "x = str(\"s1\") # x will be 's1'\n",
    "y = str(2)    # y will be '2'\n",
    "z = str(3.0)  # z will be '3.0'\n",
    "print(x,y,z)"
   ]
  },
  {
   "cell_type": "code",
   "execution_count": 15,
   "id": "ff1b85b7",
   "metadata": {},
   "outputs": [],
   "source": [
    "%reset -f"
   ]
  },
  {
   "cell_type": "code",
   "execution_count": 16,
   "id": "6622ac44",
   "metadata": {},
   "outputs": [
    {
     "name": "stdout",
     "output_type": "stream",
     "text": [
      "4\n",
      "10\n"
     ]
    }
   ],
   "source": [
    "# Variable names are case-sensitive.\n",
    "a = 4\n",
    "A = 10\n",
    "#A will not overwrite a\n",
    "print(a)\n",
    "print(A)"
   ]
  },
  {
   "cell_type": "markdown",
   "id": "bc8c0f87",
   "metadata": {},
   "source": [
    "In additon to integer, float, string, and bool,\n",
    "there are more deta taypes in python, e.g.\n",
    "complex, list, tuple, list, dictionary.\n",
    "see,\n",
    "https://www.w3schools.com/python/python_datatypes.asp"
   ]
  },
  {
   "cell_type": "code",
   "execution_count": 17,
   "id": "5953d1b9",
   "metadata": {},
   "outputs": [],
   "source": [
    "%reset -f"
   ]
  },
  {
   "cell_type": "markdown",
   "id": "10f7dba3",
   "metadata": {},
   "source": [
    "\n",
    "# [3.3] Stings and Arrays\n",
    "\n",
    "Like many other popular programming languages, strings in Python are arrays of bytes representing unicode characters.\n",
    "\n",
    "However, Python does not have a character data type, a single character is simply a string with a length of 1.\n",
    "\n",
    "Square brackets can be used to access elements of the string.\n",
    "\n",
    "A sting is stored as an array of data. There are other types\n",
    "of array, e.g. List, numpy array. Methods for string below\n",
    "are also apllicable to those arrays.\n",
    "\n",
    "https://www.w3schools.com/python/python_strings.asp\n"
   ]
  },
  {
   "cell_type": "code",
   "execution_count": 18,
   "id": "c8e60159",
   "metadata": {},
   "outputs": [
    {
     "name": "stdout",
     "output_type": "stream",
     "text": [
      "e\n"
     ]
    }
   ],
   "source": [
    "# Get the character at position 1 \n",
    "# (remember that the first character has the position 0):\n",
    "a = \"Hello, World!\"\n",
    "print(a[1])"
   ]
  },
  {
   "cell_type": "code",
   "execution_count": 19,
   "id": "d5370d0e",
   "metadata": {},
   "outputs": [
    {
     "name": "stdout",
     "output_type": "stream",
     "text": [
      "0 b\n",
      "1 a\n",
      "2 n\n",
      "3 a\n",
      "4 n\n",
      "5 a\n"
     ]
    }
   ],
   "source": [
    "# Loop through the letters in the word \"banana\":\n",
    "k = -1\n",
    "for x in \"banana\":\n",
    "    k=k+1\n",
    "    print(k,x)"
   ]
  },
  {
   "cell_type": "code",
   "execution_count": 20,
   "id": "fc59530d",
   "metadata": {},
   "outputs": [
    {
     "name": "stdout",
     "output_type": "stream",
     "text": [
      "13\n"
     ]
    }
   ],
   "source": [
    "# To get the length of a string, use the len() function.\n",
    "\n",
    "a = \"Hello, World!\"\n",
    "print(len(a))"
   ]
  },
  {
   "cell_type": "code",
   "execution_count": 21,
   "id": "0f9e13d2",
   "metadata": {},
   "outputs": [
    {
     "name": "stdout",
     "output_type": "stream",
     "text": [
      "Yes, 'free' is present.\n"
     ]
    }
   ],
   "source": [
    "# Print only if \"free\" is present:\n",
    "\n",
    "txt = \"The best things in life are free!\"\n",
    "if \"free\" in txt:\n",
    "  print(\"Yes, 'free' is present.\")"
   ]
  },
  {
   "cell_type": "code",
   "execution_count": 22,
   "id": "006cbb61",
   "metadata": {},
   "outputs": [
    {
     "name": "stdout",
     "output_type": "stream",
     "text": [
      "No, 'expensive' is NOT present.\n"
     ]
    }
   ],
   "source": [
    "# To check if a certain phrase or character \n",
    "# is NOT present in a string, \n",
    "# we can use the keyword not in.\n",
    "\n",
    "txt = \"The best things in life are free!\"\n",
    "if \"expensive\" not in txt:\n",
    "  print(\"No, 'expensive' is NOT present.\")"
   ]
  },
  {
   "cell_type": "code",
   "execution_count": 23,
   "id": "698dab96",
   "metadata": {},
   "outputs": [
    {
     "name": "stdout",
     "output_type": "stream",
     "text": [
      "llo\n"
     ]
    }
   ],
   "source": [
    "# Slicing\n",
    "# Specify the start index and the end index, \n",
    "# separated by a colon, to return a part of the string.\n",
    "\n",
    "b = \"Hello, World!\"\n",
    "print(b[2:5])\n"
   ]
  },
  {
   "cell_type": "code",
   "execution_count": 24,
   "id": "6a2c9931",
   "metadata": {},
   "outputs": [
    {
     "name": "stdout",
     "output_type": "stream",
     "text": [
      "Hello\n"
     ]
    }
   ],
   "source": [
    "# Slice From the Start\n",
    "\n",
    "b = \"Hello, World!\"\n",
    "print(b[:5])"
   ]
  },
  {
   "cell_type": "code",
   "execution_count": 25,
   "id": "cf797d0a",
   "metadata": {},
   "outputs": [
    {
     "name": "stdout",
     "output_type": "stream",
     "text": [
      "llo, World!\n"
     ]
    }
   ],
   "source": [
    "# Slice to the end\n",
    "\n",
    "b = \"Hello, World!\"\n",
    "print(b[2:])\n"
   ]
  },
  {
   "cell_type": "markdown",
   "id": "0b5b5319",
   "metadata": {},
   "source": [
    "\n",
    "# [3.4] Operators, Math Function\n",
    "\n",
    "https://www.w3schools.com/python/python_operators.asp"
   ]
  },
  {
   "cell_type": "code",
   "execution_count": 26,
   "id": "f55b53cc",
   "metadata": {},
   "outputs": [
    {
     "name": "stdout",
     "output_type": "stream",
     "text": [
      "15 8.8 15 17.08695652173913 TTU_Physics 2\n"
     ]
    }
   ],
   "source": [
    "# Example of operators,\n",
    "a = 10 + 5\n",
    "b = 12.3 - 3.5\n",
    "c = 3 * 5\n",
    "d = 39.3/2.3\n",
    "e = \"TTU\" + \"_Physics\"\n",
    "f = 11 % 3  #  modulus: the remainder\n",
    "\n",
    "print(a,b,c,d,e,f)"
   ]
  },
  {
   "cell_type": "code",
   "execution_count": 27,
   "id": "31d139ba",
   "metadata": {},
   "outputs": [],
   "source": [
    "%reset -f"
   ]
  },
  {
   "cell_type": "code",
   "execution_count": 28,
   "id": "a1a15c2f",
   "metadata": {},
   "outputs": [
    {
     "name": "stdout",
     "output_type": "stream",
     "text": [
      "x is NOT equal to y.\n",
      "x is less than y.\n"
     ]
    }
   ],
   "source": [
    "# Example of Comparison Operators\n",
    "x = 5\n",
    "y = 10\n",
    "if x == y:\n",
    "    print(\"x is equal to y.\")\n",
    "if x != y:\n",
    "    print(\"x is NOT equal to y.\")\n",
    "if x > y:\n",
    "    print(\"x is greater than y.\")\n",
    "if x < y:\n",
    "    print(\"x is less than y.\")"
   ]
  },
  {
   "cell_type": "markdown",
   "id": "f2eb3e36",
   "metadata": {},
   "source": [
    "# [3.5] Array and Data structure: Lists, Tuple, Sets, Dictionary\n",
    "\n",
    "https://www.w3schools.com/python/python_lists.asp\n"
   ]
  },
  {
   "cell_type": "code",
   "execution_count": 29,
   "id": "b1676ef3",
   "metadata": {},
   "outputs": [
    {
     "name": "stdout",
     "output_type": "stream",
     "text": [
      "<class 'list'>\n",
      "[123, 3.1415, 'abcd', 25]\n",
      "123 abcd\n",
      "The length of list: 4\n"
     ]
    }
   ],
   "source": [
    "# List:  [...]\n",
    "a=[123, 3.1415, \"abcd\", 25]   # set values in a List a.\n",
    "print(type(a))     # print \n",
    "print(a)\n",
    "\n",
    "# get values from elements in a List using the index. \n",
    "b = a[0]      # 0th element (index=0)\n",
    "c = a[2]      # 2nd element (index=2)\n",
    "print(b,c)\n",
    "\n",
    "k=len(a)\n",
    "print(\"The length of list:\",k)\n"
   ]
  },
  {
   "cell_type": "code",
   "execution_count": 30,
   "id": "c4214c81",
   "metadata": {},
   "outputs": [],
   "source": [
    "%reset -f"
   ]
  },
  {
   "cell_type": "code",
   "execution_count": 31,
   "id": "4e7e8329",
   "metadata": {},
   "outputs": [
    {
     "name": "stdout",
     "output_type": "stream",
     "text": [
      "{'key1': 123, 'key2': 3.14, 'key3': 'abcd', 'key4': 25}\n",
      "b= abcd\n",
      "a after an  addition.  a= {'key1': 123, 'key2': 3.14, 'key3': 'abcd', 'key4': 25, 'key5': 9.8}\n",
      "data51\n",
      "\n",
      "loop\n",
      "key key1   value  123\n",
      "key key2   value  3.14\n",
      "key key3   value  abcd\n",
      "key key4   value  25\n",
      "key key5   value  9.8\n",
      "key 51   value  data51\n",
      "\n",
      "list of keys dict_keys(['key1', 'key2', 'key3', 'key4', 'key5', 51])\n",
      "<class 'dict_keys'>\n"
     ]
    }
   ],
   "source": [
    "# Dictionary:  {...}\n",
    "# To access element, List uses integer index.\n",
    "# and dictinary uses \"key\" word.\n",
    "a={\"key1\":123, \"key2\":3.14, \"key3\":\"abcd\",\"key4\":25}\n",
    "print(a)\n",
    "\n",
    "# get a value from Dictinary using key word (\"key3\" in this case)\n",
    "b=a[\"key3\"]\n",
    "print(\"b=\",b)\n",
    "\n",
    "# add new element into an existing Dictionary\n",
    "a[\"key5\"]=9.80\n",
    "print(\"a after an  addition.  a=\",a)\n",
    "\n",
    "# key-word can be integer, instead of string\n",
    "a[51]=\"data51\"\n",
    "print(a[51])\n",
    "\n",
    "# loop over elements in a dictionary\n",
    "print()\n",
    "print(\"loop\")\n",
    "for x in a:\n",
    "    y = a[x]\n",
    "    print(\"key\",x,\"  value \",y)\n",
    "    \n",
    "# list of keys\n",
    "print()\n",
    "k = a.keys()\n",
    "print(\"list of keys\",k) \n",
    "print(type(k))\n"
   ]
  },
  {
   "cell_type": "code",
   "execution_count": 32,
   "id": "a99d4b0a",
   "metadata": {},
   "outputs": [],
   "source": [
    "%reset -f"
   ]
  },
  {
   "cell_type": "markdown",
   "id": "ea8f3d58",
   "metadata": {},
   "source": [
    "# [3.6] Numpy array\n",
    "\n",
    "NumPy is a Python library. <br>\n",
    "Numpy is used for working with arrays. <br>\n",
    "Numpy is the fundamental package for sceintific computing with Python\n",
    "and short for \"Numerical Python\".\n",
    "<br>\n",
    "\n",
    "\n",
    "https://www.w3schools.com/python/numpy/default.asp\n",
    "<br>\n",
    "https://numpy.org/devdocs/user/absolute_beginners.html \n",
    "<br>"
   ]
  },
  {
   "cell_type": "code",
   "execution_count": 33,
   "id": "d5bc24b7",
   "metadata": {},
   "outputs": [
    {
     "name": "stdout",
     "output_type": "stream",
     "text": [
      "a= [124  39  22]\n",
      "access a[1]: 39\n",
      "[0.  0.5 1.  1.5 2.  2.5 3.  3.5 4.  4.5 5.  5.5 6.  6.5 7.  7.5 8.  8.5\n",
      " 9.  9.5]\n",
      "sum of b= 95.0\n",
      "average of b 4.75\n"
     ]
    }
   ],
   "source": [
    "# numpy array is similar to List, but designed for scientific \n",
    "# numeerical calculations.\n",
    "# List and Dictinary may contain element in different data types, \n",
    "# numpy array have to contain elements in same data type.\n",
    "\n",
    "import numpy as np\n",
    "import matplotlib.pyplot as plt\n",
    "\n",
    "# afew defferent ways to create numpy array.\n",
    "\n",
    "# example 1:\n",
    "a=np.array([124, 39, 22])  # fill values using List\n",
    "print(\"a=\",a)\n",
    "print(\"access a[1]:\",a[1])\n",
    "\n",
    "# example 2:\n",
    "# fill values from 0.0 up to 10.0 with 0.5 step.\n",
    "# (10.0 is not included.)\n",
    "b=np.arange(0.0, 10.0, 0.5)\n",
    "print(b)\n",
    "\n",
    "\n",
    "c=np.sum(b)    # sum all values in array-b.\n",
    "print(\"sum of b=\",c)\n",
    "\n",
    "d=np.average(b) # average of all values in array-b\n",
    "print(\"average of b\",d)\n"
   ]
  },
  {
   "cell_type": "code",
   "execution_count": 34,
   "id": "b06b4b14",
   "metadata": {},
   "outputs": [],
   "source": [
    "%reset -f"
   ]
  },
  {
   "cell_type": "markdown",
   "id": "5c320e51",
   "metadata": {},
   "source": [
    "# [3.7] Pandas DataFrame"
   ]
  },
  {
   "cell_type": "code",
   "execution_count": 35,
   "id": "8797564d",
   "metadata": {},
   "outputs": [],
   "source": [
    "%reset -f"
   ]
  },
  {
   "cell_type": "markdown",
   "id": "80efac99",
   "metadata": {},
   "source": [
    "# [3.8] if ... else\n",
    "\n",
    "https://www.w3schools.com/python/python_conditions.asp\n",
    "\n",
    "Python supports the usual logical conditions from mathematics:\n",
    "\n",
    "Equals: a == b  <br>\n",
    "Not Equals: a != b  <br>\n",
    "Less than: a < b   <br>\n",
    "Less than or equal to: a <= b  <br>\n",
    "Greater than: a > b   <br>\n",
    "Greater than or equal to: a >= b  <br>"
   ]
  },
  {
   "cell_type": "code",
   "execution_count": 36,
   "id": "65112eba",
   "metadata": {},
   "outputs": [
    {
     "name": "stdout",
     "output_type": "stream",
     "text": [
      "a is greater than b\n"
     ]
    }
   ],
   "source": [
    "a = 200\n",
    "b = 33\n",
    "if b > a:\n",
    "  print(\"b is greater than a\")\n",
    "elif a == b:\n",
    "  print(\"a and b are equal\")\n",
    "else:\n",
    "  print(\"a is greater than b\")"
   ]
  },
  {
   "cell_type": "code",
   "execution_count": 37,
   "id": "d3aff453",
   "metadata": {},
   "outputs": [],
   "source": [
    "# if statements cannot be empty, \n",
    "# but if you for some reason have an if statement with no content, \n",
    "# put in the pass statement to avoid getting an error.\n",
    "\n",
    "a = 33\n",
    "b = 200\n",
    "\n",
    "if b > a:\n",
    "  pass"
   ]
  },
  {
   "cell_type": "markdown",
   "id": "6fc0886a",
   "metadata": {},
   "source": [
    "# [3.9] Loops:  While Loops, For Loops\n",
    "\n",
    "https://www.w3schools.com/python/python_while_loops.asp\n",
    "https://www.w3schools.com/python/python_for_loops.asp"
   ]
  },
  {
   "cell_type": "code",
   "execution_count": 38,
   "id": "d8155bae",
   "metadata": {},
   "outputs": [
    {
     "name": "stdout",
     "output_type": "stream",
     "text": [
      "1\n",
      "2\n",
      "3\n",
      "4\n",
      "5\n"
     ]
    }
   ],
   "source": [
    "# Print i as long as i is less than 6:\n",
    "\n",
    "i = 1\n",
    "while i < 6:\n",
    "  print(i)\n",
    "  i += 1"
   ]
  },
  {
   "cell_type": "code",
   "execution_count": 39,
   "id": "8a3dc814",
   "metadata": {},
   "outputs": [
    {
     "name": "stdout",
     "output_type": "stream",
     "text": [
      "apple\n",
      "banana\n",
      "cherry\n"
     ]
    }
   ],
   "source": [
    "# Print each fruit in a fruit list:\n",
    "\n",
    "fruits = [\"apple\", \"banana\", \"cherry\"]\n",
    "for x in fruits:\n",
    "  print(x)"
   ]
  },
  {
   "cell_type": "code",
   "execution_count": 40,
   "id": "3fee7a18",
   "metadata": {},
   "outputs": [
    {
     "name": "stdout",
     "output_type": "stream",
     "text": [
      "apple\n",
      "banana\n"
     ]
    }
   ],
   "source": [
    "# With the break statement we can stop the loop before it has looped \n",
    "# through all the items:\n",
    "\n",
    "fruits = [\"apple\", \"banana\", \"cherry\"]\n",
    "for x in fruits:\n",
    "  print(x) \n",
    "  if x == \"banana\":\n",
    "    break"
   ]
  },
  {
   "cell_type": "code",
   "execution_count": 41,
   "id": "d09be5a1",
   "metadata": {},
   "outputs": [
    {
     "name": "stdout",
     "output_type": "stream",
     "text": [
      "apple\n",
      "cherry\n"
     ]
    }
   ],
   "source": [
    "# With the continue statement we can stop the current iteration \n",
    "# of the loop, and continue with the next:\n",
    "\n",
    "fruits = [\"apple\", \"banana\", \"cherry\"]\n",
    "for x in fruits:\n",
    "  if x == \"banana\":\n",
    "    continue\n",
    "  print(x)"
   ]
  },
  {
   "cell_type": "code",
   "execution_count": 42,
   "id": "684a5ea8",
   "metadata": {},
   "outputs": [],
   "source": [
    "%reset -f"
   ]
  },
  {
   "cell_type": "code",
   "execution_count": 43,
   "id": "fd93300d",
   "metadata": {},
   "outputs": [
    {
     "name": "stdout",
     "output_type": "stream",
     "text": [
      "0.0\n",
      "0.1\n",
      "0.2\n",
      "0.30000000000000004\n",
      "0.4\n",
      "0.5\n",
      "0.6000000000000001\n",
      "0.7000000000000001\n",
      "0.8\n",
      "0.9\n"
     ]
    }
   ],
   "source": [
    "import numpy as np\n",
    "import matplotlib.pyplot as plt\n",
    "\n",
    "# Using numpy arange.\n",
    "\n",
    "for x in np.arange(0.0,1.0,0.1):\n",
    "    print(x)"
   ]
  },
  {
   "cell_type": "code",
   "execution_count": 44,
   "id": "9ecfaa65",
   "metadata": {},
   "outputs": [],
   "source": [
    "%reset -f"
   ]
  },
  {
   "cell_type": "code",
   "execution_count": 45,
   "id": "713df11e",
   "metadata": {},
   "outputs": [
    {
     "name": "stdout",
     "output_type": "stream",
     "text": [
      "n= 0    value= 0.0\n",
      "n= 1    value= 0.1\n",
      "n= 2    value= 0.2\n",
      "n= 3    value= 0.30000000000000004\n",
      "n= 4    value= 0.4\n",
      "n= 5    value= 0.5\n",
      "n= 6    value= 0.6000000000000001\n",
      "n= 7    value= 0.7000000000000001\n",
      "n= 8    value= 0.8\n",
      "n= 9    value= 0.9\n"
     ]
    }
   ],
   "source": [
    "import numpy as np\n",
    "import matplotlib.pyplot as plt\n",
    "\n",
    "# for loop with a counter\n",
    "a = np.arange(0.0, 1.0, 0.1)\n",
    "for n, x in enumerate(a):\n",
    "    print(\"n=\",n,\"   value=\",x)"
   ]
  },
  {
   "cell_type": "code",
   "execution_count": 46,
   "id": "5c9bd481",
   "metadata": {},
   "outputs": [],
   "source": [
    "%reset -f"
   ]
  },
  {
   "cell_type": "markdown",
   "id": "b7861fd8",
   "metadata": {},
   "source": [
    "# [3.10] Functions\n",
    "\n",
    "A function is a block of code which only runs when it is called.\n",
    "\n",
    "You can pass data, known as parameters, into a function.\n",
    "\n",
    "A function can return data as a result."
   ]
  },
  {
   "cell_type": "code",
   "execution_count": 47,
   "id": "e8656c08",
   "metadata": {
    "scrolled": true
   },
   "outputs": [
    {
     "data": {
      "image/png": "[encoded data removed]",
      "text/plain": [
       "<Figure size 432x288 with 1 Axes>"
      ]
     },
     "metadata": {
      "needs_background": "light"
     },
     "output_type": "display_data"
    }
   ],
   "source": [
    "import numpy as np\n",
    "import matplotlib.pyplot as plt\n",
    "\n",
    "# my own function which returns one variable,\n",
    "def myfunction(th):\n",
    "    val=np.sin(th)+1.0\n",
    "    \n",
    "    return val\n",
    "    \n",
    "# maing program.\n",
    "x = np.arange(0.0,10.0,0.01)\n",
    "y = myfunction(x)\n",
    "\n",
    "plt.plot(x,y,\"-\")\n",
    "plt.show()"
   ]
  },
  {
   "cell_type": "code",
   "execution_count": 48,
   "id": "2b457703",
   "metadata": {},
   "outputs": [],
   "source": [
    "%reset -f"
   ]
  },
  {
   "cell_type": "code",
   "execution_count": 49,
   "id": "928bf99f",
   "metadata": {},
   "outputs": [
    {
     "data": {
      "image/png": "[encoded data removed]",
      "text/plain": [
       "<Figure size 432x288 with 1 Axes>"
      ]
     },
     "metadata": {
      "needs_background": "light"
     },
     "output_type": "display_data"
    }
   ],
   "source": [
    "import numpy as np\n",
    "import matplotlib.pyplot as plt\n",
    "\n",
    "# my own function which returns two variables,\n",
    "def myfunction(th):\n",
    "    a=np.sin(th)+1.0\n",
    "    b=np.cos(th)+th\n",
    "    \n",
    "    return a,b \n",
    "    \n",
    "# maing program.\n",
    "x = np.arange(0.0,10.0,0.01)\n",
    "y,z = myfunction(x)\n",
    "\n",
    "plt.plot(x,y,\"b-\")\n",
    "plt.plot(x,z,\"r+\")\n",
    "plt.show()"
   ]
  },
  {
   "cell_type": "code",
   "execution_count": 50,
   "id": "bc737c8c",
   "metadata": {},
   "outputs": [],
   "source": [
    "%reset -f"
   ]
  },
  {
   "cell_type": "markdown",
   "id": "d77dcb1f",
   "metadata": {},
   "source": [
    "[3.9] File Handling"
   ]
  },
  {
   "cell_type": "markdown",
   "id": "f218eac7",
   "metadata": {},
   "source": [
    "[3.9.1] Simple text file in human-readable row-column format"
   ]
  },
  {
   "cell_type": "code",
   "execution_count": 51,
   "id": "27618db9",
   "metadata": {},
   "outputs": [],
   "source": [
    "# example 1a (write) \n",
    "# This simply write lines in a file...\n",
    "import numpy as np\n",
    "import matplotlib.pyplot as plt\n",
    "\n",
    "# creat x, y values\n",
    "xx=np.arange(0.0,10.0,0.5)\n",
    "yy=np.sin(xx)\n",
    "  \n",
    "#  read x, y values lini-by-line from file\n",
    "f=open('xypoints.txt','w')\n",
    "for i in range(len(xx)):\n",
    "    f.write(\"{0:5.2f} {1:7.3f} \\n\".format(xx[i],yy[i]))\n",
    "f.close()    "
   ]
  },
  {
   "cell_type": "code",
   "execution_count": 52,
   "id": "a525023e",
   "metadata": {},
   "outputs": [],
   "source": [
    "%reset -f"
   ]
  },
  {
   "cell_type": "code",
   "execution_count": 53,
   "id": "53670600",
   "metadata": {
    "scrolled": true
   },
   "outputs": [
    {
     "name": "stdout",
     "output_type": "stream",
     "text": [
      " 0.00   0.000 \n",
      "\n",
      " 0.50   0.479 \n",
      "\n",
      " 1.00   0.841 \n",
      "\n",
      " 1.50   0.997 \n",
      "\n",
      " 2.00   0.909 \n",
      "\n",
      " 2.50   0.598 \n",
      "\n",
      " 3.00   0.141 \n",
      "\n",
      " 3.50  -0.351 \n",
      "\n",
      " 4.00  -0.757 \n",
      "\n",
      " 4.50  -0.978 \n",
      "\n",
      " 5.00  -0.959 \n",
      "\n",
      " 5.50  -0.706 \n",
      "\n",
      " 6.00  -0.279 \n",
      "\n",
      " 6.50   0.215 \n",
      "\n",
      " 7.00   0.657 \n",
      "\n",
      " 7.50   0.938 \n",
      "\n",
      " 8.00   0.989 \n",
      "\n",
      " 8.50   0.798 \n",
      "\n",
      " 9.00   0.412 \n",
      "\n",
      " 9.50  -0.075 \n",
      "\n"
     ]
    },
    {
     "data": {
      "image/png": "[encoded data removed]",
      "text/plain": [
       "<Figure size 432x288 with 1 Axes>"
      ]
     },
     "metadata": {
      "needs_background": "light"
     },
     "output_type": "display_data"
    }
   ],
   "source": [
    "# example 1b (read)\n",
    "# This simply write lines in a file and print\n",
    "\n",
    "import numpy as np\n",
    "import matplotlib.pyplot as plt\n",
    "\n",
    "xx=np.array([])   # create an empty array\n",
    "yy=np.array([])   # create an empty array\n",
    "\n",
    "fin=open(\"xypoints.txt\")\n",
    "for line in fin:\n",
    "    print(line)\n",
    "    s=line.split()   # split a line to elements\n",
    "    if len(s)>1:     # skip empty line\n",
    "        # save all x, y values in arrays.\n",
    "        xx=np.append(xx,float(s[0]))    # x in first element\n",
    "        yy=np.append(yy,float(s[1]))    # y in second element\n",
    "        \n",
    "# plot x, y.\n",
    "plt.plot(xx,yy,\"or\")\n",
    "plt.show()\n"
   ]
  },
  {
   "cell_type": "code",
   "execution_count": 54,
   "id": "0ca146f8",
   "metadata": {},
   "outputs": [],
   "source": [
    "%reset -f"
   ]
  },
  {
   "cell_type": "markdown",
   "id": "4424a332",
   "metadata": {},
   "source": [
    "\n",
    "[3.9.2] csv file using pandas dataframe\n",
    "\n",
    "A simple way to store big data sets is to use CSV files (comma separated files).\n",
    "\n",
    "CSV files contains plain text and is a well know format that can be read by everyone including Pandas.\n",
    "\n",
    "https://www.w3schools.com/python/pandas/pandas_csv.asp\n"
   ]
  },
  {
   "cell_type": "code",
   "execution_count": 55,
   "id": "a5a744a7",
   "metadata": {},
   "outputs": [
    {
     "name": "stdout",
     "output_type": "stream",
     "text": [
      "      x         y\n",
      "0   0.0  0.000000\n",
      "1   0.5  0.479426\n",
      "2   1.0  0.841471\n",
      "3   1.5  0.997495\n",
      "4   2.0  0.909297\n",
      "5   2.5  0.598472\n",
      "6   3.0  0.141120\n",
      "7   3.5 -0.350783\n",
      "8   4.0 -0.756802\n",
      "9   4.5 -0.977530\n",
      "10  5.0 -0.958924\n",
      "11  5.5 -0.705540\n",
      "12  6.0 -0.279415\n",
      "13  6.5  0.215120\n",
      "14  7.0  0.656987\n",
      "15  7.5  0.938000\n",
      "16  8.0  0.989358\n",
      "17  8.5  0.798487\n",
      "18  9.0  0.412118\n",
      "19  9.5 -0.075151\n"
     ]
    }
   ],
   "source": [
    "# example 2a (write in csv format)\n",
    "\n",
    "import numpy as np\n",
    "import matplotlib.pyplot as plt\n",
    "import pandas as pd\n",
    "\n",
    "# creat x, y values\n",
    "xx=np.arange(0.0,10.0,0.5)\n",
    "yy=np.sin(xx)\n",
    "\n",
    "# construct the data structure in pandas DataFrame\n",
    "df = pd.DataFrame({'x':xx,'y':yy})\n",
    "print(df)\n",
    "\n",
    "df.to_csv(\"xypoints.csv\")"
   ]
  },
  {
   "cell_type": "code",
   "execution_count": 56,
   "id": "3ec5232a",
   "metadata": {},
   "outputs": [],
   "source": [
    "%reset -f"
   ]
  },
  {
   "cell_type": "code",
   "execution_count": 57,
   "id": "f2a20452",
   "metadata": {},
   "outputs": [
    {
     "name": "stdout",
     "output_type": "stream",
     "text": [
      "    Unnamed: 0    x         y\n",
      "0            0  0.0  0.000000\n",
      "1            1  0.5  0.479426\n",
      "2            2  1.0  0.841471\n",
      "3            3  1.5  0.997495\n",
      "4            4  2.0  0.909297\n",
      "5            5  2.5  0.598472\n",
      "6            6  3.0  0.141120\n",
      "7            7  3.5 -0.350783\n",
      "8            8  4.0 -0.756802\n",
      "9            9  4.5 -0.977530\n",
      "10          10  5.0 -0.958924\n",
      "11          11  5.5 -0.705540\n",
      "12          12  6.0 -0.279415\n",
      "13          13  6.5  0.215120\n",
      "14          14  7.0  0.656987\n",
      "15          15  7.5  0.938000\n",
      "16          16  8.0  0.989358\n",
      "17          17  8.5  0.798487\n",
      "18          18  9.0  0.412118\n",
      "19          19  9.5 -0.075151\n"
     ]
    },
    {
     "data": {
      "image/png": "[encoded data removed]",
      "text/plain": [
       "<Figure size 432x288 with 1 Axes>"
      ]
     },
     "metadata": {
      "needs_background": "light"
     },
     "output_type": "display_data"
    }
   ],
   "source": [
    "# example 2b (read csv file generated by pandas)\n",
    "\n",
    "import numpy as np\n",
    "import matplotlib.pyplot as plt\n",
    "import pandas as pd\n",
    "\n",
    "df = pd.read_csv('xypoints.csv')\n",
    "\n",
    "print(df)\n",
    "\n",
    "# unpack to numpy array\n",
    "xx=df['x'].to_numpy()\n",
    "yy=df['y'].to_numpy()\n",
    "\n",
    "# plot x, y.\n",
    "plt.plot(xx,yy,\"sb\")\n",
    "plt.show()\n",
    "\n"
   ]
  },
  {
   "cell_type": "code",
   "execution_count": 58,
   "id": "139b5be8",
   "metadata": {},
   "outputs": [],
   "source": [
    "%reset -f"
   ]
  },
  {
   "cell_type": "markdown",
   "id": "1930e7b2",
   "metadata": {},
   "source": [
    "# [3.10] Matplotlib.pyplot.plot\n",
    "\n",
    "What is Matplotlib?\n",
    "\n",
    "Matplotlib is a low level graph plotting library in python that serves as a visualization utility.\n",
    "\n",
    "There are many examples in the following links.\n",
    "\n",
    "https://matplotlib.org/stable/api/_as_gen/matplotlib.pyplot.plot.html \n",
    "<br>\n",
    "https://matplotlib.org/stable/gallery/index.html \n",
    "<br>\n",
    "\n",
    "https://www.w3schools.com/python/matplotlib_intro.asp \n",
    "\n",
    "Pay attension on \"Markers\", \"Line\", \"Label\", \"Grid\", \n",
    "\"legend\", \"text\", and various types of plots, \n",
    "e.g. simple, scatter, histograms etc.\n",
    "\n",
    "Do Google search to find good exmples, for example \n",
    "search for \"Matplotlib text\" or \"Matplotlib text example\""
   ]
  },
  {
   "cell_type": "markdown",
   "id": "1191f815",
   "metadata": {},
   "source": [
    "[3.10.1] Subplots\n",
    "\n",
    "With the subplot() function you can draw multiple plots in one figure:\n",
    "\n",
    "https://matplotlib.org/stable/api/_as_gen/matplotlib.pyplot.subplot.html\n",
    "\n",
    "https://www.w3schools.com/python/matplotlib_subplot.asp\n"
   ]
  },
  {
   "cell_type": "code",
   "execution_count": 59,
   "id": "6fed4de0",
   "metadata": {},
   "outputs": [
    {
     "data": {
      "image/png": "[encoded data removed]",
      "text/plain": [
       "<Figure size 432x288 with 2 Axes>"
      ]
     },
     "metadata": {
      "needs_background": "light"
     },
     "output_type": "display_data"
    }
   ],
   "source": [
    "# subplot example\n",
    "\n",
    "import matplotlib.pyplot as plt\n",
    "import numpy as np\n",
    "\n",
    "#plot 1:\n",
    "x = np.array([0, 1, 2, 3])\n",
    "y = np.array([3, 8, 1, 10])\n",
    "\n",
    "plt.subplot(1, 2, 1)\n",
    "plt.plot(x,y)\n",
    "\n",
    "#plot 2:\n",
    "x = np.array([0, 1, 2, 3])\n",
    "y = np.array([10, 20, 30, 40])\n",
    "\n",
    "plt.subplot(1, 2, 2)\n",
    "plt.plot(x,y)\n",
    "\n",
    "plt.show()\n"
   ]
  },
  {
   "cell_type": "code",
   "execution_count": 60,
   "id": "9c737456",
   "metadata": {},
   "outputs": [],
   "source": [
    "%reset -f"
   ]
  },
  {
   "cell_type": "markdown",
   "id": "3cf1929d",
   "metadata": {},
   "source": [
    "[3.10.2] Histogram\n",
    "\n",
    "https://www.w3schools.com/python/matplotlib_histograms.asp\n"
   ]
  },
  {
   "cell_type": "code",
   "execution_count": 61,
   "id": "a68e381b",
   "metadata": {},
   "outputs": [
    {
     "data": {
      "image/png": "[encoded data removed]",
      "text/plain": [
       "<Figure size 432x288 with 1 Axes>"
      ]
     },
     "metadata": {
      "needs_background": "light"
     },
     "output_type": "display_data"
    }
   ],
   "source": [
    "import matplotlib.pyplot as plt\n",
    "import numpy as np\n",
    "\n",
    "# generate 250 random numbers in Gaussian distibution\n",
    "# with mean 170 and standard deviation 10.\n",
    "x = np.random.normal(170, 10, 250)\n",
    "\n",
    "# Plot the distribution\n",
    "plt.hist(x)\n",
    "plt.show() "
   ]
  },
  {
   "cell_type": "code",
   "execution_count": 62,
   "id": "f90d4e60",
   "metadata": {},
   "outputs": [],
   "source": [
    "%reset -f"
   ]
  },
  {
   "cell_type": "markdown",
   "id": "31712bb2",
   "metadata": {},
   "source": [
    "[3.10.4] Math symbols in plots\n",
    "You can use a subset of TeX markup in any Matplotlib text string by placing it inside a pair of dollar signs ($).\n",
    "\n",
    "https://matplotlib.org/stable/gallery/pyplots/pyplot_mathtext.html (an example)\n",
    "https://matplotlib.org/stable/tutorials/text/mathtext.html  (list of symbols etc)\n",
    "\n",
    "Any text element can use math text. You should use raw strings (precede the quotes with an 'r'), and surround the math text with dollar signs ($), as in TeX. Regular text and mathtext can be interleaved within the same string.\n",
    "See the following for more about Latex math symbols and equations. \n",
    "\n",
    "https://en.wikipedia.org/wiki/List_of_mathematical_symbols_by_subject \n",
    "https://en.wikibooks.org/wiki/LaTeX/Mathematics \n"
   ]
  },
  {
   "cell_type": "code",
   "execution_count": 63,
   "id": "82df1aa8",
   "metadata": {},
   "outputs": [
    {
     "data": {
      "image/png": "[encoded data removed]",
      "text/plain": [
       "<Figure size 432x288 with 1 Axes>"
      ]
     },
     "metadata": {
      "needs_background": "light"
     },
     "output_type": "display_data"
    }
   ],
   "source": [
    "import numpy as np\n",
    "import matplotlib.pyplot as plt\n",
    "\n",
    "\n",
    "g=9.8\n",
    "v0=6.00\n",
    "y0=0.00\n",
    "\n",
    "t=np.arange(0.0,1.5,0.01)\n",
    "y=y0+v0*t-0.5*g*t*t\n",
    "\n",
    "plt.plot(t,y)\n",
    "plt.xlabel(\"time, s\")\n",
    "plt.ylabel(\"height, m\")\n",
    "plt.title(r\"$y=y_0+v_0 t-\\frac{1}{2}gt^2$\")\n",
    "plt.text(0.6,-0.5,r\"$y_0 = 0.0 \\ m$\")\n",
    "plt.text(0.6,-1.0,r\"$v_0 = 6.0 \\ m/s$\")\n",
    "plt.text(0.6,-1.5,r\"$g = 9.8 \\ m/s^2$\")\n",
    "plt.show()"
   ]
  },
  {
   "cell_type": "code",
   "execution_count": 64,
   "id": "d4b86dda",
   "metadata": {},
   "outputs": [],
   "source": [
    "%reset -f"
   ]
  },
  {
   "cell_type": "markdown",
   "id": "73e7df17",
   "metadata": {},
   "source": [
    "[3.10.3] Animation\n",
    "\n",
    "Animation is fun and useful to understsand behaviour of physical system. You may find examples of animation codes at\n",
    "https://matplotlib.org/stable/api/animation_api.html\n",
    "\n",
    "Here is one example.\n",
    "\n",
    "Rain Drop Simulation <br>\n",
    "https://matplotlib.org/stable/gallery/animation/rain.html\n",
    "\n",
    "To run animation in jupyter notebook, the follwoing magic line is required.\n",
    "\n",
    "%matplotlib notebook\n",
    "\n",
    "<b>catution: If you need to rerun this notebook, you may need to comment-out the magic line with # sign in the following code. The line may interfere with othe parts of this notebook.</b>\n"
   ]
  },
  {
   "cell_type": "code",
   "execution_count": 65,
   "id": "fe8919ad",
   "metadata": {
    "scrolled": true
   },
   "outputs": [
    {
     "data": {
      "application/javascript": [
       "/* Put everything inside the global mpl namespace */\n",
       "/* global mpl */\n",
       "window.mpl = {};\n",
       "\n",
       "mpl.get_websocket_type = function () {\n",
       "    if (typeof WebSocket !== 'undefined') {\n",
       "        return WebSocket;\n",
       "    } else if (typeof MozWebSocket !== 'undefined') {\n",
       "        return MozWebSocket;\n",
       "    } else {\n",
       "        alert(\n",
       "            'Your browser does not have WebSocket support. ' +\n",
       "                'Please try Chrome, Safari or Firefox ≥ 6. ' +\n",
       "                'Firefox 4 and 5 are also supported but you ' +\n",
       "                'have to enable WebSockets in about:config.'\n",
       "        );\n",
       "    }\n",
       "};\n",
       "\n",
       "mpl.figure = function (figure_id, websocket, ondownload, parent_element) {\n",
       "    this.id = figure_id;\n",
       "\n",
       "    this.ws = websocket;\n",
       "\n",
       "    this.supports_binary = this.ws.binaryType !== undefined;\n",
       "\n",
       "    if (!this.supports_binary) {\n",
       "        var warnings = document.getElementById('mpl-warnings');\n",
       "        if (warnings) {\n",
       "            warnings.style.display = 'block';\n",
       "            warnings.textContent =\n",
       "                'This browser does not support binary websocket messages. ' +\n",
       "                'Performance may be slow.';\n",
       "        }\n",
       "    }\n",
       "\n",
       "    this.imageObj = new Image();\n",
       "\n",
       "    this.context = undefined;\n",
       "    this.message = undefined;\n",
       "    this.canvas = undefined;\n",
       "    this.rubberband_canvas = undefined;\n",
       "    this.rubberband_context = undefined;\n",
       "    this.format_dropdown = undefined;\n",
       "\n",
       "    this.image_mode = 'full';\n",
       "\n",
       "    this.root = document.createElement('div');\n",
       "    this.root.setAttribute('style', 'display: inline-block');\n",
       "    this._root_extra_style(this.root);\n",
       "\n",
       "    parent_element.appendChild(this.root);\n",
       "\n",
       "    this._init_header(this);\n",
       "    this._init_canvas(this);\n",
       "    this._init_toolbar(this);\n",
       "\n",
       "    var fig = this;\n",
       "\n",
       "    this.waiting = false;\n",
       "\n",
       "    this.ws.onopen = function () {\n",
       "        fig.send_message('supports_binary', { value: fig.supports_binary });\n",
       "        fig.send_message('send_image_mode', {});\n",
       "        if (fig.ratio !== 1) {\n",
       "            fig.send_message('set_device_pixel_ratio', {\n",
       "                device_pixel_ratio: fig.ratio,\n",
       "            });\n",
       "        }\n",
       "        fig.send_message('refresh', {});\n",
       "    };\n",
       "\n",
       "    this.imageObj.onload = function () {\n",
       "        if (fig.image_mode === 'full') {\n",
       "            // Full images could contain transparency (where diff images\n",
       "            // almost always do), so we need to clear the canvas so that\n",
       "            // there is no ghosting.\n",
       "            fig.context.clearRect(0, 0, fig.canvas.width, fig.canvas.height);\n",
       "        }\n",
       "        fig.context.drawImage(fig.imageObj, 0, 0);\n",
       "    };\n",
       "\n",
       "    this.imageObj.onunload = function () {\n",
       "        fig.ws.close();\n",
       "    };\n",
       "\n",
       "    this.ws.onmessage = this._make_on_message_function(this);\n",
       "\n",
       "    this.ondownload = ondownload;\n",
       "};\n",
       "\n",
       "mpl.figure.prototype._init_header = function () {\n",
       "    var titlebar = document.createElement('div');\n",
       "    titlebar.classList =\n",
       "        'ui-dialog-titlebar ui-widget-header ui-corner-all ui-helper-clearfix';\n",
       "    var titletext = document.createElement('div');\n",
       "    titletext.classList = 'ui-dialog-title';\n",
       "    titletext.setAttribute(\n",
       "        'style',\n",
       "        'width: 100%; text-align: center; padding: 3px;'\n",
       "    );\n",
       "    titlebar.appendChild(titletext);\n",
       "    this.root.appendChild(titlebar);\n",
       "    this.header = titletext;\n",
       "};\n",
       "\n",
       "mpl.figure.prototype._canvas_extra_style = function (_canvas_div) {};\n",
       "\n",
       "mpl.figure.prototype._root_extra_style = function (_canvas_div) {};\n",
       "\n",
       "mpl.figure.prototype._init_canvas = function () {\n",
       "    var fig = this;\n",
       "\n",
       "    var canvas_div = (this.canvas_div = document.createElement('div'));\n",
       "    canvas_div.setAttribute(\n",
       "        'style',\n",
       "        'border: 1px solid #ddd;' +\n",
       "            'box-sizing: content-box;' +\n",
       "            'clear: both;' +\n",
       "            'min-height: 1px;' +\n",
       "            'min-width: 1px;' +\n",
       "            'outline: 0;' +\n",
       "            'overflow: hidden;' +\n",
       "            'position: relative;' +\n",
       "            'resize: both;'\n",
       "    );\n",
       "\n",
       "    function on_keyboard_event_closure(name) {\n",
       "        return function (event) {\n",
       "            return fig.key_event(event, name);\n",
       "        };\n",
       "    }\n",
       "\n",
       "    canvas_div.addEventListener(\n",
       "        'keydown',\n",
       "        on_keyboard_event_closure('key_press')\n",
       "    );\n",
       "    canvas_div.addEventListener(\n",
       "        'keyup',\n",
       "        on_keyboard_event_closure('key_release')\n",
       "    );\n",
       "\n",
       "    this._canvas_extra_style(canvas_div);\n",
       "    this.root.appendChild(canvas_div);\n",
       "\n",
       "    var canvas = (this.canvas = document.createElement('canvas'));\n",
       "    canvas.classList.add('mpl-canvas');\n",
       "    canvas.setAttribute('style', 'box-sizing: content-box;');\n",
       "\n",
       "    this.context = canvas.getContext('2d');\n",
       "\n",
       "    var backingStore =\n",
       "        this.context.backingStorePixelRatio ||\n",
       "        this.context.webkitBackingStorePixelRatio ||\n",
       "        this.context.mozBackingStorePixelRatio ||\n",
       "        this.context.msBackingStorePixelRatio ||\n",
       "        this.context.oBackingStorePixelRatio ||\n",
       "        this.context.backingStorePixelRatio ||\n",
       "        1;\n",
       "\n",
       "    this.ratio = (window.devicePixelRatio || 1) / backingStore;\n",
       "\n",
       "    var rubberband_canvas = (this.rubberband_canvas = document.createElement(\n",
       "        'canvas'\n",
       "    ));\n",
       "    rubberband_canvas.setAttribute(\n",
       "        'style',\n",
       "        'box-sizing: content-box; position: absolute; left: 0; top: 0; z-index: 1;'\n",
       "    );\n",
       "\n",
       "    // Apply a ponyfill if ResizeObserver is not implemented by browser.\n",
       "    if (this.ResizeObserver === undefined) {\n",
       "        if (window.ResizeObserver !== undefined) {\n",
       "            this.ResizeObserver = window.ResizeObserver;\n",
       "        } else {\n",
       "            var obs = _JSXTOOLS_RESIZE_OBSERVER({});\n",
       "            this.ResizeObserver = obs.ResizeObserver;\n",
       "        }\n",
       "    }\n",
       "\n",
       "    this.resizeObserverInstance = new this.ResizeObserver(function (entries) {\n",
       "        var nentries = entries.length;\n",
       "        for (var i = 0; i < nentries; i++) {\n",
       "            var entry = entries[i];\n",
       "            var width, height;\n",
       "            if (entry.contentBoxSize) {\n",
       "                if (entry.contentBoxSize instanceof Array) {\n",
       "                    // Chrome 84 implements new version of spec.\n",
       "                    width = entry.contentBoxSize[0].inlineSize;\n",
       "                    height = entry.contentBoxSize[0].blockSize;\n",
       "                } else {\n",
       "                    // Firefox implements old version of spec.\n",
       "                    width = entry.contentBoxSize.inlineSize;\n",
       "                    height = entry.contentBoxSize.blockSize;\n",
       "                }\n",
       "            } else {\n",
       "                // Chrome <84 implements even older version of spec.\n",
       "                width = entry.contentRect.width;\n",
       "                height = entry.contentRect.height;\n",
       "            }\n",
       "\n",
       "            // Keep the size of the canvas and rubber band canvas in sync with\n",
       "            // the canvas container.\n",
       "            if (entry.devicePixelContentBoxSize) {\n",
       "                // Chrome 84 implements new version of spec.\n",
       "                canvas.setAttribute(\n",
       "                    'width',\n",
       "                    entry.devicePixelContentBoxSize[0].inlineSize\n",
       "                );\n",
       "                canvas.setAttribute(\n",
       "                    'height',\n",
       "                    entry.devicePixelContentBoxSize[0].blockSize\n",
       "                );\n",
       "            } else {\n",
       "                canvas.setAttribute('width', width * fig.ratio);\n",
       "                canvas.setAttribute('height', height * fig.ratio);\n",
       "            }\n",
       "            canvas.setAttribute(\n",
       "                'style',\n",
       "                'width: ' + width + 'px; height: ' + height + 'px;'\n",
       "            );\n",
       "\n",
       "            rubberband_canvas.setAttribute('width', width);\n",
       "            rubberband_canvas.setAttribute('height', height);\n",
       "\n",
       "            // And update the size in Python. We ignore the initial 0/0 size\n",
       "            // that occurs as the element is placed into the DOM, which should\n",
       "            // otherwise not happen due to the minimum size styling.\n",
       "            if (fig.ws.readyState == 1 && width != 0 && height != 0) {\n",
       "                fig.request_resize(width, height);\n",
       "            }\n",
       "        }\n",
       "    });\n",
       "    this.resizeObserverInstance.observe(canvas_div);\n",
       "\n",
       "    function on_mouse_event_closure(name) {\n",
       "        return function (event) {\n",
       "            return fig.mouse_event(event, name);\n",
       "        };\n",
       "    }\n",
       "\n",
       "    rubberband_canvas.addEventListener(\n",
       "        'mousedown',\n",
       "        on_mouse_event_closure('button_press')\n",
       "    );\n",
       "    rubberband_canvas.addEventListener(\n",
       "        'mouseup',\n",
       "        on_mouse_event_closure('button_release')\n",
       "    );\n",
       "    rubberband_canvas.addEventListener(\n",
       "        'dblclick',\n",
       "        on_mouse_event_closure('dblclick')\n",
       "    );\n",
       "    // Throttle sequential mouse events to 1 every 20ms.\n",
       "    rubberband_canvas.addEventListener(\n",
       "        'mousemove',\n",
       "        on_mouse_event_closure('motion_notify')\n",
       "    );\n",
       "\n",
       "    rubberband_canvas.addEventListener(\n",
       "        'mouseenter',\n",
       "        on_mouse_event_closure('figure_enter')\n",
       "    );\n",
       "    rubberband_canvas.addEventListener(\n",
       "        'mouseleave',\n",
       "        on_mouse_event_closure('figure_leave')\n",
       "    );\n",
       "\n",
       "    canvas_div.addEventListener('wheel', function (event) {\n",
       "        if (event.deltaY < 0) {\n",
       "            event.step = 1;\n",
       "        } else {\n",
       "            event.step = -1;\n",
       "        }\n",
       "        on_mouse_event_closure('scroll')(event);\n",
       "    });\n",
       "\n",
       "    canvas_div.appendChild(canvas);\n",
       "    canvas_div.appendChild(rubberband_canvas);\n",
       "\n",
       "    this.rubberband_context = rubberband_canvas.getContext('2d');\n",
       "    this.rubberband_context.strokeStyle = '#000000';\n",
       "\n",
       "    this._resize_canvas = function (width, height, forward) {\n",
       "        if (forward) {\n",
       "            canvas_div.style.width = width + 'px';\n",
       "            canvas_div.style.height = height + 'px';\n",
       "        }\n",
       "    };\n",
       "\n",
       "    // Disable right mouse context menu.\n",
       "    this.rubberband_canvas.addEventListener('contextmenu', function (_e) {\n",
       "        event.preventDefault();\n",
       "        return false;\n",
       "    });\n",
       "\n",
       "    function set_focus() {\n",
       "        canvas.focus();\n",
       "        canvas_div.focus();\n",
       "    }\n",
       "\n",
       "    window.setTimeout(set_focus, 100);\n",
       "};\n",
       "\n",
       "mpl.figure.prototype._init_toolbar = function () {\n",
       "    var fig = this;\n",
       "\n",
       "    var toolbar = document.createElement('div');\n",
       "    toolbar.classList = 'mpl-toolbar';\n",
       "    this.root.appendChild(toolbar);\n",
       "\n",
       "    function on_click_closure(name) {\n",
       "        return function (_event) {\n",
       "            return fig.toolbar_button_onclick(name);\n",
       "        };\n",
       "    }\n",
       "\n",
       "    function on_mouseover_closure(tooltip) {\n",
       "        return function (event) {\n",
       "            if (!event.currentTarget.disabled) {\n",
       "                return fig.toolbar_button_onmouseover(tooltip);\n",
       "            }\n",
       "        };\n",
       "    }\n",
       "\n",
       "    fig.buttons = {};\n",
       "    var buttonGroup = document.createElement('div');\n",
       "    buttonGroup.classList = 'mpl-button-group';\n",
       "    for (var toolbar_ind in mpl.toolbar_items) {\n",
       "        var name = mpl.toolbar_items[toolbar_ind][0];\n",
       "        var tooltip = mpl.toolbar_items[toolbar_ind][1];\n",
       "        var image = mpl.toolbar_items[toolbar_ind][2];\n",
       "        var method_name = mpl.toolbar_items[toolbar_ind][3];\n",
       "\n",
       "        if (!name) {\n",
       "            /* Instead of a spacer, we start a new button group. */\n",
       "            if (buttonGroup.hasChildNodes()) {\n",
       "                toolbar.appendChild(buttonGroup);\n",
       "            }\n",
       "            buttonGroup = document.createElement('div');\n",
       "            buttonGroup.classList = 'mpl-button-group';\n",
       "            continue;\n",
       "        }\n",
       "\n",
       "        var button = (fig.buttons[name] = document.createElement('button'));\n",
       "        button.classList = 'mpl-widget';\n",
       "        button.setAttribute('role', 'button');\n",
       "        button.setAttribute('aria-disabled', 'false');\n",
       "        button.addEventListener('click', on_click_closure(method_name));\n",
       "        button.addEventListener('mouseover', on_mouseover_closure(tooltip));\n",
       "\n",
       "        var icon_img = document.createElement('img');\n",
       "        icon_img.src = '_images/' + image + '.png';\n",
       "        icon_img.srcset = '_images/' + image + '_large.png 2x';\n",
       "        icon_img.alt = tooltip;\n",
       "        button.appendChild(icon_img);\n",
       "\n",
       "        buttonGroup.appendChild(button);\n",
       "    }\n",
       "\n",
       "    if (buttonGroup.hasChildNodes()) {\n",
       "        toolbar.appendChild(buttonGroup);\n",
       "    }\n",
       "\n",
       "    var fmt_picker = document.createElement('select');\n",
       "    fmt_picker.classList = 'mpl-widget';\n",
       "    toolbar.appendChild(fmt_picker);\n",
       "    this.format_dropdown = fmt_picker;\n",
       "\n",
       "    for (var ind in mpl.extensions) {\n",
       "        var fmt = mpl.extensions[ind];\n",
       "        var option = document.createElement('option');\n",
       "        option.selected = fmt === mpl.default_extension;\n",
       "        option.innerHTML = fmt;\n",
       "        fmt_picker.appendChild(option);\n",
       "    }\n",
       "\n",
       "    var status_bar = document.createElement('span');\n",
       "    status_bar.classList = 'mpl-message';\n",
       "    toolbar.appendChild(status_bar);\n",
       "    this.message = status_bar;\n",
       "};\n",
       "\n",
       "mpl.figure.prototype.request_resize = function (x_pixels, y_pixels) {\n",
       "    // Request matplotlib to resize the figure. Matplotlib will then trigger a resize in the client,\n",
       "    // which will in turn request a refresh of the image.\n",
       "    this.send_message('resize', { width: x_pixels, height: y_pixels });\n",
       "};\n",
       "\n",
       "mpl.figure.prototype.send_message = function (type, properties) {\n",
       "    properties['type'] = type;\n",
       "    properties['figure_id'] = this.id;\n",
       "    this.ws.send(JSON.stringify(properties));\n",
       "};\n",
       "\n",
       "mpl.figure.prototype.send_draw_message = function () {\n",
       "    if (!this.waiting) {\n",
       "        this.waiting = true;\n",
       "        this.ws.send(JSON.stringify({ type: 'draw', figure_id: this.id }));\n",
       "    }\n",
       "};\n",
       "\n",
       "mpl.figure.prototype.handle_save = function (fig, _msg) {\n",
       "    var format_dropdown = fig.format_dropdown;\n",
       "    var format = format_dropdown.options[format_dropdown.selectedIndex].value;\n",
       "    fig.ondownload(fig, format);\n",
       "};\n",
       "\n",
       "mpl.figure.prototype.handle_resize = function (fig, msg) {\n",
       "    var size = msg['size'];\n",
       "    if (size[0] !== fig.canvas.width || size[1] !== fig.canvas.height) {\n",
       "        fig._resize_canvas(size[0], size[1], msg['forward']);\n",
       "        fig.send_message('refresh', {});\n",
       "    }\n",
       "};\n",
       "\n",
       "mpl.figure.prototype.handle_rubberband = function (fig, msg) {\n",
       "    var x0 = msg['x0'] / fig.ratio;\n",
       "    var y0 = (fig.canvas.height - msg['y0']) / fig.ratio;\n",
       "    var x1 = msg['x1'] / fig.ratio;\n",
       "    var y1 = (fig.canvas.height - msg['y1']) / fig.ratio;\n",
       "    x0 = Math.floor(x0) + 0.5;\n",
       "    y0 = Math.floor(y0) + 0.5;\n",
       "    x1 = Math.floor(x1) + 0.5;\n",
       "    y1 = Math.floor(y1) + 0.5;\n",
       "    var min_x = Math.min(x0, x1);\n",
       "    var min_y = Math.min(y0, y1);\n",
       "    var width = Math.abs(x1 - x0);\n",
       "    var height = Math.abs(y1 - y0);\n",
       "\n",
       "    fig.rubberband_context.clearRect(\n",
       "        0,\n",
       "        0,\n",
       "        fig.canvas.width / fig.ratio,\n",
       "        fig.canvas.height / fig.ratio\n",
       "    );\n",
       "\n",
       "    fig.rubberband_context.strokeRect(min_x, min_y, width, height);\n",
       "};\n",
       "\n",
       "mpl.figure.prototype.handle_figure_label = function (fig, msg) {\n",
       "    // Updates the figure title.\n",
       "    fig.header.textContent = msg['label'];\n",
       "};\n",
       "\n",
       "mpl.figure.prototype.handle_cursor = function (fig, msg) {\n",
       "    fig.rubberband_canvas.style.cursor = msg['cursor'];\n",
       "};\n",
       "\n",
       "mpl.figure.prototype.handle_message = function (fig, msg) {\n",
       "    fig.message.textContent = msg['message'];\n",
       "};\n",
       "\n",
       "mpl.figure.prototype.handle_draw = function (fig, _msg) {\n",
       "    // Request the server to send over a new figure.\n",
       "    fig.send_draw_message();\n",
       "};\n",
       "\n",
       "mpl.figure.prototype.handle_image_mode = function (fig, msg) {\n",
       "    fig.image_mode = msg['mode'];\n",
       "};\n",
       "\n",
       "mpl.figure.prototype.handle_history_buttons = function (fig, msg) {\n",
       "    for (var key in msg) {\n",
       "        if (!(key in fig.buttons)) {\n",
       "            continue;\n",
       "        }\n",
       "        fig.buttons[key].disabled = !msg[key];\n",
       "        fig.buttons[key].setAttribute('aria-disabled', !msg[key]);\n",
       "    }\n",
       "};\n",
       "\n",
       "mpl.figure.prototype.handle_navigate_mode = function (fig, msg) {\n",
       "    if (msg['mode'] === 'PAN') {\n",
       "        fig.buttons['Pan'].classList.add('active');\n",
       "        fig.buttons['Zoom'].classList.remove('active');\n",
       "    } else if (msg['mode'] === 'ZOOM') {\n",
       "        fig.buttons['Pan'].classList.remove('active');\n",
       "        fig.buttons['Zoom'].classList.add('active');\n",
       "    } else {\n",
       "        fig.buttons['Pan'].classList.remove('active');\n",
       "        fig.buttons['Zoom'].classList.remove('active');\n",
       "    }\n",
       "};\n",
       "\n",
       "mpl.figure.prototype.updated_canvas_event = function () {\n",
       "    // Called whenever the canvas gets updated.\n",
       "    this.send_message('ack', {});\n",
       "};\n",
       "\n",
       "// A function to construct a web socket function for onmessage handling.\n",
       "// Called in the figure constructor.\n",
       "mpl.figure.prototype._make_on_message_function = function (fig) {\n",
       "    return function socket_on_message(evt) {\n",
       "        if (evt.data instanceof Blob) {\n",
       "            var img = evt.data;\n",
       "            if (img.type !== 'image/png') {\n",
       "                /* FIXME: We get \"Resource interpreted as Image but\n",
       "                 * transferred with MIME type text/plain:\" errors on\n",
       "                 * Chrome.  But how to set the MIME type?  It doesn't seem\n",
       "                 * to be part of the websocket stream */\n",
       "                img.type = 'image/png';\n",
       "            }\n",
       "\n",
       "            /* Free the memory for the previous frames */\n",
       "            if (fig.imageObj.src) {\n",
       "                (window.URL || window.webkitURL).revokeObjectURL(\n",
       "                    fig.imageObj.src\n",
       "                );\n",
       "            }\n",
       "\n",
       "            fig.imageObj.src = (window.URL || window.webkitURL).createObjectURL(\n",
       "                img\n",
       "            );\n",
       "            fig.updated_canvas_event();\n",
       "            fig.waiting = false;\n",
       "            return;\n",
       "        } else if (\n",
       "            typeof evt.data === 'string' &&\n",
       "            evt.data.slice(0, 21) === 'data:image/png;base64'\n",
       "        ) {\n",
       "            fig.imageObj.src = evt.data;\n",
       "            fig.updated_canvas_event();\n",
       "            fig.waiting = false;\n",
       "            return;\n",
       "        }\n",
       "\n",
       "        var msg = JSON.parse(evt.data);\n",
       "        var msg_type = msg['type'];\n",
       "\n",
       "        // Call the  \"handle_{type}\" callback, which takes\n",
       "        // the figure and JSON message as its only arguments.\n",
       "        try {\n",
       "            var callback = fig['handle_' + msg_type];\n",
       "        } catch (e) {\n",
       "            console.log(\n",
       "                \"No handler for the '\" + msg_type + \"' message type: \",\n",
       "                msg\n",
       "            );\n",
       "            return;\n",
       "        }\n",
       "\n",
       "        if (callback) {\n",
       "            try {\n",
       "                // console.log(\"Handling '\" + msg_type + \"' message: \", msg);\n",
       "                callback(fig, msg);\n",
       "            } catch (e) {\n",
       "                console.log(\n",
       "                    \"Exception inside the 'handler_\" + msg_type + \"' callback:\",\n",
       "                    e,\n",
       "                    e.stack,\n",
       "                    msg\n",
       "                );\n",
       "            }\n",
       "        }\n",
       "    };\n",
       "};\n",
       "\n",
       "// from https://stackoverflow.com/questions/1114465/getting-mouse-location-in-canvas\n",
       "mpl.findpos = function (e) {\n",
       "    //this section is from http://www.quirksmode.org/js/events_properties.html\n",
       "    var targ;\n",
       "    if (!e) {\n",
       "        e = window.event;\n",
       "    }\n",
       "    if (e.target) {\n",
       "        targ = e.target;\n",
       "    } else if (e.srcElement) {\n",
       "        targ = e.srcElement;\n",
       "    }\n",
       "    if (targ.nodeType === 3) {\n",
       "        // defeat Safari bug\n",
       "        targ = targ.parentNode;\n",
       "    }\n",
       "\n",
       "    // pageX,Y are the mouse positions relative to the document\n",
       "    var boundingRect = targ.getBoundingClientRect();\n",
       "    var x = e.pageX - (boundingRect.left + document.body.scrollLeft);\n",
       "    var y = e.pageY - (boundingRect.top + document.body.scrollTop);\n",
       "\n",
       "    return { x: x, y: y };\n",
       "};\n",
       "\n",
       "/*\n",
       " * return a copy of an object with only non-object keys\n",
       " * we need this to avoid circular references\n",
       " * https://stackoverflow.com/a/24161582/3208463\n",
       " */\n",
       "function simpleKeys(original) {\n",
       "    return Object.keys(original).reduce(function (obj, key) {\n",
       "        if (typeof original[key] !== 'object') {\n",
       "            obj[key] = original[key];\n",
       "        }\n",
       "        return obj;\n",
       "    }, {});\n",
       "}\n",
       "\n",
       "mpl.figure.prototype.mouse_event = function (event, name) {\n",
       "    var canvas_pos = mpl.findpos(event);\n",
       "\n",
       "    if (name === 'button_press') {\n",
       "        this.canvas.focus();\n",
       "        this.canvas_div.focus();\n",
       "    }\n",
       "\n",
       "    var x = canvas_pos.x * this.ratio;\n",
       "    var y = canvas_pos.y * this.ratio;\n",
       "\n",
       "    this.send_message(name, {\n",
       "        x: x,\n",
       "        y: y,\n",
       "        button: event.button,\n",
       "        step: event.step,\n",
       "        guiEvent: simpleKeys(event),\n",
       "    });\n",
       "\n",
       "    /* This prevents the web browser from automatically changing to\n",
       "     * the text insertion cursor when the button is pressed.  We want\n",
       "     * to control all of the cursor setting manually through the\n",
       "     * 'cursor' event from matplotlib */\n",
       "    event.preventDefault();\n",
       "    return false;\n",
       "};\n",
       "\n",
       "mpl.figure.prototype._key_event_extra = function (_event, _name) {\n",
       "    // Handle any extra behaviour associated with a key event\n",
       "};\n",
       "\n",
       "mpl.figure.prototype.key_event = function (event, name) {\n",
       "    // Prevent repeat events\n",
       "    if (name === 'key_press') {\n",
       "        if (event.key === this._key) {\n",
       "            return;\n",
       "        } else {\n",
       "            this._key = event.key;\n",
       "        }\n",
       "    }\n",
       "    if (name === 'key_release') {\n",
       "        this._key = null;\n",
       "    }\n",
       "\n",
       "    var value = '';\n",
       "    if (event.ctrlKey && event.key !== 'Control') {\n",
       "        value += 'ctrl+';\n",
       "    }\n",
       "    else if (event.altKey && event.key !== 'Alt') {\n",
       "        value += 'alt+';\n",
       "    }\n",
       "    else if (event.shiftKey && event.key !== 'Shift') {\n",
       "        value += 'shift+';\n",
       "    }\n",
       "\n",
       "    value += 'k' + event.key;\n",
       "\n",
       "    this._key_event_extra(event, name);\n",
       "\n",
       "    this.send_message(name, { key: value, guiEvent: simpleKeys(event) });\n",
       "    return false;\n",
       "};\n",
       "\n",
       "mpl.figure.prototype.toolbar_button_onclick = function (name) {\n",
       "    if (name === 'download') {\n",
       "        this.handle_save(this, null);\n",
       "    } else {\n",
       "        this.send_message('toolbar_button', { name: name });\n",
       "    }\n",
       "};\n",
       "\n",
       "mpl.figure.prototype.toolbar_button_onmouseover = function (tooltip) {\n",
       "    this.message.textContent = tooltip;\n",
       "};\n",
       "\n",
       "///////////////// REMAINING CONTENT GENERATED BY embed_js.py /////////////////\n",
       "// prettier-ignore\n",
       "var _JSXTOOLS_RESIZE_OBSERVER=function(A){var t,i=new WeakMap,n=new WeakMap,a=new WeakMap,r=new WeakMap,o=new Set;function s(e){if(!(this instanceof s))throw new TypeError(\"Constructor requires 'new' operator\");i.set(this,e)}function h(){throw new TypeError(\"Function is not a constructor\")}function c(e,t,i,n){e=0 in arguments?Number(arguments[0]):0,t=1 in arguments?Number(arguments[1]):0,i=2 in arguments?Number(arguments[2]):0,n=3 in arguments?Number(arguments[3]):0,this.right=(this.x=this.left=e)+(this.width=i),this.bottom=(this.y=this.top=t)+(this.height=n),Object.freeze(this)}function d(){t=requestAnimationFrame(d);var s=new WeakMap,p=new Set;o.forEach((function(t){r.get(t).forEach((function(i){var r=t instanceof window.SVGElement,o=a.get(t),d=r?0:parseFloat(o.paddingTop),f=r?0:parseFloat(o.paddingRight),l=r?0:parseFloat(o.paddingBottom),u=r?0:parseFloat(o.paddingLeft),g=r?0:parseFloat(o.borderTopWidth),m=r?0:parseFloat(o.borderRightWidth),w=r?0:parseFloat(o.borderBottomWidth),b=u+f,F=d+l,v=(r?0:parseFloat(o.borderLeftWidth))+m,W=g+w,y=r?0:t.offsetHeight-W-t.clientHeight,E=r?0:t.offsetWidth-v-t.clientWidth,R=b+v,z=F+W,M=r?t.width:parseFloat(o.width)-R-E,O=r?t.height:parseFloat(o.height)-z-y;if(n.has(t)){var k=n.get(t);if(k[0]===M&&k[1]===O)return}n.set(t,[M,O]);var S=Object.create(h.prototype);S.target=t,S.contentRect=new c(u,d,M,O),s.has(i)||(s.set(i,[]),p.add(i)),s.get(i).push(S)}))})),p.forEach((function(e){i.get(e).call(e,s.get(e),e)}))}return s.prototype.observe=function(i){if(i instanceof window.Element){r.has(i)||(r.set(i,new Set),o.add(i),a.set(i,window.getComputedStyle(i)));var n=r.get(i);n.has(this)||n.add(this),cancelAnimationFrame(t),t=requestAnimationFrame(d)}},s.prototype.unobserve=function(i){if(i instanceof window.Element&&r.has(i)){var n=r.get(i);n.has(this)&&(n.delete(this),n.size||(r.delete(i),o.delete(i))),n.size||r.delete(i),o.size||cancelAnimationFrame(t)}},A.DOMRectReadOnly=c,A.ResizeObserver=s,A.ResizeObserverEntry=h,A}; // eslint-disable-line\n",
       "mpl.toolbar_items = [[\"Home\", \"Reset original view\", \"fa fa-home icon-home\", \"home\"], [\"Back\", \"Back to previous view\", \"fa fa-arrow-left icon-arrow-left\", \"back\"], [\"Forward\", \"Forward to next view\", \"fa fa-arrow-right icon-arrow-right\", \"forward\"], [\"\", \"\", \"\", \"\"], [\"Pan\", \"Left button pans, Right button zooms\\nx/y fixes axis, CTRL fixes aspect\", \"fa fa-arrows icon-move\", \"pan\"], [\"Zoom\", \"Zoom to rectangle\\nx/y fixes axis\", \"fa fa-square-o icon-check-empty\", \"zoom\"], [\"\", \"\", \"\", \"\"], [\"Download\", \"Download plot\", \"fa fa-floppy-o icon-save\", \"download\"]];\n",
       "\n",
       "mpl.extensions = [\"eps\", \"jpeg\", \"pgf\", \"pdf\", \"png\", \"ps\", \"raw\", \"svg\", \"tif\"];\n",
       "\n",
       "mpl.default_extension = \"png\";/* global mpl */\n",
       "\n",
       "var comm_websocket_adapter = function (comm) {\n",
       "    // Create a \"websocket\"-like object which calls the given IPython comm\n",
       "    // object with the appropriate methods. Currently this is a non binary\n",
       "    // socket, so there is still some room for performance tuning.\n",
       "    var ws = {};\n",
       "\n",
       "    ws.binaryType = comm.kernel.ws.binaryType;\n",
       "    ws.readyState = comm.kernel.ws.readyState;\n",
       "    function updateReadyState(_event) {\n",
       "        if (comm.kernel.ws) {\n",
       "            ws.readyState = comm.kernel.ws.readyState;\n",
       "        } else {\n",
       "            ws.readyState = 3; // Closed state.\n",
       "        }\n",
       "    }\n",
       "    comm.kernel.ws.addEventListener('open', updateReadyState);\n",
       "    comm.kernel.ws.addEventListener('close', updateReadyState);\n",
       "    comm.kernel.ws.addEventListener('error', updateReadyState);\n",
       "\n",
       "    ws.close = function () {\n",
       "        comm.close();\n",
       "    };\n",
       "    ws.send = function (m) {\n",
       "        //console.log('sending', m);\n",
       "        comm.send(m);\n",
       "    };\n",
       "    // Register the callback with on_msg.\n",
       "    comm.on_msg(function (msg) {\n",
       "        //console.log('receiving', msg['content']['data'], msg);\n",
       "        var data = msg['content']['data'];\n",
       "        if (data['blob'] !== undefined) {\n",
       "            data = {\n",
       "                data: new Blob(msg['buffers'], { type: data['blob'] }),\n",
       "            };\n",
       "        }\n",
       "        // Pass the mpl event to the overridden (by mpl) onmessage function.\n",
       "        ws.onmessage(data);\n",
       "    });\n",
       "    return ws;\n",
       "};\n",
       "\n",
       "mpl.mpl_figure_comm = function (comm, msg) {\n",
       "    // This is the function which gets called when the mpl process\n",
       "    // starts-up an IPython Comm through the \"matplotlib\" channel.\n",
       "\n",
       "    var id = msg.content.data.id;\n",
       "    // Get hold of the div created by the display call when the Comm\n",
       "    // socket was opened in Python.\n",
       "    var element = document.getElementById(id);\n",
       "    var ws_proxy = comm_websocket_adapter(comm);\n",
       "\n",
       "    function ondownload(figure, _format) {\n",
       "        window.open(figure.canvas.toDataURL());\n",
       "    }\n",
       "\n",
       "    var fig = new mpl.figure(id, ws_proxy, ondownload, element);\n",
       "\n",
       "    // Call onopen now - mpl needs it, as it is assuming we've passed it a real\n",
       "    // web socket which is closed, not our websocket->open comm proxy.\n",
       "    ws_proxy.onopen();\n",
       "\n",
       "    fig.parent_element = element;\n",
       "    fig.cell_info = mpl.find_output_cell(\"<div id='\" + id + \"'></div>\");\n",
       "    if (!fig.cell_info) {\n",
       "        console.error('Failed to find cell for figure', id, fig);\n",
       "        return;\n",
       "    }\n",
       "    fig.cell_info[0].output_area.element.on(\n",
       "        'cleared',\n",
       "        { fig: fig },\n",
       "        fig._remove_fig_handler\n",
       "    );\n",
       "};\n",
       "\n",
       "mpl.figure.prototype.handle_close = function (fig, msg) {\n",
       "    var width = fig.canvas.width / fig.ratio;\n",
       "    fig.cell_info[0].output_area.element.off(\n",
       "        'cleared',\n",
       "        fig._remove_fig_handler\n",
       "    );\n",
       "    fig.resizeObserverInstance.unobserve(fig.canvas_div);\n",
       "\n",
       "    // Update the output cell to use the data from the current canvas.\n",
       "    fig.push_to_output();\n",
       "    var dataURL = fig.canvas.toDataURL();\n",
       "    // Re-enable the keyboard manager in IPython - without this line, in FF,\n",
       "    // the notebook keyboard shortcuts fail.\n",
       "    IPython.keyboard_manager.enable();\n",
       "    fig.parent_element.innerHTML =\n",
       "        '<img src=\"' + dataURL + '\" width=\"' + width + '\">';\n",
       "    fig.close_ws(fig, msg);\n",
       "};\n",
       "\n",
       "mpl.figure.prototype.close_ws = function (fig, msg) {\n",
       "    fig.send_message('closing', msg);\n",
       "    // fig.ws.close()\n",
       "};\n",
       "\n",
       "mpl.figure.prototype.push_to_output = function (_remove_interactive) {\n",
       "    // Turn the data on the canvas into data in the output cell.\n",
       "    var width = this.canvas.width / this.ratio;\n",
       "    var dataURL = this.canvas.toDataURL();\n",
       "    this.cell_info[1]['text/html'] =\n",
       "        '<img src=\"' + dataURL + '\" width=\"' + width + '\">';\n",
       "};\n",
       "\n",
       "mpl.figure.prototype.updated_canvas_event = function () {\n",
       "    // Tell IPython that the notebook contents must change.\n",
       "    IPython.notebook.set_dirty(true);\n",
       "    this.send_message('ack', {});\n",
       "    var fig = this;\n",
       "    // Wait a second, then push the new image to the DOM so\n",
       "    // that it is saved nicely (might be nice to debounce this).\n",
       "    setTimeout(function () {\n",
       "        fig.push_to_output();\n",
       "    }, 1000);\n",
       "};\n",
       "\n",
       "mpl.figure.prototype._init_toolbar = function () {\n",
       "    var fig = this;\n",
       "\n",
       "    var toolbar = document.createElement('div');\n",
       "    toolbar.classList = 'btn-toolbar';\n",
       "    this.root.appendChild(toolbar);\n",
       "\n",
       "    function on_click_closure(name) {\n",
       "        return function (_event) {\n",
       "            return fig.toolbar_button_onclick(name);\n",
       "        };\n",
       "    }\n",
       "\n",
       "    function on_mouseover_closure(tooltip) {\n",
       "        return function (event) {\n",
       "            if (!event.currentTarget.disabled) {\n",
       "                return fig.toolbar_button_onmouseover(tooltip);\n",
       "            }\n",
       "        };\n",
       "    }\n",
       "\n",
       "    fig.buttons = {};\n",
       "    var buttonGroup = document.createElement('div');\n",
       "    buttonGroup.classList = 'btn-group';\n",
       "    var button;\n",
       "    for (var toolbar_ind in mpl.toolbar_items) {\n",
       "        var name = mpl.toolbar_items[toolbar_ind][0];\n",
       "        var tooltip = mpl.toolbar_items[toolbar_ind][1];\n",
       "        var image = mpl.toolbar_items[toolbar_ind][2];\n",
       "        var method_name = mpl.toolbar_items[toolbar_ind][3];\n",
       "\n",
       "        if (!name) {\n",
       "            /* Instead of a spacer, we start a new button group. */\n",
       "            if (buttonGroup.hasChildNodes()) {\n",
       "                toolbar.appendChild(buttonGroup);\n",
       "            }\n",
       "            buttonGroup = document.createElement('div');\n",
       "            buttonGroup.classList = 'btn-group';\n",
       "            continue;\n",
       "        }\n",
       "\n",
       "        button = fig.buttons[name] = document.createElement('button');\n",
       "        button.classList = 'btn btn-default';\n",
       "        button.href = '#';\n",
       "        button.title = name;\n",
       "        button.innerHTML = '<i class=\"fa ' + image + ' fa-lg\"></i>';\n",
       "        button.addEventListener('click', on_click_closure(method_name));\n",
       "        button.addEventListener('mouseover', on_mouseover_closure(tooltip));\n",
       "        buttonGroup.appendChild(button);\n",
       "    }\n",
       "\n",
       "    if (buttonGroup.hasChildNodes()) {\n",
       "        toolbar.appendChild(buttonGroup);\n",
       "    }\n",
       "\n",
       "    // Add the status bar.\n",
       "    var status_bar = document.createElement('span');\n",
       "    status_bar.classList = 'mpl-message pull-right';\n",
       "    toolbar.appendChild(status_bar);\n",
       "    this.message = status_bar;\n",
       "\n",
       "    // Add the close button to the window.\n",
       "    var buttongrp = document.createElement('div');\n",
       "    buttongrp.classList = 'btn-group inline pull-right';\n",
       "    button = document.createElement('button');\n",
       "    button.classList = 'btn btn-mini btn-primary';\n",
       "    button.href = '#';\n",
       "    button.title = 'Stop Interaction';\n",
       "    button.innerHTML = '<i class=\"fa fa-power-off icon-remove icon-large\"></i>';\n",
       "    button.addEventListener('click', function (_evt) {\n",
       "        fig.handle_close(fig, {});\n",
       "    });\n",
       "    button.addEventListener(\n",
       "        'mouseover',\n",
       "        on_mouseover_closure('Stop Interaction')\n",
       "    );\n",
       "    buttongrp.appendChild(button);\n",
       "    var titlebar = this.root.querySelector('.ui-dialog-titlebar');\n",
       "    titlebar.insertBefore(buttongrp, titlebar.firstChild);\n",
       "};\n",
       "\n",
       "mpl.figure.prototype._remove_fig_handler = function (event) {\n",
       "    var fig = event.data.fig;\n",
       "    if (event.target !== this) {\n",
       "        // Ignore bubbled events from children.\n",
       "        return;\n",
       "    }\n",
       "    fig.close_ws(fig, {});\n",
       "};\n",
       "\n",
       "mpl.figure.prototype._root_extra_style = function (el) {\n",
       "    el.style.boxSizing = 'content-box'; // override notebook setting of border-box.\n",
       "};\n",
       "\n",
       "mpl.figure.prototype._canvas_extra_style = function (el) {\n",
       "    // this is important to make the div 'focusable\n",
       "    el.setAttribute('tabindex', 0);\n",
       "    // reach out to IPython and tell the keyboard manager to turn it's self\n",
       "    // off when our div gets focus\n",
       "\n",
       "    // location in version 3\n",
       "    if (IPython.notebook.keyboard_manager) {\n",
       "        IPython.notebook.keyboard_manager.register_events(el);\n",
       "    } else {\n",
       "        // location in version 2\n",
       "        IPython.keyboard_manager.register_events(el);\n",
       "    }\n",
       "};\n",
       "\n",
       "mpl.figure.prototype._key_event_extra = function (event, _name) {\n",
       "    // Check for shift+enter\n",
       "    if (event.shiftKey && event.which === 13) {\n",
       "        this.canvas_div.blur();\n",
       "        // select the cell after this one\n",
       "        var index = IPython.notebook.find_cell_index(this.cell_info[0]);\n",
       "        IPython.notebook.select(index + 1);\n",
       "    }\n",
       "};\n",
       "\n",
       "mpl.figure.prototype.handle_save = function (fig, _msg) {\n",
       "    fig.ondownload(fig, null);\n",
       "};\n",
       "\n",
       "mpl.find_output_cell = function (html_output) {\n",
       "    // Return the cell and output element which can be found *uniquely* in the notebook.\n",
       "    // Note - this is a bit hacky, but it is done because the \"notebook_saving.Notebook\"\n",
       "    // IPython event is triggered only after the cells have been serialised, which for\n",
       "    // our purposes (turning an active figure into a static one), is too late.\n",
       "    var cells = IPython.notebook.get_cells();\n",
       "    var ncells = cells.length;\n",
       "    for (var i = 0; i < ncells; i++) {\n",
       "        var cell = cells[i];\n",
       "        if (cell.cell_type === 'code') {\n",
       "            for (var j = 0; j < cell.output_area.outputs.length; j++) {\n",
       "                var data = cell.output_area.outputs[j];\n",
       "                if (data.data) {\n",
       "                    // IPython >= 3 moved mimebundle to data attribute of output\n",
       "                    data = data.data;\n",
       "                }\n",
       "                if (data['text/html'] === html_output) {\n",
       "                    return [cell, data, j];\n",
       "                }\n",
       "            }\n",
       "        }\n",
       "    }\n",
       "};\n",
       "\n",
       "// Register the function which deals with the matplotlib target/channel.\n",
       "// The kernel may be null if the page has been refreshed.\n",
       "if (IPython.notebook.kernel !== null) {\n",
       "    IPython.notebook.kernel.comm_manager.register_target(\n",
       "        'matplotlib',\n",
       "        mpl.mpl_figure_comm\n",
       "    );\n",
       "}\n"
      ],
      "text/plain": [
       "<IPython.core.display.Javascript object>"
      ]
     },
     "metadata": {},
     "output_type": "display_data"
    },
    {
     "data": {
      "text/html": [
       "<img src=\"data:image/png;base64,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\" width=\"400\">"
      ],
      "text/plain": [
       "<IPython.core.display.HTML object>"
      ]
     },
     "metadata": {},
     "output_type": "display_data"
    }
   ],
   "source": [
    "#  Rain Drop Simulation\n",
    "import numpy as np\n",
    "import matplotlib.pyplot as plt\n",
    "from matplotlib.animation import FuncAnimation\n",
    "\n",
    "#  The following line is required to run animation \n",
    "#  in jupyter notebook\n",
    "%matplotlib notebook\n",
    "\n",
    "# Fixing random state for reproducibility\n",
    "np.random.seed(19680801)\n",
    "\n",
    "\n",
    "# Create new Figure and an Axes which fills it.\n",
    "fig = plt.figure(figsize=(4, 4)) #(7,7) was used in the original code.\n",
    "ax = fig.add_axes([0, 0, 1, 1], frameon=False)\n",
    "ax.set_xlim(0, 1), ax.set_xticks([])\n",
    "ax.set_ylim(0, 1), ax.set_yticks([])\n",
    "\n",
    "# Create rain data\n",
    "n_drops = 50\n",
    "rain_drops = np.zeros(n_drops, dtype=[('position', float, (2,)),\n",
    "                                      ('size',     float),\n",
    "                                      ('growth',   float),\n",
    "                                      ('color',    float, (4,))])\n",
    "\n",
    "# Initialize the raindrops in random positions and with\n",
    "# random growth rates.\n",
    "rain_drops['position'] = np.random.uniform(0, 1, (n_drops, 2))\n",
    "rain_drops['growth'] = np.random.uniform(50, 200, n_drops)\n",
    "\n",
    "# Construct the scatter which we will update during animation\n",
    "# as the raindrops develop.\n",
    "scat = ax.scatter(rain_drops['position'][:, 0], rain_drops['position'][:, 1],\n",
    "                  s=rain_drops['size'], lw=0.5, edgecolors=rain_drops['color'],\n",
    "                  facecolors='none')\n",
    "\n",
    "\n",
    "def update(frame_number):\n",
    "    # Get an index which we can use to re-spawn the oldest raindrop.\n",
    "    current_index = frame_number % n_drops\n",
    "\n",
    "    # Make all colors more transparent as time progresses.\n",
    "    rain_drops['color'][:, 3] -= 1.0/len(rain_drops)\n",
    "    rain_drops['color'][:, 3] = np.clip(rain_drops['color'][:, 3], 0, 1)\n",
    "\n",
    "    # Make all circles bigger.\n",
    "    rain_drops['size'] += rain_drops['growth']\n",
    "\n",
    "    # Pick a new position for oldest rain drop, resetting its size,\n",
    "    # color and growth factor.\n",
    "    rain_drops['position'][current_index] = np.random.uniform(0, 1, 2)\n",
    "    rain_drops['size'][current_index] = 5\n",
    "    rain_drops['color'][current_index] = (0, 0, 0, 1)\n",
    "    rain_drops['growth'][current_index] = np.random.uniform(50, 200)\n",
    "\n",
    "    # Update the scatter collection, with the new colors, sizes and positions.\n",
    "    scat.set_edgecolors(rain_drops['color'])\n",
    "    scat.set_sizes(rain_drops['size'])\n",
    "    scat.set_offsets(rain_drops['position'])\n",
    "\n",
    "\n",
    "# Construct the animation, using the update function as the animation director.\n",
    "animation = FuncAnimation(fig, update, interval=10)\n",
    "plt.show()"
   ]
  }
 ],
 "metadata": {
  "kernelspec": {
   "display_name": "Python 3 (ipykernel)",
   "language": "python",
   "name": "python3"
  },
  "language_info": {
   "codemirror_mode": {
    "name": "ipython",
    "version": 3
   },
   "file_extension": ".py",
   "mimetype": "text/x-python",
   "name": "python",
   "nbconvert_exporter": "python",
   "pygments_lexer": "ipython3",
   "version": "3.9.12"
  }
 },
 "nbformat": 4,
 "nbformat_minor": 5
}
