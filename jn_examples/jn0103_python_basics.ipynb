{
 "cells": [
  {
   "cell_type": "markdown",
   "id": "5d17f550",
   "metadata": {},
   "source": [
    "[3] This notebook contains examples of python code. The order of subjects and some explanations followed the tuorial at w3scool. \n",
    "<a href=\"https://www.w3schools.com/python/python_syntax.asp\">W3school tutorial</a>."
   ]
  },
  {
   "cell_type": "markdown",
   "id": "21f3f0ac",
   "metadata": {},
   "source": [
    "# [3.1] Syntax, Cooments <br>\n"
   ]
  },
  {
   "cell_type": "code",
   "execution_count": 1,
   "id": "09d71e8a",
   "metadata": {},
   "outputs": [
    {
     "name": "stdout",
     "output_type": "stream",
     "text": [
      "5\n"
     ]
    }
   ],
   "source": [
    "# A comment line start with \"#\" as this line.\n",
    "# Also, a comment may be put after a code as follows.\n",
    "\n",
    "a=5     # this is the first python code.\n",
    "print(a)"
   ]
  },
  {
   "cell_type": "code",
   "execution_count": 2,
   "id": "9dc54794",
   "metadata": {
    "scrolled": true
   },
   "outputs": [
    {
     "name": "stdout",
     "output_type": "stream",
     "text": [
      "a is greater than b.\n",
      "c= 16\n"
     ]
    }
   ],
   "source": [
    "# Lines in a block of codes are aligned with same indent.\n",
    "\n",
    "a=10\n",
    "b=6\n",
    "if a>b:\n",
    "    c=a+b\n",
    "    print(\"a is greater than b.\")\n",
    "    print(\"c=\",c)\n",
    "    \n",
    "if a<b:\n",
    "    c=b-a\n",
    "    print(\"a is less than b.\")\n",
    "    print(\"c=\",c)\n",
    "    "
   ]
  },
  {
   "cell_type": "code",
   "execution_count": 3,
   "id": "aa267063",
   "metadata": {},
   "outputs": [],
   "source": [
    "# This is a special line to reset jupyter notebook.\n",
    "# All definition in cells above are cleared to make the following\n",
    "# cells independent from above. This notebook uses \"reset\" to make\n",
    "# each cell independent from others.\n",
    "%reset -f"
   ]
  },
  {
   "cell_type": "markdown",
   "id": "0a687acb",
   "metadata": {},
   "source": [
    "\n",
    "# [3.2] Variables, Data Types, Numbers, Casting\n",
    "\n",
    "Python has no command for declaring a variable.\n",
    "\n",
    "A variable is created the moment you first assign a value to it.\n",
    "\n",
    "Variables do not need to be declared with any particular type, and can even change type after they have been set.\n",
    "\n",
    "https://www.w3schools.com/python/python_variables.asp\n",
    "\n",
    "Common variable types are int(eger), float, string and bool.\n",
    "\n",
    "= representation of float and int = <br>\n",
    "\"float\" uses 64 bits (IEEE 745 double-precision represntation).\n",
    "1 bit for sign, 11 bits for exponent and 52 digits for significant digits.\n",
    "\n",
    "\"int\" uses a variable number of bits, 16, 32, 64 and 128 bits.\n",
    "\n",
    "find more in <br>\n",
    "https://www.pythontutorial.net/advanced-python/python-float/\n",
    "<br>\n",
    "https://www.pythontutorial.net/advanced-python/python-integers/ \n",
    "<br>\n",
    "https://en.wikipedia.org/wiki/Double-precision_floating-point_format \n",
    "\n"
   ]
  },
  {
   "cell_type": "code",
   "execution_count": 4,
   "id": "296e18a5",
   "metadata": {},
   "outputs": [
    {
     "name": "stdout",
     "output_type": "stream",
     "text": [
      "5\n",
      "3.14\n",
      "John\n",
      "False\n",
      "299800000.0\n"
     ]
    }
   ],
   "source": [
    "# Next, \"Creating Variables\"\n",
    "x = 5\n",
    "y = 3.14\n",
    "z = \"John\"\n",
    "b = 5 > 8     # is 5 grater than 8?\n",
    "print(x)\n",
    "print(y)\n",
    "print(z)\n",
    "print(b)\n",
    "\n",
    "c = 2.998e8  # speed of light, m/s, in sceintific notation\n",
    "print(c)"
   ]
  },
  {
   "cell_type": "code",
   "execution_count": 5,
   "id": "d8bb5c61",
   "metadata": {},
   "outputs": [
    {
     "name": "stdout",
     "output_type": "stream",
     "text": [
      "<class 'int'>\n",
      "<class 'float'>\n",
      "<class 'str'>\n",
      "<class 'bool'>\n",
      "<class 'float'>\n"
     ]
    }
   ],
   "source": [
    "# Find the data type, uing \"type()\"\n",
    "print(type(x))\n",
    "print(type(y))\n",
    "print(type(z))\n",
    "print(type(b))\n",
    "print(type(c))"
   ]
  },
  {
   "cell_type": "markdown",
   "id": "5e1ad3d4",
   "metadata": {},
   "source": [
    "Note on foramtting a string: The variable c is the speed of light. Its type is float and \"print(c)\" produced \"299800000.0\". To print it in sceintifc notation, try the following. See <a href=\"https://www.w3schools.com/python/ref_string_format.asp\">W3School link</a> \n",
    "or do Google search for \"Python string format\" or \"Python print in sceintific notation\", etc for more info."
   ]
  },
  {
   "cell_type": "code",
   "execution_count": 6,
   "id": "3a22703f",
   "metadata": {},
   "outputs": [
    {
     "name": "stdout",
     "output_type": "stream",
     "text": [
      "299800000.0\n",
      "2.9980e+08\n"
     ]
    }
   ],
   "source": [
    "c = 2.998e8  # speed of light, m/s, in sceintific notation\n",
    "print(c)\n",
    "print(\"{:.4e}\".format(c))   # command to print in scientific notation"
   ]
  },
  {
   "cell_type": "markdown",
   "id": "6b9c2c9f",
   "metadata": {},
   "source": [
    "Note on integer variable type: In Fortran old days, integer varaibales started with [i,j,k,l,m,n] and others are float. For example, variables \"i\", \"j\", and \"ix\" are integer, and \"a\", \"x\" and \"y\" are float. You may find some python codes following this scheme for readability. "
   ]
  },
  {
   "cell_type": "code",
   "execution_count": 7,
   "id": "f81423fe",
   "metadata": {},
   "outputs": [],
   "source": [
    "%reset -f"
   ]
  },
  {
   "cell_type": "markdown",
   "id": "a0cb6289",
   "metadata": {},
   "source": [
    "\n",
    "Type conversion.\n"
   ]
  },
  {
   "cell_type": "code",
   "execution_count": 8,
   "id": "76c82353",
   "metadata": {},
   "outputs": [
    {
     "name": "stdout",
     "output_type": "stream",
     "text": [
      "1.0 <class 'float'>\n",
      "2 <class 'int'>\n",
      "134 <class 'int'>\n"
     ]
    }
   ],
   "source": [
    "x = 1      # int\n",
    "y = 2.8    # float\n",
    "z = 1.3456e2  # float\n",
    "\n",
    "a = float(x)\n",
    "b = int(y)\n",
    "c = int(z)\n",
    "\n",
    "print(a,type(a))\n",
    "print(b,type(b))\n",
    "print(c,type(c))"
   ]
  },
  {
   "cell_type": "code",
   "execution_count": 9,
   "id": "df7434f0",
   "metadata": {},
   "outputs": [],
   "source": [
    "%reset -f"
   ]
  },
  {
   "cell_type": "markdown",
   "id": "d5e40ecf",
   "metadata": {},
   "source": [
    "\n",
    "Casting\n"
   ]
  },
  {
   "cell_type": "code",
   "execution_count": 10,
   "id": "92b19a46",
   "metadata": {},
   "outputs": [
    {
     "name": "stdout",
     "output_type": "stream",
     "text": [
      "1 2 3\n"
     ]
    }
   ],
   "source": [
    "x = int(1)   # x will be 1\n",
    "y = int(2.8) # y will be 2\n",
    "z = int(\"3\") # z will be 3\n",
    "print(x,y,z)"
   ]
  },
  {
   "cell_type": "code",
   "execution_count": 11,
   "id": "cedcfc94",
   "metadata": {},
   "outputs": [],
   "source": [
    "%reset -f"
   ]
  },
  {
   "cell_type": "code",
   "execution_count": 12,
   "id": "e3fcaabe",
   "metadata": {},
   "outputs": [
    {
     "name": "stdout",
     "output_type": "stream",
     "text": [
      "1.0 2.8 3.0 4.2\n"
     ]
    }
   ],
   "source": [
    "x = float(1)     # x will be 1.0\n",
    "y = float(2.8)   # y will be 2.8\n",
    "z = float(\"3\")   # z will be 3.0\n",
    "w = float(\"4.2\") # w will be 4.2\n",
    "print(x,y,z,w)"
   ]
  },
  {
   "cell_type": "code",
   "execution_count": 13,
   "id": "ea172686",
   "metadata": {},
   "outputs": [],
   "source": [
    "%reset -f"
   ]
  },
  {
   "cell_type": "code",
   "execution_count": 14,
   "id": "c4ea2b46",
   "metadata": {},
   "outputs": [
    {
     "name": "stdout",
     "output_type": "stream",
     "text": [
      "s1 2 3.0\n"
     ]
    }
   ],
   "source": [
    "x = str(\"s1\") # x will be 's1'\n",
    "y = str(2)    # y will be '2'\n",
    "z = str(3.0)  # z will be '3.0'\n",
    "print(x,y,z)"
   ]
  },
  {
   "cell_type": "code",
   "execution_count": 15,
   "id": "ff1b85b7",
   "metadata": {},
   "outputs": [],
   "source": [
    "%reset -f"
   ]
  },
  {
   "cell_type": "code",
   "execution_count": 16,
   "id": "6622ac44",
   "metadata": {},
   "outputs": [
    {
     "name": "stdout",
     "output_type": "stream",
     "text": [
      "4\n",
      "10\n"
     ]
    }
   ],
   "source": [
    "# Variable names are case-sensitive.\n",
    "a = 4\n",
    "A = 10\n",
    "#A will not overwrite a\n",
    "print(a)\n",
    "print(A)"
   ]
  },
  {
   "cell_type": "markdown",
   "id": "bc8c0f87",
   "metadata": {},
   "source": [
    "In additon to integer, float, string, and bool,\n",
    "there are more deta taypes in python, e.g.\n",
    "complex, list, tuple, list, dictionary.\n",
    "see,\n",
    "https://www.w3schools.com/python/python_datatypes.asp"
   ]
  },
  {
   "cell_type": "code",
   "execution_count": 17,
   "id": "5953d1b9",
   "metadata": {},
   "outputs": [],
   "source": [
    "%reset -f"
   ]
  },
  {
   "cell_type": "markdown",
   "id": "10f7dba3",
   "metadata": {},
   "source": [
    "\n",
    "# [3.3] Stings and Arrays\n",
    "\n",
    "Like many other popular programming languages, strings in Python are arrays of bytes representing unicode characters.\n",
    "\n",
    "However, Python does not have a character data type, a single character is simply a string with a length of 1.\n",
    "\n",
    "Square brackets can be used to access elements of the string.\n",
    "\n",
    "A sting is stored as an array of data. There are other types\n",
    "of array, e.g. List, numpy array. Methods for string below\n",
    "are also apllicable to those arrays.\n",
    "\n",
    "https://www.w3schools.com/python/python_strings.asp\n"
   ]
  },
  {
   "cell_type": "code",
   "execution_count": 18,
   "id": "c8e60159",
   "metadata": {},
   "outputs": [
    {
     "name": "stdout",
     "output_type": "stream",
     "text": [
      "e\n"
     ]
    }
   ],
   "source": [
    "# Get the character at position 1 \n",
    "# (remember that the first character has the position 0):\n",
    "a = \"Hello, World!\"\n",
    "print(a[1])"
   ]
  },
  {
   "cell_type": "code",
   "execution_count": 19,
   "id": "d5370d0e",
   "metadata": {},
   "outputs": [
    {
     "name": "stdout",
     "output_type": "stream",
     "text": [
      "0 b\n",
      "1 a\n",
      "2 n\n",
      "3 a\n",
      "4 n\n",
      "5 a\n"
     ]
    }
   ],
   "source": [
    "# Loop through the letters in the word \"banana\":\n",
    "k = -1\n",
    "for x in \"banana\":\n",
    "    k=k+1\n",
    "    print(k,x)"
   ]
  },
  {
   "cell_type": "code",
   "execution_count": 20,
   "id": "fc59530d",
   "metadata": {},
   "outputs": [
    {
     "name": "stdout",
     "output_type": "stream",
     "text": [
      "13\n"
     ]
    }
   ],
   "source": [
    "# To get the length of a string, use the len() function.\n",
    "\n",
    "a = \"Hello, World!\"\n",
    "print(len(a))"
   ]
  },
  {
   "cell_type": "code",
   "execution_count": 21,
   "id": "0f9e13d2",
   "metadata": {},
   "outputs": [
    {
     "name": "stdout",
     "output_type": "stream",
     "text": [
      "Yes, 'free' is present.\n"
     ]
    }
   ],
   "source": [
    "# Print only if \"free\" is present:\n",
    "\n",
    "txt = \"The best things in life are free!\"\n",
    "if \"free\" in txt:\n",
    "  print(\"Yes, 'free' is present.\")"
   ]
  },
  {
   "cell_type": "code",
   "execution_count": 22,
   "id": "006cbb61",
   "metadata": {},
   "outputs": [
    {
     "name": "stdout",
     "output_type": "stream",
     "text": [
      "No, 'expensive' is NOT present.\n"
     ]
    }
   ],
   "source": [
    "# To check if a certain phrase or character \n",
    "# is NOT present in a string, \n",
    "# we can use the keyword not in.\n",
    "\n",
    "txt = \"The best things in life are free!\"\n",
    "if \"expensive\" not in txt:\n",
    "  print(\"No, 'expensive' is NOT present.\")"
   ]
  },
  {
   "cell_type": "code",
   "execution_count": 23,
   "id": "698dab96",
   "metadata": {},
   "outputs": [
    {
     "name": "stdout",
     "output_type": "stream",
     "text": [
      "llo\n"
     ]
    }
   ],
   "source": [
    "# Slicing\n",
    "# Specify the start index and the end index, \n",
    "# separated by a colon, to return a part of the string.\n",
    "\n",
    "b = \"Hello, World!\"\n",
    "print(b[2:5])\n"
   ]
  },
  {
   "cell_type": "code",
   "execution_count": 24,
   "id": "6a2c9931",
   "metadata": {},
   "outputs": [
    {
     "name": "stdout",
     "output_type": "stream",
     "text": [
      "Hello\n"
     ]
    }
   ],
   "source": [
    "# Slice From the Start\n",
    "\n",
    "b = \"Hello, World!\"\n",
    "print(b[:5])"
   ]
  },
  {
   "cell_type": "code",
   "execution_count": 25,
   "id": "cf797d0a",
   "metadata": {},
   "outputs": [
    {
     "name": "stdout",
     "output_type": "stream",
     "text": [
      "llo, World!\n"
     ]
    }
   ],
   "source": [
    "# Slice to the end\n",
    "\n",
    "b = \"Hello, World!\"\n",
    "print(b[2:])\n"
   ]
  },
  {
   "cell_type": "markdown",
   "id": "0b5b5319",
   "metadata": {},
   "source": [
    "\n",
    "# [3.4] Operators, Math Function\n",
    "\n",
    "https://www.w3schools.com/python/python_operators.asp"
   ]
  },
  {
   "cell_type": "code",
   "execution_count": 26,
   "id": "f55b53cc",
   "metadata": {},
   "outputs": [
    {
     "name": "stdout",
     "output_type": "stream",
     "text": [
      "15 8.8 15 17.08695652173913 TTU_Physics 2\n"
     ]
    }
   ],
   "source": [
    "# Example of operators,\n",
    "a = 10 + 5\n",
    "b = 12.3 - 3.5\n",
    "c = 3 * 5\n",
    "d = 39.3/2.3\n",
    "e = \"TTU\" + \"_Physics\"\n",
    "f = 11 % 3  #  modulus: the remainder\n",
    "\n",
    "print(a,b,c,d,e,f)"
   ]
  },
  {
   "cell_type": "code",
   "execution_count": 27,
   "id": "31d139ba",
   "metadata": {},
   "outputs": [],
   "source": [
    "%reset -f"
   ]
  },
  {
   "cell_type": "code",
   "execution_count": 28,
   "id": "a1a15c2f",
   "metadata": {},
   "outputs": [
    {
     "name": "stdout",
     "output_type": "stream",
     "text": [
      "x is NOT equal to y.\n",
      "x is less than y.\n"
     ]
    }
   ],
   "source": [
    "# Example of Comparison Operators\n",
    "x = 5\n",
    "y = 10\n",
    "if x == y:\n",
    "    print(\"x is equal to y.\")\n",
    "if x != y:\n",
    "    print(\"x is NOT equal to y.\")\n",
    "if x > y:\n",
    "    print(\"x is greater than y.\")\n",
    "if x < y:\n",
    "    print(\"x is less than y.\")"
   ]
  },
  {
   "cell_type": "markdown",
   "id": "f2eb3e36",
   "metadata": {},
   "source": [
    "# [3.5] Array and Data structure: Lists, Tuple, Sets, Dictionary\n",
    "\n",
    "https://www.w3schools.com/python/python_lists.asp\n"
   ]
  },
  {
   "cell_type": "code",
   "execution_count": 29,
   "id": "b1676ef3",
   "metadata": {},
   "outputs": [
    {
     "name": "stdout",
     "output_type": "stream",
     "text": [
      "<class 'list'>\n",
      "[123, 3.1415, 'abcd', 25]\n",
      "123 abcd\n",
      "The length of list: 4\n"
     ]
    }
   ],
   "source": [
    "# List:  [...]\n",
    "a=[123, 3.1415, \"abcd\", 25]   # set values in a List a.\n",
    "print(type(a))     # print \n",
    "print(a)\n",
    "\n",
    "# get values from elements in a List using the index. \n",
    "b = a[0]      # 0th element (index=0)\n",
    "c = a[2]      # 2nd element (index=2)\n",
    "print(b,c)\n",
    "\n",
    "k=len(a)\n",
    "print(\"The length of list:\",k)\n"
   ]
  },
  {
   "cell_type": "code",
   "execution_count": 30,
   "id": "c4214c81",
   "metadata": {},
   "outputs": [],
   "source": [
    "%reset -f"
   ]
  },
  {
   "cell_type": "code",
   "execution_count": 31,
   "id": "4e7e8329",
   "metadata": {},
   "outputs": [
    {
     "name": "stdout",
     "output_type": "stream",
     "text": [
      "{'key1': 123, 'key2': 3.14, 'key3': 'abcd', 'key4': 25}\n",
      "b= abcd\n",
      "a after an  addition.  a= {'key1': 123, 'key2': 3.14, 'key3': 'abcd', 'key4': 25, 'key5': 9.8}\n",
      "data51\n",
      "\n",
      "loop\n",
      "key key1   value  123\n",
      "key key2   value  3.14\n",
      "key key3   value  abcd\n",
      "key key4   value  25\n",
      "key key5   value  9.8\n",
      "key 51   value  data51\n",
      "\n",
      "list of keys dict_keys(['key1', 'key2', 'key3', 'key4', 'key5', 51])\n",
      "<class 'dict_keys'>\n"
     ]
    }
   ],
   "source": [
    "# Dictionary:  {...}\n",
    "# To access element, List uses integer index.\n",
    "# and dictinary uses \"key\" word.\n",
    "a={\"key1\":123, \"key2\":3.14, \"key3\":\"abcd\",\"key4\":25}\n",
    "print(a)\n",
    "\n",
    "# get a value from Dictinary using key word (\"key3\" in this case)\n",
    "b=a[\"key3\"]\n",
    "print(\"b=\",b)\n",
    "\n",
    "# add new element into an existing Dictionary\n",
    "a[\"key5\"]=9.80\n",
    "print(\"a after an  addition.  a=\",a)\n",
    "\n",
    "# key-word can be integer, instead of string\n",
    "a[51]=\"data51\"\n",
    "print(a[51])\n",
    "\n",
    "# loop over elements in a dictionary\n",
    "print()\n",
    "print(\"loop\")\n",
    "for x in a:\n",
    "    y = a[x]\n",
    "    print(\"key\",x,\"  value \",y)\n",
    "    \n",
    "# list of keys\n",
    "print()\n",
    "k = a.keys()\n",
    "print(\"list of keys\",k) \n",
    "print(type(k))\n"
   ]
  },
  {
   "cell_type": "code",
   "execution_count": 32,
   "id": "a99d4b0a",
   "metadata": {},
   "outputs": [],
   "source": [
    "%reset -f"
   ]
  },
  {
   "cell_type": "markdown",
   "id": "ea8f3d58",
   "metadata": {},
   "source": [
    "# [3.6] Numpy array\n",
    "\n",
    "NumPy is a Python library. <br>\n",
    "Numpy is used for working with arrays. <br>\n",
    "Numpy is the fundamental package for sceintific computing with Python\n",
    "and short for \"Numerical Python\".\n",
    "<br>\n",
    "\n",
    "\n",
    "https://www.w3schools.com/python/numpy/default.asp\n",
    "<br>\n",
    "https://numpy.org/devdocs/user/absolute_beginners.html \n",
    "<br>"
   ]
  },
  {
   "cell_type": "code",
   "execution_count": 33,
   "id": "d5bc24b7",
   "metadata": {},
   "outputs": [
    {
     "name": "stdout",
     "output_type": "stream",
     "text": [
      "a= [124  39  22]\n",
      "access a[1]: 39\n",
      "[0.  0.5 1.  1.5 2.  2.5 3.  3.5 4.  4.5 5.  5.5 6.  6.5 7.  7.5 8.  8.5\n",
      " 9.  9.5]\n",
      "sum of b= 95.0\n",
      "average of b 4.75\n"
     ]
    }
   ],
   "source": [
    "# numpy array is similar to List, but designed for scientific \n",
    "# numeerical calculations.\n",
    "# List and Dictinary may contain element in different data types, \n",
    "# numpy array have to contain elements in same data type.\n",
    "\n",
    "import numpy as np\n",
    "import matplotlib.pyplot as plt\n",
    "\n",
    "# afew defferent ways to create numpy array.\n",
    "\n",
    "# example 1:\n",
    "a=np.array([124, 39, 22])  # fill values using List\n",
    "print(\"a=\",a)\n",
    "print(\"access a[1]:\",a[1])\n",
    "\n",
    "# example 2:\n",
    "# fill values from 0.0 up to 10.0 with 0.5 step.\n",
    "# (10.0 is not included.)\n",
    "b=np.arange(0.0, 10.0, 0.5)\n",
    "print(b)\n",
    "\n",
    "\n",
    "c=np.sum(b)    # sum all values in array-b.\n",
    "print(\"sum of b=\",c)\n",
    "\n",
    "d=np.average(b) # average of all values in array-b\n",
    "print(\"average of b\",d)\n"
   ]
  },
  {
   "cell_type": "code",
   "execution_count": 34,
   "id": "b06b4b14",
   "metadata": {},
   "outputs": [],
   "source": [
    "%reset -f"
   ]
  },
  {
   "cell_type": "markdown",
   "id": "5c320e51",
   "metadata": {},
   "source": [
    "# [3.7] Pandas DataFrame"
   ]
  },
  {
   "cell_type": "code",
   "execution_count": 35,
   "id": "8797564d",
   "metadata": {},
   "outputs": [],
   "source": [
    "%reset -f"
   ]
  },
  {
   "cell_type": "markdown",
   "id": "80efac99",
   "metadata": {},
   "source": [
    "# [3.8] if ... else\n",
    "\n",
    "https://www.w3schools.com/python/python_conditions.asp\n",
    "\n",
    "Python supports the usual logical conditions from mathematics:\n",
    "\n",
    "Equals: a == b  <br>\n",
    "Not Equals: a != b  <br>\n",
    "Less than: a < b   <br>\n",
    "Less than or equal to: a <= b  <br>\n",
    "Greater than: a > b   <br>\n",
    "Greater than or equal to: a >= b  <br>"
   ]
  },
  {
   "cell_type": "code",
   "execution_count": 36,
   "id": "65112eba",
   "metadata": {},
   "outputs": [
    {
     "name": "stdout",
     "output_type": "stream",
     "text": [
      "a is greater than b\n"
     ]
    }
   ],
   "source": [
    "a = 200\n",
    "b = 33\n",
    "if b > a:\n",
    "  print(\"b is greater than a\")\n",
    "elif a == b:\n",
    "  print(\"a and b are equal\")\n",
    "else:\n",
    "  print(\"a is greater than b\")"
   ]
  },
  {
   "cell_type": "code",
   "execution_count": 37,
   "id": "d3aff453",
   "metadata": {},
   "outputs": [],
   "source": [
    "# if statements cannot be empty, \n",
    "# but if you for some reason have an if statement with no content, \n",
    "# put in the pass statement to avoid getting an error.\n",
    "\n",
    "a = 33\n",
    "b = 200\n",
    "\n",
    "if b > a:\n",
    "  pass"
   ]
  },
  {
   "cell_type": "markdown",
   "id": "6fc0886a",
   "metadata": {},
   "source": [
    "# [3.9] Loops:  While Loops, For Loops\n",
    "\n",
    "https://www.w3schools.com/python/python_while_loops.asp\n",
    "https://www.w3schools.com/python/python_for_loops.asp"
   ]
  },
  {
   "cell_type": "code",
   "execution_count": 38,
   "id": "d8155bae",
   "metadata": {},
   "outputs": [
    {
     "name": "stdout",
     "output_type": "stream",
     "text": [
      "1\n",
      "2\n",
      "3\n",
      "4\n",
      "5\n"
     ]
    }
   ],
   "source": [
    "# Print i as long as i is less than 6:\n",
    "\n",
    "i = 1\n",
    "while i < 6:\n",
    "  print(i)\n",
    "  i += 1"
   ]
  },
  {
   "cell_type": "code",
   "execution_count": 39,
   "id": "8a3dc814",
   "metadata": {},
   "outputs": [
    {
     "name": "stdout",
     "output_type": "stream",
     "text": [
      "apple\n",
      "banana\n",
      "cherry\n"
     ]
    }
   ],
   "source": [
    "# Print each fruit in a fruit list:\n",
    "\n",
    "fruits = [\"apple\", \"banana\", \"cherry\"]\n",
    "for x in fruits:\n",
    "  print(x)"
   ]
  },
  {
   "cell_type": "code",
   "execution_count": 40,
   "id": "3fee7a18",
   "metadata": {},
   "outputs": [
    {
     "name": "stdout",
     "output_type": "stream",
     "text": [
      "apple\n",
      "banana\n"
     ]
    }
   ],
   "source": [
    "# With the break statement we can stop the loop before it has looped \n",
    "# through all the items:\n",
    "\n",
    "fruits = [\"apple\", \"banana\", \"cherry\"]\n",
    "for x in fruits:\n",
    "  print(x) \n",
    "  if x == \"banana\":\n",
    "    break"
   ]
  },
  {
   "cell_type": "code",
   "execution_count": 41,
   "id": "d09be5a1",
   "metadata": {},
   "outputs": [
    {
     "name": "stdout",
     "output_type": "stream",
     "text": [
      "apple\n",
      "cherry\n"
     ]
    }
   ],
   "source": [
    "# With the continue statement we can stop the current iteration \n",
    "# of the loop, and continue with the next:\n",
    "\n",
    "fruits = [\"apple\", \"banana\", \"cherry\"]\n",
    "for x in fruits:\n",
    "  if x == \"banana\":\n",
    "    continue\n",
    "  print(x)"
   ]
  },
  {
   "cell_type": "code",
   "execution_count": 42,
   "id": "684a5ea8",
   "metadata": {},
   "outputs": [],
   "source": [
    "%reset -f"
   ]
  },
  {
   "cell_type": "code",
   "execution_count": 43,
   "id": "fd93300d",
   "metadata": {},
   "outputs": [
    {
     "name": "stdout",
     "output_type": "stream",
     "text": [
      "0.0\n",
      "0.1\n",
      "0.2\n",
      "0.30000000000000004\n",
      "0.4\n",
      "0.5\n",
      "0.6000000000000001\n",
      "0.7000000000000001\n",
      "0.8\n",
      "0.9\n"
     ]
    }
   ],
   "source": [
    "import numpy as np\n",
    "import matplotlib.pyplot as plt\n",
    "\n",
    "# Using numpy arange.\n",
    "\n",
    "for x in np.arange(0.0,1.0,0.1):\n",
    "    print(x)"
   ]
  },
  {
   "cell_type": "code",
   "execution_count": 44,
   "id": "9ecfaa65",
   "metadata": {},
   "outputs": [],
   "source": [
    "%reset -f"
   ]
  },
  {
   "cell_type": "code",
   "execution_count": 45,
   "id": "713df11e",
   "metadata": {},
   "outputs": [
    {
     "name": "stdout",
     "output_type": "stream",
     "text": [
      "n= 0    value= 0.0\n",
      "n= 1    value= 0.1\n",
      "n= 2    value= 0.2\n",
      "n= 3    value= 0.30000000000000004\n",
      "n= 4    value= 0.4\n",
      "n= 5    value= 0.5\n",
      "n= 6    value= 0.6000000000000001\n",
      "n= 7    value= 0.7000000000000001\n",
      "n= 8    value= 0.8\n",
      "n= 9    value= 0.9\n"
     ]
    }
   ],
   "source": [
    "import numpy as np\n",
    "import matplotlib.pyplot as plt\n",
    "\n",
    "# for loop with a counter\n",
    "a = np.arange(0.0, 1.0, 0.1)\n",
    "for n, x in enumerate(a):\n",
    "    print(\"n=\",n,\"   value=\",x)"
   ]
  },
  {
   "cell_type": "code",
   "execution_count": 46,
   "id": "5c9bd481",
   "metadata": {},
   "outputs": [],
   "source": [
    "%reset -f"
   ]
  },
  {
   "cell_type": "markdown",
   "id": "b7861fd8",
   "metadata": {},
   "source": [
    "# [3.10] Functions\n",
    "\n",
    "A function is a block of code which only runs when it is called.\n",
    "\n",
    "You can pass data, known as parameters, into a function.\n",
    "\n",
    "A function can return data as a result."
   ]
  },
  {
   "cell_type": "code",
   "execution_count": 47,
   "id": "e8656c08",
   "metadata": {
    "scrolled": true
   },
   "outputs": [
    {
     "data": {
      "image/png": "[encoded data removed]",
      "text/plain": [
       "<Figure size 432x288 with 1 Axes>"
      ]
     },
     "metadata": {
      "needs_background": "light"
     },
     "output_type": "display_data"
    }
   ],
   "source": [
    "import numpy as np\n",
    "import matplotlib.pyplot as plt\n",
    "\n",
    "# my own function which returns one variable,\n",
    "def myfunction(th):\n",
    "    val=np.sin(th)+1.0\n",
    "    \n",
    "    return val\n",
    "    \n",
    "# maing program.\n",
    "x = np.arange(0.0,10.0,0.01)\n",
    "y = myfunction(x)\n",
    "\n",
    "plt.plot(x,y,\"-\")\n",
    "plt.show()"
   ]
  },
  {
   "cell_type": "code",
   "execution_count": 48,
   "id": "2b457703",
   "metadata": {},
   "outputs": [],
   "source": [
    "%reset -f"
   ]
  },
  {
   "cell_type": "code",
   "execution_count": 49,
   "id": "928bf99f",
   "metadata": {},
   "outputs": [
    {
     "data": {
      "image/png": "[encoded data removed]",
      "text/plain": [
       "<Figure size 432x288 with 1 Axes>"
      ]
     },
     "metadata": {
      "needs_background": "light"
     },
     "output_type": "display_data"
    }
   ],
   "source": [
    "import numpy as np\n",
    "import matplotlib.pyplot as plt\n",
    "\n",
    "# my own function which returns two variables,\n",
    "def myfunction(th):\n",
    "    a=np.sin(th)+1.0\n",
    "    b=np.cos(th)+th\n",
    "    \n",
    "    return a,b \n",
    "    \n",
    "# maing program.\n",
    "x = np.arange(0.0,10.0,0.01)\n",
    "y,z = myfunction(x)\n",
    "\n",
    "plt.plot(x,y,\"b-\")\n",
    "plt.plot(x,z,\"r+\")\n",
    "plt.show()"
   ]
  },
  {
   "cell_type": "code",
   "execution_count": 50,
   "id": "bc737c8c",
   "metadata": {},
   "outputs": [],
   "source": [
    "%reset -f"
   ]
  },
  {
   "cell_type": "markdown",
   "id": "d77dcb1f",
   "metadata": {},
   "source": [
    "[3.9] File Handling"
   ]
  },
  {
   "cell_type": "markdown",
   "id": "f218eac7",
   "metadata": {},
   "source": [
    "[3.9.1] Simple text file in human-readable row-column format"
   ]
  },
  {
   "cell_type": "code",
   "execution_count": 51,
   "id": "27618db9",
   "metadata": {},
   "outputs": [],
   "source": [
    "# example 1a (write) \n",
    "# This simply write lines in a file...\n",
    "import numpy as np\n",
    "import matplotlib.pyplot as plt\n",
    "\n",
    "# creat x, y values\n",
    "xx=np.arange(0.0,10.0,0.5)\n",
    "yy=np.sin(xx)\n",
    "  \n",
    "#  read x, y values lini-by-line from file\n",
    "f=open('xypoints.txt','w')\n",
    "for i in range(len(xx)):\n",
    "    f.write(\"{0:5.2f} {1:7.3f} \\n\".format(xx[i],yy[i]))\n",
    "f.close()    "
   ]
  },
  {
   "cell_type": "code",
   "execution_count": 52,
   "id": "a525023e",
   "metadata": {},
   "outputs": [],
   "source": [
    "%reset -f"
   ]
  },
  {
   "cell_type": "code",
   "execution_count": 53,
   "id": "53670600",
   "metadata": {
    "scrolled": true
   },
   "outputs": [
    {
     "name": "stdout",
     "output_type": "stream",
     "text": [
      " 0.00   0.000 \n",
      "\n",
      " 0.50   0.479 \n",
      "\n",
      " 1.00   0.841 \n",
      "\n",
      " 1.50   0.997 \n",
      "\n",
      " 2.00   0.909 \n",
      "\n",
      " 2.50   0.598 \n",
      "\n",
      " 3.00   0.141 \n",
      "\n",
      " 3.50  -0.351 \n",
      "\n",
      " 4.00  -0.757 \n",
      "\n",
      " 4.50  -0.978 \n",
      "\n",
      " 5.00  -0.959 \n",
      "\n",
      " 5.50  -0.706 \n",
      "\n",
      " 6.00  -0.279 \n",
      "\n",
      " 6.50   0.215 \n",
      "\n",
      " 7.00   0.657 \n",
      "\n",
      " 7.50   0.938 \n",
      "\n",
      " 8.00   0.989 \n",
      "\n",
      " 8.50   0.798 \n",
      "\n",
      " 9.00   0.412 \n",
      "\n",
      " 9.50  -0.075 \n",
      "\n"
     ]
    },
    {
     "data": {
      "image/png": "[encoded data removed]",
      "text/plain": [
       "<Figure size 432x288 with 1 Axes>"
      ]
     },
     "metadata": {
      "needs_background": "light"
     },
     "output_type": "display_data"
    }
   ],
   "source": [
    "# example 1b (read)\n",
    "# This simply write lines in a file and print\n",
    "\n",
    "import numpy as np\n",
    "import matplotlib.pyplot as plt\n",
    "\n",
    "xx=np.array([])   # create an empty array\n",
    "yy=np.array([])   # create an empty array\n",
    "\n",
    "fin=open(\"xypoints.txt\")\n",
    "for line in fin:\n",
    "    print(line)\n",
    "    s=line.split()   # split a line to elements\n",
    "    if len(s)>1:     # skip empty line\n",
    "        # save all x, y values in arrays.\n",
    "        xx=np.append(xx,float(s[0]))    # x in first element\n",
    "        yy=np.append(yy,float(s[1]))    # y in second element\n",
    "        \n",
    "# plot x, y.\n",
    "plt.plot(xx,yy,\"or\")\n",
    "plt.show()\n"
   ]
  },
  {
   "cell_type": "code",
   "execution_count": 54,
   "id": "0ca146f8",
   "metadata": {},
   "outputs": [],
   "source": [
    "%reset -f"
   ]
  },
  {
   "cell_type": "markdown",
   "id": "4424a332",
   "metadata": {},
   "source": [
    "\n",
    "[3.9.2] csv file using pandas dataframe\n",
    "\n",
    "A simple way to store big data sets is to use CSV files (comma separated files).\n",
    "\n",
    "CSV files contains plain text and is a well know format that can be read by everyone including Pandas.\n",
    "\n",
    "https://www.w3schools.com/python/pandas/pandas_csv.asp\n"
   ]
  },
  {
   "cell_type": "code",
   "execution_count": 55,
   "id": "a5a744a7",
   "metadata": {},
   "outputs": [
    {
     "name": "stdout",
     "output_type": "stream",
     "text": [
      "      x         y\n",
      "0   0.0  0.000000\n",
      "1   0.5  0.479426\n",
      "2   1.0  0.841471\n",
      "3   1.5  0.997495\n",
      "4   2.0  0.909297\n",
      "5   2.5  0.598472\n",
      "6   3.0  0.141120\n",
      "7   3.5 -0.350783\n",
      "8   4.0 -0.756802\n",
      "9   4.5 -0.977530\n",
      "10  5.0 -0.958924\n",
      "11  5.5 -0.705540\n",
      "12  6.0 -0.279415\n",
      "13  6.5  0.215120\n",
      "14  7.0  0.656987\n",
      "15  7.5  0.938000\n",
      "16  8.0  0.989358\n",
      "17  8.5  0.798487\n",
      "18  9.0  0.412118\n",
      "19  9.5 -0.075151\n"
     ]
    }
   ],
   "source": [
    "# example 2a (write in csv format)\n",
    "\n",
    "import numpy as np\n",
    "import matplotlib.pyplot as plt\n",
    "import pandas as pd\n",
    "\n",
    "# creat x, y values\n",
    "xx=np.arange(0.0,10.0,0.5)\n",
    "yy=np.sin(xx)\n",
    "\n",
    "# construct the data structure in pandas DataFrame\n",
    "df = pd.DataFrame({'x':xx,'y':yy})\n",
    "print(df)\n",
    "\n",
    "df.to_csv(\"xypoints.csv\")"
   ]
  },
  {
   "cell_type": "code",
   "execution_count": 56,
   "id": "3ec5232a",
   "metadata": {},
   "outputs": [],
   "source": [
    "%reset -f"
   ]
  },
  {
   "cell_type": "code",
   "execution_count": 57,
   "id": "f2a20452",
   "metadata": {},
   "outputs": [
    {
     "name": "stdout",
     "output_type": "stream",
     "text": [
      "    Unnamed: 0    x         y\n",
      "0            0  0.0  0.000000\n",
      "1            1  0.5  0.479426\n",
      "2            2  1.0  0.841471\n",
      "3            3  1.5  0.997495\n",
      "4            4  2.0  0.909297\n",
      "5            5  2.5  0.598472\n",
      "6            6  3.0  0.141120\n",
      "7            7  3.5 -0.350783\n",
      "8            8  4.0 -0.756802\n",
      "9            9  4.5 -0.977530\n",
      "10          10  5.0 -0.958924\n",
      "11          11  5.5 -0.705540\n",
      "12          12  6.0 -0.279415\n",
      "13          13  6.5  0.215120\n",
      "14          14  7.0  0.656987\n",
      "15          15  7.5  0.938000\n",
      "16          16  8.0  0.989358\n",
      "17          17  8.5  0.798487\n",
      "18          18  9.0  0.412118\n",
      "19          19  9.5 -0.075151\n"
     ]
    },
    {
     "data": {
      "image/png": "[encoded data removed]",
      "text/plain": [
       "<Figure size 432x288 with 1 Axes>"
      ]
     },
     "metadata": {
      "needs_background": "light"
     },
     "output_type": "display_data"
    }
   ],
   "source": [
    "# example 2b (read csv file generated by pandas)\n",
    "\n",
    "import numpy as np\n",
    "import matplotlib.pyplot as plt\n",
    "import pandas as pd\n",
    "\n",
    "df = pd.read_csv('xypoints.csv')\n",
    "\n",
    "print(df)\n",
    "\n",
    "# unpack to numpy array\n",
    "xx=df['x'].to_numpy()\n",
    "yy=df['y'].to_numpy()\n",
    "\n",
    "# plot x, y.\n",
    "plt.plot(xx,yy,\"sb\")\n",
    "plt.show()\n",
    "\n"
   ]
  },
  {
   "cell_type": "code",
   "execution_count": 58,
   "id": "139b5be8",
   "metadata": {},
   "outputs": [],
   "source": [
    "%reset -f"
   ]
  },
  {
   "cell_type": "markdown",
   "id": "1930e7b2",
   "metadata": {},
   "source": [
    "# [3.10] Matplotlib.pyplot.plot\n",
    "\n",
    "What is Matplotlib?\n",
    "\n",
    "Matplotlib is a low level graph plotting library in python that serves as a visualization utility.\n",
    "\n",
    "There are many examples in the following links.\n",
    "\n",
    "https://matplotlib.org/stable/api/_as_gen/matplotlib.pyplot.plot.html \n",
    "<br>\n",
    "https://matplotlib.org/stable/gallery/index.html \n",
    "<br>\n",
    "\n",
    "https://www.w3schools.com/python/matplotlib_intro.asp \n",
    "\n",
    "Pay attension on \"Markers\", \"Line\", \"Label\", \"Grid\", \n",
    "\"legend\", \"text\", and various types of plots, \n",
    "e.g. simple, scatter, histograms etc.\n",
    "\n",
    "Do Google search to find good exmples, for example \n",
    "search for \"Matplotlib text\" or \"Matplotlib text example\""
   ]
  },
  {
   "cell_type": "markdown",
   "id": "1191f815",
   "metadata": {},
   "source": [
    "[3.10.1] Subplots\n",
    "\n",
    "With the subplot() function you can draw multiple plots in one figure:\n",
    "\n",
    "https://matplotlib.org/stable/api/_as_gen/matplotlib.pyplot.subplot.html\n",
    "\n",
    "https://www.w3schools.com/python/matplotlib_subplot.asp\n"
   ]
  },
  {
   "cell_type": "code",
   "execution_count": 59,
   "id": "6fed4de0",
   "metadata": {},
   "outputs": [
    {
     "data": {
      "image/png": "[encoded data removed]",
      "text/plain": [
       "<Figure size 432x288 with 2 Axes>"
      ]
     },
     "metadata": {
      "needs_background": "light"
     },
     "output_type": "display_data"
    }
   ],
   "source": [
    "# subplot example\n",
    "\n",
    "import matplotlib.pyplot as plt\n",
    "import numpy as np\n",
    "\n",
    "#plot 1:\n",
    "x = np.array([0, 1, 2, 3])\n",
    "y = np.array([3, 8, 1, 10])\n",
    "\n",
    "plt.subplot(1, 2, 1)\n",
    "plt.plot(x,y)\n",
    "\n",
    "#plot 2:\n",
    "x = np.array([0, 1, 2, 3])\n",
    "y = np.array([10, 20, 30, 40])\n",
    "\n",
    "plt.subplot(1, 2, 2)\n",
    "plt.plot(x,y)\n",
    "\n",
    "plt.show()\n"
   ]
  },
  {
   "cell_type": "code",
   "execution_count": 60,
   "id": "9c737456",
   "metadata": {},
   "outputs": [],
   "source": [
    "%reset -f"
   ]
  },
  {
   "cell_type": "markdown",
   "id": "3cf1929d",
   "metadata": {},
   "source": [
    "[3.10.2] Histogram\n",
    "\n",
    "https://www.w3schools.com/python/matplotlib_histograms.asp\n"
   ]
  },
  {
   "cell_type": "code",
   "execution_count": 61,
   "id": "a68e381b",
   "metadata": {},
   "outputs": [
    {
     "data": {
      "image/png": "[encoded data removed]",
      "text/plain": [
       "<Figure size 432x288 with 1 Axes>"
      ]
     },
     "metadata": {
      "needs_background": "light"
     },
     "output_type": "display_data"
    }
   ],
   "source": [
    "import matplotlib.pyplot as plt\n",
    "import numpy as np\n",
    "\n",
    "# generate 250 random numbers in Gaussian distibution\n",
    "# with mean 170 and standard deviation 10.\n",
    "x = np.random.normal(170, 10, 250)\n",
    "\n",
    "# Plot the distribution\n",
    "plt.hist(x)\n",
    "plt.show() "
   ]
  },
  {
   "cell_type": "code",
   "execution_count": 62,
   "id": "f90d4e60",
   "metadata": {},
   "outputs": [],
   "source": [
    "%reset -f"
   ]
  },
  {
   "cell_type": "markdown",
   "id": "31712bb2",
   "metadata": {},
   "source": [
    "[3.10.4] Math symbols in plots\n",
    "You can use a subset of TeX markup in any Matplotlib text string by placing it inside a pair of dollar signs ($).\n",
    "\n",
    "https://matplotlib.org/stable/tutorials/text/mathtext.html\n",
    "\n",
    "Any text element can use math text. You should use raw strings (precede the quotes with an 'r'), and surround the math text with dollar signs ($), as in TeX. Regular text and mathtext can be interleaved within the same string.\n",
    "See the following for more about Latex math symbols and equations. \n",
    "\n",
    "https://en.wikipedia.org/wiki/List_of_mathematical_symbols_by_subject \n",
    "https://en.wikibooks.org/wiki/LaTeX/Mathematics \n"
   ]
  },
  {
   "cell_type": "code",
   "execution_count": 63,
   "id": "82df1aa8",
   "metadata": {},
   "outputs": [
    {
     "data": {
      "image/png": "[encoded data removed]",
      "text/plain": [
       "<Figure size 432x288 with 1 Axes>"
      ]
     },
     "metadata": {
      "needs_background": "light"
     },
     "output_type": "display_data"
    }
   ],
   "source": [
    "import numpy as np\n",
    "import matplotlib.pyplot as plt\n",
    "\n",
    "\n",
    "g=9.8\n",
    "v0=6.00\n",
    "y0=0.00\n",
    "\n",
    "t=np.arange(0.0,1.5,0.01)\n",
    "y=y0+v0*t-0.5*g*t*t\n",
    "\n",
    "plt.plot(t,y)\n",
    "plt.xlabel(\"time, s\")\n",
    "plt.ylabel(\"height, m\")\n",
    "plt.title(r\"$y=y_0+v_0 t-\\frac{1}{2}gt^2$\")\n",
    "plt.text(0.6,-0.5,r\"$y_0 = 0.0 \\ m$\")\n",
    "plt.text(0.6,-1.0,r\"$v_0 = 6.0 \\ m/s$\")\n",
    "plt.text(0.6,-1.5,r\"$g = 9.8 \\ m/s^2$\")\n",
    "plt.show()"
   ]
  },
  {
   "cell_type": "code",
   "execution_count": 64,
   "id": "d4b86dda",
   "metadata": {},
   "outputs": [],
   "source": [
    "%reset -f"
   ]
  },
  {
   "cell_type": "markdown",
   "id": "73e7df17",
   "metadata": {},
   "source": [
    "[3.10.3] Animation\n",
    "\n",
    "Animation is fun and useful to understsand behaviour of physical system. You may find examples of animation codes at\n",
    "https://matplotlib.org/stable/api/animation_api.html\n",
    "\n",
    "Here is one example.\n",
    "\n",
    "Rain Drop Simulation <br>\n",
    "https://matplotlib.org/stable/gallery/animation/rain.html\n",
    "\n",
    "To run animation in jupyter notebook, the follwoing magic line is required.\n",
    "\n",
    "%matplotlib notebook\n",
    "\n",
    "<b>catution: If you need to rerun this notebook, you may need to comment-out the magic line with # sign in the following code. The line may interfere with othe parts of this notebook.</b>\n"
   ]
  },
  {
   "cell_type": "code",
   "execution_count": 65,
   "id": "fe8919ad",
   "metadata": {
    "scrolled": true
   },
   "outputs": [
    {
     "data": {
      "application/javascript": [
       "/* Put everything inside the global mpl namespace */\n",
       "/* global mpl */\n",
       "window.mpl = {};\n",
       "\n",
       "mpl.get_websocket_type = function () {\n",
       "    if (typeof WebSocket !== 'undefined') {\n",
       "        return WebSocket;\n",
       "    } else if (typeof MozWebSocket !== 'undefined') {\n",
       "        return MozWebSocket;\n",
       "    } else {\n",
       "        alert(\n",
       "            'Your browser does not have WebSocket support. ' +\n",
       "                'Please try Chrome, Safari or Firefox ≥ 6. ' +\n",
       "                'Firefox 4 and 5 are also supported but you ' +\n",
       "                'have to enable WebSockets in about:config.'\n",
       "        );\n",
       "    }\n",
       "};\n",
       "\n",
       "mpl.figure = function (figure_id, websocket, ondownload, parent_element) {\n",
       "    this.id = figure_id;\n",
       "\n",
       "    this.ws = websocket;\n",
       "\n",
       "    this.supports_binary = this.ws.binaryType !== undefined;\n",
       "\n",
       "    if (!this.supports_binary) {\n",
       "        var warnings = document.getElementById('mpl-warnings');\n",
       "        if (warnings) {\n",
       "            warnings.style.display = 'block';\n",
       "            warnings.textContent =\n",
       "                'This browser does not support binary websocket messages. ' +\n",
       "                'Performance may be slow.';\n",
       "        }\n",
       "    }\n",
       "\n",
       "    this.imageObj = new Image();\n",
       "\n",
       "    this.context = undefined;\n",
       "    this.message = undefined;\n",
       "    this.canvas = undefined;\n",
       "    this.rubberband_canvas = undefined;\n",
       "    this.rubberband_context = undefined;\n",
       "    this.format_dropdown = undefined;\n",
       "\n",
       "    this.image_mode = 'full';\n",
       "\n",
       "    this.root = document.createElement('div');\n",
       "    this.root.setAttribute('style', 'display: inline-block');\n",
       "    this._root_extra_style(this.root);\n",
       "\n",
       "    parent_element.appendChild(this.root);\n",
       "\n",
       "    this._init_header(this);\n",
       "    this._init_canvas(this);\n",
       "    this._init_toolbar(this);\n",
       "\n",
       "    var fig = this;\n",
       "\n",
       "    this.waiting = false;\n",
       "\n",
       "    this.ws.onopen = function () {\n",
       "        fig.send_message('supports_binary', { value: fig.supports_binary });\n",
       "        fig.send_message('send_image_mode', {});\n",
       "        if (fig.ratio !== 1) {\n",
       "            fig.send_message('set_device_pixel_ratio', {\n",
       "                device_pixel_ratio: fig.ratio,\n",
       "            });\n",
       "        }\n",
       "        fig.send_message('refresh', {});\n",
       "    };\n",
       "\n",
       "    this.imageObj.onload = function () {\n",
       "        if (fig.image_mode === 'full') {\n",
       "            // Full images could contain transparency (where diff images\n",
       "            // almost always do), so we need to clear the canvas so that\n",
       "            // there is no ghosting.\n",
       "            fig.context.clearRect(0, 0, fig.canvas.width, fig.canvas.height);\n",
       "        }\n",
       "        fig.context.drawImage(fig.imageObj, 0, 0);\n",
       "    };\n",
       "\n",
       "    this.imageObj.onunload = function () {\n",
       "        fig.ws.close();\n",
       "    };\n",
       "\n",
       "    this.ws.onmessage = this._make_on_message_function(this);\n",
       "\n",
       "    this.ondownload = ondownload;\n",
       "};\n",
       "\n",
       "mpl.figure.prototype._init_header = function () {\n",
       "    var titlebar = document.createElement('div');\n",
       "    titlebar.classList =\n",
       "        'ui-dialog-titlebar ui-widget-header ui-corner-all ui-helper-clearfix';\n",
       "    var titletext = document.createElement('div');\n",
       "    titletext.classList = 'ui-dialog-title';\n",
       "    titletext.setAttribute(\n",
       "        'style',\n",
       "        'width: 100%; text-align: center; padding: 3px;'\n",
       "    );\n",
       "    titlebar.appendChild(titletext);\n",
       "    this.root.appendChild(titlebar);\n",
       "    this.header = titletext;\n",
       "};\n",
       "\n",
       "mpl.figure.prototype._canvas_extra_style = function (_canvas_div) {};\n",
       "\n",
       "mpl.figure.prototype._root_extra_style = function (_canvas_div) {};\n",
       "\n",
       "mpl.figure.prototype._init_canvas = function () {\n",
       "    var fig = this;\n",
       "\n",
       "    var canvas_div = (this.canvas_div = document.createElement('div'));\n",
       "    canvas_div.setAttribute(\n",
       "        'style',\n",
       "        'border: 1px solid #ddd;' +\n",
       "            'box-sizing: content-box;' +\n",
       "            'clear: both;' +\n",
       "            'min-height: 1px;' +\n",
       "            'min-width: 1px;' +\n",
       "            'outline: 0;' +\n",
       "            'overflow: hidden;' +\n",
       "            'position: relative;' +\n",
       "            'resize: both;'\n",
       "    );\n",
       "\n",
       "    function on_keyboard_event_closure(name) {\n",
       "        return function (event) {\n",
       "            return fig.key_event(event, name);\n",
       "        };\n",
       "    }\n",
       "\n",
       "    canvas_div.addEventListener(\n",
       "        'keydown',\n",
       "        on_keyboard_event_closure('key_press')\n",
       "    );\n",
       "    canvas_div.addEventListener(\n",
       "        'keyup',\n",
       "        on_keyboard_event_closure('key_release')\n",
       "    );\n",
       "\n",
       "    this._canvas_extra_style(canvas_div);\n",
       "    this.root.appendChild(canvas_div);\n",
       "\n",
       "    var canvas = (this.canvas = document.createElement('canvas'));\n",
       "    canvas.classList.add('mpl-canvas');\n",
       "    canvas.setAttribute('style', 'box-sizing: content-box;');\n",
       "\n",
       "    this.context = canvas.getContext('2d');\n",
       "\n",
       "    var backingStore =\n",
       "        this.context.backingStorePixelRatio ||\n",
       "        this.context.webkitBackingStorePixelRatio ||\n",
       "        this.context.mozBackingStorePixelRatio ||\n",
       "        this.context.msBackingStorePixelRatio ||\n",
       "        this.context.oBackingStorePixelRatio ||\n",
       "        this.context.backingStorePixelRatio ||\n",
       "        1;\n",
       "\n",
       "    this.ratio = (window.devicePixelRatio || 1) / backingStore;\n",
       "\n",
       "    var rubberband_canvas = (this.rubberband_canvas = document.createElement(\n",
       "        'canvas'\n",
       "    ));\n",
       "    rubberband_canvas.setAttribute(\n",
       "        'style',\n",
       "        'box-sizing: content-box; position: absolute; left: 0; top: 0; z-index: 1;'\n",
       "    );\n",
       "\n",
       "    // Apply a ponyfill if ResizeObserver is not implemented by browser.\n",
       "    if (this.ResizeObserver === undefined) {\n",
       "        if (window.ResizeObserver !== undefined) {\n",
       "            this.ResizeObserver = window.ResizeObserver;\n",
       "        } else {\n",
       "            var obs = _JSXTOOLS_RESIZE_OBSERVER({});\n",
       "            this.ResizeObserver = obs.ResizeObserver;\n",
       "        }\n",
       "    }\n",
       "\n",
       "    this.resizeObserverInstance = new this.ResizeObserver(function (entries) {\n",
       "        var nentries = entries.length;\n",
       "        for (var i = 0; i < nentries; i++) {\n",
       "            var entry = entries[i];\n",
       "            var width, height;\n",
       "            if (entry.contentBoxSize) {\n",
       "                if (entry.contentBoxSize instanceof Array) {\n",
       "                    // Chrome 84 implements new version of spec.\n",
       "                    width = entry.contentBoxSize[0].inlineSize;\n",
       "                    height = entry.contentBoxSize[0].blockSize;\n",
       "                } else {\n",
       "                    // Firefox implements old version of spec.\n",
       "                    width = entry.contentBoxSize.inlineSize;\n",
       "                    height = entry.contentBoxSize.blockSize;\n",
       "                }\n",
       "            } else {\n",
       "                // Chrome <84 implements even older version of spec.\n",
       "                width = entry.contentRect.width;\n",
       "                height = entry.contentRect.height;\n",
       "            }\n",
       "\n",
       "            // Keep the size of the canvas and rubber band canvas in sync with\n",
       "            // the canvas container.\n",
       "            if (entry.devicePixelContentBoxSize) {\n",
       "                // Chrome 84 implements new version of spec.\n",
       "                canvas.setAttribute(\n",
       "                    'width',\n",
       "                    entry.devicePixelContentBoxSize[0].inlineSize\n",
       "                );\n",
       "                canvas.setAttribute(\n",
       "                    'height',\n",
       "                    entry.devicePixelContentBoxSize[0].blockSize\n",
       "                );\n",
       "            } else {\n",
       "                canvas.setAttribute('width', width * fig.ratio);\n",
       "                canvas.setAttribute('height', height * fig.ratio);\n",
       "            }\n",
       "            canvas.setAttribute(\n",
       "                'style',\n",
       "                'width: ' + width + 'px; height: ' + height + 'px;'\n",
       "            );\n",
       "\n",
       "            rubberband_canvas.setAttribute('width', width);\n",
       "            rubberband_canvas.setAttribute('height', height);\n",
       "\n",
       "            // And update the size in Python. We ignore the initial 0/0 size\n",
       "            // that occurs as the element is placed into the DOM, which should\n",
       "            // otherwise not happen due to the minimum size styling.\n",
       "            if (fig.ws.readyState == 1 && width != 0 && height != 0) {\n",
       "                fig.request_resize(width, height);\n",
       "            }\n",
       "        }\n",
       "    });\n",
       "    this.resizeObserverInstance.observe(canvas_div);\n",
       "\n",
       "    function on_mouse_event_closure(name) {\n",
       "        return function (event) {\n",
       "            return fig.mouse_event(event, name);\n",
       "        };\n",
       "    }\n",
       "\n",
       "    rubberband_canvas.addEventListener(\n",
       "        'mousedown',\n",
       "        on_mouse_event_closure('button_press')\n",
       "    );\n",
       "    rubberband_canvas.addEventListener(\n",
       "        'mouseup',\n",
       "        on_mouse_event_closure('button_release')\n",
       "    );\n",
       "    rubberband_canvas.addEventListener(\n",
       "        'dblclick',\n",
       "        on_mouse_event_closure('dblclick')\n",
       "    );\n",
       "    // Throttle sequential mouse events to 1 every 20ms.\n",
       "    rubberband_canvas.addEventListener(\n",
       "        'mousemove',\n",
       "        on_mouse_event_closure('motion_notify')\n",
       "    );\n",
       "\n",
       "    rubberband_canvas.addEventListener(\n",
       "        'mouseenter',\n",
       "        on_mouse_event_closure('figure_enter')\n",
       "    );\n",
       "    rubberband_canvas.addEventListener(\n",
       "        'mouseleave',\n",
       "        on_mouse_event_closure('figure_leave')\n",
       "    );\n",
       "\n",
       "    canvas_div.addEventListener('wheel', function (event) {\n",
       "        if (event.deltaY < 0) {\n",
       "            event.step = 1;\n",
       "        } else {\n",
       "            event.step = -1;\n",
       "        }\n",
       "        on_mouse_event_closure('scroll')(event);\n",
       "    });\n",
       "\n",
       "    canvas_div.appendChild(canvas);\n",
       "    canvas_div.appendChild(rubberband_canvas);\n",
       "\n",
       "    this.rubberband_context = rubberband_canvas.getContext('2d');\n",
       "    this.rubberband_context.strokeStyle = '#000000';\n",
       "\n",
       "    this._resize_canvas = function (width, height, forward) {\n",
       "        if (forward) {\n",
       "            canvas_div.style.width = width + 'px';\n",
       "            canvas_div.style.height = height + 'px';\n",
       "        }\n",
       "    };\n",
       "\n",
       "    // Disable right mouse context menu.\n",
       "    this.rubberband_canvas.addEventListener('contextmenu', function (_e) {\n",
       "        event.preventDefault();\n",
       "        return false;\n",
       "    });\n",
       "\n",
       "    function set_focus() {\n",
       "        canvas.focus();\n",
       "        canvas_div.focus();\n",
       "    }\n",
       "\n",
       "    window.setTimeout(set_focus, 100);\n",
       "};\n",
       "\n",
       "mpl.figure.prototype._init_toolbar = function () {\n",
       "    var fig = this;\n",
       "\n",
       "    var toolbar = document.createElement('div');\n",
       "    toolbar.classList = 'mpl-toolbar';\n",
       "    this.root.appendChild(toolbar);\n",
       "\n",
       "    function on_click_closure(name) {\n",
       "        return function (_event) {\n",
       "            return fig.toolbar_button_onclick(name);\n",
       "        };\n",
       "    }\n",
       "\n",
       "    function on_mouseover_closure(tooltip) {\n",
       "        return function (event) {\n",
       "            if (!event.currentTarget.disabled) {\n",
       "                return fig.toolbar_button_onmouseover(tooltip);\n",
       "            }\n",
       "        };\n",
       "    }\n",
       "\n",
       "    fig.buttons = {};\n",
       "    var buttonGroup = document.createElement('div');\n",
       "    buttonGroup.classList = 'mpl-button-group';\n",
       "    for (var toolbar_ind in mpl.toolbar_items) {\n",
       "        var name = mpl.toolbar_items[toolbar_ind][0];\n",
       "        var tooltip = mpl.toolbar_items[toolbar_ind][1];\n",
       "        var image = mpl.toolbar_items[toolbar_ind][2];\n",
       "        var method_name = mpl.toolbar_items[toolbar_ind][3];\n",
       "\n",
       "        if (!name) {\n",
       "            /* Instead of a spacer, we start a new button group. */\n",
       "            if (buttonGroup.hasChildNodes()) {\n",
       "                toolbar.appendChild(buttonGroup);\n",
       "            }\n",
       "            buttonGroup = document.createElement('div');\n",
       "            buttonGroup.classList = 'mpl-button-group';\n",
       "            continue;\n",
       "        }\n",
       "\n",
       "        var button = (fig.buttons[name] = document.createElement('button'));\n",
       "        button.classList = 'mpl-widget';\n",
       "        button.setAttribute('role', 'button');\n",
       "        button.setAttribute('aria-disabled', 'false');\n",
       "        button.addEventListener('click', on_click_closure(method_name));\n",
       "        button.addEventListener('mouseover', on_mouseover_closure(tooltip));\n",
       "\n",
       "        var icon_img = document.createElement('img');\n",
       "        icon_img.src = '_images/' + image + '.png';\n",
       "        icon_img.srcset = '_images/' + image + '_large.png 2x';\n",
       "        icon_img.alt = tooltip;\n",
       "        button.appendChild(icon_img);\n",
       "\n",
       "        buttonGroup.appendChild(button);\n",
       "    }\n",
       "\n",
       "    if (buttonGroup.hasChildNodes()) {\n",
       "        toolbar.appendChild(buttonGroup);\n",
       "    }\n",
       "\n",
       "    var fmt_picker = document.createElement('select');\n",
       "    fmt_picker.classList = 'mpl-widget';\n",
       "    toolbar.appendChild(fmt_picker);\n",
       "    this.format_dropdown = fmt_picker;\n",
       "\n",
       "    for (var ind in mpl.extensions) {\n",
       "        var fmt = mpl.extensions[ind];\n",
       "        var option = document.createElement('option');\n",
       "        option.selected = fmt === mpl.default_extension;\n",
       "        option.innerHTML = fmt;\n",
       "        fmt_picker.appendChild(option);\n",
       "    }\n",
       "\n",
       "    var status_bar = document.createElement('span');\n",
       "    status_bar.classList = 'mpl-message';\n",
       "    toolbar.appendChild(status_bar);\n",
       "    this.message = status_bar;\n",
       "};\n",
       "\n",
       "mpl.figure.prototype.request_resize = function (x_pixels, y_pixels) {\n",
       "    // Request matplotlib to resize the figure. Matplotlib will then trigger a resize in the client,\n",
       "    // which will in turn request a refresh of the image.\n",
       "    this.send_message('resize', { width: x_pixels, height: y_pixels });\n",
       "};\n",
       "\n",
       "mpl.figure.prototype.send_message = function (type, properties) {\n",
       "    properties['type'] = type;\n",
       "    properties['figure_id'] = this.id;\n",
       "    this.ws.send(JSON.stringify(properties));\n",
       "};\n",
       "\n",
       "mpl.figure.prototype.send_draw_message = function () {\n",
       "    if (!this.waiting) {\n",
       "        this.waiting = true;\n",
       "        this.ws.send(JSON.stringify({ type: 'draw', figure_id: this.id }));\n",
       "    }\n",
       "};\n",
       "\n",
       "mpl.figure.prototype.handle_save = function (fig, _msg) {\n",
       "    var format_dropdown = fig.format_dropdown;\n",
       "    var format = format_dropdown.options[format_dropdown.selectedIndex].value;\n",
       "    fig.ondownload(fig, format);\n",
       "};\n",
       "\n",
       "mpl.figure.prototype.handle_resize = function (fig, msg) {\n",
       "    var size = msg['size'];\n",
       "    if (size[0] !== fig.canvas.width || size[1] !== fig.canvas.height) {\n",
       "        fig._resize_canvas(size[0], size[1], msg['forward']);\n",
       "        fig.send_message('refresh', {});\n",
       "    }\n",
       "};\n",
       "\n",
       "mpl.figure.prototype.handle_rubberband = function (fig, msg) {\n",
       "    var x0 = msg['x0'] / fig.ratio;\n",
       "    var y0 = (fig.canvas.height - msg['y0']) / fig.ratio;\n",
       "    var x1 = msg['x1'] / fig.ratio;\n",
       "    var y1 = (fig.canvas.height - msg['y1']) / fig.ratio;\n",
       "    x0 = Math.floor(x0) + 0.5;\n",
       "    y0 = Math.floor(y0) + 0.5;\n",
       "    x1 = Math.floor(x1) + 0.5;\n",
       "    y1 = Math.floor(y1) + 0.5;\n",
       "    var min_x = Math.min(x0, x1);\n",
       "    var min_y = Math.min(y0, y1);\n",
       "    var width = Math.abs(x1 - x0);\n",
       "    var height = Math.abs(y1 - y0);\n",
       "\n",
       "    fig.rubberband_context.clearRect(\n",
       "        0,\n",
       "        0,\n",
       "        fig.canvas.width / fig.ratio,\n",
       "        fig.canvas.height / fig.ratio\n",
       "    );\n",
       "\n",
       "    fig.rubberband_context.strokeRect(min_x, min_y, width, height);\n",
       "};\n",
       "\n",
       "mpl.figure.prototype.handle_figure_label = function (fig, msg) {\n",
       "    // Updates the figure title.\n",
       "    fig.header.textContent = msg['label'];\n",
       "};\n",
       "\n",
       "mpl.figure.prototype.handle_cursor = function (fig, msg) {\n",
       "    fig.rubberband_canvas.style.cursor = msg['cursor'];\n",
       "};\n",
       "\n",
       "mpl.figure.prototype.handle_message = function (fig, msg) {\n",
       "    fig.message.textContent = msg['message'];\n",
       "};\n",
       "\n",
       "mpl.figure.prototype.handle_draw = function (fig, _msg) {\n",
       "    // Request the server to send over a new figure.\n",
       "    fig.send_draw_message();\n",
       "};\n",
       "\n",
       "mpl.figure.prototype.handle_image_mode = function (fig, msg) {\n",
       "    fig.image_mode = msg['mode'];\n",
       "};\n",
       "\n",
       "mpl.figure.prototype.handle_history_buttons = function (fig, msg) {\n",
       "    for (var key in msg) {\n",
       "        if (!(key in fig.buttons)) {\n",
       "            continue;\n",
       "        }\n",
       "        fig.buttons[key].disabled = !msg[key];\n",
       "        fig.buttons[key].setAttribute('aria-disabled', !msg[key]);\n",
       "    }\n",
       "};\n",
       "\n",
       "mpl.figure.prototype.handle_navigate_mode = function (fig, msg) {\n",
       "    if (msg['mode'] === 'PAN') {\n",
       "        fig.buttons['Pan'].classList.add('active');\n",
       "        fig.buttons['Zoom'].classList.remove('active');\n",
       "    } else if (msg['mode'] === 'ZOOM') {\n",
       "        fig.buttons['Pan'].classList.remove('active');\n",
       "        fig.buttons['Zoom'].classList.add('active');\n",
       "    } else {\n",
       "        fig.buttons['Pan'].classList.remove('active');\n",
       "        fig.buttons['Zoom'].classList.remove('active');\n",
       "    }\n",
       "};\n",
       "\n",
       "mpl.figure.prototype.updated_canvas_event = function () {\n",
       "    // Called whenever the canvas gets updated.\n",
       "    this.send_message('ack', {});\n",
       "};\n",
       "\n",
       "// A function to construct a web socket function for onmessage handling.\n",
       "// Called in the figure constructor.\n",
       "mpl.figure.prototype._make_on_message_function = function (fig) {\n",
       "    return function socket_on_message(evt) {\n",
       "        if (evt.data instanceof Blob) {\n",
       "            var img = evt.data;\n",
       "            if (img.type !== 'image/png') {\n",
       "                /* FIXME: We get \"Resource interpreted as Image but\n",
       "                 * transferred with MIME type text/plain:\" errors on\n",
       "                 * Chrome.  But how to set the MIME type?  It doesn't seem\n",
       "                 * to be part of the websocket stream */\n",
       "                img.type = 'image/png';\n",
       "            }\n",
       "\n",
       "            /* Free the memory for the previous frames */\n",
       "            if (fig.imageObj.src) {\n",
       "                (window.URL || window.webkitURL).revokeObjectURL(\n",
       "                    fig.imageObj.src\n",
       "                );\n",
       "            }\n",
       "\n",
       "            fig.imageObj.src = (window.URL || window.webkitURL).createObjectURL(\n",
       "                img\n",
       "            );\n",
       "            fig.updated_canvas_event();\n",
       "            fig.waiting = false;\n",
       "            return;\n",
       "        } else if (\n",
       "            typeof evt.data === 'string' &&\n",
       "            evt.data.slice(0, 21) === 'data:image/png;base64'\n",
       "        ) {\n",
       "            fig.imageObj.src = evt.data;\n",
       "            fig.updated_canvas_event();\n",
       "            fig.waiting = false;\n",
       "            return;\n",
       "        }\n",
       "\n",
       "        var msg = JSON.parse(evt.data);\n",
       "        var msg_type = msg['type'];\n",
       "\n",
       "        // Call the  \"handle_{type}\" callback, which takes\n",
       "        // the figure and JSON message as its only arguments.\n",
       "        try {\n",
       "            var callback = fig['handle_' + msg_type];\n",
       "        } catch (e) {\n",
       "            console.log(\n",
       "                \"No handler for the '\" + msg_type + \"' message type: \",\n",
       "                msg\n",
       "            );\n",
       "            return;\n",
       "        }\n",
       "\n",
       "        if (callback) {\n",
       "            try {\n",
       "                // console.log(\"Handling '\" + msg_type + \"' message: \", msg);\n",
       "                callback(fig, msg);\n",
       "            } catch (e) {\n",
       "                console.log(\n",
       "                    \"Exception inside the 'handler_\" + msg_type + \"' callback:\",\n",
       "                    e,\n",
       "                    e.stack,\n",
       "                    msg\n",
       "                );\n",
       "            }\n",
       "        }\n",
       "    };\n",
       "};\n",
       "\n",
       "// from https://stackoverflow.com/questions/1114465/getting-mouse-location-in-canvas\n",
       "mpl.findpos = function (e) {\n",
       "    //this section is from http://www.quirksmode.org/js/events_properties.html\n",
       "    var targ;\n",
       "    if (!e) {\n",
       "        e = window.event;\n",
       "    }\n",
       "    if (e.target) {\n",
       "        targ = e.target;\n",
       "    } else if (e.srcElement) {\n",
       "        targ = e.srcElement;\n",
       "    }\n",
       "    if (targ.nodeType === 3) {\n",
       "        // defeat Safari bug\n",
       "        targ = targ.parentNode;\n",
       "    }\n",
       "\n",
       "    // pageX,Y are the mouse positions relative to the document\n",
       "    var boundingRect = targ.getBoundingClientRect();\n",
       "    var x = e.pageX - (boundingRect.left + document.body.scrollLeft);\n",
       "    var y = e.pageY - (boundingRect.top + document.body.scrollTop);\n",
       "\n",
       "    return { x: x, y: y };\n",
       "};\n",
       "\n",
       "/*\n",
       " * return a copy of an object with only non-object keys\n",
       " * we need this to avoid circular references\n",
       " * https://stackoverflow.com/a/24161582/3208463\n",
       " */\n",
       "function simpleKeys(original) {\n",
       "    return Object.keys(original).reduce(function (obj, key) {\n",
       "        if (typeof original[key] !== 'object') {\n",
       "            obj[key] = original[key];\n",
       "        }\n",
       "        return obj;\n",
       "    }, {});\n",
       "}\n",
       "\n",
       "mpl.figure.prototype.mouse_event = function (event, name) {\n",
       "    var canvas_pos = mpl.findpos(event);\n",
       "\n",
       "    if (name === 'button_press') {\n",
       "        this.canvas.focus();\n",
       "        this.canvas_div.focus();\n",
       "    }\n",
       "\n",
       "    var x = canvas_pos.x * this.ratio;\n",
       "    var y = canvas_pos.y * this.ratio;\n",
       "\n",
       "    this.send_message(name, {\n",
       "        x: x,\n",
       "        y: y,\n",
       "        button: event.button,\n",
       "        step: event.step,\n",
       "        guiEvent: simpleKeys(event),\n",
       "    });\n",
       "\n",
       "    /* This prevents the web browser from automatically changing to\n",
       "     * the text insertion cursor when the button is pressed.  We want\n",
       "     * to control all of the cursor setting manually through the\n",
       "     * 'cursor' event from matplotlib */\n",
       "    event.preventDefault();\n",
       "    return false;\n",
       "};\n",
       "\n",
       "mpl.figure.prototype._key_event_extra = function (_event, _name) {\n",
       "    // Handle any extra behaviour associated with a key event\n",
       "};\n",
       "\n",
       "mpl.figure.prototype.key_event = function (event, name) {\n",
       "    // Prevent repeat events\n",
       "    if (name === 'key_press') {\n",
       "        if (event.key === this._key) {\n",
       "            return;\n",
       "        } else {\n",
       "            this._key = event.key;\n",
       "        }\n",
       "    }\n",
       "    if (name === 'key_release') {\n",
       "        this._key = null;\n",
       "    }\n",
       "\n",
       "    var value = '';\n",
       "    if (event.ctrlKey && event.key !== 'Control') {\n",
       "        value += 'ctrl+';\n",
       "    }\n",
       "    else if (event.altKey && event.key !== 'Alt') {\n",
       "        value += 'alt+';\n",
       "    }\n",
       "    else if (event.shiftKey && event.key !== 'Shift') {\n",
       "        value += 'shift+';\n",
       "    }\n",
       "\n",
       "    value += 'k' + event.key;\n",
       "\n",
       "    this._key_event_extra(event, name);\n",
       "\n",
       "    this.send_message(name, { key: value, guiEvent: simpleKeys(event) });\n",
       "    return false;\n",
       "};\n",
       "\n",
       "mpl.figure.prototype.toolbar_button_onclick = function (name) {\n",
       "    if (name === 'download') {\n",
       "        this.handle_save(this, null);\n",
       "    } else {\n",
       "        this.send_message('toolbar_button', { name: name });\n",
       "    }\n",
       "};\n",
       "\n",
       "mpl.figure.prototype.toolbar_button_onmouseover = function (tooltip) {\n",
       "    this.message.textContent = tooltip;\n",
       "};\n",
       "\n",
       "///////////////// REMAINING CONTENT GENERATED BY embed_js.py /////////////////\n",
       "// prettier-ignore\n",
       "var _JSXTOOLS_RESIZE_OBSERVER=function(A){var t,i=new WeakMap,n=new WeakMap,a=new WeakMap,r=new WeakMap,o=new Set;function s(e){if(!(this instanceof s))throw new TypeError(\"Constructor requires 'new' operator\");i.set(this,e)}function h(){throw new TypeError(\"Function is not a constructor\")}function c(e,t,i,n){e=0 in arguments?Number(arguments[0]):0,t=1 in arguments?Number(arguments[1]):0,i=2 in arguments?Number(arguments[2]):0,n=3 in arguments?Number(arguments[3]):0,this.right=(this.x=this.left=e)+(this.width=i),this.bottom=(this.y=this.top=t)+(this.height=n),Object.freeze(this)}function d(){t=requestAnimationFrame(d);var s=new WeakMap,p=new Set;o.forEach((function(t){r.get(t).forEach((function(i){var r=t instanceof window.SVGElement,o=a.get(t),d=r?0:parseFloat(o.paddingTop),f=r?0:parseFloat(o.paddingRight),l=r?0:parseFloat(o.paddingBottom),u=r?0:parseFloat(o.paddingLeft),g=r?0:parseFloat(o.borderTopWidth),m=r?0:parseFloat(o.borderRightWidth),w=r?0:parseFloat(o.borderBottomWidth),b=u+f,F=d+l,v=(r?0:parseFloat(o.borderLeftWidth))+m,W=g+w,y=r?0:t.offsetHeight-W-t.clientHeight,E=r?0:t.offsetWidth-v-t.clientWidth,R=b+v,z=F+W,M=r?t.width:parseFloat(o.width)-R-E,O=r?t.height:parseFloat(o.height)-z-y;if(n.has(t)){var k=n.get(t);if(k[0]===M&&k[1]===O)return}n.set(t,[M,O]);var S=Object.create(h.prototype);S.target=t,S.contentRect=new c(u,d,M,O),s.has(i)||(s.set(i,[]),p.add(i)),s.get(i).push(S)}))})),p.forEach((function(e){i.get(e).call(e,s.get(e),e)}))}return s.prototype.observe=function(i){if(i instanceof window.Element){r.has(i)||(r.set(i,new Set),o.add(i),a.set(i,window.getComputedStyle(i)));var n=r.get(i);n.has(this)||n.add(this),cancelAnimationFrame(t),t=requestAnimationFrame(d)}},s.prototype.unobserve=function(i){if(i instanceof window.Element&&r.has(i)){var n=r.get(i);n.has(this)&&(n.delete(this),n.size||(r.delete(i),o.delete(i))),n.size||r.delete(i),o.size||cancelAnimationFrame(t)}},A.DOMRectReadOnly=c,A.ResizeObserver=s,A.ResizeObserverEntry=h,A}; // eslint-disable-line\n",
       "mpl.toolbar_items = [[\"Home\", \"Reset original view\", \"fa fa-home icon-home\", \"home\"], [\"Back\", \"Back to previous view\", \"fa fa-arrow-left icon-arrow-left\", \"back\"], [\"Forward\", \"Forward to next view\", \"fa fa-arrow-right icon-arrow-right\", \"forward\"], [\"\", \"\", \"\", \"\"], [\"Pan\", \"Left button pans, Right button zooms\\nx/y fixes axis, CTRL fixes aspect\", \"fa fa-arrows icon-move\", \"pan\"], [\"Zoom\", \"Zoom to rectangle\\nx/y fixes axis\", \"fa fa-square-o icon-check-empty\", \"zoom\"], [\"\", \"\", \"\", \"\"], [\"Download\", \"Download plot\", \"fa fa-floppy-o icon-save\", \"download\"]];\n",
       "\n",
       "mpl.extensions = [\"eps\", \"jpeg\", \"pgf\", \"pdf\", \"png\", \"ps\", \"raw\", \"svg\", \"tif\"];\n",
       "\n",
       "mpl.default_extension = \"png\";/* global mpl */\n",
       "\n",
       "var comm_websocket_adapter = function (comm) {\n",
       "    // Create a \"websocket\"-like object which calls the given IPython comm\n",
       "    // object with the appropriate methods. Currently this is a non binary\n",
       "    // socket, so there is still some room for performance tuning.\n",
       "    var ws = {};\n",
       "\n",
       "    ws.binaryType = comm.kernel.ws.binaryType;\n",
       "    ws.readyState = comm.kernel.ws.readyState;\n",
       "    function updateReadyState(_event) {\n",
       "        if (comm.kernel.ws) {\n",
       "            ws.readyState = comm.kernel.ws.readyState;\n",
       "        } else {\n",
       "            ws.readyState = 3; // Closed state.\n",
       "        }\n",
       "    }\n",
       "    comm.kernel.ws.addEventListener('open', updateReadyState);\n",
       "    comm.kernel.ws.addEventListener('close', updateReadyState);\n",
       "    comm.kernel.ws.addEventListener('error', updateReadyState);\n",
       "\n",
       "    ws.close = function () {\n",
       "        comm.close();\n",
       "    };\n",
       "    ws.send = function (m) {\n",
       "        //console.log('sending', m);\n",
       "        comm.send(m);\n",
       "    };\n",
       "    // Register the callback with on_msg.\n",
       "    comm.on_msg(function (msg) {\n",
       "        //console.log('receiving', msg['content']['data'], msg);\n",
       "        var data = msg['content']['data'];\n",
       "        if (data['blob'] !== undefined) {\n",
       "            data = {\n",
       "                data: new Blob(msg['buffers'], { type: data['blob'] }),\n",
       "            };\n",
       "        }\n",
       "        // Pass the mpl event to the overridden (by mpl) onmessage function.\n",
       "        ws.onmessage(data);\n",
       "    });\n",
       "    return ws;\n",
       "};\n",
       "\n",
       "mpl.mpl_figure_comm = function (comm, msg) {\n",
       "    // This is the function which gets called when the mpl process\n",
       "    // starts-up an IPython Comm through the \"matplotlib\" channel.\n",
       "\n",
       "    var id = msg.content.data.id;\n",
       "    // Get hold of the div created by the display call when the Comm\n",
       "    // socket was opened in Python.\n",
       "    var element = document.getElementById(id);\n",
       "    var ws_proxy = comm_websocket_adapter(comm);\n",
       "\n",
       "    function ondownload(figure, _format) {\n",
       "        window.open(figure.canvas.toDataURL());\n",
       "    }\n",
       "\n",
       "    var fig = new mpl.figure(id, ws_proxy, ondownload, element);\n",
       "\n",
       "    // Call onopen now - mpl needs it, as it is assuming we've passed it a real\n",
       "    // web socket which is closed, not our websocket->open comm proxy.\n",
       "    ws_proxy.onopen();\n",
       "\n",
       "    fig.parent_element = element;\n",
       "    fig.cell_info = mpl.find_output_cell(\"<div id='\" + id + \"'></div>\");\n",
       "    if (!fig.cell_info) {\n",
       "        console.error('Failed to find cell for figure', id, fig);\n",
       "        return;\n",
       "    }\n",
       "    fig.cell_info[0].output_area.element.on(\n",
       "        'cleared',\n",
       "        { fig: fig },\n",
       "        fig._remove_fig_handler\n",
       "    );\n",
       "};\n",
       "\n",
       "mpl.figure.prototype.handle_close = function (fig, msg) {\n",
       "    var width = fig.canvas.width / fig.ratio;\n",
       "    fig.cell_info[0].output_area.element.off(\n",
       "        'cleared',\n",
       "        fig._remove_fig_handler\n",
       "    );\n",
       "    fig.resizeObserverInstance.unobserve(fig.canvas_div);\n",
       "\n",
       "    // Update the output cell to use the data from the current canvas.\n",
       "    fig.push_to_output();\n",
       "    var dataURL = fig.canvas.toDataURL();\n",
       "    // Re-enable the keyboard manager in IPython - without this line, in FF,\n",
       "    // the notebook keyboard shortcuts fail.\n",
       "    IPython.keyboard_manager.enable();\n",
       "    fig.parent_element.innerHTML =\n",
       "        '<img src=\"' + dataURL + '\" width=\"' + width + '\">';\n",
       "    fig.close_ws(fig, msg);\n",
       "};\n",
       "\n",
       "mpl.figure.prototype.close_ws = function (fig, msg) {\n",
       "    fig.send_message('closing', msg);\n",
       "    // fig.ws.close()\n",
       "};\n",
       "\n",
       "mpl.figure.prototype.push_to_output = function (_remove_interactive) {\n",
       "    // Turn the data on the canvas into data in the output cell.\n",
       "    var width = this.canvas.width / this.ratio;\n",
       "    var dataURL = this.canvas.toDataURL();\n",
       "    this.cell_info[1]['text/html'] =\n",
       "        '<img src=\"' + dataURL + '\" width=\"' + width + '\">';\n",
       "};\n",
       "\n",
       "mpl.figure.prototype.updated_canvas_event = function () {\n",
       "    // Tell IPython that the notebook contents must change.\n",
       "    IPython.notebook.set_dirty(true);\n",
       "    this.send_message('ack', {});\n",
       "    var fig = this;\n",
       "    // Wait a second, then push the new image to the DOM so\n",
       "    // that it is saved nicely (might be nice to debounce this).\n",
       "    setTimeout(function () {\n",
       "        fig.push_to_output();\n",
       "    }, 1000);\n",
       "};\n",
       "\n",
       "mpl.figure.prototype._init_toolbar = function () {\n",
       "    var fig = this;\n",
       "\n",
       "    var toolbar = document.createElement('div');\n",
       "    toolbar.classList = 'btn-toolbar';\n",
       "    this.root.appendChild(toolbar);\n",
       "\n",
       "    function on_click_closure(name) {\n",
       "        return function (_event) {\n",
       "            return fig.toolbar_button_onclick(name);\n",
       "        };\n",
       "    }\n",
       "\n",
       "    function on_mouseover_closure(tooltip) {\n",
       "        return function (event) {\n",
       "            if (!event.currentTarget.disabled) {\n",
       "                return fig.toolbar_button_onmouseover(tooltip);\n",
       "            }\n",
       "        };\n",
       "    }\n",
       "\n",
       "    fig.buttons = {};\n",
       "    var buttonGroup = document.createElement('div');\n",
       "    buttonGroup.classList = 'btn-group';\n",
       "    var button;\n",
       "    for (var toolbar_ind in mpl.toolbar_items) {\n",
       "        var name = mpl.toolbar_items[toolbar_ind][0];\n",
       "        var tooltip = mpl.toolbar_items[toolbar_ind][1];\n",
       "        var image = mpl.toolbar_items[toolbar_ind][2];\n",
       "        var method_name = mpl.toolbar_items[toolbar_ind][3];\n",
       "\n",
       "        if (!name) {\n",
       "            /* Instead of a spacer, we start a new button group. */\n",
       "            if (buttonGroup.hasChildNodes()) {\n",
       "                toolbar.appendChild(buttonGroup);\n",
       "            }\n",
       "            buttonGroup = document.createElement('div');\n",
       "            buttonGroup.classList = 'btn-group';\n",
       "            continue;\n",
       "        }\n",
       "\n",
       "        button = fig.buttons[name] = document.createElement('button');\n",
       "        button.classList = 'btn btn-default';\n",
       "        button.href = '#';\n",
       "        button.title = name;\n",
       "        button.innerHTML = '<i class=\"fa ' + image + ' fa-lg\"></i>';\n",
       "        button.addEventListener('click', on_click_closure(method_name));\n",
       "        button.addEventListener('mouseover', on_mouseover_closure(tooltip));\n",
       "        buttonGroup.appendChild(button);\n",
       "    }\n",
       "\n",
       "    if (buttonGroup.hasChildNodes()) {\n",
       "        toolbar.appendChild(buttonGroup);\n",
       "    }\n",
       "\n",
       "    // Add the status bar.\n",
       "    var status_bar = document.createElement('span');\n",
       "    status_bar.classList = 'mpl-message pull-right';\n",
       "    toolbar.appendChild(status_bar);\n",
       "    this.message = status_bar;\n",
       "\n",
       "    // Add the close button to the window.\n",
       "    var buttongrp = document.createElement('div');\n",
       "    buttongrp.classList = 'btn-group inline pull-right';\n",
       "    button = document.createElement('button');\n",
       "    button.classList = 'btn btn-mini btn-primary';\n",
       "    button.href = '#';\n",
       "    button.title = 'Stop Interaction';\n",
       "    button.innerHTML = '<i class=\"fa fa-power-off icon-remove icon-large\"></i>';\n",
       "    button.addEventListener('click', function (_evt) {\n",
       "        fig.handle_close(fig, {});\n",
       "    });\n",
       "    button.addEventListener(\n",
       "        'mouseover',\n",
       "        on_mouseover_closure('Stop Interaction')\n",
       "    );\n",
       "    buttongrp.appendChild(button);\n",
       "    var titlebar = this.root.querySelector('.ui-dialog-titlebar');\n",
       "    titlebar.insertBefore(buttongrp, titlebar.firstChild);\n",
       "};\n",
       "\n",
       "mpl.figure.prototype._remove_fig_handler = function (event) {\n",
       "    var fig = event.data.fig;\n",
       "    if (event.target !== this) {\n",
       "        // Ignore bubbled events from children.\n",
       "        return;\n",
       "    }\n",
       "    fig.close_ws(fig, {});\n",
       "};\n",
       "\n",
       "mpl.figure.prototype._root_extra_style = function (el) {\n",
       "    el.style.boxSizing = 'content-box'; // override notebook setting of border-box.\n",
       "};\n",
       "\n",
       "mpl.figure.prototype._canvas_extra_style = function (el) {\n",
       "    // this is important to make the div 'focusable\n",
       "    el.setAttribute('tabindex', 0);\n",
       "    // reach out to IPython and tell the keyboard manager to turn it's self\n",
       "    // off when our div gets focus\n",
       "\n",
       "    // location in version 3\n",
       "    if (IPython.notebook.keyboard_manager) {\n",
       "        IPython.notebook.keyboard_manager.register_events(el);\n",
       "    } else {\n",
       "        // location in version 2\n",
       "        IPython.keyboard_manager.register_events(el);\n",
       "    }\n",
       "};\n",
       "\n",
       "mpl.figure.prototype._key_event_extra = function (event, _name) {\n",
       "    // Check for shift+enter\n",
       "    if (event.shiftKey && event.which === 13) {\n",
       "        this.canvas_div.blur();\n",
       "        // select the cell after this one\n",
       "        var index = IPython.notebook.find_cell_index(this.cell_info[0]);\n",
       "        IPython.notebook.select(index + 1);\n",
       "    }\n",
       "};\n",
       "\n",
       "mpl.figure.prototype.handle_save = function (fig, _msg) {\n",
       "    fig.ondownload(fig, null);\n",
       "};\n",
       "\n",
       "mpl.find_output_cell = function (html_output) {\n",
       "    // Return the cell and output element which can be found *uniquely* in the notebook.\n",
       "    // Note - this is a bit hacky, but it is done because the \"notebook_saving.Notebook\"\n",
       "    // IPython event is triggered only after the cells have been serialised, which for\n",
       "    // our purposes (turning an active figure into a static one), is too late.\n",
       "    var cells = IPython.notebook.get_cells();\n",
       "    var ncells = cells.length;\n",
       "    for (var i = 0; i < ncells; i++) {\n",
       "        var cell = cells[i];\n",
       "        if (cell.cell_type === 'code') {\n",
       "            for (var j = 0; j < cell.output_area.outputs.length; j++) {\n",
       "                var data = cell.output_area.outputs[j];\n",
       "                if (data.data) {\n",
       "                    // IPython >= 3 moved mimebundle to data attribute of output\n",
       "                    data = data.data;\n",
       "                }\n",
       "                if (data['text/html'] === html_output) {\n",
       "                    return [cell, data, j];\n",
       "                }\n",
       "            }\n",
       "        }\n",
       "    }\n",
       "};\n",
       "\n",
       "// Register the function which deals with the matplotlib target/channel.\n",
       "// The kernel may be null if the page has been refreshed.\n",
       "if (IPython.notebook.kernel !== null) {\n",
       "    IPython.notebook.kernel.comm_manager.register_target(\n",
       "        'matplotlib',\n",
       "        mpl.mpl_figure_comm\n",
       "    );\n",
       "}\n"
      ],
      "text/plain": [
       "<IPython.core.display.Javascript object>"
      ]
     },
     "metadata": {},
     "output_type": "display_data"
    },
    {
     "data": {
      "text/html": [
       "<img src=\"data:image/png;base64,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\" width=\"400\">"
      ],
      "text/plain": [
       "<IPython.core.display.HTML object>"
      ]
     },
     "metadata": {},
     "output_type": "display_data"
    }
   ],
   "source": [
    "#  Rain Drop Simulation\n",
    "import numpy as np\n",
    "import matplotlib.pyplot as plt\n",
    "from matplotlib.animation import FuncAnimation\n",
    "\n",
    "#  The following line is required to run animation \n",
    "#  in jupyter notebook\n",
    "%matplotlib notebook\n",
    "\n",
    "# Fixing random state for reproducibility\n",
    "np.random.seed(19680801)\n",
    "\n",
    "\n",
    "# Create new Figure and an Axes which fills it.\n",
    "fig = plt.figure(figsize=(4, 4)) #(7,7) was used in the original code.\n",
    "ax = fig.add_axes([0, 0, 1, 1], frameon=False)\n",
    "ax.set_xlim(0, 1), ax.set_xticks([])\n",
    "ax.set_ylim(0, 1), ax.set_yticks([])\n",
    "\n",
    "# Create rain data\n",
    "n_drops = 50\n",
    "rain_drops = np.zeros(n_drops, dtype=[('position', float, (2,)),\n",
    "                                      ('size',     float),\n",
    "                                      ('growth',   float),\n",
    "                                      ('color',    float, (4,))])\n",
    "\n",
    "# Initialize the raindrops in random positions and with\n",
    "# random growth rates.\n",
    "rain_drops['position'] = np.random.uniform(0, 1, (n_drops, 2))\n",
    "rain_drops['growth'] = np.random.uniform(50, 200, n_drops)\n",
    "\n",
    "# Construct the scatter which we will update during animation\n",
    "# as the raindrops develop.\n",
    "scat = ax.scatter(rain_drops['position'][:, 0], rain_drops['position'][:, 1],\n",
    "                  s=rain_drops['size'], lw=0.5, edgecolors=rain_drops['color'],\n",
    "                  facecolors='none')\n",
    "\n",
    "\n",
    "def update(frame_number):\n",
    "    # Get an index which we can use to re-spawn the oldest raindrop.\n",
    "    current_index = frame_number % n_drops\n",
    "\n",
    "    # Make all colors more transparent as time progresses.\n",
    "    rain_drops['color'][:, 3] -= 1.0/len(rain_drops)\n",
    "    rain_drops['color'][:, 3] = np.clip(rain_drops['color'][:, 3], 0, 1)\n",
    "\n",
    "    # Make all circles bigger.\n",
    "    rain_drops['size'] += rain_drops['growth']\n",
    "\n",
    "    # Pick a new position for oldest rain drop, resetting its size,\n",
    "    # color and growth factor.\n",
    "    rain_drops['position'][current_index] = np.random.uniform(0, 1, 2)\n",
    "    rain_drops['size'][current_index] = 5\n",
    "    rain_drops['color'][current_index] = (0, 0, 0, 1)\n",
    "    rain_drops['growth'][current_index] = np.random.uniform(50, 200)\n",
    "\n",
    "    # Update the scatter collection, with the new colors, sizes and positions.\n",
    "    scat.set_edgecolors(rain_drops['color'])\n",
    "    scat.set_sizes(rain_drops['size'])\n",
    "    scat.set_offsets(rain_drops['position'])\n",
    "\n",
    "\n",
    "# Construct the animation, using the update function as the animation director.\n",
    "animation = FuncAnimation(fig, update, interval=10)\n",
    "plt.show()"
   ]
  }
 ],
 "metadata": {
  "kernelspec": {
   "display_name": "Python 3 (ipykernel)",
   "language": "python",
   "name": "python3"
  },
  "language_info": {
   "codemirror_mode": {
    "name": "ipython",
    "version": 3
   },
   "file_extension": ".py",
   "mimetype": "text/x-python",
   "name": "python",
   "nbconvert_exporter": "python",
   "pygments_lexer": "ipython3",
   "version": "3.9.12"
  }
 },
 "nbformat": 4,
 "nbformat_minor": 5
}
