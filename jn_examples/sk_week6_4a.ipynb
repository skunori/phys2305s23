{
 "cells": [
  {
   "cell_type": "markdown",
   "id": "3d85ec7e",
   "metadata": {},
   "source": [
    "# Three Gaussian distributions and Math symbols\n",
    "\n",
    "See section [3.10.4] in <a href=\"https://github.com/skunori/phys2305s23/blob/main/jn_examples/jn0103_python_basics.ipynb\" target=\"_blank\">jn0103_python_basics </a>\n",
    "<br>\n",
    "about math symbols in matplotlib."
   ]
  },
  {
   "cell_type": "code",
   "execution_count": 2,
   "id": "35ac348b",
   "metadata": {},
   "outputs": [
    {
     "data": {
      "image/png": "[encoded data removed]",
      "text/plain": [
       "<Figure size 432x288 with 1 Axes>"
      ]
     },
     "metadata": {
      "needs_background": "light"
     },
     "output_type": "display_data"
    }
   ],
   "source": [
    "import numpy as np\n",
    "import matplotlib.mlab as mlab\n",
    "import matplotlib.pyplot as plt \n",
    "\n",
    "dataA = np.random.normal(0, 0.8, 10)   # definition of input parameters\n",
    "dataB = np.random.normal(-2, 1, 10)    # (mean, sigma, n-points)\n",
    "dataC = np.random.normal(3, 2, 50)\n",
    "\n",
    "xmin=-10.0\n",
    "xmax=10.0\n",
    "dx=1.0\n",
    "\n",
    "kwargs = dict(histtype='stepfilled', alpha=0.3, bins=np.arange(xmin,xmax+dx,dx))\n",
    "\n",
    "plt.hist(dataA, label='$\\mu$=0.0, $\\sigma$=0.8', **kwargs)\n",
    "plt.hist(dataB, label='$\\mu$=-2.0, $\\sigma$=1.0', **kwargs)\n",
    "plt.hist(dataC, label='$\\mu$=3.0, $\\sigma$=2.0', **kwargs);\n",
    "\n",
    "plt.xlim(xmin,xmax)\n",
    "plt.xlabel('X')\n",
    "plt.ylabel('Events')\n",
    "plt.title('Gaussian Distributions')\n",
    "\n",
    "plt.legend(loc='upper left')\n",
    "plt.savefig('fig_hist1D_1b')\n",
    "plt.show()"
   ]
  },
  {
   "cell_type": "code",
   "execution_count": null,
   "id": "c2d7e971",
   "metadata": {},
   "outputs": [],
   "source": []
  }
 ],
 "metadata": {
  "kernelspec": {
   "display_name": "Python 3 (ipykernel)",
   "language": "python",
   "name": "python3"
  },
  "language_info": {
   "codemirror_mode": {
    "name": "ipython",
    "version": 3
   },
   "file_extension": ".py",
   "mimetype": "text/x-python",
   "name": "python",
   "nbconvert_exporter": "python",
   "pygments_lexer": "ipython3",
   "version": "3.9.12"
  }
 },
 "nbformat": 4,
 "nbformat_minor": 5
}
