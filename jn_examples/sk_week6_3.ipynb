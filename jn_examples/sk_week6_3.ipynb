{
 "cells": [
  {
   "cell_type": "markdown",
   "id": "4ac515b2",
   "metadata": {},
   "source": [
    "# simple example - Gaussian (normal) distibution\n",
    "\n",
    "This example generates only 10 values. Increase it to generate 1000 values."
   ]
  },
  {
   "cell_type": "code",
   "execution_count": 2,
   "id": "fef0edde",
   "metadata": {},
   "outputs": [
    {
     "data": {
      "image/png": "[encoded data removed]",
      "text/plain": [
       "<Figure size 432x288 with 1 Axes>"
      ]
     },
     "metadata": {
      "needs_background": "light"
     },
     "output_type": "display_data"
    }
   ],
   "source": [
    "import numpy as np\n",
    "import matplotlib.pyplot as plt\n",
    "\n",
    "x=np.random.normal(0.0,1.0,10)     # 10 values between [0.0,1.0]\n",
    "\n",
    "plt.hist(x, bins=np.arange(-5.0,5.0,0.1))\n",
    "plt.xlim(-5.0,5.0)\n",
    "#  plt.ylim(0.0, 1.5)\n",
    "\n",
    "plt.savefig('fig_hist1D_0b')\n",
    "plt.show()"
   ]
  },
  {
   "cell_type": "code",
   "execution_count": null,
   "id": "0bc873c9",
   "metadata": {},
   "outputs": [],
   "source": []
  },
  {
   "cell_type": "code",
   "execution_count": null,
   "id": "b62be7d9",
   "metadata": {},
   "outputs": [],
   "source": []
  },
  {
   "cell_type": "code",
   "execution_count": null,
   "id": "cbfc3da1",
   "metadata": {},
   "outputs": [],
   "source": []
  }
 ],
 "metadata": {
  "kernelspec": {
   "display_name": "Python 3 (ipykernel)",
   "language": "python",
   "name": "python3"
  },
  "language_info": {
   "codemirror_mode": {
    "name": "ipython",
    "version": 3
   },
   "file_extension": ".py",
   "mimetype": "text/x-python",
   "name": "python",
   "nbconvert_exporter": "python",
   "pygments_lexer": "ipython3",
   "version": "3.9.12"
  }
 },
 "nbformat": 4,
 "nbformat_minor": 5
}
