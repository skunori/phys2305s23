{
 "cells": [
  {
   "cell_type": "markdown",
   "id": "0b2e1521",
   "metadata": {},
   "source": [
    "# Example of making historgram.\n",
    "\n",
    "My (SK's) Google search for \"matplotlib histogram\" found the follwoing page.<br>\n",
    "https://matplotlib.org/stable/api/_as_gen/matplotlib.pyplot.hist.html\n",
    "<br>\n",
    "In \"Example\" section at the bottom of the page, try \"Pyplot text\" example.\n",
    "<br>\n",
    "Adding a word \"example\" in the search, i.e. \"\"matplotlib histogram example\", you may find more. For example, <br>\n",
    "https://www.w3schools.com/python/matplotlib_histograms.asp\n",
    "<br> \n",
    "Fiure 6.1 was created with the following code. "
   ]
  },
  {
   "cell_type": "code",
   "execution_count": 1,
   "id": "d6f4dd79",
   "metadata": {},
   "outputs": [
    {
     "data": {
      "image/png": "[encoded data removed]",
      "text/plain": [
       "<Figure size 432x288 with 1 Axes>"
      ]
     },
     "metadata": {
      "needs_background": "light"
     },
     "output_type": "display_data"
    }
   ],
   "source": [
    "import numpy as np\n",
    "import matplotlib.pyplot as plt \n",
    "\n",
    "x=np.array([83, 92, 89, 93, 86, 84, 88, 79, 98, 93])\n",
    "\n",
    "plt.hist(x, bins=np.arange(70,110,5))\n",
    "plt.xlim(70,110)\n",
    "plt.ylim(0, 4)\n",
    "\n",
    "plt.savefig('fig_hist1D_0a')\n",
    "plt.show()"
   ]
  },
  {
   "cell_type": "markdown",
   "id": "e51497bb",
   "metadata": {},
   "source": [
    "In data analysis, following qunanties are often useful to characterize the data. <br>\n",
    "<b>Mean</b>- The average value <br>\n",
    "<b>Median</b> - The midpoint value <br>\n",
    "<b>Standard Deviation</b> - spread of signal<br>\n",
    "Those are easily obtaied, if data are stored in numpy array. <br>\n",
    "<br>\n",
    "Note: the last xvalue in the array was modified to 83 from 93 in the x array for histograming above.\n"
   ]
  },
  {
   "cell_type": "code",
   "execution_count": 3,
   "id": "afcda20e",
   "metadata": {},
   "outputs": [
    {
     "name": "stdout",
     "output_type": "stream",
     "text": [
      "mean 87.5\n",
      "median 87.0\n",
      "Standard Deviation 5.389805191284746\n"
     ]
    }
   ],
   "source": [
    "import numpy as np\n",
    "import matplotlib.pyplot as plt \n",
    "\n",
    "x=np.array([83, 92, 89, 93, 86, 84, 88, 79, 98, 83])\n",
    "val1=np.mean(x)\n",
    "print(\"mean\",val1)\n",
    "val2=np.median(x)\n",
    "print(\"median\",val2)\n",
    "val3=np.std(x)\n",
    "print(\"Standard Deviation\",val3)"
   ]
  },
  {
   "cell_type": "code",
   "execution_count": null,
   "id": "722cd5f4",
   "metadata": {},
   "outputs": [],
   "source": []
  }
 ],
 "metadata": {
  "kernelspec": {
   "display_name": "Python 3 (ipykernel)",
   "language": "python",
   "name": "python3"
  },
  "language_info": {
   "codemirror_mode": {
    "name": "ipython",
    "version": 3
   },
   "file_extension": ".py",
   "mimetype": "text/x-python",
   "name": "python",
   "nbconvert_exporter": "python",
   "pygments_lexer": "ipython3",
   "version": "3.9.12"
  }
 },
 "nbformat": 4,
 "nbformat_minor": 5
}
