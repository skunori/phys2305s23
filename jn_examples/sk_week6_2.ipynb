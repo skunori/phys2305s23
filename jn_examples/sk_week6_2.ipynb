{
 "cells": [
  {
   "cell_type": "markdown",
   "id": "1c8431dc",
   "metadata": {},
   "source": [
    "# Random Number Generators for Monte Carlo simulation\n",
    "\n",
    "Random number generators are avaiable in numpy. Commonly used gerators are, <br>\n",
    "<b>normal</b> - normal (Gaussian) distibution  <br>\n",
    "<b>uniform</b> - unifrom distribution between 0.0 and 1.0.  <br>\n",
    "<b>exponetial</b> - expornential distribution <br>\n",
    "<br>\n",
    "https://numpy.org/doc/stable/reference/random/generated/numpy.random.normal.html\n",
    "<br>\n",
    "https://numpy.org/doc/stable/reference/random/generated/numpy.random.uniform.html\n",
    "<br>\n",
    "https://numpy.org/doc/stable/reference/random/generated/numpy.random.exponential.html\n",
    "<br>\n",
    "see examples below."
   ]
  },
  {
   "cell_type": "code",
   "execution_count": 4,
   "id": "401dd08d",
   "metadata": {},
   "outputs": [
    {
     "data": {
      "image/png": "[encoded data removed]",
      "text/plain": [
       "<Figure size 432x288 with 1 Axes>"
      ]
     },
     "metadata": {
      "needs_background": "light"
     },
     "output_type": "display_data"
    }
   ],
   "source": [
    "import numpy as np\n",
    "import matplotlib.mlab as mlab\n",
    "import matplotlib.pyplot as plt\n",
    "\n",
    "dataA = np.random.normal(5.0, 1.0, 100)     # Gaussian, peak=5.0, width(sigma)=5.0\n",
    "dataB = np.random.uniform(0.00, 10.0, 100)  # uniform beween 0.0 and 10.0\n",
    "dataC = np.random.exponential(1.0,100)      # expoential, exp(-1.0)\n",
    "\n",
    "xmin=-0.0\n",
    "xmax=10.0\n",
    "dx=0.1\n",
    "\n",
    "kwargs = dict(histtype='stepfilled', alpha=0.3, bins=np.arange(xmin,xmax+dx,dx))\n",
    "\n",
    "plt.hist(dataA, label='gaussian $\\mu$=5.0, $\\sigma$=1.0', **kwargs)\n",
    "plt.hist(dataB, label='uniform', **kwargs)\n",
    "plt.hist(dataC, label='exponet, scale=1.00', **kwargs);\n",
    "\n",
    "plt.xlim(xmin,xmax)\n",
    "plt.xlabel('X')\n",
    "plt.ylabel('Events')\n",
    "plt.title('100 events per data sample')\n",
    "\n",
    "plt.legend(loc='upper right')\n",
    "plt.savefig('fig_hist1D_2')\n",
    "plt.show()\n"
   ]
  },
  {
   "cell_type": "code",
   "execution_count": null,
   "id": "adab472e",
   "metadata": {},
   "outputs": [],
   "source": []
  }
 ],
 "metadata": {
  "kernelspec": {
   "display_name": "Python 3 (ipykernel)",
   "language": "python",
   "name": "python3"
  },
  "language_info": {
   "codemirror_mode": {
    "name": "ipython",
    "version": 3
   },
   "file_extension": ".py",
   "mimetype": "text/x-python",
   "name": "python",
   "nbconvert_exporter": "python",
   "pygments_lexer": "ipython3",
   "version": "3.9.12"
  }
 },
 "nbformat": 4,
 "nbformat_minor": 5
}
